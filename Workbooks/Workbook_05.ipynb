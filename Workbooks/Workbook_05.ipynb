{
  "nbformat": 4,
  "nbformat_minor": 0,
  "metadata": {
    "anaconda-cloud": {},
    "colab": {
      "name": "Workbook_05_solution_S2021.ipynb",
      "provenance": [],
      "collapsed_sections": []
    },
    "kernelspec": {
      "display_name": "Python 3",
      "language": "python",
      "name": "python3"
    },
    "language_info": {
      "codemirror_mode": {
        "name": "ipython",
        "version": 3
      },
      "file_extension": ".py",
      "mimetype": "text/x-python",
      "name": "python",
      "nbconvert_exporter": "python",
      "pygments_lexer": "ipython3",
      "version": "3.7.1"
    },
    "toc": {
      "base_numbering": 1,
      "nav_menu": {},
      "number_sections": true,
      "sideBar": true,
      "skip_h1_title": false,
      "title_cell": "Table of Contents",
      "title_sidebar": "Contents",
      "toc_cell": false,
      "toc_position": {},
      "toc_section_display": true,
      "toc_window_display": false
    }
  },
  "cells": [
    {
      "cell_type": "markdown",
      "metadata": {
        "id": "xE7321KhbV7W"
      },
      "source": [
        "# Workbook 5: Regularization and Variable Selection\n",
        "## Dimension Reduction\n",
        "\n",
        "Nowadays, a lot of attributes are recorded for an individual. In order to fit a simple model, some sort of dimension reduction seems necessary. Mathematically, dimension reduction involves projection of the data into a lower-dimensional space in a certain way. There are various reasons why dimension reduction would be of interest:\n",
        "\n",
        "- visualization of high-dimensional data,\n",
        "- removing collinearity,\n",
        "- better prediction by reducing the prediction variance."
      ]
    },
    {
      "cell_type": "markdown",
      "metadata": {
        "id": "LWK-q2bZbV7Y"
      },
      "source": [
        "### Loading and Preprocessing Data\n",
        "Commonly two libraries are used to load a csv files.\n",
        "- numpy function `np.loadtext` and `np.genfromtext ` \n",
        "- pandas function `pd.read_csv` [Preferable]\n",
        "\n",
        "Data for the `auto` dataset can be found in mycourses/Content/Data."
      ]
    },
    {
      "cell_type": "markdown",
      "metadata": {
        "id": "pbfKaNCHn361"
      },
      "source": [
        "Instruction for using Colab: [Here](https://www.tutorialspoint.com/google_colab/google_colab_quick_guide.htm)"
      ]
    },
    {
      "cell_type": "code",
      "metadata": {
        "id": "RJ3m3R3jbvID"
      },
      "source": [
        "import pandas as pd\n",
        "import seaborn as sns"
      ],
      "execution_count": null,
      "outputs": []
    },
    {
      "cell_type": "code",
      "metadata": {
        "id": "GxoYm9rWbdgt"
      },
      "source": [
        "# If using colab \n",
        "# from google.colab import files\n",
        "# uploaded = files.upload()\n"
      ],
      "execution_count": null,
      "outputs": []
    },
    {
      "cell_type": "code",
      "metadata": {
        "id": "oPiX4KrAbV7f"
      },
      "source": [
        "# import io\n",
        "# auto = pd.read_csv(io.BytesIO(uploaded['Auto.csv']))"
      ],
      "execution_count": null,
      "outputs": []
    },
    {
      "cell_type": "code",
      "metadata": {
        "id": "X4PjR1mzr3sF"
      },
      "source": [
        "auto = pd.read_csv('https://docs.google.com/spreadsheets/d/e/2PACX-1vTA7gulAYNG79z1BraXVZcQ7YIgJw7OJNJ2_TlNqEapLG4Hz4DxDsFUiOZhLLVSohjpG6qKOGaetSRW/pub?gid=1481941866&single=true&output=csv')"
      ],
      "execution_count": null,
      "outputs": []
    },
    {
      "cell_type": "code",
      "metadata": {
        "id": "0obC-gIrGWOH",
        "colab": {
          "base_uri": "https://localhost:8080/"
        },
        "outputId": "033cd3da-b5fd-4663-d1a4-8333031504de"
      },
      "source": [
        "try:\n",
        "  auto = pd.read_csv('Auto.csv')\n",
        "  \n",
        "except:\n",
        "  print('Load file')"
      ],
      "execution_count": null,
      "outputs": [
        {
          "output_type": "stream",
          "text": [
            "Load file\n"
          ],
          "name": "stdout"
        }
      ]
    },
    {
      "cell_type": "code",
      "metadata": {
        "id": "9SeyRlViGbuq",
        "colab": {
          "base_uri": "https://localhost:8080/",
          "height": 195
        },
        "outputId": "1f1cf7a2-5ff2-4d81-ada3-8d3952e6a168"
      },
      "source": [
        "auto.head()"
      ],
      "execution_count": null,
      "outputs": [
        {
          "output_type": "execute_result",
          "data": {
            "text/html": [
              "<div>\n",
              "<style scoped>\n",
              "    .dataframe tbody tr th:only-of-type {\n",
              "        vertical-align: middle;\n",
              "    }\n",
              "\n",
              "    .dataframe tbody tr th {\n",
              "        vertical-align: top;\n",
              "    }\n",
              "\n",
              "    .dataframe thead th {\n",
              "        text-align: right;\n",
              "    }\n",
              "</style>\n",
              "<table border=\"1\" class=\"dataframe\">\n",
              "  <thead>\n",
              "    <tr style=\"text-align: right;\">\n",
              "      <th></th>\n",
              "      <th>mpg</th>\n",
              "      <th>cylinders</th>\n",
              "      <th>displacement</th>\n",
              "      <th>horsepower</th>\n",
              "      <th>weight</th>\n",
              "      <th>acceleration</th>\n",
              "      <th>year</th>\n",
              "      <th>origin</th>\n",
              "      <th>name</th>\n",
              "    </tr>\n",
              "  </thead>\n",
              "  <tbody>\n",
              "    <tr>\n",
              "      <th>0</th>\n",
              "      <td>18.0</td>\n",
              "      <td>8</td>\n",
              "      <td>307.0</td>\n",
              "      <td>130</td>\n",
              "      <td>3504</td>\n",
              "      <td>12.0</td>\n",
              "      <td>70</td>\n",
              "      <td>1</td>\n",
              "      <td>chevrolet chevelle malibu</td>\n",
              "    </tr>\n",
              "    <tr>\n",
              "      <th>1</th>\n",
              "      <td>15.0</td>\n",
              "      <td>8</td>\n",
              "      <td>350.0</td>\n",
              "      <td>165</td>\n",
              "      <td>3693</td>\n",
              "      <td>11.5</td>\n",
              "      <td>70</td>\n",
              "      <td>1</td>\n",
              "      <td>buick skylark 320</td>\n",
              "    </tr>\n",
              "    <tr>\n",
              "      <th>2</th>\n",
              "      <td>18.0</td>\n",
              "      <td>8</td>\n",
              "      <td>318.0</td>\n",
              "      <td>150</td>\n",
              "      <td>3436</td>\n",
              "      <td>11.0</td>\n",
              "      <td>70</td>\n",
              "      <td>1</td>\n",
              "      <td>plymouth satellite</td>\n",
              "    </tr>\n",
              "    <tr>\n",
              "      <th>3</th>\n",
              "      <td>16.0</td>\n",
              "      <td>8</td>\n",
              "      <td>304.0</td>\n",
              "      <td>150</td>\n",
              "      <td>3433</td>\n",
              "      <td>12.0</td>\n",
              "      <td>70</td>\n",
              "      <td>1</td>\n",
              "      <td>amc rebel sst</td>\n",
              "    </tr>\n",
              "    <tr>\n",
              "      <th>4</th>\n",
              "      <td>17.0</td>\n",
              "      <td>8</td>\n",
              "      <td>302.0</td>\n",
              "      <td>140</td>\n",
              "      <td>3449</td>\n",
              "      <td>10.5</td>\n",
              "      <td>70</td>\n",
              "      <td>1</td>\n",
              "      <td>ford torino</td>\n",
              "    </tr>\n",
              "  </tbody>\n",
              "</table>\n",
              "</div>"
            ],
            "text/plain": [
              "    mpg  cylinders  displacement  ... year  origin                       name\n",
              "0  18.0          8         307.0  ...   70       1  chevrolet chevelle malibu\n",
              "1  15.0          8         350.0  ...   70       1          buick skylark 320\n",
              "2  18.0          8         318.0  ...   70       1         plymouth satellite\n",
              "3  16.0          8         304.0  ...   70       1              amc rebel sst\n",
              "4  17.0          8         302.0  ...   70       1                ford torino\n",
              "\n",
              "[5 rows x 9 columns]"
            ]
          },
          "metadata": {
            "tags": []
          },
          "execution_count": 6
        }
      ]
    },
    {
      "cell_type": "code",
      "metadata": {
        "id": "tQ3xdu6Fq4IQ",
        "colab": {
          "base_uri": "https://localhost:8080/",
          "height": 195
        },
        "outputId": "8abacc5b-28cc-48f0-9c0f-e5939213e1b6"
      },
      "source": [
        "auto.head()"
      ],
      "execution_count": null,
      "outputs": [
        {
          "output_type": "execute_result",
          "data": {
            "text/html": [
              "<div>\n",
              "<style scoped>\n",
              "    .dataframe tbody tr th:only-of-type {\n",
              "        vertical-align: middle;\n",
              "    }\n",
              "\n",
              "    .dataframe tbody tr th {\n",
              "        vertical-align: top;\n",
              "    }\n",
              "\n",
              "    .dataframe thead th {\n",
              "        text-align: right;\n",
              "    }\n",
              "</style>\n",
              "<table border=\"1\" class=\"dataframe\">\n",
              "  <thead>\n",
              "    <tr style=\"text-align: right;\">\n",
              "      <th></th>\n",
              "      <th>mpg</th>\n",
              "      <th>cylinders</th>\n",
              "      <th>displacement</th>\n",
              "      <th>horsepower</th>\n",
              "      <th>weight</th>\n",
              "      <th>acceleration</th>\n",
              "      <th>year</th>\n",
              "      <th>origin</th>\n",
              "      <th>name</th>\n",
              "    </tr>\n",
              "  </thead>\n",
              "  <tbody>\n",
              "    <tr>\n",
              "      <th>0</th>\n",
              "      <td>18.0</td>\n",
              "      <td>8</td>\n",
              "      <td>307.0</td>\n",
              "      <td>130</td>\n",
              "      <td>3504</td>\n",
              "      <td>12.0</td>\n",
              "      <td>70</td>\n",
              "      <td>1</td>\n",
              "      <td>chevrolet chevelle malibu</td>\n",
              "    </tr>\n",
              "    <tr>\n",
              "      <th>1</th>\n",
              "      <td>15.0</td>\n",
              "      <td>8</td>\n",
              "      <td>350.0</td>\n",
              "      <td>165</td>\n",
              "      <td>3693</td>\n",
              "      <td>11.5</td>\n",
              "      <td>70</td>\n",
              "      <td>1</td>\n",
              "      <td>buick skylark 320</td>\n",
              "    </tr>\n",
              "    <tr>\n",
              "      <th>2</th>\n",
              "      <td>18.0</td>\n",
              "      <td>8</td>\n",
              "      <td>318.0</td>\n",
              "      <td>150</td>\n",
              "      <td>3436</td>\n",
              "      <td>11.0</td>\n",
              "      <td>70</td>\n",
              "      <td>1</td>\n",
              "      <td>plymouth satellite</td>\n",
              "    </tr>\n",
              "    <tr>\n",
              "      <th>3</th>\n",
              "      <td>16.0</td>\n",
              "      <td>8</td>\n",
              "      <td>304.0</td>\n",
              "      <td>150</td>\n",
              "      <td>3433</td>\n",
              "      <td>12.0</td>\n",
              "      <td>70</td>\n",
              "      <td>1</td>\n",
              "      <td>amc rebel sst</td>\n",
              "    </tr>\n",
              "    <tr>\n",
              "      <th>4</th>\n",
              "      <td>17.0</td>\n",
              "      <td>8</td>\n",
              "      <td>302.0</td>\n",
              "      <td>140</td>\n",
              "      <td>3449</td>\n",
              "      <td>10.5</td>\n",
              "      <td>70</td>\n",
              "      <td>1</td>\n",
              "      <td>ford torino</td>\n",
              "    </tr>\n",
              "  </tbody>\n",
              "</table>\n",
              "</div>"
            ],
            "text/plain": [
              "    mpg  cylinders  displacement  ... year  origin                       name\n",
              "0  18.0          8         307.0  ...   70       1  chevrolet chevelle malibu\n",
              "1  15.0          8         350.0  ...   70       1          buick skylark 320\n",
              "2  18.0          8         318.0  ...   70       1         plymouth satellite\n",
              "3  16.0          8         304.0  ...   70       1              amc rebel sst\n",
              "4  17.0          8         302.0  ...   70       1                ford torino\n",
              "\n",
              "[5 rows x 9 columns]"
            ]
          },
          "metadata": {
            "tags": []
          },
          "execution_count": 7
        }
      ]
    },
    {
      "cell_type": "code",
      "metadata": {
        "id": "HzfJDJU47Qql"
      },
      "source": [
        "auto.columns = ['mpg','cylinders','displacement','horsepower','weight','acceleration','model year','origin','car name']"
      ],
      "execution_count": null,
      "outputs": []
    },
    {
      "cell_type": "code",
      "metadata": {
        "id": "pikbqp8gq9Tn",
        "colab": {
          "base_uri": "https://localhost:8080/"
        },
        "outputId": "7a726d18-5b21-4bd0-9b81-0dbbae556414"
      },
      "source": [
        "auto.dtypes"
      ],
      "execution_count": null,
      "outputs": [
        {
          "output_type": "execute_result",
          "data": {
            "text/plain": [
              "mpg             float64\n",
              "cylinders         int64\n",
              "displacement    float64\n",
              "horsepower       object\n",
              "weight            int64\n",
              "acceleration    float64\n",
              "model year        int64\n",
              "origin            int64\n",
              "car name         object\n",
              "dtype: object"
            ]
          },
          "metadata": {
            "tags": []
          },
          "execution_count": 9
        }
      ]
    },
    {
      "cell_type": "code",
      "metadata": {
        "id": "54D46LJ2_SDi"
      },
      "source": [
        "def coerce_df_columns_to_numeric(df, column_list):\n",
        "    df[column_list] = df[column_list].apply(pd.to_numeric, errors='coerce')"
      ],
      "execution_count": null,
      "outputs": []
    },
    {
      "cell_type": "code",
      "metadata": {
        "id": "QhSXG5zj_Uy8"
      },
      "source": [
        "coerce_df_columns_to_numeric(auto, ['horsepower'])"
      ],
      "execution_count": null,
      "outputs": []
    },
    {
      "cell_type": "code",
      "metadata": {
        "id": "6bbM581fji9G",
        "colab": {
          "base_uri": "https://localhost:8080/",
          "height": 373
        },
        "outputId": "03c7205a-0f26-4235-c2a4-476ca9c46131"
      },
      "source": [
        "auto.describe(include='all')"
      ],
      "execution_count": null,
      "outputs": [
        {
          "output_type": "execute_result",
          "data": {
            "text/html": [
              "<div>\n",
              "<style scoped>\n",
              "    .dataframe tbody tr th:only-of-type {\n",
              "        vertical-align: middle;\n",
              "    }\n",
              "\n",
              "    .dataframe tbody tr th {\n",
              "        vertical-align: top;\n",
              "    }\n",
              "\n",
              "    .dataframe thead th {\n",
              "        text-align: right;\n",
              "    }\n",
              "</style>\n",
              "<table border=\"1\" class=\"dataframe\">\n",
              "  <thead>\n",
              "    <tr style=\"text-align: right;\">\n",
              "      <th></th>\n",
              "      <th>mpg</th>\n",
              "      <th>cylinders</th>\n",
              "      <th>displacement</th>\n",
              "      <th>horsepower</th>\n",
              "      <th>weight</th>\n",
              "      <th>acceleration</th>\n",
              "      <th>model year</th>\n",
              "      <th>origin</th>\n",
              "      <th>car name</th>\n",
              "    </tr>\n",
              "  </thead>\n",
              "  <tbody>\n",
              "    <tr>\n",
              "      <th>count</th>\n",
              "      <td>397.000000</td>\n",
              "      <td>397.000000</td>\n",
              "      <td>397.000000</td>\n",
              "      <td>392.000000</td>\n",
              "      <td>397.000000</td>\n",
              "      <td>397.000000</td>\n",
              "      <td>397.000000</td>\n",
              "      <td>397.000000</td>\n",
              "      <td>397</td>\n",
              "    </tr>\n",
              "    <tr>\n",
              "      <th>unique</th>\n",
              "      <td>NaN</td>\n",
              "      <td>NaN</td>\n",
              "      <td>NaN</td>\n",
              "      <td>NaN</td>\n",
              "      <td>NaN</td>\n",
              "      <td>NaN</td>\n",
              "      <td>NaN</td>\n",
              "      <td>NaN</td>\n",
              "      <td>304</td>\n",
              "    </tr>\n",
              "    <tr>\n",
              "      <th>top</th>\n",
              "      <td>NaN</td>\n",
              "      <td>NaN</td>\n",
              "      <td>NaN</td>\n",
              "      <td>NaN</td>\n",
              "      <td>NaN</td>\n",
              "      <td>NaN</td>\n",
              "      <td>NaN</td>\n",
              "      <td>NaN</td>\n",
              "      <td>ford pinto</td>\n",
              "    </tr>\n",
              "    <tr>\n",
              "      <th>freq</th>\n",
              "      <td>NaN</td>\n",
              "      <td>NaN</td>\n",
              "      <td>NaN</td>\n",
              "      <td>NaN</td>\n",
              "      <td>NaN</td>\n",
              "      <td>NaN</td>\n",
              "      <td>NaN</td>\n",
              "      <td>NaN</td>\n",
              "      <td>6</td>\n",
              "    </tr>\n",
              "    <tr>\n",
              "      <th>mean</th>\n",
              "      <td>23.515869</td>\n",
              "      <td>5.458438</td>\n",
              "      <td>193.532746</td>\n",
              "      <td>104.469388</td>\n",
              "      <td>2970.261965</td>\n",
              "      <td>15.555668</td>\n",
              "      <td>75.994962</td>\n",
              "      <td>1.574307</td>\n",
              "      <td>NaN</td>\n",
              "    </tr>\n",
              "    <tr>\n",
              "      <th>std</th>\n",
              "      <td>7.825804</td>\n",
              "      <td>1.701577</td>\n",
              "      <td>104.379583</td>\n",
              "      <td>38.491160</td>\n",
              "      <td>847.904119</td>\n",
              "      <td>2.749995</td>\n",
              "      <td>3.690005</td>\n",
              "      <td>0.802549</td>\n",
              "      <td>NaN</td>\n",
              "    </tr>\n",
              "    <tr>\n",
              "      <th>min</th>\n",
              "      <td>9.000000</td>\n",
              "      <td>3.000000</td>\n",
              "      <td>68.000000</td>\n",
              "      <td>46.000000</td>\n",
              "      <td>1613.000000</td>\n",
              "      <td>8.000000</td>\n",
              "      <td>70.000000</td>\n",
              "      <td>1.000000</td>\n",
              "      <td>NaN</td>\n",
              "    </tr>\n",
              "    <tr>\n",
              "      <th>25%</th>\n",
              "      <td>17.500000</td>\n",
              "      <td>4.000000</td>\n",
              "      <td>104.000000</td>\n",
              "      <td>75.000000</td>\n",
              "      <td>2223.000000</td>\n",
              "      <td>13.800000</td>\n",
              "      <td>73.000000</td>\n",
              "      <td>1.000000</td>\n",
              "      <td>NaN</td>\n",
              "    </tr>\n",
              "    <tr>\n",
              "      <th>50%</th>\n",
              "      <td>23.000000</td>\n",
              "      <td>4.000000</td>\n",
              "      <td>146.000000</td>\n",
              "      <td>93.500000</td>\n",
              "      <td>2800.000000</td>\n",
              "      <td>15.500000</td>\n",
              "      <td>76.000000</td>\n",
              "      <td>1.000000</td>\n",
              "      <td>NaN</td>\n",
              "    </tr>\n",
              "    <tr>\n",
              "      <th>75%</th>\n",
              "      <td>29.000000</td>\n",
              "      <td>8.000000</td>\n",
              "      <td>262.000000</td>\n",
              "      <td>126.000000</td>\n",
              "      <td>3609.000000</td>\n",
              "      <td>17.100000</td>\n",
              "      <td>79.000000</td>\n",
              "      <td>2.000000</td>\n",
              "      <td>NaN</td>\n",
              "    </tr>\n",
              "    <tr>\n",
              "      <th>max</th>\n",
              "      <td>46.600000</td>\n",
              "      <td>8.000000</td>\n",
              "      <td>455.000000</td>\n",
              "      <td>230.000000</td>\n",
              "      <td>5140.000000</td>\n",
              "      <td>24.800000</td>\n",
              "      <td>82.000000</td>\n",
              "      <td>3.000000</td>\n",
              "      <td>NaN</td>\n",
              "    </tr>\n",
              "  </tbody>\n",
              "</table>\n",
              "</div>"
            ],
            "text/plain": [
              "               mpg   cylinders  ...      origin    car name\n",
              "count   397.000000  397.000000  ...  397.000000         397\n",
              "unique         NaN         NaN  ...         NaN         304\n",
              "top            NaN         NaN  ...         NaN  ford pinto\n",
              "freq           NaN         NaN  ...         NaN           6\n",
              "mean     23.515869    5.458438  ...    1.574307         NaN\n",
              "std       7.825804    1.701577  ...    0.802549         NaN\n",
              "min       9.000000    3.000000  ...    1.000000         NaN\n",
              "25%      17.500000    4.000000  ...    1.000000         NaN\n",
              "50%      23.000000    4.000000  ...    1.000000         NaN\n",
              "75%      29.000000    8.000000  ...    2.000000         NaN\n",
              "max      46.600000    8.000000  ...    3.000000         NaN\n",
              "\n",
              "[11 rows x 9 columns]"
            ]
          },
          "metadata": {
            "tags": []
          },
          "execution_count": 12
        }
      ]
    },
    {
      "cell_type": "markdown",
      "metadata": {
        "id": "vdbD1rwcN9QF"
      },
      "source": [
        "We have some missing values!"
      ]
    },
    {
      "cell_type": "code",
      "metadata": {
        "id": "nTJuHtWxLBu8"
      },
      "source": [
        "auto_hp_na = auto[auto.isnull().any(axis=1)]"
      ],
      "execution_count": null,
      "outputs": []
    },
    {
      "cell_type": "code",
      "metadata": {
        "colab": {
          "base_uri": "https://localhost:8080/",
          "height": 195
        },
        "id": "iiRDBzYzLZBG",
        "outputId": "a5c01f93-670c-4411-9a04-1212ad03ae0b"
      },
      "source": [
        "auto_hp_na.head()"
      ],
      "execution_count": null,
      "outputs": [
        {
          "output_type": "execute_result",
          "data": {
            "text/html": [
              "<div>\n",
              "<style scoped>\n",
              "    .dataframe tbody tr th:only-of-type {\n",
              "        vertical-align: middle;\n",
              "    }\n",
              "\n",
              "    .dataframe tbody tr th {\n",
              "        vertical-align: top;\n",
              "    }\n",
              "\n",
              "    .dataframe thead th {\n",
              "        text-align: right;\n",
              "    }\n",
              "</style>\n",
              "<table border=\"1\" class=\"dataframe\">\n",
              "  <thead>\n",
              "    <tr style=\"text-align: right;\">\n",
              "      <th></th>\n",
              "      <th>mpg</th>\n",
              "      <th>cylinders</th>\n",
              "      <th>displacement</th>\n",
              "      <th>horsepower</th>\n",
              "      <th>weight</th>\n",
              "      <th>acceleration</th>\n",
              "      <th>model year</th>\n",
              "      <th>origin</th>\n",
              "      <th>car name</th>\n",
              "    </tr>\n",
              "  </thead>\n",
              "  <tbody>\n",
              "    <tr>\n",
              "      <th>32</th>\n",
              "      <td>25.0</td>\n",
              "      <td>4</td>\n",
              "      <td>98.0</td>\n",
              "      <td>NaN</td>\n",
              "      <td>2046</td>\n",
              "      <td>19.0</td>\n",
              "      <td>71</td>\n",
              "      <td>1</td>\n",
              "      <td>ford pinto</td>\n",
              "    </tr>\n",
              "    <tr>\n",
              "      <th>126</th>\n",
              "      <td>21.0</td>\n",
              "      <td>6</td>\n",
              "      <td>200.0</td>\n",
              "      <td>NaN</td>\n",
              "      <td>2875</td>\n",
              "      <td>17.0</td>\n",
              "      <td>74</td>\n",
              "      <td>1</td>\n",
              "      <td>ford maverick</td>\n",
              "    </tr>\n",
              "    <tr>\n",
              "      <th>330</th>\n",
              "      <td>40.9</td>\n",
              "      <td>4</td>\n",
              "      <td>85.0</td>\n",
              "      <td>NaN</td>\n",
              "      <td>1835</td>\n",
              "      <td>17.3</td>\n",
              "      <td>80</td>\n",
              "      <td>2</td>\n",
              "      <td>renault lecar deluxe</td>\n",
              "    </tr>\n",
              "    <tr>\n",
              "      <th>336</th>\n",
              "      <td>23.6</td>\n",
              "      <td>4</td>\n",
              "      <td>140.0</td>\n",
              "      <td>NaN</td>\n",
              "      <td>2905</td>\n",
              "      <td>14.3</td>\n",
              "      <td>80</td>\n",
              "      <td>1</td>\n",
              "      <td>ford mustang cobra</td>\n",
              "    </tr>\n",
              "    <tr>\n",
              "      <th>354</th>\n",
              "      <td>34.5</td>\n",
              "      <td>4</td>\n",
              "      <td>100.0</td>\n",
              "      <td>NaN</td>\n",
              "      <td>2320</td>\n",
              "      <td>15.8</td>\n",
              "      <td>81</td>\n",
              "      <td>2</td>\n",
              "      <td>renault 18i</td>\n",
              "    </tr>\n",
              "  </tbody>\n",
              "</table>\n",
              "</div>"
            ],
            "text/plain": [
              "      mpg  cylinders  displacement  ...  model year  origin              car name\n",
              "32   25.0          4          98.0  ...          71       1            ford pinto\n",
              "126  21.0          6         200.0  ...          74       1         ford maverick\n",
              "330  40.9          4          85.0  ...          80       2  renault lecar deluxe\n",
              "336  23.6          4         140.0  ...          80       1    ford mustang cobra\n",
              "354  34.5          4         100.0  ...          81       2           renault 18i\n",
              "\n",
              "[5 rows x 9 columns]"
            ]
          },
          "metadata": {
            "tags": []
          },
          "execution_count": 14
        }
      ]
    },
    {
      "cell_type": "code",
      "metadata": {
        "colab": {
          "base_uri": "https://localhost:8080/"
        },
        "id": "l3ujVUphNn7o",
        "outputId": "54e9f67c-361b-46ff-98e4-981db10a61a9"
      },
      "source": [
        "auto_hp_na['horsepower'].fillna((auto['horsepower'].mean()), inplace=True)\n"
      ],
      "execution_count": null,
      "outputs": [
        {
          "output_type": "stream",
          "text": [
            "/usr/local/lib/python3.7/dist-packages/pandas/core/series.py:4536: SettingWithCopyWarning: \n",
            "A value is trying to be set on a copy of a slice from a DataFrame\n",
            "\n",
            "See the caveats in the documentation: https://pandas.pydata.org/pandas-docs/stable/user_guide/indexing.html#returning-a-view-versus-a-copy\n",
            "  downcast=downcast,\n"
          ],
          "name": "stderr"
        }
      ]
    },
    {
      "cell_type": "code",
      "metadata": {
        "colab": {
          "base_uri": "https://localhost:8080/",
          "height": 195
        },
        "id": "t4rM6j6CNb3Z",
        "outputId": "d02f390b-c431-4c73-8768-55e9abab0bc6"
      },
      "source": [
        "auto_hp_na.head()"
      ],
      "execution_count": null,
      "outputs": [
        {
          "output_type": "execute_result",
          "data": {
            "text/html": [
              "<div>\n",
              "<style scoped>\n",
              "    .dataframe tbody tr th:only-of-type {\n",
              "        vertical-align: middle;\n",
              "    }\n",
              "\n",
              "    .dataframe tbody tr th {\n",
              "        vertical-align: top;\n",
              "    }\n",
              "\n",
              "    .dataframe thead th {\n",
              "        text-align: right;\n",
              "    }\n",
              "</style>\n",
              "<table border=\"1\" class=\"dataframe\">\n",
              "  <thead>\n",
              "    <tr style=\"text-align: right;\">\n",
              "      <th></th>\n",
              "      <th>mpg</th>\n",
              "      <th>cylinders</th>\n",
              "      <th>displacement</th>\n",
              "      <th>horsepower</th>\n",
              "      <th>weight</th>\n",
              "      <th>acceleration</th>\n",
              "      <th>model year</th>\n",
              "      <th>origin</th>\n",
              "      <th>car name</th>\n",
              "    </tr>\n",
              "  </thead>\n",
              "  <tbody>\n",
              "    <tr>\n",
              "      <th>32</th>\n",
              "      <td>25.0</td>\n",
              "      <td>4</td>\n",
              "      <td>98.0</td>\n",
              "      <td>104.469388</td>\n",
              "      <td>2046</td>\n",
              "      <td>19.0</td>\n",
              "      <td>71</td>\n",
              "      <td>1</td>\n",
              "      <td>ford pinto</td>\n",
              "    </tr>\n",
              "    <tr>\n",
              "      <th>126</th>\n",
              "      <td>21.0</td>\n",
              "      <td>6</td>\n",
              "      <td>200.0</td>\n",
              "      <td>104.469388</td>\n",
              "      <td>2875</td>\n",
              "      <td>17.0</td>\n",
              "      <td>74</td>\n",
              "      <td>1</td>\n",
              "      <td>ford maverick</td>\n",
              "    </tr>\n",
              "    <tr>\n",
              "      <th>330</th>\n",
              "      <td>40.9</td>\n",
              "      <td>4</td>\n",
              "      <td>85.0</td>\n",
              "      <td>104.469388</td>\n",
              "      <td>1835</td>\n",
              "      <td>17.3</td>\n",
              "      <td>80</td>\n",
              "      <td>2</td>\n",
              "      <td>renault lecar deluxe</td>\n",
              "    </tr>\n",
              "    <tr>\n",
              "      <th>336</th>\n",
              "      <td>23.6</td>\n",
              "      <td>4</td>\n",
              "      <td>140.0</td>\n",
              "      <td>104.469388</td>\n",
              "      <td>2905</td>\n",
              "      <td>14.3</td>\n",
              "      <td>80</td>\n",
              "      <td>1</td>\n",
              "      <td>ford mustang cobra</td>\n",
              "    </tr>\n",
              "    <tr>\n",
              "      <th>354</th>\n",
              "      <td>34.5</td>\n",
              "      <td>4</td>\n",
              "      <td>100.0</td>\n",
              "      <td>104.469388</td>\n",
              "      <td>2320</td>\n",
              "      <td>15.8</td>\n",
              "      <td>81</td>\n",
              "      <td>2</td>\n",
              "      <td>renault 18i</td>\n",
              "    </tr>\n",
              "  </tbody>\n",
              "</table>\n",
              "</div>"
            ],
            "text/plain": [
              "      mpg  cylinders  displacement  ...  model year  origin              car name\n",
              "32   25.0          4          98.0  ...          71       1            ford pinto\n",
              "126  21.0          6         200.0  ...          74       1         ford maverick\n",
              "330  40.9          4          85.0  ...          80       2  renault lecar deluxe\n",
              "336  23.6          4         140.0  ...          80       1    ford mustang cobra\n",
              "354  34.5          4         100.0  ...          81       2           renault 18i\n",
              "\n",
              "[5 rows x 9 columns]"
            ]
          },
          "metadata": {
            "tags": []
          },
          "execution_count": 16
        }
      ]
    },
    {
      "cell_type": "markdown",
      "metadata": {
        "id": "KYR1KZq2ODQ8"
      },
      "source": [
        "Other ways to fill\n",
        "\n",
        "\n",
        "*   Pad (fill with values at next or previous rows).\n",
        "*   Interpolate (a better but complex approach).\n",
        "\n"
      ]
    },
    {
      "cell_type": "markdown",
      "metadata": {
        "id": "MFiJLe57OUea"
      },
      "source": [
        "If you want to simply drop all rows which have missing values:"
      ]
    },
    {
      "cell_type": "code",
      "metadata": {
        "id": "fH-dYnTubV7g"
      },
      "source": [
        "auto = auto.dropna()"
      ],
      "execution_count": null,
      "outputs": []
    },
    {
      "cell_type": "code",
      "metadata": {
        "id": "HxqQrVDUbV7i",
        "colab": {
          "base_uri": "https://localhost:8080/",
          "height": 195
        },
        "outputId": "32f3671f-237b-4766-f713-9cb43426db80"
      },
      "source": [
        "auto.head()\n"
      ],
      "execution_count": null,
      "outputs": [
        {
          "output_type": "execute_result",
          "data": {
            "text/html": [
              "<div>\n",
              "<style scoped>\n",
              "    .dataframe tbody tr th:only-of-type {\n",
              "        vertical-align: middle;\n",
              "    }\n",
              "\n",
              "    .dataframe tbody tr th {\n",
              "        vertical-align: top;\n",
              "    }\n",
              "\n",
              "    .dataframe thead th {\n",
              "        text-align: right;\n",
              "    }\n",
              "</style>\n",
              "<table border=\"1\" class=\"dataframe\">\n",
              "  <thead>\n",
              "    <tr style=\"text-align: right;\">\n",
              "      <th></th>\n",
              "      <th>mpg</th>\n",
              "      <th>cylinders</th>\n",
              "      <th>displacement</th>\n",
              "      <th>horsepower</th>\n",
              "      <th>weight</th>\n",
              "      <th>acceleration</th>\n",
              "      <th>model year</th>\n",
              "      <th>origin</th>\n",
              "      <th>car name</th>\n",
              "    </tr>\n",
              "  </thead>\n",
              "  <tbody>\n",
              "    <tr>\n",
              "      <th>0</th>\n",
              "      <td>18.0</td>\n",
              "      <td>8</td>\n",
              "      <td>307.0</td>\n",
              "      <td>130.0</td>\n",
              "      <td>3504</td>\n",
              "      <td>12.0</td>\n",
              "      <td>70</td>\n",
              "      <td>1</td>\n",
              "      <td>chevrolet chevelle malibu</td>\n",
              "    </tr>\n",
              "    <tr>\n",
              "      <th>1</th>\n",
              "      <td>15.0</td>\n",
              "      <td>8</td>\n",
              "      <td>350.0</td>\n",
              "      <td>165.0</td>\n",
              "      <td>3693</td>\n",
              "      <td>11.5</td>\n",
              "      <td>70</td>\n",
              "      <td>1</td>\n",
              "      <td>buick skylark 320</td>\n",
              "    </tr>\n",
              "    <tr>\n",
              "      <th>2</th>\n",
              "      <td>18.0</td>\n",
              "      <td>8</td>\n",
              "      <td>318.0</td>\n",
              "      <td>150.0</td>\n",
              "      <td>3436</td>\n",
              "      <td>11.0</td>\n",
              "      <td>70</td>\n",
              "      <td>1</td>\n",
              "      <td>plymouth satellite</td>\n",
              "    </tr>\n",
              "    <tr>\n",
              "      <th>3</th>\n",
              "      <td>16.0</td>\n",
              "      <td>8</td>\n",
              "      <td>304.0</td>\n",
              "      <td>150.0</td>\n",
              "      <td>3433</td>\n",
              "      <td>12.0</td>\n",
              "      <td>70</td>\n",
              "      <td>1</td>\n",
              "      <td>amc rebel sst</td>\n",
              "    </tr>\n",
              "    <tr>\n",
              "      <th>4</th>\n",
              "      <td>17.0</td>\n",
              "      <td>8</td>\n",
              "      <td>302.0</td>\n",
              "      <td>140.0</td>\n",
              "      <td>3449</td>\n",
              "      <td>10.5</td>\n",
              "      <td>70</td>\n",
              "      <td>1</td>\n",
              "      <td>ford torino</td>\n",
              "    </tr>\n",
              "  </tbody>\n",
              "</table>\n",
              "</div>"
            ],
            "text/plain": [
              "    mpg  cylinders  displacement  ...  model year  origin                   car name\n",
              "0  18.0          8         307.0  ...          70       1  chevrolet chevelle malibu\n",
              "1  15.0          8         350.0  ...          70       1          buick skylark 320\n",
              "2  18.0          8         318.0  ...          70       1         plymouth satellite\n",
              "3  16.0          8         304.0  ...          70       1              amc rebel sst\n",
              "4  17.0          8         302.0  ...          70       1                ford torino\n",
              "\n",
              "[5 rows x 9 columns]"
            ]
          },
          "metadata": {
            "tags": []
          },
          "execution_count": 18
        }
      ]
    },
    {
      "cell_type": "code",
      "metadata": {
        "id": "TiQI3K8M9Mwz",
        "colab": {
          "base_uri": "https://localhost:8080/"
        },
        "outputId": "37bb8564-5168-4b0b-9ef3-424aa8eb226e"
      },
      "source": [
        "auto.dtypes"
      ],
      "execution_count": null,
      "outputs": [
        {
          "output_type": "execute_result",
          "data": {
            "text/plain": [
              "mpg             float64\n",
              "cylinders         int64\n",
              "displacement    float64\n",
              "horsepower      float64\n",
              "weight            int64\n",
              "acceleration    float64\n",
              "model year        int64\n",
              "origin            int64\n",
              "car name         object\n",
              "dtype: object"
            ]
          },
          "metadata": {
            "tags": []
          },
          "execution_count": 19
        }
      ]
    },
    {
      "cell_type": "code",
      "metadata": {
        "id": "rqnWqmtgbV7l"
      },
      "source": [
        "# only quantitative variables\n",
        "X = auto[['cylinders', 'displacement', 'horsepower', 'weight', 'acceleration']]\n",
        "y = auto['mpg']"
      ],
      "execution_count": null,
      "outputs": []
    },
    {
      "cell_type": "code",
      "metadata": {
        "id": "HMPfHgLx8xtf",
        "colab": {
          "base_uri": "https://localhost:8080/",
          "height": 402
        },
        "outputId": "07d8e73f-0d8f-400d-ca93-42e15c05bdb5"
      },
      "source": [
        "X"
      ],
      "execution_count": null,
      "outputs": [
        {
          "output_type": "execute_result",
          "data": {
            "text/html": [
              "<div>\n",
              "<style scoped>\n",
              "    .dataframe tbody tr th:only-of-type {\n",
              "        vertical-align: middle;\n",
              "    }\n",
              "\n",
              "    .dataframe tbody tr th {\n",
              "        vertical-align: top;\n",
              "    }\n",
              "\n",
              "    .dataframe thead th {\n",
              "        text-align: right;\n",
              "    }\n",
              "</style>\n",
              "<table border=\"1\" class=\"dataframe\">\n",
              "  <thead>\n",
              "    <tr style=\"text-align: right;\">\n",
              "      <th></th>\n",
              "      <th>cylinders</th>\n",
              "      <th>displacement</th>\n",
              "      <th>horsepower</th>\n",
              "      <th>weight</th>\n",
              "      <th>acceleration</th>\n",
              "    </tr>\n",
              "  </thead>\n",
              "  <tbody>\n",
              "    <tr>\n",
              "      <th>0</th>\n",
              "      <td>8</td>\n",
              "      <td>307.0</td>\n",
              "      <td>130.0</td>\n",
              "      <td>3504</td>\n",
              "      <td>12.0</td>\n",
              "    </tr>\n",
              "    <tr>\n",
              "      <th>1</th>\n",
              "      <td>8</td>\n",
              "      <td>350.0</td>\n",
              "      <td>165.0</td>\n",
              "      <td>3693</td>\n",
              "      <td>11.5</td>\n",
              "    </tr>\n",
              "    <tr>\n",
              "      <th>2</th>\n",
              "      <td>8</td>\n",
              "      <td>318.0</td>\n",
              "      <td>150.0</td>\n",
              "      <td>3436</td>\n",
              "      <td>11.0</td>\n",
              "    </tr>\n",
              "    <tr>\n",
              "      <th>3</th>\n",
              "      <td>8</td>\n",
              "      <td>304.0</td>\n",
              "      <td>150.0</td>\n",
              "      <td>3433</td>\n",
              "      <td>12.0</td>\n",
              "    </tr>\n",
              "    <tr>\n",
              "      <th>4</th>\n",
              "      <td>8</td>\n",
              "      <td>302.0</td>\n",
              "      <td>140.0</td>\n",
              "      <td>3449</td>\n",
              "      <td>10.5</td>\n",
              "    </tr>\n",
              "    <tr>\n",
              "      <th>...</th>\n",
              "      <td>...</td>\n",
              "      <td>...</td>\n",
              "      <td>...</td>\n",
              "      <td>...</td>\n",
              "      <td>...</td>\n",
              "    </tr>\n",
              "    <tr>\n",
              "      <th>392</th>\n",
              "      <td>4</td>\n",
              "      <td>140.0</td>\n",
              "      <td>86.0</td>\n",
              "      <td>2790</td>\n",
              "      <td>15.6</td>\n",
              "    </tr>\n",
              "    <tr>\n",
              "      <th>393</th>\n",
              "      <td>4</td>\n",
              "      <td>97.0</td>\n",
              "      <td>52.0</td>\n",
              "      <td>2130</td>\n",
              "      <td>24.6</td>\n",
              "    </tr>\n",
              "    <tr>\n",
              "      <th>394</th>\n",
              "      <td>4</td>\n",
              "      <td>135.0</td>\n",
              "      <td>84.0</td>\n",
              "      <td>2295</td>\n",
              "      <td>11.6</td>\n",
              "    </tr>\n",
              "    <tr>\n",
              "      <th>395</th>\n",
              "      <td>4</td>\n",
              "      <td>120.0</td>\n",
              "      <td>79.0</td>\n",
              "      <td>2625</td>\n",
              "      <td>18.6</td>\n",
              "    </tr>\n",
              "    <tr>\n",
              "      <th>396</th>\n",
              "      <td>4</td>\n",
              "      <td>119.0</td>\n",
              "      <td>82.0</td>\n",
              "      <td>2720</td>\n",
              "      <td>19.4</td>\n",
              "    </tr>\n",
              "  </tbody>\n",
              "</table>\n",
              "<p>392 rows × 5 columns</p>\n",
              "</div>"
            ],
            "text/plain": [
              "     cylinders  displacement  horsepower  weight  acceleration\n",
              "0            8         307.0       130.0    3504          12.0\n",
              "1            8         350.0       165.0    3693          11.5\n",
              "2            8         318.0       150.0    3436          11.0\n",
              "3            8         304.0       150.0    3433          12.0\n",
              "4            8         302.0       140.0    3449          10.5\n",
              "..         ...           ...         ...     ...           ...\n",
              "392          4         140.0        86.0    2790          15.6\n",
              "393          4          97.0        52.0    2130          24.6\n",
              "394          4         135.0        84.0    2295          11.6\n",
              "395          4         120.0        79.0    2625          18.6\n",
              "396          4         119.0        82.0    2720          19.4\n",
              "\n",
              "[392 rows x 5 columns]"
            ]
          },
          "metadata": {
            "tags": []
          },
          "execution_count": 21
        }
      ]
    },
    {
      "cell_type": "code",
      "metadata": {
        "id": "fvYUmsjX80yW",
        "colab": {
          "base_uri": "https://localhost:8080/"
        },
        "outputId": "0c6aa2c8-0630-4b92-f8d5-f48ec394f024"
      },
      "source": [
        "y"
      ],
      "execution_count": null,
      "outputs": [
        {
          "output_type": "execute_result",
          "data": {
            "text/plain": [
              "0      18.0\n",
              "1      15.0\n",
              "2      18.0\n",
              "3      16.0\n",
              "4      17.0\n",
              "       ... \n",
              "392    27.0\n",
              "393    44.0\n",
              "394    32.0\n",
              "395    28.0\n",
              "396    31.0\n",
              "Name: mpg, Length: 392, dtype: float64"
            ]
          },
          "metadata": {
            "tags": []
          },
          "execution_count": 22
        }
      ]
    },
    {
      "cell_type": "markdown",
      "metadata": {
        "id": "jG7AkzVCbV7m"
      },
      "source": [
        "### Principal Components\n",
        "\n",
        "Principal dimensionality reduction uses Singular Value Decomposition of the data to project it to a lower dimensional space."
      ]
    },
    {
      "cell_type": "markdown",
      "metadata": {
        "id": "wkb7VSJgviUh"
      },
      "source": [
        "Questions:\n",
        "\n",
        "1. Is PCA required on my dataset?\n",
        "2. Should I normalize?\n",
        "3. How many principal components to choose?\n"
      ]
    },
    {
      "cell_type": "code",
      "metadata": {
        "id": "staATTJ3bV7n"
      },
      "source": [
        "from sklearn.decomposition import PCA\n",
        "pca = PCA(n_components=2)"
      ],
      "execution_count": null,
      "outputs": []
    },
    {
      "cell_type": "code",
      "metadata": {
        "id": "8QF6Vs04bV7p"
      },
      "source": [
        "from sklearn.preprocessing import scale\n",
        "# The following independently standardizes each feature (it's the default value 0 for \"axis\" argument)\n",
        "X_std = scale(X.values)"
      ],
      "execution_count": null,
      "outputs": []
    },
    {
      "cell_type": "markdown",
      "metadata": {
        "id": "OB2HhUQwvBEC"
      },
      "source": [
        "You can also use *StandardScaler* class. [Link](https://scikit-learn.org/stable/modules/preprocessing.html#standardization-or-mean-removal-and-variance-scaling)"
      ]
    },
    {
      "cell_type": "code",
      "metadata": {
        "id": "9agJGTRZbV7r",
        "colab": {
          "base_uri": "https://localhost:8080/"
        },
        "outputId": "c129901d-4287-405c-bbb5-8dce12d94938"
      },
      "source": [
        "pca.fit(X)\n"
      ],
      "execution_count": null,
      "outputs": [
        {
          "output_type": "execute_result",
          "data": {
            "text/plain": [
              "PCA(copy=True, iterated_power='auto', n_components=2, random_state=None,\n",
              "    svd_solver='auto', tol=0.0, whiten=False)"
            ]
          },
          "metadata": {
            "tags": []
          },
          "execution_count": 25
        }
      ]
    },
    {
      "cell_type": "code",
      "metadata": {
        "id": "Gwb7iPwOHAY-"
      },
      "source": [
        "explained_variance = pd.DataFrame(pca.explained_variance_)\n"
      ],
      "execution_count": null,
      "outputs": []
    },
    {
      "cell_type": "code",
      "metadata": {
        "id": "D_xEorkfHAJh",
        "colab": {
          "base_uri": "https://localhost:8080/",
          "height": 309
        },
        "outputId": "43424aec-eab9-4993-a917-9c727082dc73"
      },
      "source": [
        "ax = explained_variance.head().plot.bar(legend=False, figsize=(4, 4))\n",
        "ax.set_xlabel('Component')\n",
        "ax.set_title('Explained Variance')"
      ],
      "execution_count": null,
      "outputs": [
        {
          "output_type": "execute_result",
          "data": {
            "text/plain": [
              "Text(0.5, 1.0, 'Explained Variance')"
            ]
          },
          "metadata": {
            "tags": []
          },
          "execution_count": 27
        },
        {
          "output_type": "display_data",
          "data": {
            "image/png": "[encoded data removed]",
            "text/plain": [
              "<Figure size 288x288 with 1 Axes>"
            ]
          },
          "metadata": {
            "tags": [],
            "needs_background": "light"
          }
        }
      ]
    },
    {
      "cell_type": "code",
      "metadata": {
        "colab": {
          "base_uri": "https://localhost:8080/",
          "height": 309
        },
        "id": "dXvUwUHJrpnW",
        "outputId": "16f97cb0-3861-4999-c482-2ac67a4a97b6"
      },
      "source": [
        "explained_variance_ratio = pd.DataFrame(pca.explained_variance_ratio_)\n",
        "\n",
        "ax = explained_variance_ratio.head().plot.bar(legend=False, figsize=(4, 4))\n",
        "ax.set_xlabel('Component')\n",
        "ax.set_title('Explained Variance Ratio')"
      ],
      "execution_count": null,
      "outputs": [
        {
          "output_type": "execute_result",
          "data": {
            "text/plain": [
              "Text(0.5, 1.0, 'Explained Variance Ratio')"
            ]
          },
          "metadata": {
            "tags": []
          },
          "execution_count": 28
        },
        {
          "output_type": "display_data",
          "data": {
            "image/png": "[encoded data removed]",
            "text/plain": [
              "<Figure size 288x288 with 1 Axes>"
            ]
          },
          "metadata": {
            "tags": [],
            "needs_background": "light"
          }
        }
      ]
    },
    {
      "cell_type": "code",
      "metadata": {
        "id": "6TSNS5wxH5Jg",
        "colab": {
          "base_uri": "https://localhost:8080/",
          "height": 106
        },
        "outputId": "c5ba6ba8-dee9-4d98-c692-eb8e150521d6"
      },
      "source": [
        "loadings = pd.DataFrame(pca.components_, columns=X.columns)\n",
        "#pca.components_\n",
        "loadings"
      ],
      "execution_count": null,
      "outputs": [
        {
          "output_type": "execute_result",
          "data": {
            "text/html": [
              "<div>\n",
              "<style scoped>\n",
              "    .dataframe tbody tr th:only-of-type {\n",
              "        vertical-align: middle;\n",
              "    }\n",
              "\n",
              "    .dataframe tbody tr th {\n",
              "        vertical-align: top;\n",
              "    }\n",
              "\n",
              "    .dataframe thead th {\n",
              "        text-align: right;\n",
              "    }\n",
              "</style>\n",
              "<table border=\"1\" class=\"dataframe\">\n",
              "  <thead>\n",
              "    <tr style=\"text-align: right;\">\n",
              "      <th></th>\n",
              "      <th>cylinders</th>\n",
              "      <th>displacement</th>\n",
              "      <th>horsepower</th>\n",
              "      <th>weight</th>\n",
              "      <th>acceleration</th>\n",
              "    </tr>\n",
              "  </thead>\n",
              "  <tbody>\n",
              "    <tr>\n",
              "      <th>0</th>\n",
              "      <td>0.001793</td>\n",
              "      <td>0.114341</td>\n",
              "      <td>0.038967</td>\n",
              "      <td>0.992674</td>\n",
              "      <td>-0.001353</td>\n",
              "    </tr>\n",
              "    <tr>\n",
              "      <th>1</th>\n",
              "      <td>0.013330</td>\n",
              "      <td>0.946116</td>\n",
              "      <td>0.298150</td>\n",
              "      <td>-0.120754</td>\n",
              "      <td>-0.034828</td>\n",
              "    </tr>\n",
              "  </tbody>\n",
              "</table>\n",
              "</div>"
            ],
            "text/plain": [
              "   cylinders  displacement  horsepower    weight  acceleration\n",
              "0   0.001793      0.114341    0.038967  0.992674     -0.001353\n",
              "1   0.013330      0.946116    0.298150 -0.120754     -0.034828"
            ]
          },
          "metadata": {
            "tags": []
          },
          "execution_count": 29
        }
      ]
    },
    {
      "cell_type": "code",
      "metadata": {
        "id": "nrUP-dE_bV7s"
      },
      "source": [
        "Z = pca.transform(X)"
      ],
      "execution_count": null,
      "outputs": []
    },
    {
      "cell_type": "code",
      "metadata": {
        "id": "o6K5P6C8bV7u",
        "colab": {
          "base_uri": "https://localhost:8080/"
        },
        "outputId": "ad410ffc-4be3-4464-94c5-63d7afa6551a"
      },
      "source": [
        "# Fitting the model on X_std\n",
        "pca.fit(X_std)"
      ],
      "execution_count": null,
      "outputs": [
        {
          "output_type": "execute_result",
          "data": {
            "text/plain": [
              "PCA(copy=True, iterated_power='auto', n_components=2, random_state=None,\n",
              "    svd_solver='auto', tol=0.0, whiten=False)"
            ]
          },
          "metadata": {
            "tags": []
          },
          "execution_count": 31
        }
      ]
    },
    {
      "cell_type": "code",
      "metadata": {
        "id": "nY3nXzOuIj0J",
        "colab": {
          "base_uri": "https://localhost:8080/",
          "height": 293
        },
        "outputId": "0b02a8ec-e13c-4437-aaf8-e39ef224a719"
      },
      "source": [
        "explained_variance = pd.DataFrame(pca.explained_variance_)\n",
        "ax = explained_variance.head().plot.bar(legend=False, figsize=(4, 4))\n",
        "ax.set_xlabel('Component')"
      ],
      "execution_count": null,
      "outputs": [
        {
          "output_type": "execute_result",
          "data": {
            "text/plain": [
              "Text(0.5, 0, 'Component')"
            ]
          },
          "metadata": {
            "tags": []
          },
          "execution_count": 32
        },
        {
          "output_type": "display_data",
          "data": {
            "image/png": "[encoded data removed]",
            "text/plain": [
              "<Figure size 288x288 with 1 Axes>"
            ]
          },
          "metadata": {
            "tags": [],
            "needs_background": "light"
          }
        }
      ]
    },
    {
      "cell_type": "code",
      "metadata": {
        "colab": {
          "base_uri": "https://localhost:8080/",
          "height": 293
        },
        "id": "SVLNaDAasHDm",
        "outputId": "631c4056-5e33-42e6-fe5c-57e1e089289b"
      },
      "source": [
        "explained_variance_ratio = pd.DataFrame(pca.explained_variance_ratio_)\n",
        "\n",
        "ax = explained_variance_ratio.head().plot.bar(legend=False, figsize=(4, 4))\n",
        "ax.set_xlabel('Component')\n"
      ],
      "execution_count": null,
      "outputs": [
        {
          "output_type": "execute_result",
          "data": {
            "text/plain": [
              "Text(0.5, 0, 'Component')"
            ]
          },
          "metadata": {
            "tags": []
          },
          "execution_count": 33
        },
        {
          "output_type": "display_data",
          "data": {
            "image/png": "[encoded data removed]",
            "text/plain": [
              "<Figure size 288x288 with 1 Axes>"
            ]
          },
          "metadata": {
            "tags": [],
            "needs_background": "light"
          }
        }
      ]
    },
    {
      "cell_type": "code",
      "metadata": {
        "colab": {
          "base_uri": "https://localhost:8080/",
          "height": 106
        },
        "id": "ae8V-iZQsTOy",
        "outputId": "5f208a22-3d2b-4d64-d4f6-6ffc8e9df3d8"
      },
      "source": [
        "explained_variance_ratio"
      ],
      "execution_count": null,
      "outputs": [
        {
          "output_type": "execute_result",
          "data": {
            "text/html": [
              "<div>\n",
              "<style scoped>\n",
              "    .dataframe tbody tr th:only-of-type {\n",
              "        vertical-align: middle;\n",
              "    }\n",
              "\n",
              "    .dataframe tbody tr th {\n",
              "        vertical-align: top;\n",
              "    }\n",
              "\n",
              "    .dataframe thead th {\n",
              "        text-align: right;\n",
              "    }\n",
              "</style>\n",
              "<table border=\"1\" class=\"dataframe\">\n",
              "  <thead>\n",
              "    <tr style=\"text-align: right;\">\n",
              "      <th></th>\n",
              "      <th>0</th>\n",
              "    </tr>\n",
              "  </thead>\n",
              "  <tbody>\n",
              "    <tr>\n",
              "      <th>0</th>\n",
              "      <td>0.814372</td>\n",
              "    </tr>\n",
              "    <tr>\n",
              "      <th>1</th>\n",
              "      <td>0.138772</td>\n",
              "    </tr>\n",
              "  </tbody>\n",
              "</table>\n",
              "</div>"
            ],
            "text/plain": [
              "          0\n",
              "0  0.814372\n",
              "1  0.138772"
            ]
          },
          "metadata": {
            "tags": []
          },
          "execution_count": 34
        }
      ]
    },
    {
      "cell_type": "code",
      "metadata": {
        "id": "Gp6Ez3U4Iop0",
        "colab": {
          "base_uri": "https://localhost:8080/",
          "height": 106
        },
        "outputId": "bd9f2f7c-063d-4648-b32a-2ab0860897b0"
      },
      "source": [
        "loadings = pd.DataFrame(pca.components_, columns=X.columns)\n",
        "#pca.components_\n",
        "loadings"
      ],
      "execution_count": null,
      "outputs": [
        {
          "output_type": "execute_result",
          "data": {
            "text/html": [
              "<div>\n",
              "<style scoped>\n",
              "    .dataframe tbody tr th:only-of-type {\n",
              "        vertical-align: middle;\n",
              "    }\n",
              "\n",
              "    .dataframe tbody tr th {\n",
              "        vertical-align: top;\n",
              "    }\n",
              "\n",
              "    .dataframe thead th {\n",
              "        text-align: right;\n",
              "    }\n",
              "</style>\n",
              "<table border=\"1\" class=\"dataframe\">\n",
              "  <thead>\n",
              "    <tr style=\"text-align: right;\">\n",
              "      <th></th>\n",
              "      <th>cylinders</th>\n",
              "      <th>displacement</th>\n",
              "      <th>horsepower</th>\n",
              "      <th>weight</th>\n",
              "      <th>acceleration</th>\n",
              "    </tr>\n",
              "  </thead>\n",
              "  <tbody>\n",
              "    <tr>\n",
              "      <th>0</th>\n",
              "      <td>0.468717</td>\n",
              "      <td>0.482404</td>\n",
              "      <td>0.473844</td>\n",
              "      <td>0.461790</td>\n",
              "      <td>-0.331379</td>\n",
              "    </tr>\n",
              "    <tr>\n",
              "      <th>1</th>\n",
              "      <td>0.223479</td>\n",
              "      <td>0.178630</td>\n",
              "      <td>-0.119989</td>\n",
              "      <td>0.345286</td>\n",
              "      <td>0.885736</td>\n",
              "    </tr>\n",
              "  </tbody>\n",
              "</table>\n",
              "</div>"
            ],
            "text/plain": [
              "   cylinders  displacement  horsepower    weight  acceleration\n",
              "0   0.468717      0.482404    0.473844  0.461790     -0.331379\n",
              "1   0.223479      0.178630   -0.119989  0.345286      0.885736"
            ]
          },
          "metadata": {
            "tags": []
          },
          "execution_count": 35
        }
      ]
    },
    {
      "cell_type": "code",
      "metadata": {
        "id": "HnI5pv7IbV7x"
      },
      "source": [
        "Z_std = pca.transform(X_std)"
      ],
      "execution_count": null,
      "outputs": []
    },
    {
      "cell_type": "code",
      "metadata": {
        "id": "0ltQ6GaObV7y",
        "scrolled": true
      },
      "source": [
        "import matplotlib.pyplot as plt\n",
        "%matplotlib inline"
      ],
      "execution_count": null,
      "outputs": []
    },
    {
      "cell_type": "code",
      "metadata": {
        "id": "YfpPVX6VbV70",
        "colab": {
          "base_uri": "https://localhost:8080/",
          "height": 282
        },
        "outputId": "e8c2d5fc-091d-4c7c-ecb0-d6ae1fa8c0e5"
      },
      "source": [
        "plt.scatter(Z[:,0], Z[:,1])"
      ],
      "execution_count": null,
      "outputs": [
        {
          "output_type": "execute_result",
          "data": {
            "text/plain": [
              "<matplotlib.collections.PathCollection at 0x7efbc651ee10>"
            ]
          },
          "metadata": {
            "tags": []
          },
          "execution_count": 38
        },
        {
          "output_type": "display_data",
          "data": {
            "image/png": "[encoded data removed]",
            "text/plain": [
              "<Figure size 432x288 with 1 Axes>"
            ]
          },
          "metadata": {
            "tags": [],
            "needs_background": "light"
          }
        }
      ]
    },
    {
      "cell_type": "code",
      "metadata": {
        "id": "YThe7xFIbV72",
        "colab": {
          "base_uri": "https://localhost:8080/",
          "height": 265
        },
        "outputId": "e3982d26-d743-4790-feab-893301bd7eb8"
      },
      "source": [
        "# Now Z includes a summary of X only in two dimensions. \n",
        "plt.scatter(Z_std[:,0], Z_std[:,1]);"
      ],
      "execution_count": null,
      "outputs": [
        {
          "output_type": "display_data",
          "data": {
            "image/png": "[encoded data removed]",
            "text/plain": [
              "<Figure size 432x288 with 1 Axes>"
            ]
          },
          "metadata": {
            "tags": [],
            "needs_background": "light"
          }
        }
      ]
    },
    {
      "cell_type": "code",
      "metadata": {
        "colab": {
          "base_uri": "https://localhost:8080/",
          "height": 903
        },
        "id": "KHXjAPN7vSfD",
        "outputId": "99e23889-df82-47ec-a73e-9a961fc9deb4"
      },
      "source": [
        "pairplot = sns.pairplot(X)\n",
        "plt.show()"
      ],
      "execution_count": null,
      "outputs": [
        {
          "output_type": "display_data",
          "data": {
            "image/png": "[encoded data removed]",
            "text/plain": [
              "<Figure size 900x900 with 30 Axes>"
            ]
          },
          "metadata": {
            "tags": [],
            "needs_background": "light"
          }
        }
      ]
    },
    {
      "cell_type": "code",
      "metadata": {
        "id": "hPmj4sqCbV74",
        "colab": {
          "base_uri": "https://localhost:8080/",
          "height": 195
        },
        "outputId": "3920b3da-8596-43e2-fef5-6f28a19bf4ed"
      },
      "source": [
        "X.corr()"
      ],
      "execution_count": null,
      "outputs": [
        {
          "output_type": "execute_result",
          "data": {
            "text/html": [
              "<div>\n",
              "<style scoped>\n",
              "    .dataframe tbody tr th:only-of-type {\n",
              "        vertical-align: middle;\n",
              "    }\n",
              "\n",
              "    .dataframe tbody tr th {\n",
              "        vertical-align: top;\n",
              "    }\n",
              "\n",
              "    .dataframe thead th {\n",
              "        text-align: right;\n",
              "    }\n",
              "</style>\n",
              "<table border=\"1\" class=\"dataframe\">\n",
              "  <thead>\n",
              "    <tr style=\"text-align: right;\">\n",
              "      <th></th>\n",
              "      <th>cylinders</th>\n",
              "      <th>displacement</th>\n",
              "      <th>horsepower</th>\n",
              "      <th>weight</th>\n",
              "      <th>acceleration</th>\n",
              "    </tr>\n",
              "  </thead>\n",
              "  <tbody>\n",
              "    <tr>\n",
              "      <th>cylinders</th>\n",
              "      <td>1.000000</td>\n",
              "      <td>0.950823</td>\n",
              "      <td>0.842983</td>\n",
              "      <td>0.897527</td>\n",
              "      <td>-0.504683</td>\n",
              "    </tr>\n",
              "    <tr>\n",
              "      <th>displacement</th>\n",
              "      <td>0.950823</td>\n",
              "      <td>1.000000</td>\n",
              "      <td>0.897257</td>\n",
              "      <td>0.932994</td>\n",
              "      <td>-0.543800</td>\n",
              "    </tr>\n",
              "    <tr>\n",
              "      <th>horsepower</th>\n",
              "      <td>0.842983</td>\n",
              "      <td>0.897257</td>\n",
              "      <td>1.000000</td>\n",
              "      <td>0.864538</td>\n",
              "      <td>-0.689196</td>\n",
              "    </tr>\n",
              "    <tr>\n",
              "      <th>weight</th>\n",
              "      <td>0.897527</td>\n",
              "      <td>0.932994</td>\n",
              "      <td>0.864538</td>\n",
              "      <td>1.000000</td>\n",
              "      <td>-0.416839</td>\n",
              "    </tr>\n",
              "    <tr>\n",
              "      <th>acceleration</th>\n",
              "      <td>-0.504683</td>\n",
              "      <td>-0.543800</td>\n",
              "      <td>-0.689196</td>\n",
              "      <td>-0.416839</td>\n",
              "      <td>1.000000</td>\n",
              "    </tr>\n",
              "  </tbody>\n",
              "</table>\n",
              "</div>"
            ],
            "text/plain": [
              "              cylinders  displacement  horsepower    weight  acceleration\n",
              "cylinders      1.000000      0.950823    0.842983  0.897527     -0.504683\n",
              "displacement   0.950823      1.000000    0.897257  0.932994     -0.543800\n",
              "horsepower     0.842983      0.897257    1.000000  0.864538     -0.689196\n",
              "weight         0.897527      0.932994    0.864538  1.000000     -0.416839\n",
              "acceleration  -0.504683     -0.543800   -0.689196 -0.416839      1.000000"
            ]
          },
          "metadata": {
            "tags": []
          },
          "execution_count": 41
        }
      ]
    },
    {
      "cell_type": "markdown",
      "metadata": {
        "id": "czKeOxxGbV75"
      },
      "source": [
        "<span style=\"color:red\"> **Note:** </span>\n",
        "Principal components for non-standardized and standardized data are different."
      ]
    },
    {
      "cell_type": "code",
      "metadata": {
        "colab": {
          "base_uri": "https://localhost:8080/",
          "height": 344
        },
        "id": "I4gx-8jXIFwA",
        "outputId": "afb0eec3-27de-483e-fd90-5eb47de81086"
      },
      "source": [
        "sns.heatmap(X.corr(), cmap='viridis')"
      ],
      "execution_count": null,
      "outputs": [
        {
          "output_type": "execute_result",
          "data": {
            "text/plain": [
              "<matplotlib.axes._subplots.AxesSubplot at 0x7efbbd209ed0>"
            ]
          },
          "metadata": {
            "tags": []
          },
          "execution_count": 42
        },
        {
          "output_type": "display_data",
          "data": {
            "image/png": "[encoded data removed]",
            "text/plain": [
              "<Figure size 432x288 with 2 Axes>"
            ]
          },
          "metadata": {
            "tags": [],
            "needs_background": "light"
          }
        }
      ]
    },
    {
      "cell_type": "markdown",
      "metadata": {
        "id": "uqadXgcYJKuI"
      },
      "source": [
        "[sk-learn scale](https://scikit-learn.org/stable/modules/generated/sklearn.preprocessing.scale.html)"
      ]
    },
    {
      "cell_type": "markdown",
      "metadata": {
        "id": "gwvL1j59bV76"
      },
      "source": [
        "### Principal Component Regression\n",
        "Now, We may use the above principal components as attributes to feed a linear regression and lets observe the insample results:"
      ]
    },
    {
      "cell_type": "code",
      "metadata": {
        "id": "F8lzt01VbV76"
      },
      "source": [
        "from sklearn.linear_model import LinearRegression\n",
        "from sklearn.model_selection import train_test_split\n",
        "from sklearn.metrics import mean_absolute_error\n",
        "lr = LinearRegression()"
      ],
      "execution_count": null,
      "outputs": []
    },
    {
      "cell_type": "code",
      "metadata": {
        "id": "UDMlaTeJbV8A"
      },
      "source": [
        "X_simple = X[['horsepower']]"
      ],
      "execution_count": null,
      "outputs": []
    },
    {
      "cell_type": "code",
      "metadata": {
        "id": "ss_rK6HVbV8C",
        "colab": {
          "base_uri": "https://localhost:8080/"
        },
        "outputId": "d64a0b04-f1bc-4e9f-a62c-701c0f7d3954"
      },
      "source": [
        "X_train, X_test, y_train, y_test = train_test_split(X, y, test_size = 0.25, random_state=42)\n",
        "X_train_simple = X_train[['horsepower']]\n",
        "X_test_simple = X_test[['horsepower']]\n",
        "X_train_std = scale(X_train.values)\n",
        "X_test_std = scale(X_test.values)\n",
        "X_train_std_pca = pca.transform(X_train_std)\n",
        "X_test_std_pca = pca.transform(X_test_std)\n",
        "print(f'X_train size; {X_train.shape}, X_test size; {X_test.shape}, y_train size; {y_train.shape} y_test size; {y_test.shape}')\n",
        "\n"
      ],
      "execution_count": null,
      "outputs": [
        {
          "output_type": "stream",
          "text": [
            "X_train size; (294, 5), X_test size; (98, 5), y_train size; (294,) y_test size; (98,)\n"
          ],
          "name": "stdout"
        }
      ]
    },
    {
      "cell_type": "code",
      "metadata": {
        "id": "-fYXJx8gbV8F",
        "colab": {
          "base_uri": "https://localhost:8080/"
        },
        "outputId": "00e4df94-40f8-47e4-b0a1-2ac6637eb3e8"
      },
      "source": [
        "lr.fit(X_train_simple,y_train)"
      ],
      "execution_count": null,
      "outputs": [
        {
          "output_type": "execute_result",
          "data": {
            "text/plain": [
              "LinearRegression(copy_X=True, fit_intercept=True, n_jobs=None, normalize=False)"
            ]
          },
          "metadata": {
            "tags": []
          },
          "execution_count": 46
        }
      ]
    },
    {
      "cell_type": "code",
      "metadata": {
        "id": "Pb9Ek6R_bV8I",
        "colab": {
          "base_uri": "https://localhost:8080/"
        },
        "outputId": "92563ea3-28fd-49d5-9f88-af0472f12fd3"
      },
      "source": [
        "# R^2 \n",
        "lr.score(X_train_simple, y_train)"
      ],
      "execution_count": null,
      "outputs": [
        {
          "output_type": "execute_result",
          "data": {
            "text/plain": [
              "0.6131224539832818"
            ]
          },
          "metadata": {
            "tags": []
          },
          "execution_count": 47
        }
      ]
    },
    {
      "cell_type": "code",
      "metadata": {
        "id": "4E0fleFFbV8K"
      },
      "source": [
        "lr_all_features = LinearRegression()"
      ],
      "execution_count": null,
      "outputs": []
    },
    {
      "cell_type": "code",
      "metadata": {
        "id": "yE30q4a5bV8M",
        "colab": {
          "base_uri": "https://localhost:8080/"
        },
        "outputId": "19294717-7042-4a96-a51e-35d60dfc3de5"
      },
      "source": [
        "lr_all_features.fit(X_train,y_train)"
      ],
      "execution_count": null,
      "outputs": [
        {
          "output_type": "execute_result",
          "data": {
            "text/plain": [
              "LinearRegression(copy_X=True, fit_intercept=True, n_jobs=None, normalize=False)"
            ]
          },
          "metadata": {
            "tags": []
          },
          "execution_count": 49
        }
      ]
    },
    {
      "cell_type": "code",
      "metadata": {
        "id": "nPo631bNbV8O",
        "colab": {
          "base_uri": "https://localhost:8080/"
        },
        "outputId": "21d4d4d0-e80e-4e33-946e-2db1b7fbc6fa"
      },
      "source": [
        "lr_all_features.score(X_train,y_train)"
      ],
      "execution_count": null,
      "outputs": [
        {
          "output_type": "execute_result",
          "data": {
            "text/plain": [
              "0.7157949802231671"
            ]
          },
          "metadata": {
            "tags": []
          },
          "execution_count": 50
        }
      ]
    },
    {
      "cell_type": "code",
      "metadata": {
        "id": "9dJNuDJcbV8Q"
      },
      "source": [
        "pcr = LinearRegression()"
      ],
      "execution_count": null,
      "outputs": []
    },
    {
      "cell_type": "code",
      "metadata": {
        "id": "vT0ak4gsbV8S",
        "colab": {
          "base_uri": "https://localhost:8080/"
        },
        "outputId": "ef1b6310-ef5c-4751-c226-d3e6abe197df"
      },
      "source": [
        "pcr.fit(X_train_std_pca,y_train)"
      ],
      "execution_count": null,
      "outputs": [
        {
          "output_type": "execute_result",
          "data": {
            "text/plain": [
              "LinearRegression(copy_X=True, fit_intercept=True, n_jobs=None, normalize=False)"
            ]
          },
          "metadata": {
            "tags": []
          },
          "execution_count": 52
        }
      ]
    },
    {
      "cell_type": "code",
      "metadata": {
        "id": "rN3QLnkbbV8U",
        "colab": {
          "base_uri": "https://localhost:8080/"
        },
        "outputId": "8af0f9a0-c7b6-4687-8382-af7963040553"
      },
      "source": [
        "pcr.score(X_train_std_pca,y_train)"
      ],
      "execution_count": null,
      "outputs": [
        {
          "output_type": "execute_result",
          "data": {
            "text/plain": [
              "0.7035119283219466"
            ]
          },
          "metadata": {
            "tags": []
          },
          "execution_count": 53
        }
      ]
    },
    {
      "cell_type": "markdown",
      "metadata": {
        "id": "8pbtH2qObV8W"
      },
      "source": [
        "$R^2$ is an in sample method. Lets see the results on the test set:"
      ]
    },
    {
      "cell_type": "code",
      "metadata": {
        "id": "z3UkW7n1bV8W",
        "colab": {
          "base_uri": "https://localhost:8080/"
        },
        "outputId": "e7dabd6a-b959-41ac-8328-cef3c9837a78"
      },
      "source": [
        "y_pred_simple = lr.predict(X_test_simple)\n",
        "y_pred_all_features = lr_all_features.predict(X_test)\n",
        "y_pred_pca = pcr.predict(X_test_std_pca)\n",
        "\n",
        "mae_simple = mean_absolute_error(y_test, y_pred_simple)\n",
        "mae_all_features = mean_absolute_error(y_test, y_pred_all_features)\n",
        "mae_pca = mean_absolute_error(y_test, y_pred_pca)\n",
        "\n",
        "print(f'mae_simple: {mae_simple}, mae_all_features: {mae_all_features}, mae_pca: {mae_pca}')"
      ],
      "execution_count": null,
      "outputs": [
        {
          "output_type": "stream",
          "text": [
            "mae_simple: 3.781267671503429, mae_all_features: 3.379323241998647, mae_pca: 3.3928127148957308\n"
          ],
          "name": "stdout"
        }
      ]
    },
    {
      "cell_type": "markdown",
      "metadata": {
        "id": "77SeHokqbV8Y"
      },
      "source": [
        "### Regularization\n",
        "\n",
        "In this case, using all features leads to better results in-sample and out-of-sample. Let's see if we can do better with lasso regularization:"
      ]
    },
    {
      "cell_type": "markdown",
      "metadata": {
        "id": "hXGDCwSoEfoa"
      },
      "source": [
        "Ridge or L2 regression"
      ]
    },
    {
      "cell_type": "markdown",
      "metadata": {
        "id": "FTE7E4ZFEdAV"
      },
      "source": [
        "![ridge.PNG](data:image/png;base64,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)"
      ]
    },
    {
      "cell_type": "markdown",
      "metadata": {
        "id": "r3mWwbNrEiG6"
      },
      "source": [
        "Lasso or L1 regularization"
      ]
    },
    {
      "cell_type": "markdown",
      "metadata": {
        "id": "t1YZfX9LD_7b"
      },
      "source": [
        "![lasso.PNG](data:image/png;base64,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)"
      ]
    },
    {
      "cell_type": "markdown",
      "metadata": {
        "id": "H621R3B5EbBv"
      },
      "source": [
        ""
      ]
    },
    {
      "cell_type": "code",
      "metadata": {
        "id": "ES1Sc6K6bV8Y"
      },
      "source": [
        "from sklearn.linear_model import Lasso, Ridge"
      ],
      "execution_count": null,
      "outputs": []
    },
    {
      "cell_type": "code",
      "metadata": {
        "id": "SAOr2EJsbV8a",
        "colab": {
          "base_uri": "https://localhost:8080/"
        },
        "outputId": "f1e36e86-c9c0-455b-b147-ff59ece29865"
      },
      "source": [
        "lasso_regression = Lasso(alpha=0.5)\n",
        "lasso_regression.fit(X_train,y_train)\n",
        "print('R^2:',lasso_regression.score(X_train,y_train))\n",
        "y_pred_lasso = lasso_regression.predict(X_test)\n",
        "mae_lasso = mean_absolute_error(y_test, y_pred_lasso)\n",
        "print(f'mae_lasso: {mae_lasso}')"
      ],
      "execution_count": null,
      "outputs": [
        {
          "output_type": "stream",
          "text": [
            "R^2: 0.7150898623825372\n",
            "mae_lasso: 3.3978447776736056\n"
          ],
          "name": "stdout"
        }
      ]
    },
    {
      "cell_type": "code",
      "metadata": {
        "id": "rG6yEcFxmqDh",
        "colab": {
          "base_uri": "https://localhost:8080/"
        },
        "outputId": "f3274df4-d1f9-4a46-fe32-2910a6341d65"
      },
      "source": [
        "import sys\n",
        "print(sys.version)"
      ],
      "execution_count": null,
      "outputs": [
        {
          "output_type": "stream",
          "text": [
            "3.7.10 (default, May  3 2021, 02:48:31) \n",
            "[GCC 7.5.0]\n"
          ],
          "name": "stdout"
        }
      ]
    },
    {
      "cell_type": "code",
      "metadata": {
        "id": "Y3fwvfkCbV8e",
        "colab": {
          "base_uri": "https://localhost:8080/"
        },
        "outputId": "3fd3664f-ac10-4ba0-e3db-a93267c175a5"
      },
      "source": [
        "ridge_regression = Ridge()\n",
        "ridge_regression.fit(X_train,y_train)\n",
        "print(ridge_regression.score(X_train,y_train))\n",
        "y_pred_ridge = ridge_regression.predict(X_test)\n",
        "mae_ridge = mean_absolute_error(y_test, y_pred_ridge)\n",
        "print(f'mae_ridge: {mae_ridge}')"
      ],
      "execution_count": null,
      "outputs": [
        {
          "output_type": "stream",
          "text": [
            "0.7157949312849465\n",
            "mae_ridge: 3.379578040881737\n"
          ],
          "name": "stdout"
        }
      ]
    },
    {
      "cell_type": "markdown",
      "metadata": {
        "id": "OsKwndbdbV8f"
      },
      "source": [
        "### Features Selection"
      ]
    },
    {
      "cell_type": "markdown",
      "metadata": {
        "id": "m0NTKmr6bV8g"
      },
      "source": [
        "There are many ways to select features. Here we will select them by using the feature importance of a random forest model."
      ]
    },
    {
      "cell_type": "code",
      "metadata": {
        "id": "toHjL_5tbV8h",
        "colab": {
          "base_uri": "https://localhost:8080/"
        },
        "outputId": "61ce8fdc-c6e1-4da7-c7bc-2b6af0697366"
      },
      "source": [
        "from sklearn.ensemble import RandomForestRegressor\n",
        "from sklearn.feature_selection import SelectFromModel\n",
        "\n",
        "sel = SelectFromModel(RandomForestRegressor(n_estimators = 10, random_state=42))\n",
        "print('Before feature selection X shape: ',X_train.shape[1])\n",
        "sel.fit(X_train, y_train)\n",
        "selected_feat= X_train.columns[(sel.get_support())]\n",
        "print('The number of selected features:', len(selected_feat))\n",
        "print('The selected features are:', selected_feat)\n",
        "print('After feature selection X shape: ',selected_feat.shape)"
      ],
      "execution_count": null,
      "outputs": [
        {
          "output_type": "stream",
          "text": [
            "Before feature selection X shape:  5\n",
            "The number of selected features: 2\n",
            "The selected features are: Index(['cylinders', 'displacement'], dtype='object')\n",
            "After feature selection X shape:  (2,)\n"
          ],
          "name": "stdout"
        }
      ]
    },
    {
      "cell_type": "markdown",
      "metadata": {
        "id": "845mOXeHbV8i"
      },
      "source": [
        "Now lets look at the results with the subset of data:"
      ]
    },
    {
      "cell_type": "code",
      "metadata": {
        "id": "_xjEfEm2bV8j",
        "colab": {
          "base_uri": "https://localhost:8080/"
        },
        "outputId": "8b8d0bb1-4f13-4b61-f667-53a07576d2a3"
      },
      "source": [
        "feat_selection_model = LinearRegression()\n",
        "feat_selection_model.fit(X_train[selected_feat],y_train)\n",
        "feat_selection_model.score(X_train[selected_feat],y_train)\n",
        "print('R^2:',feat_selection_model.score(X_train[selected_feat],y_train))\n",
        "y_pred_feat_selection = feat_selection_model.predict(X_test[selected_feat])\n",
        "mae_feat_selection = mean_absolute_error(y_test, y_pred_feat_selection)\n",
        "print(f'mae: {mae_feat_selection}')"
      ],
      "execution_count": null,
      "outputs": [
        {
          "output_type": "stream",
          "text": [
            "R^2: 0.6642001199142471\n",
            "mae: 3.6700972777667644\n"
          ],
          "name": "stdout"
        }
      ]
    },
    {
      "cell_type": "markdown",
      "metadata": {
        "id": "QRxA_vF_bV8k"
      },
      "source": [
        "For this dataset, it still looks like all features leads to better predictions"
      ]
    },
    {
      "cell_type": "markdown",
      "metadata": {
        "id": "OD1DfQ_MbV8v"
      },
      "source": [
        "### Zip code data (Data Manipulation)\n",
        "When we are dealing with high-dimensional data, PCA may be used to visualize the data. That is, you can use up to $3$ priciple components as your axese and visualize your data with respect to these axes.\n",
        "\n",
        "In this part, we are using the famous dataset MNIST available from <http://yann.lecun.com/exdb/mnist/>. For more information about the data refer to the link please."
      ]
    },
    {
      "cell_type": "code",
      "metadata": {
        "id": "uojCX8OCE5rS"
      },
      "source": [
        "# Standard scientific Python imports\n",
        "import matplotlib.pyplot as plt\n",
        "import numpy as np\n",
        "\n",
        "# Import datasets, classifiers and performance metrics\n",
        "from sklearn import datasets, svm, metrics\n",
        "\n",
        "# The digits dataset\n",
        "digits = datasets.load_digits()"
      ],
      "execution_count": null,
      "outputs": []
    },
    {
      "cell_type": "code",
      "metadata": {
        "id": "zgfWgQsGbV81",
        "colab": {
          "base_uri": "https://localhost:8080/"
        },
        "outputId": "7a4a5cf7-2a0a-490f-9c0a-4e03d8fd5ed8"
      },
      "source": [
        "digits"
      ],
      "execution_count": null,
      "outputs": [
        {
          "output_type": "execute_result",
          "data": {
            "text/plain": [
              "{'DESCR': \".. _digits_dataset:\\n\\nOptical recognition of handwritten digits dataset\\n--------------------------------------------------\\n\\n**Data Set Characteristics:**\\n\\n    :Number of Instances: 5620\\n    :Number of Attributes: 64\\n    :Attribute Information: 8x8 image of integer pixels in the range 0..16.\\n    :Missing Attribute Values: None\\n    :Creator: E. Alpaydin (alpaydin '@' boun.edu.tr)\\n    :Date: July; 1998\\n\\nThis is a copy of the test set of the UCI ML hand-written digits datasets\\nhttps://archive.ics.uci.edu/ml/datasets/Optical+Recognition+of+Handwritten+Digits\\n\\nThe data set contains images of hand-written digits: 10 classes where\\neach class refers to a digit.\\n\\nPreprocessing programs made available by NIST were used to extract\\nnormalized bitmaps of handwritten digits from a preprinted form. From a\\ntotal of 43 people, 30 contributed to the training set and different 13\\nto the test set. 32x32 bitmaps are divided into nonoverlapping blocks of\\n4x4 and the number of on pixels are counted in each block. This generates\\nan input matrix of 8x8 where each element is an integer in the range\\n0..16. This reduces dimensionality and gives invariance to small\\ndistortions.\\n\\nFor info on NIST preprocessing routines, see M. D. Garris, J. L. Blue, G.\\nT. Candela, D. L. Dimmick, J. Geist, P. J. Grother, S. A. Janet, and C.\\nL. Wilson, NIST Form-Based Handprint Recognition System, NISTIR 5469,\\n1994.\\n\\n.. topic:: References\\n\\n  - C. Kaynak (1995) Methods of Combining Multiple Classifiers and Their\\n    Applications to Handwritten Digit Recognition, MSc Thesis, Institute of\\n    Graduate Studies in Science and Engineering, Bogazici University.\\n  - E. Alpaydin, C. Kaynak (1998) Cascading Classifiers, Kybernetika.\\n  - Ken Tang and Ponnuthurai N. Suganthan and Xi Yao and A. Kai Qin.\\n    Linear dimensionalityreduction using relevance weighted LDA. School of\\n    Electrical and Electronic Engineering Nanyang Technological University.\\n    2005.\\n  - Claudio Gentile. A New Approximate Maximal Margin Classification\\n    Algorithm. NIPS. 2000.\",\n",
              " 'data': array([[ 0.,  0.,  5., ...,  0.,  0.,  0.],\n",
              "        [ 0.,  0.,  0., ..., 10.,  0.,  0.],\n",
              "        [ 0.,  0.,  0., ..., 16.,  9.,  0.],\n",
              "        ...,\n",
              "        [ 0.,  0.,  1., ...,  6.,  0.,  0.],\n",
              "        [ 0.,  0.,  2., ..., 12.,  0.,  0.],\n",
              "        [ 0.,  0., 10., ..., 12.,  1.,  0.]]),\n",
              " 'images': array([[[ 0.,  0.,  5., ...,  1.,  0.,  0.],\n",
              "         [ 0.,  0., 13., ..., 15.,  5.,  0.],\n",
              "         [ 0.,  3., 15., ..., 11.,  8.,  0.],\n",
              "         ...,\n",
              "         [ 0.,  4., 11., ..., 12.,  7.,  0.],\n",
              "         [ 0.,  2., 14., ..., 12.,  0.,  0.],\n",
              "         [ 0.,  0.,  6., ...,  0.,  0.,  0.]],\n",
              " \n",
              "        [[ 0.,  0.,  0., ...,  5.,  0.,  0.],\n",
              "         [ 0.,  0.,  0., ...,  9.,  0.,  0.],\n",
              "         [ 0.,  0.,  3., ...,  6.,  0.,  0.],\n",
              "         ...,\n",
              "         [ 0.,  0.,  1., ...,  6.,  0.,  0.],\n",
              "         [ 0.,  0.,  1., ...,  6.,  0.,  0.],\n",
              "         [ 0.,  0.,  0., ..., 10.,  0.,  0.]],\n",
              " \n",
              "        [[ 0.,  0.,  0., ..., 12.,  0.,  0.],\n",
              "         [ 0.,  0.,  3., ..., 14.,  0.,  0.],\n",
              "         [ 0.,  0.,  8., ..., 16.,  0.,  0.],\n",
              "         ...,\n",
              "         [ 0.,  9., 16., ...,  0.,  0.,  0.],\n",
              "         [ 0.,  3., 13., ..., 11.,  5.,  0.],\n",
              "         [ 0.,  0.,  0., ..., 16.,  9.,  0.]],\n",
              " \n",
              "        ...,\n",
              " \n",
              "        [[ 0.,  0.,  1., ...,  1.,  0.,  0.],\n",
              "         [ 0.,  0., 13., ...,  2.,  1.,  0.],\n",
              "         [ 0.,  0., 16., ..., 16.,  5.,  0.],\n",
              "         ...,\n",
              "         [ 0.,  0., 16., ..., 15.,  0.,  0.],\n",
              "         [ 0.,  0., 15., ..., 16.,  0.,  0.],\n",
              "         [ 0.,  0.,  2., ...,  6.,  0.,  0.]],\n",
              " \n",
              "        [[ 0.,  0.,  2., ...,  0.,  0.,  0.],\n",
              "         [ 0.,  0., 14., ..., 15.,  1.,  0.],\n",
              "         [ 0.,  4., 16., ..., 16.,  7.,  0.],\n",
              "         ...,\n",
              "         [ 0.,  0.,  0., ..., 16.,  2.,  0.],\n",
              "         [ 0.,  0.,  4., ..., 16.,  2.,  0.],\n",
              "         [ 0.,  0.,  5., ..., 12.,  0.,  0.]],\n",
              " \n",
              "        [[ 0.,  0., 10., ...,  1.,  0.,  0.],\n",
              "         [ 0.,  2., 16., ...,  1.,  0.,  0.],\n",
              "         [ 0.,  0., 15., ..., 15.,  0.,  0.],\n",
              "         ...,\n",
              "         [ 0.,  4., 16., ..., 16.,  6.,  0.],\n",
              "         [ 0.,  8., 16., ..., 16.,  8.,  0.],\n",
              "         [ 0.,  1.,  8., ..., 12.,  1.,  0.]]]),\n",
              " 'target': array([0, 1, 2, ..., 8, 9, 8]),\n",
              " 'target_names': array([0, 1, 2, 3, 4, 5, 6, 7, 8, 9])}"
            ]
          },
          "metadata": {
            "tags": []
          },
          "execution_count": 62
        }
      ]
    },
    {
      "cell_type": "markdown",
      "metadata": {
        "collapsed": true,
        "id": "_C5Hh4r9bV82"
      },
      "source": [
        "#### Data structure\n",
        "The first column is the digit, the remaining 256 are pixels of a 16X16 grayscale image. Let's visualize the first row."
      ]
    },
    {
      "cell_type": "code",
      "metadata": {
        "id": "9gnBPpSwOlmx",
        "colab": {
          "base_uri": "https://localhost:8080/",
          "height": 282
        },
        "outputId": "34e22ee3-12e5-49dc-d7e6-95ebb479a27b"
      },
      "source": [
        "plt.imshow(digits.images[0].reshape(8,8), cmap = \"gray\")"
      ],
      "execution_count": null,
      "outputs": [
        {
          "output_type": "execute_result",
          "data": {
            "text/plain": [
              "<matplotlib.image.AxesImage at 0x7efbb949e110>"
            ]
          },
          "metadata": {
            "tags": []
          },
          "execution_count": 63
        },
        {
          "output_type": "display_data",
          "data": {
            "image/png": "[encoded data removed]",
            "text/plain": [
              "<Figure size 432x288 with 1 Axes>"
            ]
          },
          "metadata": {
            "tags": [],
            "needs_background": "light"
          }
        }
      ]
    },
    {
      "cell_type": "code",
      "metadata": {
        "id": "zI89vmVUFhvv",
        "colab": {
          "base_uri": "https://localhost:8080/",
          "height": 120
        },
        "outputId": "09c64123-6dfe-43c5-c851-1c461b384d78"
      },
      "source": [
        "images_and_labels = list(zip(digits.images, digits.target))\n",
        "# images_and_labels = np.array(zip(digits.images, digits.target))\n",
        "for index, (image, label) in enumerate(images_and_labels[:4]):\n",
        "    plt.subplot(2, 4, index + 1)\n",
        "    plt.axis('off')\n",
        "    plt.imshow(image, cmap=plt.cm.gray_r, interpolation='nearest')\n",
        "    plt.title('Training: %i' % label)"
      ],
      "execution_count": null,
      "outputs": [
        {
          "output_type": "display_data",
          "data": {
            "image/png": "[encoded data removed]",
            "text/plain": [
              "<Figure size 432x288 with 4 Axes>"
            ]
          },
          "metadata": {
            "tags": [],
            "needs_background": "light"
          }
        }
      ]
    },
    {
      "cell_type": "code",
      "metadata": {
        "id": "TQXU9tAXbV87",
        "colab": {
          "base_uri": "https://localhost:8080/"
        },
        "outputId": "9709486c-9af7-45e2-f217-bc415d003961"
      },
      "source": [
        "# Check the first observation\n",
        "len(images_and_labels)"
      ],
      "execution_count": null,
      "outputs": [
        {
          "output_type": "execute_result",
          "data": {
            "text/plain": [
              "1797"
            ]
          },
          "metadata": {
            "tags": []
          },
          "execution_count": 65
        }
      ]
    },
    {
      "cell_type": "code",
      "metadata": {
        "id": "o09YDpvFbV89"
      },
      "source": [
        "# List the images\n",
        "images_ = [image_label[0].flatten() for image_label in images_and_labels]"
      ],
      "execution_count": null,
      "outputs": []
    },
    {
      "cell_type": "code",
      "metadata": {
        "id": "wlSFJekKTSdi"
      },
      "source": [
        "# Stack images in a numpy array\n",
        "zipdata = np.stack(images_, axis=0 )"
      ],
      "execution_count": null,
      "outputs": []
    },
    {
      "cell_type": "code",
      "metadata": {
        "id": "CsngUm7ASa3U",
        "colab": {
          "base_uri": "https://localhost:8080/"
        },
        "outputId": "d2067db4-fca9-4393-85f8-21f2c3c3d747"
      },
      "source": [
        "zipdata.shape"
      ],
      "execution_count": null,
      "outputs": [
        {
          "output_type": "execute_result",
          "data": {
            "text/plain": [
              "(1797, 64)"
            ]
          },
          "metadata": {
            "tags": []
          },
          "execution_count": 68
        }
      ]
    },
    {
      "cell_type": "code",
      "metadata": {
        "id": "L7yLKF-hQlVP"
      },
      "source": [
        "# Add labels at beginning\n",
        "zipdata = np.c_[digits.target, zipdata]"
      ],
      "execution_count": null,
      "outputs": []
    },
    {
      "cell_type": "markdown",
      "metadata": {
        "id": "sbuS9nq0bV8-"
      },
      "source": [
        "## Numpy\n",
        "It is important that you feel comfortable with numpy arrays and can perform the following :\n",
        "\n",
        "+ concatenating, \n",
        "+ deleting, \n",
        "+ reshaping, and \n",
        "+ etc. \n",
        "\n",
        "Here I provide you some examples."
      ]
    },
    {
      "cell_type": "markdown",
      "metadata": {
        "id": "CoFq7BDTbV8_"
      },
      "source": [
        "#### Select a Sub-Array\n",
        "Here, we select images related to digit 3, and then visualize a random sample of such images:"
      ]
    },
    {
      "cell_type": "code",
      "metadata": {
        "id": "SJbv4JFDbV8_",
        "colab": {
          "base_uri": "https://localhost:8080/"
        },
        "outputId": "3c736fc5-d27a-45b2-e76d-b836ef653936"
      },
      "source": [
        "zipdata3=zipdata[zipdata[:, 0] == 3]\n",
        "zipdata3.shape\n",
        "# only 183 samples are 3"
      ],
      "execution_count": null,
      "outputs": [
        {
          "output_type": "execute_result",
          "data": {
            "text/plain": [
              "(183, 65)"
            ]
          },
          "metadata": {
            "tags": []
          },
          "execution_count": 70
        }
      ]
    },
    {
      "cell_type": "code",
      "metadata": {
        "id": "nCn_FK2TLPAY"
      },
      "source": [
        "import numpy as np\n",
        "np.random.seed(1)\n",
        "random3=np.random.choice(range(zipdata3.shape[0]), size=20, replace = False)  "
      ],
      "execution_count": null,
      "outputs": []
    },
    {
      "cell_type": "code",
      "metadata": {
        "id": "34J1B1RLbV9D",
        "colab": {
          "base_uri": "https://localhost:8080/"
        },
        "outputId": "8055bad5-4c4d-4b2f-9004-8927d4121c9d"
      },
      "source": [
        "random3"
      ],
      "execution_count": null,
      "outputs": [
        {
          "output_type": "execute_result",
          "data": {
            "text/plain": [
              "array([ 53,  91, 118, 178,  47, 166,  31, 177, 152, 120,  16, 110, 127,\n",
              "        11,  78,   4,  94,  14,  29,  19])"
            ]
          },
          "metadata": {
            "tags": []
          },
          "execution_count": 72
        }
      ]
    },
    {
      "cell_type": "code",
      "metadata": {
        "id": "wwcVMEM1bV9E",
        "colab": {
          "base_uri": "https://localhost:8080/",
          "height": 101
        },
        "outputId": "33d4328c-518f-4479-9e5c-e9092bb6912d"
      },
      "source": [
        "zipdata3stack = zipdata3[random3[0], 1:].reshape(8, 8)\n",
        "\n",
        "for i in range(1,len(random3)):\n",
        "    zipdata3stack = np.hstack((zipdata3stack, zipdata3[random3[i],1:].reshape(8, 8)))\n",
        "\n",
        "fig, ax = plt.subplots(figsize=(25, 3))\n",
        "ax.imshow(-zipdata3stack,\"gray\");\n",
        "ax.axis(\"off\");"
      ],
      "execution_count": null,
      "outputs": [
        {
          "output_type": "display_data",
          "data": {
            "image/png": "[encoded data removed]",
            "text/plain": [
              "<Figure size 1800x216 with 1 Axes>"
            ]
          },
          "metadata": {
            "tags": [],
            "needs_background": "light"
          }
        }
      ]
    },
    {
      "cell_type": "code",
      "metadata": {
        "id": "MpscTMZUbV9G",
        "colab": {
          "base_uri": "https://localhost:8080/",
          "height": 1000
        },
        "outputId": "0f61266d-5722-425b-d66c-d7fdae839e00"
      },
      "source": [
        "# You may want to plot vertically\n",
        "# This is a more clever coding, we do not need  \"for\" loop\n",
        "magic_number = 1280//8 # Exercice: Think about how this number has been chose.\n",
        "fig, ax = plt.subplots(figsize=(3, 25))\n",
        "ax.imshow(-zipdata3[random3,1:].reshape(magic_number,8),\"gray\");\n",
        "ax.axis(\"off\");\n",
        "\n",
        "# Exercice: Try to put spaces between the numbers displayed vertically."
      ],
      "execution_count": null,
      "outputs": [
        {
          "output_type": "display_data",
          "data": {
            "image/png": "[encoded data removed]",
            "text/plain": [
              "<Figure size 216x1800 with 1 Axes>"
            ]
          },
          "metadata": {
            "tags": [],
            "needs_background": "light"
          }
        }
      ]
    },
    {
      "cell_type": "code",
      "metadata": {
        "id": "1-cWDdLCbV9H",
        "colab": {
          "base_uri": "https://localhost:8080/"
        },
        "outputId": "7adff499-4b8c-45b5-f0cd-c99eebc2ece3"
      },
      "source": [
        "# Only 658 samples are 3\n",
        "zipdata8=zipdata[zipdata[:, 0] == 8]\n",
        "zipdata8.shape"
      ],
      "execution_count": null,
      "outputs": [
        {
          "output_type": "execute_result",
          "data": {
            "text/plain": [
              "(174, 65)"
            ]
          },
          "metadata": {
            "tags": []
          },
          "execution_count": 75
        }
      ]
    },
    {
      "cell_type": "code",
      "metadata": {
        "id": "Uw26h8yUYrn-",
        "colab": {
          "base_uri": "https://localhost:8080/"
        },
        "outputId": "e8ac73c6-b0de-46bf-8ca8-17756c140a97"
      },
      "source": [
        "zipdata8.shape"
      ],
      "execution_count": null,
      "outputs": [
        {
          "output_type": "execute_result",
          "data": {
            "text/plain": [
              "(174, 65)"
            ]
          },
          "metadata": {
            "tags": []
          },
          "execution_count": 76
        }
      ]
    },
    {
      "cell_type": "code",
      "metadata": {
        "id": "dJ0vqpc3bV9I",
        "colab": {
          "base_uri": "https://localhost:8080/"
        },
        "outputId": "f65e15e3-98ce-4656-9dfb-59bf85b9df2a"
      },
      "source": [
        "zipdata38 = np.vstack([zipdata3, zipdata8])\n",
        "zipdata38.shape"
      ],
      "execution_count": null,
      "outputs": [
        {
          "output_type": "execute_result",
          "data": {
            "text/plain": [
              "(357, 65)"
            ]
          },
          "metadata": {
            "tags": []
          },
          "execution_count": 77
        }
      ]
    },
    {
      "cell_type": "code",
      "metadata": {
        "id": "NnmVqGgvbV9K",
        "colab": {
          "base_uri": "https://localhost:8080/"
        },
        "outputId": "98bf5c12-6ddf-429c-86f1-7b0410fdc601"
      },
      "source": [
        "pca = PCA(n_components=2)\n",
        "\n",
        "# remove the first column (image label)\n",
        "pca.fit(zipdata38[:, 1:])"
      ],
      "execution_count": null,
      "outputs": [
        {
          "output_type": "execute_result",
          "data": {
            "text/plain": [
              "PCA(copy=True, iterated_power='auto', n_components=2, random_state=None,\n",
              "    svd_solver='auto', tol=0.0, whiten=False)"
            ]
          },
          "metadata": {
            "tags": []
          },
          "execution_count": 78
        }
      ]
    },
    {
      "cell_type": "code",
      "metadata": {
        "id": "G7aTMk5HbV9L"
      },
      "source": [
        "Z = pca.transform(zipdata38[:,1:])"
      ],
      "execution_count": null,
      "outputs": []
    },
    {
      "cell_type": "code",
      "metadata": {
        "id": "_3jRxLDpbV9O",
        "colab": {
          "base_uri": "https://localhost:8080/",
          "height": 265
        },
        "outputId": "5f2fa9b2-9fb5-4698-d5d4-743a8198fa71"
      },
      "source": [
        "\n",
        "plt.scatter(Z[:,0], Z[:,1], c= zipdata38[:,0], alpha=0.9);\n"
      ],
      "execution_count": null,
      "outputs": [
        {
          "output_type": "display_data",
          "data": {
            "image/png": "[encoded data removed]",
            "text/plain": [
              "<Figure size 432x288 with 1 Axes>"
            ]
          },
          "metadata": {
            "tags": [],
            "needs_background": "light"
          }
        }
      ]
    },
    {
      "cell_type": "code",
      "metadata": {
        "id": "076jNxYgbV9Q"
      },
      "source": [
        ""
      ],
      "execution_count": null,
      "outputs": []
    },
    {
      "cell_type": "code",
      "metadata": {
        "id": "e1UIyKk1bV9W",
        "scrolled": true,
        "colab": {
          "base_uri": "https://localhost:8080/",
          "height": 286
        },
        "outputId": "52de421b-6e6b-42da-f9f1-42e07c86b39c"
      },
      "source": [
        "# Let's make it more visual\n",
        "plt.scatter(Z[zipdata38[:,0]==3,0], Z[zipdata38[:,0]==3,1], marker='$3$', \n",
        "            color='violet', alpha = 0.9);\n",
        "\n",
        "plt.scatter(Z[zipdata38[:,0]==8,0], Z[zipdata38[:,0]==8,1], marker='$8$', \n",
        "            color='orange', alpha = 0.9);\n",
        "\n",
        "plt.xlim([-25,30])\n",
        "plt.ylim([-20,20])"
      ],
      "execution_count": null,
      "outputs": [
        {
          "output_type": "execute_result",
          "data": {
            "text/plain": [
              "(-20.0, 20.0)"
            ]
          },
          "metadata": {
            "tags": []
          },
          "execution_count": 81
        },
        {
          "output_type": "display_data",
          "data": {
            "image/png": "[encoded data removed]",
            "text/plain": [
              "<Figure size 432x288 with 1 Axes>"
            ]
          },
          "metadata": {
            "tags": [],
            "needs_background": "light"
          }
        }
      ]
    },
    {
      "cell_type": "markdown",
      "metadata": {
        "id": "mCUf4dM9pHgz"
      },
      "source": [
        "# Breakout room exercise\n",
        "\n",
        "1. Load iris dataset from pandas. [Already performed]\n",
        "2. print first 5 rows and check for data consistency. *Hint: describe, dtypes, info*\n",
        "3. Identify the number of classes.\n",
        "4. Check if data is balanced or not. *Hint: value_counts()*\n",
        "5. Check for correlated features. *Hint sns.pairplot(), df.corr()*\n",
        "    * You can standardize your data. Use [sklearn-StandardScaler](https://scikit-learn.org/stable/modules/generated/sklearn.preprocessing.StandardScaler.html)\n",
        "6. Dimensionality reduction: Choose the number of *Principal Components* to retain. *Can use: pca.explained_variance_ratio_*\n",
        "7. Train logistic regression and evaluate the performance (CM, Report, Precision, recall)\n",
        "8. Now train a model on the raw dataset and compare the results from Step 7.\n",
        "9. Can you time the runs. \n",
        "  * You can use package: [datetime](https://docs.python.org/3/library/datetime.html) \n",
        "  * Example:     \n",
        "\n",
        "    ```\n",
        "      start_time = datetime.datetime.now()\n",
        "      # Train your model here\n",
        "      end_time = datetime.datetime.now()\n",
        "      time_taken = (end - start)\n",
        "    ```\n",
        "\n",
        "\n",
        "\n"
      ]
    },
    {
      "cell_type": "code",
      "metadata": {
        "id": "HazvcsaQpnSZ"
      },
      "source": [
        "# Q1 load iris data set from pandas\n",
        "import pandas as pd\n",
        "import seaborn as sns\n",
        "\n",
        "df = sns.load_dataset('iris')\n",
        "\n"
      ],
      "execution_count": null,
      "outputs": []
    },
    {
      "cell_type": "code",
      "metadata": {
        "colab": {
          "base_uri": "https://localhost:8080/",
          "height": 195
        },
        "id": "cu3AVXBR_zwO",
        "outputId": "dfb505ef-10fd-4f7d-f816-b5bc95e2b2f9"
      },
      "source": [
        "# Q2 print the first 5 rows\n",
        "df.head(5)"
      ],
      "execution_count": null,
      "outputs": [
        {
          "output_type": "execute_result",
          "data": {
            "text/html": [
              "<div>\n",
              "<style scoped>\n",
              "    .dataframe tbody tr th:only-of-type {\n",
              "        vertical-align: middle;\n",
              "    }\n",
              "\n",
              "    .dataframe tbody tr th {\n",
              "        vertical-align: top;\n",
              "    }\n",
              "\n",
              "    .dataframe thead th {\n",
              "        text-align: right;\n",
              "    }\n",
              "</style>\n",
              "<table border=\"1\" class=\"dataframe\">\n",
              "  <thead>\n",
              "    <tr style=\"text-align: right;\">\n",
              "      <th></th>\n",
              "      <th>sepal_length</th>\n",
              "      <th>sepal_width</th>\n",
              "      <th>petal_length</th>\n",
              "      <th>petal_width</th>\n",
              "      <th>species</th>\n",
              "    </tr>\n",
              "  </thead>\n",
              "  <tbody>\n",
              "    <tr>\n",
              "      <th>0</th>\n",
              "      <td>5.1</td>\n",
              "      <td>3.5</td>\n",
              "      <td>1.4</td>\n",
              "      <td>0.2</td>\n",
              "      <td>setosa</td>\n",
              "    </tr>\n",
              "    <tr>\n",
              "      <th>1</th>\n",
              "      <td>4.9</td>\n",
              "      <td>3.0</td>\n",
              "      <td>1.4</td>\n",
              "      <td>0.2</td>\n",
              "      <td>setosa</td>\n",
              "    </tr>\n",
              "    <tr>\n",
              "      <th>2</th>\n",
              "      <td>4.7</td>\n",
              "      <td>3.2</td>\n",
              "      <td>1.3</td>\n",
              "      <td>0.2</td>\n",
              "      <td>setosa</td>\n",
              "    </tr>\n",
              "    <tr>\n",
              "      <th>3</th>\n",
              "      <td>4.6</td>\n",
              "      <td>3.1</td>\n",
              "      <td>1.5</td>\n",
              "      <td>0.2</td>\n",
              "      <td>setosa</td>\n",
              "    </tr>\n",
              "    <tr>\n",
              "      <th>4</th>\n",
              "      <td>5.0</td>\n",
              "      <td>3.6</td>\n",
              "      <td>1.4</td>\n",
              "      <td>0.2</td>\n",
              "      <td>setosa</td>\n",
              "    </tr>\n",
              "  </tbody>\n",
              "</table>\n",
              "</div>"
            ],
            "text/plain": [
              "   sepal_length  sepal_width  petal_length  petal_width species\n",
              "0           5.1          3.5           1.4          0.2  setosa\n",
              "1           4.9          3.0           1.4          0.2  setosa\n",
              "2           4.7          3.2           1.3          0.2  setosa\n",
              "3           4.6          3.1           1.5          0.2  setosa\n",
              "4           5.0          3.6           1.4          0.2  setosa"
            ]
          },
          "metadata": {
            "tags": []
          },
          "execution_count": 83
        }
      ]
    },
    {
      "cell_type": "code",
      "metadata": {
        "id": "uuk3oyRLquQG",
        "colab": {
          "base_uri": "https://localhost:8080/",
          "height": 373
        },
        "outputId": "02437c64-457b-4132-94bc-7e343fa3eed2"
      },
      "source": [
        "# Q2 check for data consistency\n",
        "df.describe(include='all')"
      ],
      "execution_count": null,
      "outputs": [
        {
          "output_type": "execute_result",
          "data": {
            "text/html": [
              "<div>\n",
              "<style scoped>\n",
              "    .dataframe tbody tr th:only-of-type {\n",
              "        vertical-align: middle;\n",
              "    }\n",
              "\n",
              "    .dataframe tbody tr th {\n",
              "        vertical-align: top;\n",
              "    }\n",
              "\n",
              "    .dataframe thead th {\n",
              "        text-align: right;\n",
              "    }\n",
              "</style>\n",
              "<table border=\"1\" class=\"dataframe\">\n",
              "  <thead>\n",
              "    <tr style=\"text-align: right;\">\n",
              "      <th></th>\n",
              "      <th>sepal_length</th>\n",
              "      <th>sepal_width</th>\n",
              "      <th>petal_length</th>\n",
              "      <th>petal_width</th>\n",
              "      <th>species</th>\n",
              "    </tr>\n",
              "  </thead>\n",
              "  <tbody>\n",
              "    <tr>\n",
              "      <th>count</th>\n",
              "      <td>150.000000</td>\n",
              "      <td>150.000000</td>\n",
              "      <td>150.000000</td>\n",
              "      <td>150.000000</td>\n",
              "      <td>150</td>\n",
              "    </tr>\n",
              "    <tr>\n",
              "      <th>unique</th>\n",
              "      <td>NaN</td>\n",
              "      <td>NaN</td>\n",
              "      <td>NaN</td>\n",
              "      <td>NaN</td>\n",
              "      <td>3</td>\n",
              "    </tr>\n",
              "    <tr>\n",
              "      <th>top</th>\n",
              "      <td>NaN</td>\n",
              "      <td>NaN</td>\n",
              "      <td>NaN</td>\n",
              "      <td>NaN</td>\n",
              "      <td>versicolor</td>\n",
              "    </tr>\n",
              "    <tr>\n",
              "      <th>freq</th>\n",
              "      <td>NaN</td>\n",
              "      <td>NaN</td>\n",
              "      <td>NaN</td>\n",
              "      <td>NaN</td>\n",
              "      <td>50</td>\n",
              "    </tr>\n",
              "    <tr>\n",
              "      <th>mean</th>\n",
              "      <td>5.843333</td>\n",
              "      <td>3.057333</td>\n",
              "      <td>3.758000</td>\n",
              "      <td>1.199333</td>\n",
              "      <td>NaN</td>\n",
              "    </tr>\n",
              "    <tr>\n",
              "      <th>std</th>\n",
              "      <td>0.828066</td>\n",
              "      <td>0.435866</td>\n",
              "      <td>1.765298</td>\n",
              "      <td>0.762238</td>\n",
              "      <td>NaN</td>\n",
              "    </tr>\n",
              "    <tr>\n",
              "      <th>min</th>\n",
              "      <td>4.300000</td>\n",
              "      <td>2.000000</td>\n",
              "      <td>1.000000</td>\n",
              "      <td>0.100000</td>\n",
              "      <td>NaN</td>\n",
              "    </tr>\n",
              "    <tr>\n",
              "      <th>25%</th>\n",
              "      <td>5.100000</td>\n",
              "      <td>2.800000</td>\n",
              "      <td>1.600000</td>\n",
              "      <td>0.300000</td>\n",
              "      <td>NaN</td>\n",
              "    </tr>\n",
              "    <tr>\n",
              "      <th>50%</th>\n",
              "      <td>5.800000</td>\n",
              "      <td>3.000000</td>\n",
              "      <td>4.350000</td>\n",
              "      <td>1.300000</td>\n",
              "      <td>NaN</td>\n",
              "    </tr>\n",
              "    <tr>\n",
              "      <th>75%</th>\n",
              "      <td>6.400000</td>\n",
              "      <td>3.300000</td>\n",
              "      <td>5.100000</td>\n",
              "      <td>1.800000</td>\n",
              "      <td>NaN</td>\n",
              "    </tr>\n",
              "    <tr>\n",
              "      <th>max</th>\n",
              "      <td>7.900000</td>\n",
              "      <td>4.400000</td>\n",
              "      <td>6.900000</td>\n",
              "      <td>2.500000</td>\n",
              "      <td>NaN</td>\n",
              "    </tr>\n",
              "  </tbody>\n",
              "</table>\n",
              "</div>"
            ],
            "text/plain": [
              "        sepal_length  sepal_width  petal_length  petal_width     species\n",
              "count     150.000000   150.000000    150.000000   150.000000         150\n",
              "unique           NaN          NaN           NaN          NaN           3\n",
              "top              NaN          NaN           NaN          NaN  versicolor\n",
              "freq             NaN          NaN           NaN          NaN          50\n",
              "mean        5.843333     3.057333      3.758000     1.199333         NaN\n",
              "std         0.828066     0.435866      1.765298     0.762238         NaN\n",
              "min         4.300000     2.000000      1.000000     0.100000         NaN\n",
              "25%         5.100000     2.800000      1.600000     0.300000         NaN\n",
              "50%         5.800000     3.000000      4.350000     1.300000         NaN\n",
              "75%         6.400000     3.300000      5.100000     1.800000         NaN\n",
              "max         7.900000     4.400000      6.900000     2.500000         NaN"
            ]
          },
          "metadata": {
            "tags": []
          },
          "execution_count": 84
        }
      ]
    },
    {
      "cell_type": "code",
      "metadata": {
        "id": "4vAD1YQNpr9O",
        "colab": {
          "base_uri": "https://localhost:8080/"
        },
        "outputId": "53268ca4-c304-4da1-a2c5-a965ad02d3b2"
      },
      "source": [
        "df.dtypes"
      ],
      "execution_count": null,
      "outputs": [
        {
          "output_type": "execute_result",
          "data": {
            "text/plain": [
              "sepal_length    float64\n",
              "sepal_width     float64\n",
              "petal_length    float64\n",
              "petal_width     float64\n",
              "species          object\n",
              "dtype: object"
            ]
          },
          "metadata": {
            "tags": []
          },
          "execution_count": 85
        }
      ]
    },
    {
      "cell_type": "code",
      "metadata": {
        "colab": {
          "base_uri": "https://localhost:8080/"
        },
        "id": "V93UHjilA-dj",
        "outputId": "8641730c-77c9-49ef-e57e-7dcfbbfe05c2"
      },
      "source": [
        "# Q4 check if the data is balanced or not\n",
        "df['species'].value_counts()"
      ],
      "execution_count": null,
      "outputs": [
        {
          "output_type": "execute_result",
          "data": {
            "text/plain": [
              "versicolor    50\n",
              "setosa        50\n",
              "virginica     50\n",
              "Name: species, dtype: int64"
            ]
          },
          "metadata": {
            "tags": []
          },
          "execution_count": 86
        }
      ]
    },
    {
      "cell_type": "code",
      "metadata": {
        "colab": {
          "base_uri": "https://localhost:8080/",
          "height": 743
        },
        "id": "3f4UxtVIBQoK",
        "outputId": "cae13e87-2dd1-4f3b-8872-ac084ad1f0e6"
      },
      "source": [
        "# Q5\n",
        "sns.pairplot(df)"
      ],
      "execution_count": null,
      "outputs": [
        {
          "output_type": "execute_result",
          "data": {
            "text/plain": [
              "<seaborn.axisgrid.PairGrid at 0x7efbb9115710>"
            ]
          },
          "metadata": {
            "tags": []
          },
          "execution_count": 87
        },
        {
          "output_type": "display_data",
          "data": {
            "image/png": "[encoded data removed]",
            "text/plain": [
              "<Figure size 720x720 with 20 Axes>"
            ]
          },
          "metadata": {
            "tags": [],
            "needs_background": "light"
          }
        }
      ]
    },
    {
      "cell_type": "markdown",
      "metadata": {
        "id": "DoqEoaTwv4Dl"
      },
      "source": [
        "It can be seen that 'petal_width' and 'petal length' co-vary. Same can be said about 'sepal_length' & 'petal_width'. So PCA is justified.\n",
        "\n",
        "The same analysis can be drawn from correlation matrix.\n",
        "\n",
        "\n"
      ]
    },
    {
      "cell_type": "code",
      "metadata": {
        "colab": {
          "base_uri": "https://localhost:8080/",
          "height": 166
        },
        "id": "pEq9pXFbB9ff",
        "outputId": "cf6b7efb-e06f-4544-cead-e1b673502913"
      },
      "source": [
        "df.corr()"
      ],
      "execution_count": null,
      "outputs": [
        {
          "output_type": "execute_result",
          "data": {
            "text/html": [
              "<div>\n",
              "<style scoped>\n",
              "    .dataframe tbody tr th:only-of-type {\n",
              "        vertical-align: middle;\n",
              "    }\n",
              "\n",
              "    .dataframe tbody tr th {\n",
              "        vertical-align: top;\n",
              "    }\n",
              "\n",
              "    .dataframe thead th {\n",
              "        text-align: right;\n",
              "    }\n",
              "</style>\n",
              "<table border=\"1\" class=\"dataframe\">\n",
              "  <thead>\n",
              "    <tr style=\"text-align: right;\">\n",
              "      <th></th>\n",
              "      <th>sepal_length</th>\n",
              "      <th>sepal_width</th>\n",
              "      <th>petal_length</th>\n",
              "      <th>petal_width</th>\n",
              "    </tr>\n",
              "  </thead>\n",
              "  <tbody>\n",
              "    <tr>\n",
              "      <th>sepal_length</th>\n",
              "      <td>1.000000</td>\n",
              "      <td>-0.117570</td>\n",
              "      <td>0.871754</td>\n",
              "      <td>0.817941</td>\n",
              "    </tr>\n",
              "    <tr>\n",
              "      <th>sepal_width</th>\n",
              "      <td>-0.117570</td>\n",
              "      <td>1.000000</td>\n",
              "      <td>-0.428440</td>\n",
              "      <td>-0.366126</td>\n",
              "    </tr>\n",
              "    <tr>\n",
              "      <th>petal_length</th>\n",
              "      <td>0.871754</td>\n",
              "      <td>-0.428440</td>\n",
              "      <td>1.000000</td>\n",
              "      <td>0.962865</td>\n",
              "    </tr>\n",
              "    <tr>\n",
              "      <th>petal_width</th>\n",
              "      <td>0.817941</td>\n",
              "      <td>-0.366126</td>\n",
              "      <td>0.962865</td>\n",
              "      <td>1.000000</td>\n",
              "    </tr>\n",
              "  </tbody>\n",
              "</table>\n",
              "</div>"
            ],
            "text/plain": [
              "              sepal_length  sepal_width  petal_length  petal_width\n",
              "sepal_length      1.000000    -0.117570      0.871754     0.817941\n",
              "sepal_width      -0.117570     1.000000     -0.428440    -0.366126\n",
              "petal_length      0.871754    -0.428440      1.000000     0.962865\n",
              "petal_width       0.817941    -0.366126      0.962865     1.000000"
            ]
          },
          "metadata": {
            "tags": []
          },
          "execution_count": 88
        }
      ]
    },
    {
      "cell_type": "code",
      "metadata": {
        "colab": {
          "base_uri": "https://localhost:8080/",
          "height": 287
        },
        "id": "xIf9CgO-wfgW",
        "outputId": "b278aba5-8e90-4f5b-d9ae-5b0cf63e30e5"
      },
      "source": [
        "sns.heatmap(df.corr(), cmap='viridis')"
      ],
      "execution_count": null,
      "outputs": [
        {
          "output_type": "execute_result",
          "data": {
            "text/plain": [
              "<matplotlib.axes._subplots.AxesSubplot at 0x7efbb950e690>"
            ]
          },
          "metadata": {
            "tags": []
          },
          "execution_count": 89
        },
        {
          "output_type": "display_data",
          "data": {
            "image/png": "[encoded data removed]",
            "text/plain": [
              "<Figure size 432x288 with 2 Axes>"
            ]
          },
          "metadata": {
            "tags": [],
            "needs_background": "light"
          }
        }
      ]
    },
    {
      "cell_type": "code",
      "metadata": {
        "colab": {
          "base_uri": "https://localhost:8080/"
        },
        "id": "ES3eCbCdxi95",
        "outputId": "c5b04658-fab2-4c73-80f1-89ab26c863cf"
      },
      "source": [
        "predictor_columns = df.columns\n",
        "predictor_columns"
      ],
      "execution_count": null,
      "outputs": [
        {
          "output_type": "execute_result",
          "data": {
            "text/plain": [
              "Index(['sepal_length', 'sepal_width', 'petal_length', 'petal_width',\n",
              "       'species'],\n",
              "      dtype='object')"
            ]
          },
          "metadata": {
            "tags": []
          },
          "execution_count": 90
        }
      ]
    },
    {
      "cell_type": "code",
      "metadata": {
        "colab": {
          "base_uri": "https://localhost:8080/"
        },
        "id": "x94xDzI0xtNX",
        "outputId": "5ca1a18e-73fd-4f72-e31c-a6da5e3cd424"
      },
      "source": [
        "columns=df.columns[df.columns != 'species']\n",
        "columns\n",
        "\n",
        "predictors = pd.DataFrame(df, columns=df.columns[df.columns != 'species'])\n",
        "predictors_std = scale(predictors)\n",
        "\n",
        "predictors_std[:5]"
      ],
      "execution_count": null,
      "outputs": [
        {
          "output_type": "execute_result",
          "data": {
            "text/plain": [
              "array([[-0.90068117,  1.01900435, -1.34022653, -1.3154443 ],\n",
              "       [-1.14301691, -0.13197948, -1.34022653, -1.3154443 ],\n",
              "       [-1.38535265,  0.32841405, -1.39706395, -1.3154443 ],\n",
              "       [-1.50652052,  0.09821729, -1.2833891 , -1.3154443 ],\n",
              "       [-1.02184904,  1.24920112, -1.34022653, -1.3154443 ]])"
            ]
          },
          "metadata": {
            "tags": []
          },
          "execution_count": 91
        }
      ]
    },
    {
      "cell_type": "code",
      "metadata": {
        "id": "-7tDFh42Cg06",
        "colab": {
          "base_uri": "https://localhost:8080/"
        },
        "outputId": "d158eab1-4c9b-4a66-85c0-78ee8c31270c"
      },
      "source": [
        "from sklearn.preprocessing import StandardScaler, scale\n",
        "from sklearn.decomposition import PCA\n",
        "from sklearn.linear_model import LogisticRegression\n",
        "from sklearn.model_selection import train_test_split\n",
        "import datetime\n",
        "\n",
        "predictor_columns = df.columns\n",
        "predictors = pd.DataFrame(df, columns=df.columns[df.columns != 'species'])\n",
        "predictors_std = scale(predictors)\n",
        "\n",
        "for n in range(1, 5):\n",
        "   pca = PCA(n_components=n)\n",
        "   pca.fit(predictors_std)\n",
        "\n",
        "   explained_variance = pd.DataFrame(pca.explained_variance_ratio_)\n",
        "\n",
        "   print(\"n=\", n)\n",
        "   print(explained_variance.sum())\n",
        "\n",
        "\n"
      ],
      "execution_count": null,
      "outputs": [
        {
          "output_type": "stream",
          "text": [
            "n= 1\n",
            "0    0.729624\n",
            "dtype: float64\n",
            "n= 2\n",
            "0    0.958132\n",
            "dtype: float64\n",
            "n= 3\n",
            "0    0.994821\n",
            "dtype: float64\n",
            "n= 4\n",
            "0    1.0\n",
            "dtype: float64\n"
          ],
          "name": "stdout"
        }
      ]
    },
    {
      "cell_type": "markdown",
      "metadata": {
        "id": "4wKYZTYZyDUt"
      },
      "source": [
        "Choosing principal components = 2"
      ]
    },
    {
      "cell_type": "markdown",
      "metadata": {
        "id": "8H4FyJIWxEwi"
      },
      "source": [
        "Stratify for maintaining class balance for 'test' & 'train'"
      ]
    },
    {
      "cell_type": "code",
      "metadata": {
        "id": "PptUe6zTxDND"
      },
      "source": [
        "X_train, X_test, y_train, y_test = train_test_split(\n",
        "    predictors, df['species'], test_size=0.15, random_state=0, stratify=df['species'].values.reshape(-1,1)\n",
        ")\n"
      ],
      "execution_count": null,
      "outputs": []
    },
    {
      "cell_type": "markdown",
      "metadata": {
        "id": "iUoR9QjOyI1t"
      },
      "source": [
        "Using `StandardScaler` since we will transform X_test based on the instance learnt from X_train"
      ]
    },
    {
      "cell_type": "code",
      "metadata": {
        "id": "2ZqC4nxDxBM1"
      },
      "source": [
        "scaler = StandardScaler().fit(X_train)\n",
        "\n",
        "X_train_std = scaler.transform(X_train)\n",
        "pca = PCA(n_components=2)\n",
        "Z_train_std_pca = pca.fit_transform(X_train_std)\n",
        "\n",
        "explained_variance = pd.DataFrame(pca.explained_variance_ratio_)\n"
      ],
      "execution_count": null,
      "outputs": []
    },
    {
      "cell_type": "code",
      "metadata": {
        "colab": {
          "base_uri": "https://localhost:8080/"
        },
        "id": "Y6j2deR-MUPz",
        "outputId": "c61b5bf8-7917-4469-8128-4ceddd952666"
      },
      "source": [
        "start_time = datetime.datetime.now()\n",
        "\n",
        "logreg = LogisticRegression(multi_class = 'auto', max_iter=1000)\n",
        "logreg.fit(Z_train_std_pca, y_train)\n",
        "\n",
        "from sklearn.metrics import confusion_matrix, accuracy_score, classification_report\n",
        "\n",
        "X_test_std = scaler.transform(X_test)\n",
        "\n",
        "y_predict = logreg.predict(pca.transform(X_test_std))\n",
        "\n",
        "print(confusion_matrix(y_test, y_predict))\n",
        "print('\\n Accuracy: ', accuracy_score(y_test, y_predict))\n",
        "print('\\n Classification Report: \\n ', classification_report(y_test, y_predict)) \n",
        "\n",
        "end_time = datetime.datetime.now()\n",
        "time_taken = (end_time - start_time)\n",
        "\n",
        "print(\"Time taken:\", time_taken.microseconds)"
      ],
      "execution_count": null,
      "outputs": [
        {
          "output_type": "stream",
          "text": [
            "[[8 0 0]\n",
            " [0 8 0]\n",
            " [0 1 6]]\n",
            "\n",
            " Accuracy:  0.9565217391304348\n",
            "\n",
            " Classification Report: \n",
            "                precision    recall  f1-score   support\n",
            "\n",
            "      setosa       1.00      1.00      1.00         8\n",
            "  versicolor       0.89      1.00      0.94         8\n",
            "   virginica       1.00      0.86      0.92         7\n",
            "\n",
            "    accuracy                           0.96        23\n",
            "   macro avg       0.96      0.95      0.95        23\n",
            "weighted avg       0.96      0.96      0.96        23\n",
            "\n",
            "Time taken: 31018\n"
          ],
          "name": "stdout"
        }
      ]
    },
    {
      "cell_type": "code",
      "metadata": {
        "colab": {
          "base_uri": "https://localhost:8080/"
        },
        "id": "bPcVE1kOI5Xp",
        "outputId": "29f56a63-4bc0-48f9-a221-e6a0b9a21974"
      },
      "source": [
        "\n",
        "start_time = datetime.datetime.now()\n",
        "\n",
        "logregraw = LogisticRegression( multi_class = 'auto', max_iter=1000)\n",
        "logregraw.fit(X_train, y_train)\n",
        "\n",
        "y_predict_raw = logregraw.predict(X_test)\n",
        "\n",
        "print(confusion_matrix(y_test, y_predict_raw))\n",
        "print('\\n Accuracy: ', accuracy_score(y_test, y_predict_raw))\n",
        "print('\\n Classification Report: \\n ', classification_report(y_test, y_predict_raw)) \n",
        "\n",
        "end_time = datetime.datetime.now()\n",
        "time_taken = (end_time - start_time)\n",
        "\n",
        "print(\"Time taken:\", time_taken.microseconds)"
      ],
      "execution_count": null,
      "outputs": [
        {
          "output_type": "stream",
          "text": [
            "[[8 0 0]\n",
            " [0 8 0]\n",
            " [0 0 7]]\n",
            "\n",
            " Accuracy:  1.0\n",
            "\n",
            " Classification Report: \n",
            "                precision    recall  f1-score   support\n",
            "\n",
            "      setosa       1.00      1.00      1.00         8\n",
            "  versicolor       1.00      1.00      1.00         8\n",
            "   virginica       1.00      1.00      1.00         7\n",
            "\n",
            "    accuracy                           1.00        23\n",
            "   macro avg       1.00      1.00      1.00        23\n",
            "weighted avg       1.00      1.00      1.00        23\n",
            "\n",
            "Time taken: 57979\n"
          ],
          "name": "stdout"
        }
      ]
    },
    {
      "cell_type": "code",
      "metadata": {
        "id": "8NDYzSffMNKZ"
      },
      "source": [
        ""
      ],
      "execution_count": null,
      "outputs": []
    }
  ]
}