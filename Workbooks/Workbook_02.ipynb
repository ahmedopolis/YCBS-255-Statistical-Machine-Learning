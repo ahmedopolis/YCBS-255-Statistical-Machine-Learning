{
  "nbformat": 4,
  "nbformat_minor": 0,
  "metadata": {
    "colab": {
      "name": "workbook02.ipynb",
      "provenance": [],
      "collapsed_sections": []
    },
    "kernelspec": {
      "display_name": "Python 3",
      "language": "python",
      "name": "python3"
    },
    "language_info": {
      "codemirror_mode": {
        "name": "ipython",
        "version": 3
      },
      "file_extension": ".py",
      "mimetype": "text/x-python",
      "name": "python",
      "nbconvert_exporter": "python",
      "pygments_lexer": "ipython3",
      "version": "3.6.4"
    },
    "toc": {
      "base_numbering": 1,
      "nav_menu": {},
      "number_sections": true,
      "sideBar": true,
      "skip_h1_title": false,
      "title_cell": "Table of Contents",
      "title_sidebar": "Contents",
      "toc_cell": false,
      "toc_position": {},
      "toc_section_display": true,
      "toc_window_display": false
    }
  },
  "cells": [
    {
      "cell_type": "markdown",
      "metadata": {
        "colab_type": "text",
        "id": "cdGzCVLVQUfC"
      },
      "source": [
        "# Session 2: An Introduction to Statistical Learning and Linear Regression \n",
        "## Objectives \n",
        "By finishing this notebook you must be able to\n",
        "  + write the likelihood function for any distribution knowing its mass or density function,  \n",
        "  + maximize the likelihood function by grid search vs using built-in optimization functions, \n",
        "  + implement a simple and linear regression problem in Python using both Ordinary Least Scores (OLS) and Maximum Likelihood Estimator (MLE), and  \n",
        "  + assess the goodness of fit of your regression model; and do predictions using your model.  \n",
        "\n",
        " "
      ]
    },
    {
      "cell_type": "markdown",
      "metadata": {
        "colab_type": "text",
        "id": "PXTy_UUnQUfF"
      },
      "source": [
        "## Point Estimation\n"
      ]
    },
    {
      "cell_type": "code",
      "metadata": {
        "colab_type": "code",
        "id": "y8_w_WpnQUfG",
        "colab": {}
      },
      "source": [
        "import numpy as np\n",
        "import matplotlib.pyplot as plt\n",
        "from random import sample\n",
        "import seaborn as sns\n",
        "import scipy.stats as st\n",
        "import pandas as pd\n",
        "\n",
        "# The following two lines allow printing multiple outcomes in one cell\n",
        "from IPython.core.interactiveshell import InteractiveShell\n",
        "InteractiveShell.ast_node_interactivity = \"all\""
      ],
      "execution_count": 0,
      "outputs": []
    },
    {
      "cell_type": "markdown",
      "metadata": {
        "colab_type": "text",
        "id": "JCNEyM_xQUfK"
      },
      "source": [
        "### Law of large numbers"
      ]
    },
    {
      "cell_type": "code",
      "metadata": {
        "colab_type": "code",
        "id": "XLPE3s8RQUfM",
        "colab": {}
      },
      "source": [
        "mu, sigma = 0, 2\n",
        "n = 10000\n",
        "s = np.random.normal(mu, sigma, n)\n",
        "s_partial_mean = [sum(s[:i])/i for i in range(1,len(s)+1)]\n",
        "s_pos = [i for i in range(1,len(s_partial_mean)+1)]\n"
      ],
      "execution_count": 0,
      "outputs": []
    },
    {
      "cell_type": "markdown",
      "metadata": {
        "id": "8XkbbOeDWCy5",
        "colab_type": "text"
      },
      "source": [
        "<font color=\"red\">Exercise </font> <br>\n",
        "How is the above piece of code related to the *law of large numbers*?\n"
      ]
    },
    {
      "cell_type": "code",
      "metadata": {
        "colab_type": "code",
        "id": "7zVgrmHMQUfP",
        "outputId": "6010557c-9dc4-485f-a159-519060a5240e",
        "colab": {
          "base_uri": "https://localhost:8080/",
          "height": 282
        }
      },
      "source": [
        "horizon = 100\n",
        "plt.hlines(y=0,xmin=0,xmax=horizon)\n",
        "plt.plot(s_pos[0:horizon],s_partial_mean[0:horizon])"
      ],
      "execution_count": 0,
      "outputs": [
        {
          "output_type": "execute_result",
          "data": {
            "text/plain": [
              "<matplotlib.collections.LineCollection at 0x7fef4206bcc0>"
            ]
          },
          "metadata": {
            "tags": []
          },
          "execution_count": 23
        },
        {
          "output_type": "execute_result",
          "data": {
            "text/plain": [
              "[<matplotlib.lines.Line2D at 0x7fef420f4c88>]"
            ]
          },
          "metadata": {
            "tags": []
          },
          "execution_count": 23
        },
        {
          "output_type": "display_data",
          "data": {
            "image/png": "[encoded data removed]",
            "text/plain": [
              "<Figure size 432x288 with 1 Axes>"
            ]
          },
          "metadata": {
            "tags": []
          }
        }
      ]
    },
    {
      "cell_type": "markdown",
      "metadata": {
        "colab_type": "text",
        "id": "LLM4I3-ZQUfT"
      },
      "source": [
        "### Central Limit Theorem"
      ]
    },
    {
      "cell_type": "code",
      "metadata": {
        "colab_type": "code",
        "id": "GA5XXeBYQUfU",
        "colab": {}
      },
      "source": [
        "def simulate_dice_roll(number_of_rolls):\n",
        "    dice_values = [1, 2, 3, 4, 5, 6]\n",
        "    return [sample(dice_values,1) for _ in range(number_of_rolls)]"
      ],
      "execution_count": 0,
      "outputs": []
    },
    {
      "cell_type": "code",
      "metadata": {
        "id": "XkzU0d-lqZu1",
        "colab_type": "code",
        "outputId": "9fd38ad3-3d38-4152-8738-23c910f79c25",
        "colab": {
          "base_uri": "https://localhost:8080/",
          "height": 34
        }
      },
      "source": [
        "sample([1,2,3,3], 1)"
      ],
      "execution_count": 0,
      "outputs": [
        {
          "output_type": "execute_result",
          "data": {
            "text/plain": [
              "[3]"
            ]
          },
          "metadata": {
            "tags": []
          },
          "execution_count": 174
        }
      ]
    },
    {
      "cell_type": "markdown",
      "metadata": {
        "id": "HLbfxxqOd2Xa",
        "colab_type": "text"
      },
      "source": [
        "<font color=\"red\">Exercise </font> <br>\n",
        "What if one replaces the last line with `return [sample(dice_values,number_of_rolls)]` ?"
      ]
    },
    {
      "cell_type": "code",
      "metadata": {
        "colab_type": "code",
        "id": "uO7j3OhqQUfX",
        "colab": {}
      },
      "source": [
        "def multiple_experiments(number_of_roll, number_experiment):\n",
        "    return [simulate_dice_roll(number_of_roll) for _ in range(number_experiment)]"
      ],
      "execution_count": 0,
      "outputs": []
    },
    {
      "cell_type": "markdown",
      "metadata": {
        "id": "pYrRhjiHekAe",
        "colab_type": "text"
      },
      "source": [
        "<font color=\"red\">Exercise </font> <br>\n",
        "Use `numpy.random.choice` and rewrite the above function."
      ]
    },
    {
      "cell_type": "code",
      "metadata": {
        "colab_type": "code",
        "id": "UbFeFqNUQUfa",
        "colab": {}
      },
      "source": [
        "def calculate_mean_dice_value(multiple_experiments_list):\n",
        "    return [sum(experiments)/len(experiments) for experiments in multiple_experiments_list]"
      ],
      "execution_count": 0,
      "outputs": []
    },
    {
      "cell_type": "code",
      "metadata": {
        "colab_type": "code",
        "id": "ND61_9WeQUfc",
        "outputId": "165447ac-af3b-4220-b263-9b3ce7ad547f",
        "colab": {
          "base_uri": "https://localhost:8080/",
          "height": 54
        }
      },
      "source": [
        "experiments = multiple_experiments(10,5)\n",
        "print(experiments)"
      ],
      "execution_count": 0,
      "outputs": [
        {
          "output_type": "stream",
          "text": [
            "[[5, 2, 6, 4, 1, 6, 5, 3, 4, 6], [4, 3, 4, 4, 6, 5, 1, 6, 5, 5], [1, 6, 5, 2, 1, 3, 4, 3, 6, 4], [4, 2, 2, 2, 5, 4, 6, 5, 6, 6], [1, 5, 1, 6, 6, 3, 1, 1, 2, 6]]\n"
          ],
          "name": "stdout"
        }
      ]
    },
    {
      "cell_type": "code",
      "metadata": {
        "colab_type": "code",
        "id": "AA-S-cdtQUff",
        "outputId": "af4f83df-8cad-413e-99c7-1f3157555a5c",
        "colab": {
          "base_uri": "https://localhost:8080/",
          "height": 34
        }
      },
      "source": [
        "mean_dice_value = calculate_mean_dice_value(experiments)\n",
        "mean_dice_value"
      ],
      "execution_count": 0,
      "outputs": [
        {
          "output_type": "execute_result",
          "data": {
            "text/plain": [
              "[4.2, 4.3, 3.5, 4.2, 3.2]"
            ]
          },
          "metadata": {
            "tags": []
          },
          "execution_count": 169
        }
      ]
    },
    {
      "cell_type": "code",
      "metadata": {
        "colab_type": "code",
        "id": "gwqexK8JQUfl",
        "outputId": "b401b999-346f-4ecd-95e1-0e3e6ce7533a",
        "colab": {
          "base_uri": "https://localhost:8080/",
          "height": 554
        }
      },
      "source": [
        "number_throw = 10       # number of rolls\n",
        "number_experiments = 10000\n",
        "mean_dice_value = np.array(calculate_mean_dice_value(multiple_experiments(number_throw,number_experiments)))\n",
        "plt.subplots(figsize=(7,6), dpi=100)\n",
        "sns.distplot(mean_dice_value, color=\"dodgerblue\")\n",
        "plt.title('Multiple Dice Rolls')\n",
        "plt.legend();"
      ],
      "execution_count": 0,
      "outputs": [
        {
          "output_type": "stream",
          "text": [
            "No handles with labels found to put in legend.\n"
          ],
          "name": "stderr"
        },
        {
          "output_type": "display_data",
          "data": {
            "image/png": "[encoded data removed]",
            "text/plain": [
              "<Figure size 700x600 with 1 Axes>"
            ]
          },
          "metadata": {
            "tags": []
          }
        }
      ]
    },
    {
      "cell_type": "markdown",
      "metadata": {
        "colab_type": "text",
        "id": "8b-9M60OQUfo"
      },
      "source": [
        "## Confidence Intervals"
      ]
    },
    {
      "cell_type": "code",
      "metadata": {
        "colab_type": "code",
        "id": "wSxPbIsQQUfo",
        "colab": {}
      },
      "source": [
        "mu, sigma = 1000, 25\n",
        "n = 100\n",
        "weekly_incomes = np.random.normal(mu, sigma, n)"
      ],
      "execution_count": 0,
      "outputs": []
    },
    {
      "cell_type": "code",
      "metadata": {
        "colab_type": "code",
        "id": "GO8p_Wn7QUfr",
        "colab": {}
      },
      "source": [
        "# Estimate the mean μ of this population and the standard deviation.\n",
        "estimated_mean, standard_dev = np.mean(weekly_incomes), np.std(weekly_incomes)"
      ],
      "execution_count": 0,
      "outputs": []
    },
    {
      "cell_type": "code",
      "metadata": {
        "colab_type": "code",
        "id": "OOLzVXQbQUfu",
        "colab": {}
      },
      "source": [
        "# Find a 95% confidence interval for the mean u.\n",
        "quantile_95 = st.norm.ppf(.95)            # reverse of CDF\n",
        "radius = quantile_95 * standard_dev/np.sqrt(n)\n",
        "lower_bound = estimated_mean - radius\n",
        "upper_bound = estimated_mean + radius"
      ],
      "execution_count": 0,
      "outputs": []
    },
    {
      "cell_type": "code",
      "metadata": {
        "id": "g8UqGxiohjN4",
        "colab_type": "code",
        "colab": {}
      },
      "source": [
        ""
      ],
      "execution_count": 0,
      "outputs": []
    },
    {
      "cell_type": "code",
      "metadata": {
        "colab_type": "code",
        "id": "5wU_2KE-QUfw",
        "colab": {}
      },
      "source": [
        "def confidence_intervals(num_intervals, mean, standard_dev, num_obs):\n",
        "    estimated_means = []\n",
        "    marges = []\n",
        "    quantile_95 = st.norm.ppf(.975)\n",
        "    for interval in range(num_intervals):\n",
        "        np.random.seed(interval)\n",
        "        weekly_incomes = np.random.normal(mean, standard_dev, num_obs)\n",
        "        estimated_mean, estimated_std = np.mean(weekly_incomes), np.std(weekly_incomes)\n",
        "        marge = quantile_95 * estimated_std/np.sqrt(num_obs)\n",
        "        estimated_means.append(estimated_mean)\n",
        "        marges.append(marge)\n",
        "    return estimated_means, marges"
      ],
      "execution_count": 0,
      "outputs": []
    },
    {
      "cell_type": "code",
      "metadata": {
        "colab_type": "code",
        "id": "e0j96KkwQUfz",
        "outputId": "1a9e865b-7429-4a54-c0d6-c913ccf0117f",
        "colab": {
          "base_uri": "https://localhost:8080/",
          "height": 408
        }
      },
      "source": [
        "# Draw a plot to visualize the confidence intervals.\n",
        "estimated_means,marges = confidence_intervals(100, mu, sigma, 1000)\n",
        "x_pos = [i for i in range(1,len(estimated_means)+1)]\n",
        "\n",
        "fig, ax = plt.subplots(figsize=(10, 6))\n",
        "_ = ax.errorbar(x_pos, estimated_means, yerr=marges, fmt='o', color='black',\n",
        "             ecolor='lightgray', elinewidth=3, capsize=0);\n",
        "_ = ax.hlines(y=mu,xmin=0,xmax=len(estimated_means)-1)\n",
        "_ = ax.set_title('Confidence intervals of estimated weekly income', fontsize=14)\n",
        "_ = ax.set_xlabel('Average weekly income', fontsize=12)\n",
        "_ = ax.set_ylabel('Confidence interval index', fontsize=12)"
      ],
      "execution_count": 0,
      "outputs": [
        {
          "output_type": "display_data",
          "data": {
            "image/png": "[encoded data removed]",
            "text/plain": [
              "<Figure size 720x432 with 1 Axes>"
            ]
          },
          "metadata": {
            "tags": []
          }
        }
      ]
    },
    {
      "cell_type": "code",
      "metadata": {
        "colab_type": "code",
        "id": "gJlmh3bmQUf-",
        "outputId": "0638e631-bec3-4ac5-c964-17eaf44dcdcb",
        "colab": {
          "base_uri": "https://localhost:8080/",
          "height": 34
        }
      },
      "source": [
        "# Calculate the proportion of intervals that catch the population mean\n",
        "boolean_conf = [1 if estimated_mean - marge < 1000 < estimated_mean + marge else 0 for estimated_mean, marge in zip(estimated_means, marges)]\n",
        "proportion = sum(boolean_conf)/len(boolean_conf)\n",
        "print(proportion)"
      ],
      "execution_count": 0,
      "outputs": [
        {
          "output_type": "stream",
          "text": [
            "0.97\n"
          ],
          "name": "stdout"
        }
      ]
    },
    {
      "cell_type": "markdown",
      "metadata": {
        "colab_type": "text",
        "id": "Bd2N74j5QUgF"
      },
      "source": [
        "## Sampling"
      ]
    },
    {
      "cell_type": "code",
      "metadata": {
        "colab_type": "code",
        "id": "VM2a1KqFQUgG",
        "outputId": "004e7e41-d3e3-4707-8b87-63c92782d048",
        "colab": {
          "base_uri": "https://localhost:8080/",
          "height": 195
        }
      },
      "source": [
        "tips = sns.load_dataset(\"tips\")\n",
        "tips.head()"
      ],
      "execution_count": 0,
      "outputs": [
        {
          "output_type": "execute_result",
          "data": {
            "text/html": [
              "<div>\n",
              "<style scoped>\n",
              "    .dataframe tbody tr th:only-of-type {\n",
              "        vertical-align: middle;\n",
              "    }\n",
              "\n",
              "    .dataframe tbody tr th {\n",
              "        vertical-align: top;\n",
              "    }\n",
              "\n",
              "    .dataframe thead th {\n",
              "        text-align: right;\n",
              "    }\n",
              "</style>\n",
              "<table border=\"1\" class=\"dataframe\">\n",
              "  <thead>\n",
              "    <tr style=\"text-align: right;\">\n",
              "      <th></th>\n",
              "      <th>total_bill</th>\n",
              "      <th>tip</th>\n",
              "      <th>sex</th>\n",
              "      <th>smoker</th>\n",
              "      <th>day</th>\n",
              "      <th>time</th>\n",
              "      <th>size</th>\n",
              "    </tr>\n",
              "  </thead>\n",
              "  <tbody>\n",
              "    <tr>\n",
              "      <th>0</th>\n",
              "      <td>16.99</td>\n",
              "      <td>1.01</td>\n",
              "      <td>Female</td>\n",
              "      <td>No</td>\n",
              "      <td>Sun</td>\n",
              "      <td>Dinner</td>\n",
              "      <td>2</td>\n",
              "    </tr>\n",
              "    <tr>\n",
              "      <th>1</th>\n",
              "      <td>10.34</td>\n",
              "      <td>1.66</td>\n",
              "      <td>Male</td>\n",
              "      <td>No</td>\n",
              "      <td>Sun</td>\n",
              "      <td>Dinner</td>\n",
              "      <td>3</td>\n",
              "    </tr>\n",
              "    <tr>\n",
              "      <th>2</th>\n",
              "      <td>21.01</td>\n",
              "      <td>3.50</td>\n",
              "      <td>Male</td>\n",
              "      <td>No</td>\n",
              "      <td>Sun</td>\n",
              "      <td>Dinner</td>\n",
              "      <td>3</td>\n",
              "    </tr>\n",
              "    <tr>\n",
              "      <th>3</th>\n",
              "      <td>23.68</td>\n",
              "      <td>3.31</td>\n",
              "      <td>Male</td>\n",
              "      <td>No</td>\n",
              "      <td>Sun</td>\n",
              "      <td>Dinner</td>\n",
              "      <td>2</td>\n",
              "    </tr>\n",
              "    <tr>\n",
              "      <th>4</th>\n",
              "      <td>24.59</td>\n",
              "      <td>3.61</td>\n",
              "      <td>Female</td>\n",
              "      <td>No</td>\n",
              "      <td>Sun</td>\n",
              "      <td>Dinner</td>\n",
              "      <td>4</td>\n",
              "    </tr>\n",
              "  </tbody>\n",
              "</table>\n",
              "</div>"
            ],
            "text/plain": [
              "   total_bill   tip     sex smoker  day    time  size\n",
              "0       16.99  1.01  Female     No  Sun  Dinner     2\n",
              "1       10.34  1.66    Male     No  Sun  Dinner     3\n",
              "2       21.01  3.50    Male     No  Sun  Dinner     3\n",
              "3       23.68  3.31    Male     No  Sun  Dinner     2\n",
              "4       24.59  3.61  Female     No  Sun  Dinner     4"
            ]
          },
          "metadata": {
            "tags": []
          },
          "execution_count": 180
        }
      ]
    },
    {
      "cell_type": "code",
      "metadata": {
        "colab_type": "code",
        "id": "8OKHPwszQUgJ",
        "outputId": "d8894717-99b3-42d9-de27-d93cbac98972",
        "colab": {
          "base_uri": "https://localhost:8080/",
          "height": 195
        }
      },
      "source": [
        "# Shuffle observations of the tips dataset.\n",
        "shuffle_tips = tips.reindex(np.random.permutation(tips.index))\n",
        "shuffle_tips.head()"
      ],
      "execution_count": 0,
      "outputs": [
        {
          "output_type": "execute_result",
          "data": {
            "text/html": [
              "<div>\n",
              "<style scoped>\n",
              "    .dataframe tbody tr th:only-of-type {\n",
              "        vertical-align: middle;\n",
              "    }\n",
              "\n",
              "    .dataframe tbody tr th {\n",
              "        vertical-align: top;\n",
              "    }\n",
              "\n",
              "    .dataframe thead th {\n",
              "        text-align: right;\n",
              "    }\n",
              "</style>\n",
              "<table border=\"1\" class=\"dataframe\">\n",
              "  <thead>\n",
              "    <tr style=\"text-align: right;\">\n",
              "      <th></th>\n",
              "      <th>total_bill</th>\n",
              "      <th>tip</th>\n",
              "      <th>sex</th>\n",
              "      <th>smoker</th>\n",
              "      <th>day</th>\n",
              "      <th>time</th>\n",
              "      <th>size</th>\n",
              "    </tr>\n",
              "  </thead>\n",
              "  <tbody>\n",
              "    <tr>\n",
              "      <th>34</th>\n",
              "      <td>17.78</td>\n",
              "      <td>3.27</td>\n",
              "      <td>Male</td>\n",
              "      <td>No</td>\n",
              "      <td>Sat</td>\n",
              "      <td>Dinner</td>\n",
              "      <td>2</td>\n",
              "    </tr>\n",
              "    <tr>\n",
              "      <th>102</th>\n",
              "      <td>44.30</td>\n",
              "      <td>2.50</td>\n",
              "      <td>Female</td>\n",
              "      <td>Yes</td>\n",
              "      <td>Sat</td>\n",
              "      <td>Dinner</td>\n",
              "      <td>3</td>\n",
              "    </tr>\n",
              "    <tr>\n",
              "      <th>29</th>\n",
              "      <td>19.65</td>\n",
              "      <td>3.00</td>\n",
              "      <td>Female</td>\n",
              "      <td>No</td>\n",
              "      <td>Sat</td>\n",
              "      <td>Dinner</td>\n",
              "      <td>2</td>\n",
              "    </tr>\n",
              "    <tr>\n",
              "      <th>110</th>\n",
              "      <td>14.00</td>\n",
              "      <td>3.00</td>\n",
              "      <td>Male</td>\n",
              "      <td>No</td>\n",
              "      <td>Sat</td>\n",
              "      <td>Dinner</td>\n",
              "      <td>2</td>\n",
              "    </tr>\n",
              "    <tr>\n",
              "      <th>121</th>\n",
              "      <td>13.42</td>\n",
              "      <td>1.68</td>\n",
              "      <td>Female</td>\n",
              "      <td>No</td>\n",
              "      <td>Thur</td>\n",
              "      <td>Lunch</td>\n",
              "      <td>2</td>\n",
              "    </tr>\n",
              "  </tbody>\n",
              "</table>\n",
              "</div>"
            ],
            "text/plain": [
              "     total_bill   tip     sex smoker   day    time  size\n",
              "34        17.78  3.27    Male     No   Sat  Dinner     2\n",
              "102       44.30  2.50  Female    Yes   Sat  Dinner     3\n",
              "29        19.65  3.00  Female     No   Sat  Dinner     2\n",
              "110       14.00  3.00    Male     No   Sat  Dinner     2\n",
              "121       13.42  1.68  Female     No  Thur   Lunch     2"
            ]
          },
          "metadata": {
            "tags": []
          },
          "execution_count": 181
        }
      ]
    },
    {
      "cell_type": "code",
      "metadata": {
        "colab_type": "code",
        "id": "DoVCNgFrQUgO",
        "colab": {}
      },
      "source": [
        "# Sample 10 random observations from tips dataset.\n",
        "subset_tips = shuffle_tips.head(10)"
      ],
      "execution_count": 0,
      "outputs": []
    },
    {
      "cell_type": "code",
      "metadata": {
        "colab_type": "code",
        "id": "h-hRzZqqQUgS",
        "outputId": "89e44c73-89dc-4a37-8edb-f89c14fedb56",
        "colab": {
          "base_uri": "https://localhost:8080/",
          "height": 343
        }
      },
      "source": [
        "subset_tips"
      ],
      "execution_count": 0,
      "outputs": [
        {
          "output_type": "execute_result",
          "data": {
            "text/html": [
              "<div>\n",
              "<style scoped>\n",
              "    .dataframe tbody tr th:only-of-type {\n",
              "        vertical-align: middle;\n",
              "    }\n",
              "\n",
              "    .dataframe tbody tr th {\n",
              "        vertical-align: top;\n",
              "    }\n",
              "\n",
              "    .dataframe thead th {\n",
              "        text-align: right;\n",
              "    }\n",
              "</style>\n",
              "<table border=\"1\" class=\"dataframe\">\n",
              "  <thead>\n",
              "    <tr style=\"text-align: right;\">\n",
              "      <th></th>\n",
              "      <th>total_bill</th>\n",
              "      <th>tip</th>\n",
              "      <th>sex</th>\n",
              "      <th>smoker</th>\n",
              "      <th>day</th>\n",
              "      <th>time</th>\n",
              "      <th>size</th>\n",
              "    </tr>\n",
              "  </thead>\n",
              "  <tbody>\n",
              "    <tr>\n",
              "      <th>34</th>\n",
              "      <td>17.78</td>\n",
              "      <td>3.27</td>\n",
              "      <td>Male</td>\n",
              "      <td>No</td>\n",
              "      <td>Sat</td>\n",
              "      <td>Dinner</td>\n",
              "      <td>2</td>\n",
              "    </tr>\n",
              "    <tr>\n",
              "      <th>102</th>\n",
              "      <td>44.30</td>\n",
              "      <td>2.50</td>\n",
              "      <td>Female</td>\n",
              "      <td>Yes</td>\n",
              "      <td>Sat</td>\n",
              "      <td>Dinner</td>\n",
              "      <td>3</td>\n",
              "    </tr>\n",
              "    <tr>\n",
              "      <th>29</th>\n",
              "      <td>19.65</td>\n",
              "      <td>3.00</td>\n",
              "      <td>Female</td>\n",
              "      <td>No</td>\n",
              "      <td>Sat</td>\n",
              "      <td>Dinner</td>\n",
              "      <td>2</td>\n",
              "    </tr>\n",
              "    <tr>\n",
              "      <th>110</th>\n",
              "      <td>14.00</td>\n",
              "      <td>3.00</td>\n",
              "      <td>Male</td>\n",
              "      <td>No</td>\n",
              "      <td>Sat</td>\n",
              "      <td>Dinner</td>\n",
              "      <td>2</td>\n",
              "    </tr>\n",
              "    <tr>\n",
              "      <th>121</th>\n",
              "      <td>13.42</td>\n",
              "      <td>1.68</td>\n",
              "      <td>Female</td>\n",
              "      <td>No</td>\n",
              "      <td>Thur</td>\n",
              "      <td>Lunch</td>\n",
              "      <td>2</td>\n",
              "    </tr>\n",
              "    <tr>\n",
              "      <th>136</th>\n",
              "      <td>10.33</td>\n",
              "      <td>2.00</td>\n",
              "      <td>Female</td>\n",
              "      <td>No</td>\n",
              "      <td>Thur</td>\n",
              "      <td>Lunch</td>\n",
              "      <td>2</td>\n",
              "    </tr>\n",
              "    <tr>\n",
              "      <th>27</th>\n",
              "      <td>12.69</td>\n",
              "      <td>2.00</td>\n",
              "      <td>Male</td>\n",
              "      <td>No</td>\n",
              "      <td>Sat</td>\n",
              "      <td>Dinner</td>\n",
              "      <td>2</td>\n",
              "    </tr>\n",
              "    <tr>\n",
              "      <th>211</th>\n",
              "      <td>25.89</td>\n",
              "      <td>5.16</td>\n",
              "      <td>Male</td>\n",
              "      <td>Yes</td>\n",
              "      <td>Sat</td>\n",
              "      <td>Dinner</td>\n",
              "      <td>4</td>\n",
              "    </tr>\n",
              "    <tr>\n",
              "      <th>43</th>\n",
              "      <td>9.68</td>\n",
              "      <td>1.32</td>\n",
              "      <td>Male</td>\n",
              "      <td>No</td>\n",
              "      <td>Sun</td>\n",
              "      <td>Dinner</td>\n",
              "      <td>2</td>\n",
              "    </tr>\n",
              "    <tr>\n",
              "      <th>145</th>\n",
              "      <td>8.35</td>\n",
              "      <td>1.50</td>\n",
              "      <td>Female</td>\n",
              "      <td>No</td>\n",
              "      <td>Thur</td>\n",
              "      <td>Lunch</td>\n",
              "      <td>2</td>\n",
              "    </tr>\n",
              "  </tbody>\n",
              "</table>\n",
              "</div>"
            ],
            "text/plain": [
              "     total_bill   tip     sex smoker   day    time  size\n",
              "34        17.78  3.27    Male     No   Sat  Dinner     2\n",
              "102       44.30  2.50  Female    Yes   Sat  Dinner     3\n",
              "29        19.65  3.00  Female     No   Sat  Dinner     2\n",
              "110       14.00  3.00    Male     No   Sat  Dinner     2\n",
              "121       13.42  1.68  Female     No  Thur   Lunch     2\n",
              "136       10.33  2.00  Female     No  Thur   Lunch     2\n",
              "27        12.69  2.00    Male     No   Sat  Dinner     2\n",
              "211       25.89  5.16    Male    Yes   Sat  Dinner     4\n",
              "43         9.68  1.32    Male     No   Sun  Dinner     2\n",
              "145        8.35  1.50  Female     No  Thur   Lunch     2"
            ]
          },
          "metadata": {
            "tags": []
          },
          "execution_count": 184
        }
      ]
    },
    {
      "cell_type": "markdown",
      "metadata": {
        "id": "cnZqScjbpuFq",
        "colab_type": "text"
      },
      "source": [
        "<font color=\"red\">Exercise</font> <br>\n",
        "Why is the chosen subset random?\n"
      ]
    },
    {
      "cell_type": "code",
      "metadata": {
        "colab_type": "code",
        "id": "3LY7aYcOQUgU",
        "colab": {}
      },
      "source": [
        "# Create a mini dataset with an observation for each size\n",
        "size_modalities = list(set(tips.loc[:,'size']))    # set() here gives the unique values\n",
        "tips_sizes = [tips[tips['size'] == size_modality] for size_modality in size_modalities] # split based on size\n",
        "subsets_tips_size = [tips_size.iloc[0:1,:] for tips_size in tips_sizes]\n",
        "result = pd.concat(subsets_tips_size)\n",
        "\n",
        "# Step by step illustration:\n",
        "#tips_sizes      # split based on size\n",
        "#type(tips_sizes)\n",
        "#tips_sizes[0]\n",
        "#tips_sizes[0].iloc[0:1,:]      # each element of subsets_tips_size"
      ],
      "execution_count": 0,
      "outputs": []
    },
    {
      "cell_type": "code",
      "metadata": {
        "colab_type": "code",
        "id": "3V7eovMOQUgX",
        "outputId": "ced42bb8-8e00-4e28-af07-2606edcc5344",
        "colab": {
          "base_uri": "https://localhost:8080/",
          "height": 225
        }
      },
      "source": [
        "result"
      ],
      "execution_count": 0,
      "outputs": [
        {
          "output_type": "execute_result",
          "data": {
            "text/html": [
              "<div>\n",
              "<style scoped>\n",
              "    .dataframe tbody tr th:only-of-type {\n",
              "        vertical-align: middle;\n",
              "    }\n",
              "\n",
              "    .dataframe tbody tr th {\n",
              "        vertical-align: top;\n",
              "    }\n",
              "\n",
              "    .dataframe thead th {\n",
              "        text-align: right;\n",
              "    }\n",
              "</style>\n",
              "<table border=\"1\" class=\"dataframe\">\n",
              "  <thead>\n",
              "    <tr style=\"text-align: right;\">\n",
              "      <th></th>\n",
              "      <th>total_bill</th>\n",
              "      <th>tip</th>\n",
              "      <th>sex</th>\n",
              "      <th>smoker</th>\n",
              "      <th>day</th>\n",
              "      <th>time</th>\n",
              "      <th>size</th>\n",
              "    </tr>\n",
              "  </thead>\n",
              "  <tbody>\n",
              "    <tr>\n",
              "      <th>67</th>\n",
              "      <td>3.07</td>\n",
              "      <td>1.00</td>\n",
              "      <td>Female</td>\n",
              "      <td>Yes</td>\n",
              "      <td>Sat</td>\n",
              "      <td>Dinner</td>\n",
              "      <td>1</td>\n",
              "    </tr>\n",
              "    <tr>\n",
              "      <th>0</th>\n",
              "      <td>16.99</td>\n",
              "      <td>1.01</td>\n",
              "      <td>Female</td>\n",
              "      <td>No</td>\n",
              "      <td>Sun</td>\n",
              "      <td>Dinner</td>\n",
              "      <td>2</td>\n",
              "    </tr>\n",
              "    <tr>\n",
              "      <th>1</th>\n",
              "      <td>10.34</td>\n",
              "      <td>1.66</td>\n",
              "      <td>Male</td>\n",
              "      <td>No</td>\n",
              "      <td>Sun</td>\n",
              "      <td>Dinner</td>\n",
              "      <td>3</td>\n",
              "    </tr>\n",
              "    <tr>\n",
              "      <th>4</th>\n",
              "      <td>24.59</td>\n",
              "      <td>3.61</td>\n",
              "      <td>Female</td>\n",
              "      <td>No</td>\n",
              "      <td>Sun</td>\n",
              "      <td>Dinner</td>\n",
              "      <td>4</td>\n",
              "    </tr>\n",
              "    <tr>\n",
              "      <th>142</th>\n",
              "      <td>41.19</td>\n",
              "      <td>5.00</td>\n",
              "      <td>Male</td>\n",
              "      <td>No</td>\n",
              "      <td>Thur</td>\n",
              "      <td>Lunch</td>\n",
              "      <td>5</td>\n",
              "    </tr>\n",
              "    <tr>\n",
              "      <th>125</th>\n",
              "      <td>29.80</td>\n",
              "      <td>4.20</td>\n",
              "      <td>Female</td>\n",
              "      <td>No</td>\n",
              "      <td>Thur</td>\n",
              "      <td>Lunch</td>\n",
              "      <td>6</td>\n",
              "    </tr>\n",
              "  </tbody>\n",
              "</table>\n",
              "</div>"
            ],
            "text/plain": [
              "     total_bill   tip     sex smoker   day    time  size\n",
              "67         3.07  1.00  Female    Yes   Sat  Dinner     1\n",
              "0         16.99  1.01  Female     No   Sun  Dinner     2\n",
              "1         10.34  1.66    Male     No   Sun  Dinner     3\n",
              "4         24.59  3.61  Female     No   Sun  Dinner     4\n",
              "142       41.19  5.00    Male     No  Thur   Lunch     5\n",
              "125       29.80  4.20  Female     No  Thur   Lunch     6"
            ]
          },
          "metadata": {
            "tags": []
          },
          "execution_count": 186
        }
      ]
    },
    {
      "cell_type": "markdown",
      "metadata": {
        "colab_type": "text",
        "id": "jE0pYQKnQUgZ"
      },
      "source": [
        "## Simple Linear Regression "
      ]
    },
    {
      "cell_type": "code",
      "metadata": {
        "colab_type": "code",
        "id": "pYt1zeOnQUga",
        "colab": {}
      },
      "source": [
        "# Data \n",
        "municipal_assessment = [45.3,55.6,102.5,38.2,63.6,63.6,41.6,31.3,181.4,89.3,54.9,136.4,77.5,111.2,186.1,69.3,32.5,92.3,36.6,87.4,44.0,88.8,58.1,98.0,39.3,58.8,42.2,45.2,117.4,117.3,122.9,29.3,82.0,79.0,64.4,78.0,75.1,86.8,143.5,85.4,86.6]\n",
        "house_price = [65,60,140,50,60,80,74,79,275,162,36,235,125,112,268,150,45,142,69,100,123,117,160,188,88,103,65,77,188,156,225,58,132,198,90,110,114,149,315,130,135]"
      ],
      "execution_count": 0,
      "outputs": []
    },
    {
      "cell_type": "code",
      "metadata": {
        "colab_type": "code",
        "id": "C62ZaE_iQUgd",
        "outputId": "1d154133-1421-4a80-8737-1e9cad80c3e3",
        "colab": {
          "base_uri": "https://localhost:8080/",
          "height": 408
        }
      },
      "source": [
        "# Draw the scatterplot of the municipal assessment price vs the house price\n",
        "fig, ax = plt.subplots(figsize=(10, 6))\n",
        "_ = ax.plot(municipal_assessment , house_price, 'or', mfc='b')\n",
        "_ = ax.set_title('Confidence intervals of estimated weekly income', fontsize=14)\n",
        "_ = ax.set_ylabel('House price', fontsize=12)\n",
        "_ = ax.set_xlabel('Municipal Assessment price', fontsize=12)"
      ],
      "execution_count": 0,
      "outputs": [
        {
          "output_type": "display_data",
          "data": {
            "image/png": "[encoded data removed]",
            "text/plain": [
              "<Figure size 720x432 with 1 Axes>"
            ]
          },
          "metadata": {
            "tags": []
          }
        }
      ]
    },
    {
      "cell_type": "code",
      "metadata": {
        "colab_type": "code",
        "id": "5Mp_WLRGQUgf",
        "colab": {}
      },
      "source": [
        "# Estimate the intercept and the regressor's coefficient with the least square solution.\n",
        "y_bar = sum(house_price)/len(house_price)\n",
        "x_bar = sum(municipal_assessment)/len(municipal_assessment)\n",
        "\n",
        "a_num = sum([(x_i-x_bar)*(y_i-y_bar) for x_i,y_i in zip(municipal_assessment,house_price)])\n",
        "a_denom = sum([(x_i-x_bar)**2 for x_i in municipal_assessment])\n",
        "\n",
        "reg_coef = a_num/a_denom\n",
        "intercept = y_bar - reg_coef*x_bar"
      ],
      "execution_count": 0,
      "outputs": []
    },
    {
      "cell_type": "code",
      "metadata": {
        "id": "lv2EquK70QPo",
        "colab_type": "code",
        "outputId": "c5b05f99-d66d-4744-92c3-ed36e5df2b65",
        "colab": {
          "base_uri": "https://localhost:8080/",
          "height": 52
        }
      },
      "source": [
        "print(reg_coef)\n",
        "print(intercept)"
      ],
      "execution_count": 0,
      "outputs": [
        {
          "output_type": "stream",
          "text": [
            "1.528511701288412\n",
            "7.258759830176089\n"
          ],
          "name": "stdout"
        }
      ]
    },
    {
      "cell_type": "code",
      "metadata": {
        "id": "yTEWKGynvyYl",
        "colab_type": "code",
        "outputId": "de6b7f36-189e-447d-e27e-55ebda5e5d23",
        "colab": {
          "base_uri": "https://localhost:8080/",
          "height": 34
        }
      },
      "source": [
        "a_denom"
      ],
      "execution_count": 0,
      "outputs": [
        {
          "output_type": "execute_result",
          "data": {
            "text/plain": [
              "57823.567804878054"
            ]
          },
          "metadata": {
            "tags": []
          },
          "execution_count": 167
        }
      ]
    },
    {
      "cell_type": "code",
      "metadata": {
        "colab_type": "code",
        "id": "8BQnG5bUQUgh",
        "outputId": "c255a009-7746-4c57-e5b2-019657b17a3d",
        "colab": {
          "base_uri": "https://localhost:8080/",
          "height": 284
        }
      },
      "source": [
        "# Plot the simple linear regression line.\n",
        "plt.plot(np.array(municipal_assessment),intercept +  reg_coef * np.array(municipal_assessment), color='blue')"
      ],
      "execution_count": 0,
      "outputs": [
        {
          "output_type": "execute_result",
          "data": {
            "text/plain": [
              "[<matplotlib.lines.Line2D at 0x7fef41ace470>]"
            ]
          },
          "metadata": {
            "tags": []
          },
          "execution_count": 188
        },
        {
          "output_type": "display_data",
          "data": {
            "image/png": "[encoded data removed]",
            "text/plain": [
              "<Figure size 432x288 with 1 Axes>"
            ]
          },
          "metadata": {
            "tags": []
          }
        }
      ]
    },
    {
      "cell_type": "code",
      "metadata": {
        "colab_type": "code",
        "id": "IMF_qw2fQUgl",
        "outputId": "d311f8fe-70f3-4f25-ac04-acf3be36379a",
        "colab": {
          "base_uri": "https://localhost:8080/",
          "height": 463
        }
      },
      "source": [
        "# Draw the scatterplot and the regression equation together.\n",
        "fig, ax = plt.subplots(figsize=(10, 6))\n",
        "ax.plot(municipal_assessment , house_price, 'or', mfc='b')\n",
        "ax.plot(np.array(municipal_assessment),intercept +  reg_coef * np.array(municipal_assessment), color='blue')\n",
        "ax.set_title('Confidence intervals of estimated weekly income', fontsize=14)\n",
        "ax.set_ylabel('House price', fontsize=12)\n",
        "ax.set_xlabel('Municipal Assessment price', fontsize=12)"
      ],
      "execution_count": 0,
      "outputs": [
        {
          "output_type": "execute_result",
          "data": {
            "text/plain": [
              "[<matplotlib.lines.Line2D at 0x7fef41a32160>]"
            ]
          },
          "metadata": {
            "tags": []
          },
          "execution_count": 189
        },
        {
          "output_type": "execute_result",
          "data": {
            "text/plain": [
              "[<matplotlib.lines.Line2D at 0x7fef41b95d30>]"
            ]
          },
          "metadata": {
            "tags": []
          },
          "execution_count": 189
        },
        {
          "output_type": "execute_result",
          "data": {
            "text/plain": [
              "Text(0.5, 1.0, 'Confidence intervals of estimated weekly income')"
            ]
          },
          "metadata": {
            "tags": []
          },
          "execution_count": 189
        },
        {
          "output_type": "execute_result",
          "data": {
            "text/plain": [
              "Text(0, 0.5, 'House price')"
            ]
          },
          "metadata": {
            "tags": []
          },
          "execution_count": 189
        },
        {
          "output_type": "execute_result",
          "data": {
            "text/plain": [
              "Text(0.5, 0, 'Municipal Assessment price')"
            ]
          },
          "metadata": {
            "tags": []
          },
          "execution_count": 189
        },
        {
          "output_type": "display_data",
          "data": {
            "image/png": "[encoded data removed]",
            "text/plain": [
              "<Figure size 720x432 with 1 Axes>"
            ]
          },
          "metadata": {
            "tags": []
          }
        }
      ]
    },
    {
      "cell_type": "code",
      "metadata": {
        "colab_type": "code",
        "id": "OYF_6lpkQUgn",
        "outputId": "d464f80f-e0df-41c3-b9b9-09bf1153778d",
        "colab": {
          "base_uri": "https://localhost:8080/",
          "height": 34
        }
      },
      "source": [
        "# Fit the model with sklearn package.\n",
        "from sklearn.linear_model import LinearRegression\n",
        "d_ = {'house price': house_price, 'municipal assessment': municipal_assessment}\n",
        "houses_df = pd.DataFrame(data=d_)\n",
        "\n",
        "lr = LinearRegression() \n",
        "lr.fit(X = houses_df[['house price']], y = houses_df[['municipal assessment']])"
      ],
      "execution_count": 0,
      "outputs": [
        {
          "output_type": "execute_result",
          "data": {
            "text/plain": [
              "LinearRegression(copy_X=True, fit_intercept=True, n_jobs=None, normalize=False)"
            ]
          },
          "metadata": {
            "tags": []
          },
          "execution_count": 193
        }
      ]
    },
    {
      "cell_type": "code",
      "metadata": {
        "colab_type": "code",
        "id": "KYS171qaQUgq",
        "outputId": "4540a582-6765-4d04-d50a-0f256c1a8598",
        "colab": {
          "base_uri": "https://localhost:8080/",
          "height": 422
        }
      },
      "source": [
        "help(lr.fit)"
      ],
      "execution_count": 0,
      "outputs": [
        {
          "output_type": "stream",
          "text": [
            "Help on method fit in module sklearn.linear_model.base:\n",
            "\n",
            "fit(X, y, sample_weight=None) method of sklearn.linear_model.base.LinearRegression instance\n",
            "    Fit linear model.\n",
            "    \n",
            "    Parameters\n",
            "    ----------\n",
            "    X : array-like or sparse matrix, shape (n_samples, n_features)\n",
            "        Training data\n",
            "    \n",
            "    y : array_like, shape (n_samples, n_targets)\n",
            "        Target values. Will be cast to X's dtype if necessary\n",
            "    \n",
            "    sample_weight : numpy array of shape [n_samples]\n",
            "        Individual weights for each sample\n",
            "    \n",
            "        .. versionadded:: 0.17\n",
            "           parameter *sample_weight* support to LinearRegression.\n",
            "    \n",
            "    Returns\n",
            "    -------\n",
            "    self : returns an instance of self.\n",
            "\n"
          ],
          "name": "stdout"
        }
      ]
    },
    {
      "cell_type": "code",
      "metadata": {
        "colab_type": "code",
        "id": "4go4_EVqQUgs",
        "outputId": "8228b6a2-b3e6-4b1f-ba90-801f3da0b256",
        "colab": {}
      },
      "source": [
        "# Returns the R^2 which gives an idea about the goodness of fit:\n",
        "print(lr.score(X = houses_df[['house price']], y = houses_df[['municipal assessment']]))"
      ],
      "execution_count": 0,
      "outputs": [
        {
          "output_type": "stream",
          "text": [
            "0.7673989355313162\n"
          ],
          "name": "stdout"
        }
      ]
    },
    {
      "cell_type": "code",
      "metadata": {
        "colab_type": "code",
        "id": "NJJvtpf-QUgv",
        "outputId": "2dfd60d8-d29f-44d4-b226-70d54b6bead8",
        "colab": {
          "base_uri": "https://localhost:8080/",
          "height": 175
        }
      },
      "source": [
        "# Predict the values associated with our municipal assessment prices\n",
        "X_new = houses_df[['municipal assessment']].values\n",
        "predictions_nested = lr.predict(X_new)\n",
        "predictions = np.array([item for sublist in predictions_nested for item in sublist])\n",
        "print(predictions)"
      ],
      "execution_count": 0,
      "outputs": [
        {
          "output_type": "stream",
          "text": [
            "[ 37.47262658  42.64380651  66.19024717  33.90802682  46.66025694\n",
            "  46.66025694  35.61501825  30.44383832 105.80248957  59.56310396\n",
            "  42.2923671   83.20995588  53.63883957  70.55813702 108.1621542\n",
            "  49.52197788  31.04630588  61.06927287  33.10473673  58.60919698\n",
            "  36.81995338  59.31207581  43.89894727  63.9309938   34.46028875\n",
            "  44.25038668  35.91625203  37.42242095  73.6708861   73.62068047\n",
            "  76.43219578  29.43972571  55.89809294  54.39192403  47.06190199\n",
            "  53.88986772  52.43390444  58.3079632   86.77455564  57.60508437\n",
            "  58.20755194]\n"
          ],
          "name": "stdout"
        }
      ]
    },
    {
      "cell_type": "markdown",
      "metadata": {
        "colab_type": "text",
        "id": "9Kxc-GywQUgx"
      },
      "source": [
        "## Multiple Linear Regression "
      ]
    },
    {
      "cell_type": "code",
      "metadata": {
        "colab_type": "code",
        "id": "j1cEMpfmQUgy",
        "colab": {}
      },
      "source": [
        "from sklearn import linear_model\n",
        "from sklearn import datasets ## imports datasets from scikit-learn"
      ],
      "execution_count": 0,
      "outputs": []
    },
    {
      "cell_type": "code",
      "metadata": {
        "colab_type": "code",
        "id": "C5a_ziJeQUg0",
        "colab": {}
      },
      "source": [
        " ## Loads Boston dataset from datasets library\n",
        "data = datasets.load_boston()\n",
        "\n",
        "# Define the data/predictors as the pre-set feature names  \n",
        "df = pd.DataFrame(data.data, columns=data.feature_names)\n",
        "\n",
        "# Put the target (housing value -- MEDV) in another DataFrame\n",
        "target = pd.DataFrame(data.target, columns=[\"MEDV\"])\n",
        "\n",
        "X = df\n",
        "y = target['MEDV']"
      ],
      "execution_count": 0,
      "outputs": []
    },
    {
      "cell_type": "code",
      "metadata": {
        "colab_type": "code",
        "id": "gTAIrA6OQUg2",
        "colab": {}
      },
      "source": [
        "lm = linear_model.LinearRegression()\n",
        "model = lm.fit(X,y)"
      ],
      "execution_count": 0,
      "outputs": []
    },
    {
      "cell_type": "code",
      "metadata": {
        "colab_type": "code",
        "id": "dFqONAfUQUg6",
        "outputId": "d7e61800-0950-4ab4-e890-dfe69ae86699",
        "colab": {}
      },
      "source": [
        "predictions = lm.predict(X)\n",
        "print(predictions[0:5])"
      ],
      "execution_count": 0,
      "outputs": [
        {
          "output_type": "stream",
          "text": [
            "[30.00384338 25.02556238 30.56759672 28.60703649 27.94352423]\n"
          ],
          "name": "stdout"
        }
      ]
    },
    {
      "cell_type": "code",
      "metadata": {
        "colab_type": "code",
        "id": "y90hC3C6QUg8",
        "outputId": "a2f70d7b-885e-4b36-b5a3-472d261ff447",
        "colab": {}
      },
      "source": [
        "print(lm.score(X,y))"
      ],
      "execution_count": 0,
      "outputs": [
        {
          "output_type": "stream",
          "text": [
            "0.7406426641094094\n"
          ],
          "name": "stdout"
        }
      ]
    },
    {
      "cell_type": "code",
      "metadata": {
        "colab_type": "code",
        "id": "T4MBCZNNQUg-",
        "outputId": "76efa26e-0405-4769-902a-72308ce324a4",
        "colab": {}
      },
      "source": [
        "lm.coef_"
      ],
      "execution_count": 0,
      "outputs": [
        {
          "output_type": "execute_result",
          "data": {
            "text/plain": [
              "array([-1.08011358e-01,  4.64204584e-02,  2.05586264e-02,  2.68673382e+00,\n",
              "       -1.77666112e+01,  3.80986521e+00,  6.92224640e-04, -1.47556685e+00,\n",
              "        3.06049479e-01, -1.23345939e-02, -9.52747232e-01,  9.31168327e-03,\n",
              "       -5.24758378e-01])"
            ]
          },
          "metadata": {
            "tags": []
          },
          "execution_count": 261
        }
      ]
    },
    {
      "cell_type": "code",
      "metadata": {
        "colab_type": "code",
        "id": "hldbpr13QUhB",
        "outputId": "b9b391c9-801b-46e6-ca58-ebafd2f764cb",
        "colab": {}
      },
      "source": [
        "lm.intercept_"
      ],
      "execution_count": 0,
      "outputs": [
        {
          "output_type": "execute_result",
          "data": {
            "text/plain": [
              "36.459488385089784"
            ]
          },
          "metadata": {
            "tags": []
          },
          "execution_count": 262
        }
      ]
    },
    {
      "cell_type": "code",
      "metadata": {
        "colab_type": "code",
        "id": "myTteHEsQUhD",
        "colab": {}
      },
      "source": [
        ""
      ],
      "execution_count": 0,
      "outputs": []
    }
  ]
}