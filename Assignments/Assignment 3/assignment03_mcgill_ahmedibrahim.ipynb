{
  "nbformat": 4,
  "nbformat_minor": 0,
  "metadata": {
    "colab": {
      "name": "assignment03_mcgill_ahmedibrahim.ipynb",
      "provenance": [],
      "collapsed_sections": [],
      "toc_visible": true
    },
    "kernelspec": {
      "display_name": "Python 3",
      "language": "python",
      "name": "python3"
    },
    "language_info": {
      "codemirror_mode": {
        "name": "ipython",
        "version": 3
      },
      "file_extension": ".py",
      "mimetype": "text/x-python",
      "name": "python",
      "nbconvert_exporter": "python",
      "pygments_lexer": "ipython3",
      "version": "3.6.4"
    },
    "toc": {
      "base_numbering": 1,
      "nav_menu": {},
      "number_sections": true,
      "sideBar": true,
      "skip_h1_title": false,
      "title_cell": "Table of Contents",
      "title_sidebar": "Contents",
      "toc_cell": false,
      "toc_position": {},
      "toc_section_display": true,
      "toc_window_display": false
    }
  },
  "cells": [
    {
      "cell_type": "markdown",
      "metadata": {
        "id": "g2unLOmVzsBK"
      },
      "source": [
        "\n",
        "# Assignment 3  <font color=\"blue\"> (15 points) </font>\n",
        " \n",
        "------\n",
        "### Information\n",
        "**Name:** Ahmed Ibrahim\n",
        "\n",
        "**Student Number:** 261032796\n",
        "\n",
        "**Date:** 2021-11-07\n",
        "\n",
        "**Course Number:** YCBS 255 - Statistical Machine Learning\n",
        "\n",
        "------\n",
        "\n",
        "### Notes and Instructions\n",
        "  + You may need additional libraries besides the Python standard library to solve some questions. Import only necessary libraries. \n",
        "  + If more than one library exist for a same purpose, choose the one you wish as long as it does the task properly. \n",
        "  + If we want you to use a specific library, then we will state it clearly. \n",
        "  + Use the exact variable names asked in the questions. When no clear instructions given, feel free to do it the way you would like to.\n",
        "  + After each question, add the needed number of new cells and place your answers inside the cells. \n",
        "  + Use text cells for explanations. Use explanation and plain text as much as possible. \n",
        "  + Do not remove or modify the original cells provided by the instructor.\n",
        "  + In the following cell you will find some extra options to make your code more readable, including output colors RED, OKBLUE, or output text styles like BOLD or UNDERLINE that. Do not hesitate to use them. As an example, one may output text in red as follows: \n",
        "  ```python\n",
        "     print(bcolors.RED + \"your text\" + bcolors.ENDC)\n",
        "  ```\n",
        "  + Comment your code whenever needed using # sign at the beginning of the row.\n",
        "  + In some questions some of the details needed for solving the problem are **purposely** omitted to encourage additional self-directed research. This, especially, helps you develop some search skills for coding in Python (which is inevitable due to the inconsistent syntax of Python).\n",
        "  + Do not hesitate to communicate your questions to the TA's or instructors. \n",
        "    \n",
        "  Good luck! "
      ]
    },
    {
      "cell_type": "code",
      "metadata": {
        "id": "aOt20LC3zsBN"
      },
      "source": [
        "# The following piece of code gives the opportunity to show multiple outputs\n",
        "# in one cell:\n",
        "from IPython.core.interactiveshell import InteractiveShell\n",
        "InteractiveShell.ast_node_interactivity = \"all\"\n",
        "\n",
        "# Colorful outputs\n",
        "class bcolors:\n",
        "    RED       = '\\033[91m'\n",
        "    OKBLUE    = '\\033[94m'\n",
        "    BOLD      = '\\033[1m'\n",
        "    UNDERLINE = '\\033[4m'\n",
        "    ENDC      = '\\033[0m'"
      ],
      "execution_count": null,
      "outputs": []
    },
    {
      "cell_type": "markdown",
      "metadata": {
        "id": "JhunulGDzsBS"
      },
      "source": [
        ""
      ]
    },
    {
      "cell_type": "markdown",
      "metadata": {
        "id": "PI8k_3Wp2qVH"
      },
      "source": [
        "## **Part A** <font color=\"blue\">(5 points)</font>\n",
        "\n",
        "1. **<font color=\"blue\">(1 point)</font>** Generate 100 points equally distanced from $-20$ to $20$ and save them in a `numpy` array `x1`. Now, create $4$ more `numpy` arrays by raising `x1` to the power of $2,3,4,5$, and call them `x2`, `x3`, `x4` and `x5`, respectively. \n",
        "3. **<font color=\"blue\">(1 point)</font>** Create your response `y`, a new `numpy` array, defined as $y= 1.75 + 5 x_1 + 0.05 x_3 - 10.3 x_5 + \\varepsilon$, where $\\varepsilon \\sim \\mathcal{N}(0, 4)$.\n",
        "4. **<font color=\"blue\">(2 points)</font>** Using $5$-fold cross-validation, with a reasonable train-test proportion, train a **lasso** regression model including all $x_1, x_2, x_3 , x_4 , x_5$, and for $10$ different  pre-determined tuning parameters. \n",
        "5. **<font color=\"blue\">(1 point)</font>** Plot the **cross-validated mean squared errors** vs the tuning parameter's values\n",
        " and chose the best tuning parameter based on the plot. Does the best model chosen perform **variable selection**?"
      ]
    },
    {
      "cell_type": "markdown",
      "metadata": {
        "id": "sIs3veLP7hfx"
      },
      "source": [
        "## Part A"
      ]
    },
    {
      "cell_type": "code",
      "metadata": {
        "id": "5LkLf9m39Y_J"
      },
      "source": [
        "import numpy as np\n",
        "import math\n",
        "import pandas as pd\n",
        "import matplotlib.pyplot as plt\n",
        "plt.style.use('ggplot')"
      ],
      "execution_count": 12,
      "outputs": []
    },
    {
      "cell_type": "code",
      "metadata": {
        "id": "w47-IiLZ9cBD"
      },
      "source": [
        "# Question A1: Generate x1 array.\n",
        "x1 = np.linspace(-20, 20, 100)"
      ],
      "execution_count": 2,
      "outputs": []
    },
    {
      "cell_type": "code",
      "metadata": {
        "id": "rNV1ew_s-CTN"
      },
      "source": [
        "# Question A1: Generate x2, x3, x4, x5 array.\n",
        "x1 = np.linspace(-20, 20, 100)\n",
        "x_list = [x1]\n",
        "x_range = np.arange(2,6)\n",
        "for value in x_range:\n",
        "  x_value = np.power(x1, value)\n",
        "  x_list.append(x_value)\n",
        "x2 = x_list[1]\n",
        "x3 = x_list[2]\n",
        "x4 = x_list[3]\n",
        "x5 = x_list[4]\n",
        "X = pd.DataFrame(x_list, index = ['x1', 'x2', 'x3', 'x4', 'x5']).transpose().to_numpy()"
      ],
      "execution_count": 3,
      "outputs": []
    },
    {
      "cell_type": "code",
      "metadata": {
        "id": "lAp2-VJ9BYNC"
      },
      "source": [
        "# Question A2: Generate 'y' function.\n",
        "np.random.seed(12)\n",
        "mu = 0\n",
        "sigma = math.sqrt(4)\n",
        "eps = np.random.normal(mu, sigma, 100)\n",
        "y = 1.75 + 5*x1 + 0.05*x3 -10.3*x5 + eps"
      ],
      "execution_count": 4,
      "outputs": []
    },
    {
      "cell_type": "code",
      "metadata": {
        "colab": {
          "base_uri": "https://localhost:8080/",
          "height": 298
        },
        "id": "P5URpPNrmLQ9",
        "outputId": "41f96688-d097-4fdd-fefe-fed37acc8e5f"
      },
      "source": [
        "# Question A2: Plot polynomial.\n",
        "\n",
        "plt.scatter(x1, y)\n",
        "plt.xlabel('X')\n",
        "plt.ylabel('Y')\n",
        "plt.title('5th Degree Polynomial')\n",
        "plt.show()"
      ],
      "execution_count": 5,
      "outputs": [
        {
          "output_type": "display_data",
          "data": {
            "image/png": "[encoded data removed]",
            "text/plain": [
              "<Figure size 432x288 with 1 Axes>"
            ]
          },
          "metadata": {
            "needs_background": "light"
          }
        }
      ]
    },
    {
      "cell_type": "code",
      "metadata": {
        "id": "s1VeHDEaGXdw",
        "colab": {
          "base_uri": "https://localhost:8080/"
        },
        "outputId": "2efda5ac-49eb-47b2-aa2c-c17384aec040"
      },
      "source": [
        "# Question A3: Using  5-fold cross-validation, train a lasso model including with 10 different tunning parameters. \n",
        "from sklearn.model_selection import KFold\n",
        "from sklearn.metrics import mean_squared_error\n",
        "from sklearn.linear_model import Lasso\n",
        "k = 5\n",
        "kf_5 = KFold(n_splits = k, random_state = 12, shuffle = True)\n",
        "tunning_para_list = [0.05, 0.1, 1, 5, 50, 500, 2500, 10000]\n",
        "lasso_avg_mse_list = []\n",
        "for tunning_para in tunning_para_list:\n",
        "  lasso_regression = Lasso(alpha = tunning_para)\n",
        "  lasso_mse_list = []\n",
        "  for train_index, test_index in kf_5.split(X):\n",
        "    X_train, X_test = X[train_index], X[test_index]\n",
        "    y_train, y_test = y[train_index], y[test_index]\n",
        "    lasso_regression.fit(X_train, y_train)\n",
        "    print(lasso_regression.coef_)\n",
        "    y_pred = lasso_regression.predict(X_test)\n",
        "    mse_lasso = mean_squared_error(y_test, y_pred)\n",
        "    lasso_mse_list.append(mse_lasso)\n",
        "  lasso_avg_mse = sum(lasso_mse_list)/len(lasso_mse_list)\n",
        "  lasso_avg_mse_list.append(lasso_avg_mse)\n",
        "print(lasso_avg_mse_list)"
      ],
      "execution_count": 10,
      "outputs": [
        {
          "output_type": "stream",
          "name": "stdout",
          "text": [
            "[ 5.52965206e+01  4.98208024e-01 -4.88538558e-01 -1.22317619e-03\n",
            " -1.02988817e+01]\n",
            "[ 5.15683208e+01 -4.82412550e-01 -4.28439513e-01  1.21663709e-03\n",
            " -1.02990146e+01]\n",
            "[ 2.96203885e+01  8.37638578e-02 -1.92599005e-01 -2.17064447e-04\n",
            " -1.02995073e+01]\n",
            "[ 1.10147462e+01 -5.95538097e-02 -1.09897617e-02  1.66767381e-04\n",
            " -1.02998722e+01]\n",
            "[ 7.64616272e+00  2.50521491e-02  2.19426404e-02 -8.53688934e-05\n",
            " -1.02999395e+01]\n",
            "[ 5.52893154e+01  4.98144179e-01 -4.88472167e-01 -1.22301861e-03\n",
            " -1.02988819e+01]\n",
            "[ 5.15612336e+01 -4.82342046e-01 -4.28376807e-01  1.21645399e-03\n",
            " -1.02990148e+01]\n",
            "[ 2.96130535e+01  8.36931506e-02 -1.92535472e-01 -2.16872064e-04\n",
            " -1.02995074e+01]\n",
            "[ 1.10074677e+01 -5.94768225e-02 -1.09252920e-02  1.66557579e-04\n",
            " -1.02998724e+01]\n",
            "[ 7.63902198e+00  2.49810632e-02  2.20077769e-02 -8.51572211e-05\n",
            " -1.02999397e+01]\n",
            "[ 5.51596229e+01  4.96994974e-01 -4.87277125e-01 -1.22018204e-03\n",
            " -1.02988842e+01]\n",
            "[ 5.14336629e+01 -4.81072967e-01 -4.27248090e-01  1.21315815e-03\n",
            " -1.02990169e+01]\n",
            "[ 2.94810233e+01  8.24204193e-02 -1.91391885e-01 -2.13409168e-04\n",
            " -1.02995096e+01]\n",
            "[ 1.08764536e+01 -5.80910520e-02 -9.76483633e-03  1.62781136e-04\n",
            " -1.02998746e+01]\n",
            "[ 7.51052235e+00  2.37019271e-02  2.31798798e-02 -8.13484618e-05\n",
            " -1.02999420e+01]\n",
            "[ 5.45832116e+01  4.91887395e-01 -4.81965828e-01 -1.20757509e-03\n",
            " -1.02988945e+01]\n",
            "[ 5.08666823e+01 -4.75432618e-01 -4.22231572e-01  1.19850997e-03\n",
            " -1.02990265e+01]\n",
            "[ 2.88942223e+01  7.67638363e-02 -1.86309274e-01 -1.98018518e-04\n",
            " -1.02995192e+01]\n",
            "[ 1.02941686e+01 -5.19320721e-02 -4.60725571e-03  1.45996946e-04\n",
            " -1.02998847e+01]\n",
            "[ 6.94010923e+00  1.80256502e-02  2.83818779e-02 -6.44491494e-05\n",
            " -1.02999524e+01]\n",
            "[ 4.80985847e+01  4.34427133e-01 -4.22213734e-01 -1.06574683e-03\n",
            " -1.02990107e+01]\n",
            "[ 4.44881499e+01 -4.11978694e-01 -3.65795740e-01  1.03371800e-03\n",
            " -1.02991348e+01]\n",
            "[ 2.22927111e+01  1.31272779e-02 -1.29129897e-01 -2.48737077e-05\n",
            " -1.02996278e+01]\n",
            "[ 3.80400984e+00 -0.00000000e+00  5.27268589e-02  4.12963853e-06\n",
            " -1.02999964e+01]\n",
            "[ 5.82960076e-01 -0.00000000e+00  8.62036248e-02 -3.03226333e-06\n",
            " -1.03000680e+01]\n",
            "[ 0.00000000e+00  0.00000000e+00  7.12796055e-02 -2.13227240e-06\n",
            " -1.03000178e+01]\n",
            "[ 0.00000000e+00 -0.00000000e+00  6.98944916e-02 -1.49453110e-05\n",
            " -1.03000134e+01]\n",
            "[ 0.00000000e+00 -0.00000000e+00  7.34076146e-02  2.83522168e-05\n",
            " -1.03000231e+01]\n",
            "[ 0.00000000e+00 -0.00000000e+00  7.56009404e-02  1.00393144e-05\n",
            " -1.03000286e+01]\n",
            "[ 0.00000000e+00  0.00000000e+00  7.66908938e-02 -4.12341791e-05\n",
            " -1.03000315e+01]\n",
            "[ 0.00000000e+00  0.00000000e+00  6.74424506e-02 -2.23057623e-07\n",
            " -1.03000067e+01]\n",
            "[ 0.00000000e+00 -0.00000000e+00  6.50516960e-02 -1.69092178e-05\n",
            " -1.02999992e+01]\n",
            "[ 0.00000000e+00 -0.00000000e+00  6.94412978e-02  3.06184879e-05\n",
            " -1.03000112e+01]\n",
            "[ 0.00000000e+00 -0.00000000e+00  7.15750336e-02  1.03091208e-05\n",
            " -1.03000162e+01]\n",
            "[ 0.00000000e+00  0.00000000e+00  7.22432276e-02 -4.72364492e-05\n",
            " -1.03000174e+01]\n",
            "[  0.           0.           0.04980114   0.         -10.2999556 ]\n",
            "[ 0.00000000e+00 -0.00000000e+00  4.92929766e-02 -2.30369853e-05\n",
            " -1.02999529e+01]\n",
            "[ 0.00000000e+00 -0.00000000e+00  5.46757303e-02  3.89978135e-05\n",
            " -1.02999672e+01]\n",
            "[ 0.00000000e+00 -0.00000000e+00  5.57813711e-02  1.17950179e-05\n",
            " -1.02999674e+01]\n",
            "[ 0.00000000e+00  0.00000000e+00  5.49104707e-02 -7.15353989e-05\n",
            " -1.02999624e+01]\n",
            "[11741.103089756949, 11737.829722527178, 11679.058585324547, 11421.276878262433, 8901.542547099929, 422.1602563137802, 528.6667237771838, 1145.7521774348236]\n"
          ]
        }
      ]
    },
    {
      "cell_type": "code",
      "metadata": {
        "colab": {
          "base_uri": "https://localhost:8080/",
          "height": 298
        },
        "id": "irbFVP5OvhJA",
        "outputId": "06181004-1d57-4f5c-f981-59d48a6e1a06"
      },
      "source": [
        "# Question A4: Plot mse vs tunning parameters.\n",
        "plt.scatter(tunning_para_list, lasso_avg_mse_list)\n",
        "plt.xlabel(\"Tunning Parameters\")\n",
        "plt.ylabel(\"Mean Squarred Error\")\n",
        "plt.title(\"MSE for Different TP\")\n",
        "plt.show()"
      ],
      "execution_count": 11,
      "outputs": [
        {
          "output_type": "display_data",
          "data": {
            "image/png": "[encoded data removed]",
            "text/plain": [
              "<Figure size 432x288 with 1 Axes>"
            ]
          },
          "metadata": {
            "needs_background": "light"
          }
        }
      ]
    },
    {
      "cell_type": "markdown",
      "metadata": {
        "id": "qYqyFAj_tyH6"
      },
      "source": [
        "### Question A4: The choice of tunning parameter.\n",
        "\n",
        "By looking at the computed mean squarred error (MSE) of the models, assuming the best one has the lowest MSE, the best tunning parameter among the list would be 500. The MSE was decreasing gradually as the tunning parameter neared 500 but for tunning parameters greated than 500, being 2500 and 10000; the MSE was in fact increasing. Variable selection is essentially occurred for 3 tunning parameters being 500, 2500 and 10000. The second coefficient was eliminated for all 5 cross-validation versions for all those 3 tunning parameters. The first coefficient was eliminated for the tuning parameters 2500 and 10000. However, for 500, only 3 out of 5 folds eliminated the first coefficient. The lasso regression model with tunning parameter of 500 remains to be the best model based on its MSE. "
      ]
    },
    {
      "cell_type": "markdown",
      "metadata": {
        "id": "lKnyVWq21kZ9"
      },
      "source": [
        "## **Part B** <font color=\"blue\">(3 points)</font>\n",
        "For this part upload `Wage.csv`.\n",
        "\n",
        "1. **<font color=\"blue\">(2 points)</font>** Perform polynomial regression to predict `wage` using `age`. Use cross-validation to select the optimal degree $d$ for the polynomial. What degree was chosen? Make a plot of\n",
        "the resulting polynomial fit to the data. \n",
        "2. **<font color=\"blue\">(1 point)</font>** Fit a step function to predict `wage` using `age` , and perform cross-validation to choose the optimal number of cuts. Make a plot of the fit obtained.\n"
      ]
    },
    {
      "cell_type": "markdown",
      "metadata": {
        "id": "daS0gU437eOs"
      },
      "source": [
        "## Part B"
      ]
    },
    {
      "cell_type": "code",
      "metadata": {
        "id": "VsXKZDzs6zrW"
      },
      "source": [
        "import numpy as np\n",
        "import matplotlib.pyplot as plt\n",
        "plt.style.use('ggplot')\n",
        "import pandas as pd"
      ],
      "execution_count": 13,
      "outputs": []
    },
    {
      "cell_type": "code",
      "metadata": {
        "colab": {
          "resources": {
            "http://localhost:8080/nbextensions/google.colab/files.js": {
              "data": "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",
              "ok": true,
              "headers": [
                [
                  "content-type",
                  "application/javascript"
                ]
              ],
              "status": 200,
              "status_text": "OK"
            }
          },
          "base_uri": "https://localhost:8080/",
          "height": 73
        },
        "id": "GCTLb1Jn2q1b",
        "outputId": "aa381530-5c17-4257-b3e6-8492bcd3ab1a"
      },
      "source": [
        "# Question B1: Download Wage.csv.\n",
        "from google.colab import files\n",
        "uploaded = files.upload()\n",
        "wage_data = pd.read_csv('Wage.csv')"
      ],
      "execution_count": 14,
      "outputs": [
        {
          "output_type": "display_data",
          "data": {
            "text/html": [
              "\n",
              "     <input type=\"file\" id=\"files-4791237d-c267-4f1e-a9b9-5e1dfe974099\" name=\"files[]\" multiple disabled\n",
              "        style=\"border:none\" />\n",
              "     <output id=\"result-4791237d-c267-4f1e-a9b9-5e1dfe974099\">\n",
              "      Upload widget is only available when the cell has been executed in the\n",
              "      current browser session. Please rerun this cell to enable.\n",
              "      </output>\n",
              "      <script src=\"/nbextensions/google.colab/files.js\"></script> "
            ],
            "text/plain": [
              "<IPython.core.display.HTML object>"
            ]
          },
          "metadata": {}
        },
        {
          "output_type": "stream",
          "name": "stdout",
          "text": [
            "Saving Wage.csv to Wage (2).csv\n"
          ]
        }
      ]
    },
    {
      "cell_type": "code",
      "metadata": {
        "colab": {
          "base_uri": "https://localhost:8080/",
          "height": 202
        },
        "id": "Ah--0EoF6TWx",
        "outputId": "e7bcb605-5e7a-474e-8eb3-5f0ee757a3cd"
      },
      "source": [
        "# Question B1: Do some data exploration on 'Wage.csv'.\n",
        "wage_data.head()"
      ],
      "execution_count": 15,
      "outputs": [
        {
          "output_type": "execute_result",
          "data": {
            "text/html": [
              "<div>\n",
              "<style scoped>\n",
              "    .dataframe tbody tr th:only-of-type {\n",
              "        vertical-align: middle;\n",
              "    }\n",
              "\n",
              "    .dataframe tbody tr th {\n",
              "        vertical-align: top;\n",
              "    }\n",
              "\n",
              "    .dataframe thead th {\n",
              "        text-align: right;\n",
              "    }\n",
              "</style>\n",
              "<table border=\"1\" class=\"dataframe\">\n",
              "  <thead>\n",
              "    <tr style=\"text-align: right;\">\n",
              "      <th></th>\n",
              "      <th>Unnamed: 0</th>\n",
              "      <th>year</th>\n",
              "      <th>age</th>\n",
              "      <th>sex</th>\n",
              "      <th>maritl</th>\n",
              "      <th>race</th>\n",
              "      <th>education</th>\n",
              "      <th>region</th>\n",
              "      <th>jobclass</th>\n",
              "      <th>health</th>\n",
              "      <th>health_ins</th>\n",
              "      <th>logwage</th>\n",
              "      <th>wage</th>\n",
              "    </tr>\n",
              "  </thead>\n",
              "  <tbody>\n",
              "    <tr>\n",
              "      <th>0</th>\n",
              "      <td>231655</td>\n",
              "      <td>2006</td>\n",
              "      <td>18</td>\n",
              "      <td>1. Male</td>\n",
              "      <td>1. Never Married</td>\n",
              "      <td>1. White</td>\n",
              "      <td>1. &lt; HS Grad</td>\n",
              "      <td>2. Middle Atlantic</td>\n",
              "      <td>1. Industrial</td>\n",
              "      <td>1. &lt;=Good</td>\n",
              "      <td>2. No</td>\n",
              "      <td>4.318063</td>\n",
              "      <td>75.043154</td>\n",
              "    </tr>\n",
              "    <tr>\n",
              "      <th>1</th>\n",
              "      <td>86582</td>\n",
              "      <td>2004</td>\n",
              "      <td>24</td>\n",
              "      <td>1. Male</td>\n",
              "      <td>1. Never Married</td>\n",
              "      <td>1. White</td>\n",
              "      <td>4. College Grad</td>\n",
              "      <td>2. Middle Atlantic</td>\n",
              "      <td>2. Information</td>\n",
              "      <td>2. &gt;=Very Good</td>\n",
              "      <td>2. No</td>\n",
              "      <td>4.255273</td>\n",
              "      <td>70.476020</td>\n",
              "    </tr>\n",
              "    <tr>\n",
              "      <th>2</th>\n",
              "      <td>161300</td>\n",
              "      <td>2003</td>\n",
              "      <td>45</td>\n",
              "      <td>1. Male</td>\n",
              "      <td>2. Married</td>\n",
              "      <td>1. White</td>\n",
              "      <td>3. Some College</td>\n",
              "      <td>2. Middle Atlantic</td>\n",
              "      <td>1. Industrial</td>\n",
              "      <td>1. &lt;=Good</td>\n",
              "      <td>1. Yes</td>\n",
              "      <td>4.875061</td>\n",
              "      <td>130.982177</td>\n",
              "    </tr>\n",
              "    <tr>\n",
              "      <th>3</th>\n",
              "      <td>155159</td>\n",
              "      <td>2003</td>\n",
              "      <td>43</td>\n",
              "      <td>1. Male</td>\n",
              "      <td>2. Married</td>\n",
              "      <td>3. Asian</td>\n",
              "      <td>4. College Grad</td>\n",
              "      <td>2. Middle Atlantic</td>\n",
              "      <td>2. Information</td>\n",
              "      <td>2. &gt;=Very Good</td>\n",
              "      <td>1. Yes</td>\n",
              "      <td>5.041393</td>\n",
              "      <td>154.685293</td>\n",
              "    </tr>\n",
              "    <tr>\n",
              "      <th>4</th>\n",
              "      <td>11443</td>\n",
              "      <td>2005</td>\n",
              "      <td>50</td>\n",
              "      <td>1. Male</td>\n",
              "      <td>4. Divorced</td>\n",
              "      <td>1. White</td>\n",
              "      <td>2. HS Grad</td>\n",
              "      <td>2. Middle Atlantic</td>\n",
              "      <td>2. Information</td>\n",
              "      <td>1. &lt;=Good</td>\n",
              "      <td>1. Yes</td>\n",
              "      <td>4.318063</td>\n",
              "      <td>75.043154</td>\n",
              "    </tr>\n",
              "  </tbody>\n",
              "</table>\n",
              "</div>"
            ],
            "text/plain": [
              "   Unnamed: 0  year  age  ... health_ins   logwage        wage\n",
              "0      231655  2006   18  ...      2. No  4.318063   75.043154\n",
              "1       86582  2004   24  ...      2. No  4.255273   70.476020\n",
              "2      161300  2003   45  ...     1. Yes  4.875061  130.982177\n",
              "3      155159  2003   43  ...     1. Yes  5.041393  154.685293\n",
              "4       11443  2005   50  ...     1. Yes  4.318063   75.043154\n",
              "\n",
              "[5 rows x 13 columns]"
            ]
          },
          "metadata": {},
          "execution_count": 15
        }
      ]
    },
    {
      "cell_type": "code",
      "metadata": {
        "colab": {
          "base_uri": "https://localhost:8080/"
        },
        "id": "Fk8Ny9V_868i",
        "outputId": "a5b0f485-943e-46a7-b12a-6a5b19674ccb"
      },
      "source": [
        "wage_data.shape"
      ],
      "execution_count": 16,
      "outputs": [
        {
          "output_type": "execute_result",
          "data": {
            "text/plain": [
              "(3000, 13)"
            ]
          },
          "metadata": {},
          "execution_count": 16
        }
      ]
    },
    {
      "cell_type": "code",
      "metadata": {
        "colab": {
          "base_uri": "https://localhost:8080/"
        },
        "id": "MSHQ6RgL8_VQ",
        "outputId": "69011493-45ff-4bf6-f788-7c9b2e3522a1"
      },
      "source": [
        "wage_data.dtypes"
      ],
      "execution_count": 17,
      "outputs": [
        {
          "output_type": "execute_result",
          "data": {
            "text/plain": [
              "Unnamed: 0      int64\n",
              "year            int64\n",
              "age             int64\n",
              "sex            object\n",
              "maritl         object\n",
              "race           object\n",
              "education      object\n",
              "region         object\n",
              "jobclass       object\n",
              "health         object\n",
              "health_ins     object\n",
              "logwage       float64\n",
              "wage          float64\n",
              "dtype: object"
            ]
          },
          "metadata": {},
          "execution_count": 17
        }
      ]
    },
    {
      "cell_type": "code",
      "metadata": {
        "id": "oeELH0j4-YQe",
        "colab": {
          "base_uri": "https://localhost:8080/",
          "height": 385
        },
        "outputId": "fe8d23b3-0a34-4e7b-a94d-23905db8c24a"
      },
      "source": [
        "wage_data.describe(include = 'all')"
      ],
      "execution_count": 18,
      "outputs": [
        {
          "output_type": "execute_result",
          "data": {
            "text/html": [
              "<div>\n",
              "<style scoped>\n",
              "    .dataframe tbody tr th:only-of-type {\n",
              "        vertical-align: middle;\n",
              "    }\n",
              "\n",
              "    .dataframe tbody tr th {\n",
              "        vertical-align: top;\n",
              "    }\n",
              "\n",
              "    .dataframe thead th {\n",
              "        text-align: right;\n",
              "    }\n",
              "</style>\n",
              "<table border=\"1\" class=\"dataframe\">\n",
              "  <thead>\n",
              "    <tr style=\"text-align: right;\">\n",
              "      <th></th>\n",
              "      <th>Unnamed: 0</th>\n",
              "      <th>year</th>\n",
              "      <th>age</th>\n",
              "      <th>sex</th>\n",
              "      <th>maritl</th>\n",
              "      <th>race</th>\n",
              "      <th>education</th>\n",
              "      <th>region</th>\n",
              "      <th>jobclass</th>\n",
              "      <th>health</th>\n",
              "      <th>health_ins</th>\n",
              "      <th>logwage</th>\n",
              "      <th>wage</th>\n",
              "    </tr>\n",
              "  </thead>\n",
              "  <tbody>\n",
              "    <tr>\n",
              "      <th>count</th>\n",
              "      <td>3000.000000</td>\n",
              "      <td>3000.000000</td>\n",
              "      <td>3000.000000</td>\n",
              "      <td>3000</td>\n",
              "      <td>3000</td>\n",
              "      <td>3000</td>\n",
              "      <td>3000</td>\n",
              "      <td>3000</td>\n",
              "      <td>3000</td>\n",
              "      <td>3000</td>\n",
              "      <td>3000</td>\n",
              "      <td>3000.000000</td>\n",
              "      <td>3000.000000</td>\n",
              "    </tr>\n",
              "    <tr>\n",
              "      <th>unique</th>\n",
              "      <td>NaN</td>\n",
              "      <td>NaN</td>\n",
              "      <td>NaN</td>\n",
              "      <td>1</td>\n",
              "      <td>5</td>\n",
              "      <td>4</td>\n",
              "      <td>5</td>\n",
              "      <td>1</td>\n",
              "      <td>2</td>\n",
              "      <td>2</td>\n",
              "      <td>2</td>\n",
              "      <td>NaN</td>\n",
              "      <td>NaN</td>\n",
              "    </tr>\n",
              "    <tr>\n",
              "      <th>top</th>\n",
              "      <td>NaN</td>\n",
              "      <td>NaN</td>\n",
              "      <td>NaN</td>\n",
              "      <td>1. Male</td>\n",
              "      <td>2. Married</td>\n",
              "      <td>1. White</td>\n",
              "      <td>2. HS Grad</td>\n",
              "      <td>2. Middle Atlantic</td>\n",
              "      <td>1. Industrial</td>\n",
              "      <td>2. &gt;=Very Good</td>\n",
              "      <td>1. Yes</td>\n",
              "      <td>NaN</td>\n",
              "      <td>NaN</td>\n",
              "    </tr>\n",
              "    <tr>\n",
              "      <th>freq</th>\n",
              "      <td>NaN</td>\n",
              "      <td>NaN</td>\n",
              "      <td>NaN</td>\n",
              "      <td>3000</td>\n",
              "      <td>2074</td>\n",
              "      <td>2480</td>\n",
              "      <td>971</td>\n",
              "      <td>3000</td>\n",
              "      <td>1544</td>\n",
              "      <td>2142</td>\n",
              "      <td>2083</td>\n",
              "      <td>NaN</td>\n",
              "      <td>NaN</td>\n",
              "    </tr>\n",
              "    <tr>\n",
              "      <th>mean</th>\n",
              "      <td>218883.373000</td>\n",
              "      <td>2005.791000</td>\n",
              "      <td>42.414667</td>\n",
              "      <td>NaN</td>\n",
              "      <td>NaN</td>\n",
              "      <td>NaN</td>\n",
              "      <td>NaN</td>\n",
              "      <td>NaN</td>\n",
              "      <td>NaN</td>\n",
              "      <td>NaN</td>\n",
              "      <td>NaN</td>\n",
              "      <td>4.653905</td>\n",
              "      <td>111.703608</td>\n",
              "    </tr>\n",
              "    <tr>\n",
              "      <th>std</th>\n",
              "      <td>145654.072587</td>\n",
              "      <td>2.026167</td>\n",
              "      <td>11.542406</td>\n",
              "      <td>NaN</td>\n",
              "      <td>NaN</td>\n",
              "      <td>NaN</td>\n",
              "      <td>NaN</td>\n",
              "      <td>NaN</td>\n",
              "      <td>NaN</td>\n",
              "      <td>NaN</td>\n",
              "      <td>NaN</td>\n",
              "      <td>0.351753</td>\n",
              "      <td>41.728595</td>\n",
              "    </tr>\n",
              "    <tr>\n",
              "      <th>min</th>\n",
              "      <td>7373.000000</td>\n",
              "      <td>2003.000000</td>\n",
              "      <td>18.000000</td>\n",
              "      <td>NaN</td>\n",
              "      <td>NaN</td>\n",
              "      <td>NaN</td>\n",
              "      <td>NaN</td>\n",
              "      <td>NaN</td>\n",
              "      <td>NaN</td>\n",
              "      <td>NaN</td>\n",
              "      <td>NaN</td>\n",
              "      <td>3.000000</td>\n",
              "      <td>20.085537</td>\n",
              "    </tr>\n",
              "    <tr>\n",
              "      <th>25%</th>\n",
              "      <td>85622.250000</td>\n",
              "      <td>2004.000000</td>\n",
              "      <td>33.750000</td>\n",
              "      <td>NaN</td>\n",
              "      <td>NaN</td>\n",
              "      <td>NaN</td>\n",
              "      <td>NaN</td>\n",
              "      <td>NaN</td>\n",
              "      <td>NaN</td>\n",
              "      <td>NaN</td>\n",
              "      <td>NaN</td>\n",
              "      <td>4.447158</td>\n",
              "      <td>85.383940</td>\n",
              "    </tr>\n",
              "    <tr>\n",
              "      <th>50%</th>\n",
              "      <td>228799.500000</td>\n",
              "      <td>2006.000000</td>\n",
              "      <td>42.000000</td>\n",
              "      <td>NaN</td>\n",
              "      <td>NaN</td>\n",
              "      <td>NaN</td>\n",
              "      <td>NaN</td>\n",
              "      <td>NaN</td>\n",
              "      <td>NaN</td>\n",
              "      <td>NaN</td>\n",
              "      <td>NaN</td>\n",
              "      <td>4.653213</td>\n",
              "      <td>104.921507</td>\n",
              "    </tr>\n",
              "    <tr>\n",
              "      <th>75%</th>\n",
              "      <td>374759.500000</td>\n",
              "      <td>2008.000000</td>\n",
              "      <td>51.000000</td>\n",
              "      <td>NaN</td>\n",
              "      <td>NaN</td>\n",
              "      <td>NaN</td>\n",
              "      <td>NaN</td>\n",
              "      <td>NaN</td>\n",
              "      <td>NaN</td>\n",
              "      <td>NaN</td>\n",
              "      <td>NaN</td>\n",
              "      <td>4.857332</td>\n",
              "      <td>128.680488</td>\n",
              "    </tr>\n",
              "    <tr>\n",
              "      <th>max</th>\n",
              "      <td>453870.000000</td>\n",
              "      <td>2009.000000</td>\n",
              "      <td>80.000000</td>\n",
              "      <td>NaN</td>\n",
              "      <td>NaN</td>\n",
              "      <td>NaN</td>\n",
              "      <td>NaN</td>\n",
              "      <td>NaN</td>\n",
              "      <td>NaN</td>\n",
              "      <td>NaN</td>\n",
              "      <td>NaN</td>\n",
              "      <td>5.763128</td>\n",
              "      <td>318.342430</td>\n",
              "    </tr>\n",
              "  </tbody>\n",
              "</table>\n",
              "</div>"
            ],
            "text/plain": [
              "           Unnamed: 0         year  ...      logwage         wage\n",
              "count     3000.000000  3000.000000  ...  3000.000000  3000.000000\n",
              "unique            NaN          NaN  ...          NaN          NaN\n",
              "top               NaN          NaN  ...          NaN          NaN\n",
              "freq              NaN          NaN  ...          NaN          NaN\n",
              "mean    218883.373000  2005.791000  ...     4.653905   111.703608\n",
              "std     145654.072587     2.026167  ...     0.351753    41.728595\n",
              "min       7373.000000  2003.000000  ...     3.000000    20.085537\n",
              "25%      85622.250000  2004.000000  ...     4.447158    85.383940\n",
              "50%     228799.500000  2006.000000  ...     4.653213   104.921507\n",
              "75%     374759.500000  2008.000000  ...     4.857332   128.680488\n",
              "max     453870.000000  2009.000000  ...     5.763128   318.342430\n",
              "\n",
              "[11 rows x 13 columns]"
            ]
          },
          "metadata": {},
          "execution_count": 18
        }
      ]
    },
    {
      "cell_type": "code",
      "metadata": {
        "id": "duzOBrW59CSR"
      },
      "source": [
        "# Question B1: Extract necessary columns.\n",
        "data_x = wage_data['age']\n",
        "data_y = wage_data['wage']"
      ],
      "execution_count": 19,
      "outputs": []
    },
    {
      "cell_type": "code",
      "metadata": {
        "colab": {
          "base_uri": "https://localhost:8080/",
          "height": 282
        },
        "id": "yrM6qP_EJVam",
        "outputId": "68737977-9ad3-44c7-9170-326e2b96f0c2"
      },
      "source": [
        "# Querstion B1: Plot data.\n",
        "plt.scatter(data_x, data_y)\n",
        "plt.xlabel('Age')\n",
        "plt.ylabel('Wage')\n",
        "plt.show()"
      ],
      "execution_count": 20,
      "outputs": [
        {
          "output_type": "display_data",
          "data": {
            "image/png": "[encoded data removed]",
            "text/plain": [
              "<Figure size 432x288 with 1 Axes>"
            ]
          },
          "metadata": {}
        }
      ]
    },
    {
      "cell_type": "code",
      "metadata": {
        "colab": {
          "base_uri": "https://localhost:8080/"
        },
        "id": "ewvtrJ3d_WOh",
        "outputId": "83bc0f4f-a1ab-41fb-8556-d61d7e2c647c"
      },
      "source": [
        "# Question B1: Perform polynomial regression using 5-fold cross validation to find optimal degree.\n",
        "from sklearn.preprocessing import PolynomialFeatures\n",
        "from sklearn.model_selection import cross_val_score\n",
        "from sklearn.linear_model import LinearRegression\n",
        "from sklearn.model_selection import KFold\n",
        "degree_nth_list = np.arange(2, 19)\n",
        "X = np.array(data_x).reshape(-1, 1)\n",
        "y = np.array(data_y)\n",
        "k = 5\n",
        "kf_5 = KFold(n_splits = k, random_state = 5, shuffle = True)\n",
        "score_list = []\n",
        "for degree_nth in degree_nth_list:\n",
        "  polynomial_model = PolynomialFeatures(degree = degree_nth)\n",
        "  X_poly = polynomial_model.fit_transform(X)\n",
        "  linear_model = LinearRegression()\n",
        "  lr_model = linear_model.fit(X_poly, y)\n",
        "  y_pred = lr_model.predict(X_poly)\n",
        "  y_pred_array = np.array(y_pred).reshape(-1, 1)\n",
        "  score = cross_val_score(linear_model, y_pred_array, y, cv = kf_5, scoring = 'neg_mean_squared_error').mean()\n",
        "  score_list.append(abs(score))\n",
        "print(score_list)"
      ],
      "execution_count": 21,
      "outputs": [
        {
          "output_type": "stream",
          "name": "stdout",
          "text": [
            "[1600.9284224082257, 1595.1496171774884, 1593.4731769525113, 1593.0080914486664, 1592.017475023536, 1591.2234256309891, 1591.2860932173166, 1591.3736372905585, 1591.3293440128434, 1591.3252011036634, 1591.7006803330821, 1598.921228391237, 1607.6767303405102, 1619.6644986222013, 1633.765569165246, 1648.5978741314757, 1662.8936676172405]\n"
          ]
        }
      ]
    },
    {
      "cell_type": "code",
      "metadata": {
        "colab": {
          "base_uri": "https://localhost:8080/",
          "height": 316
        },
        "id": "IWCqNfVPMiiY",
        "outputId": "b3eb3ac0-e433-4eb9-8888-73e2d6b7284f"
      },
      "source": [
        "# Question B1: Plot MSE in function of polynomial degree.\n",
        "plt.scatter(degree_nth_list, score_list)\n",
        "plt.xlabel('Number of Polynomial Degrees')\n",
        "plt.ylabel('Mean Squarred Error')\n",
        "plt.title('MSE for Different Polynomial Degrees')"
      ],
      "execution_count": 22,
      "outputs": [
        {
          "output_type": "execute_result",
          "data": {
            "text/plain": [
              "Text(0.5, 1.0, 'MSE for Different Polynomial Degrees')"
            ]
          },
          "metadata": {},
          "execution_count": 22
        },
        {
          "output_type": "display_data",
          "data": {
            "image/png": "[encoded data removed]",
            "text/plain": [
              "<Figure size 432x288 with 1 Axes>"
            ]
          },
          "metadata": {}
        }
      ]
    },
    {
      "cell_type": "code",
      "metadata": {
        "colab": {
          "base_uri": "https://localhost:8080/"
        },
        "id": "KXU_ylibP2HT",
        "outputId": "2c2c30ea-a7cf-47ce-b998-f0b59617ed09"
      },
      "source": [
        "# Question B1: Compare the MSE of degree 7 with the rest.\n",
        "def percentage_difference(value1, value2):\n",
        "  Percentage = abs((value1 - value2)*100/value1)\n",
        "  return str(Percentage) + \" %\"\n",
        "MSE_7 = score_list[5]\n",
        "percentage_difference_list = []\n",
        "for MSE in score_list:\n",
        "  percentage_difference_MSE = percentage_difference(MSE_7, MSE)\n",
        "  percentage_difference_list.append(percentage_difference_MSE)\n",
        "print(percentage_difference_list)"
      ],
      "execution_count": 23,
      "outputs": [
        {
          "output_type": "stream",
          "name": "stdout",
          "text": [
            "['0.6099078621462696 %', '0.24674043149800504 %', '0.1413850051025991 %', '0.11215683410200886 %', '0.049901816410979 %', '0.0 %', '0.003938327284407366 %', '0.009440010569839175 %', '0.006656411673444247 %', '0.006396051681674052 %', '0.02999294092868986 %', '0.4837663043576287 %', '1.034003424314633 %', '1.7873714359084474 %', '2.673549348821776 %', '3.605681488615283 %', '4.504096711486695 %']\n"
          ]
        }
      ]
    },
    {
      "cell_type": "markdown",
      "metadata": {
        "id": "X_LFRm2jMcmL"
      },
      "source": [
        "### Question B1: Choose polynomial degree.\n",
        "Using 5-fold cross-validation, polynomial models of degrees 2 to 18 were tested for predicting wage based on age. The polynomial of degree 7 had the lowest mean squarred error (MSE) of 1591.22. However, the highest MSE was 1662.89 being the polynomial of degree 18. The MSE was relative static from degree 6 to 12 and onwards started to increase with the increase of polynomial degree. It is worthnoting that all the models have MSE that deviate by less than 5 % relative to the lowest value of MSE. Thus, it is possible to select a model with fewer degrees as that would computational advantageous. The polynomial of degree 2 is only 0.61 % higher in MSE and degree 3 of 0.25 %. Among these two, since the difference in MSE is very small between these two model, the model with the lowest degree will be selected being of degree 2. "
      ]
    },
    {
      "cell_type": "code",
      "metadata": {
        "id": "zCYOHLyhSfyD"
      },
      "source": [
        "# Question B1: Generate selected polynomial model.\n",
        "polynomial_model = PolynomialFeatures(degree = 2)\n",
        "X_poly_2 = polynomial_model.fit_transform(X)\n",
        "linear_model = LinearRegression()\n",
        "lr_model = linear_model.fit(X_poly_2, y)\n",
        "y_pred = lr_model.predict(X_poly_2)"
      ],
      "execution_count": 24,
      "outputs": []
    },
    {
      "cell_type": "code",
      "metadata": {
        "colab": {
          "base_uri": "https://localhost:8080/",
          "height": 298
        },
        "id": "6ppXFQAjWmEq",
        "outputId": "59dcb89c-b17f-4329-b6d4-a9ee1570f4cc"
      },
      "source": [
        "# Question B1: Make a plot of the resulting polynomial fit to the data.\n",
        "plt.scatter(data_x, data_y, color = \"green\")\n",
        "plt.xlabel('Age')\n",
        "plt.ylabel('Wage')\n",
        "plt.title('Predicting Wage Based On Age Using Polynomial Regression')\n",
        "plt.plot(X, y_pred,  color = \"red\", label = \"2nd Degree Polynomial Fit\")\n",
        "plt.legend()\n",
        "plt.show()"
      ],
      "execution_count": 25,
      "outputs": [
        {
          "output_type": "display_data",
          "data": {
            "image/png": "[encoded data removed]",
            "text/plain": [
              "<Figure size 432x288 with 1 Axes>"
            ]
          },
          "metadata": {}
        }
      ]
    },
    {
      "cell_type": "code",
      "metadata": {
        "id": "lo5E7Bh1uj9u",
        "colab": {
          "base_uri": "https://localhost:8080/",
          "height": 185
        },
        "outputId": "4e672b11-54e3-4b97-939e-886f36ffc4a7"
      },
      "source": [
        "# Question B2: Prepare bins/steps for step function.\n",
        "df_cut"
      ],
      "execution_count": 21,
      "outputs": [
        {
          "output_type": "error",
          "ename": "NameError",
          "evalue": "ignored",
          "traceback": [
            "\u001b[0;31m---------------------------------------------------------------------------\u001b[0m",
            "\u001b[0;31mNameError\u001b[0m                                 Traceback (most recent call last)",
            "\u001b[0;32m<ipython-input-21-8bc8dc3c8b79>\u001b[0m in \u001b[0;36m<module>\u001b[0;34m()\u001b[0m\n\u001b[1;32m      1\u001b[0m \u001b[0;31m# Question B2: Prepare bins/steps for step function.\u001b[0m\u001b[0;34m\u001b[0m\u001b[0;34m\u001b[0m\u001b[0;34m\u001b[0m\u001b[0m\n\u001b[0;32m----> 2\u001b[0;31m \u001b[0mdf_cut\u001b[0m\u001b[0;34m\u001b[0m\u001b[0;34m\u001b[0m\u001b[0m\n\u001b[0m",
            "\u001b[0;31mNameError\u001b[0m: name 'df_cut' is not defined"
          ]
        }
      ]
    },
    {
      "cell_type": "code",
      "metadata": {
        "id": "3hRjgmO90H39"
      },
      "source": [
        "# Question B2: Fit a step function to predict wage using age with cv to find the optimal number of cuts , and perform cross-validation to choose the optimal number of cuts. Make a plot of the fit obtained.\n",
        "from sklearn.model_selection import KFold\n",
        "from sklearn.metrics import mean_squared_error\n",
        "import statsmodels.api as sm\n",
        "X = data_x\n",
        "y = data_y\n",
        "k = 5\n",
        "kf_5 = KFold(n_splits = k, random_state = 12, shuffle = True)\n",
        "cut_list = np.arange(1,16)\n",
        "step_avg_mse_list = []\n",
        "for cut_value in cut_list:\n",
        "  step_mse_list = []\n",
        "  for train_index, test_index in kf_5.split(X):\n",
        "    X_train, X_test = X[train_index], X[test_index]\n",
        "    y_train, y_test = y[train_index], y[test_index]\n",
        "    df_cut, bins = pd.cut(X_train, cut_value, retbins=True, right=True)\n",
        "    df_steps = pd.concat([X_train, df_cut, y_train], keys = ['age','age_cuts','wage'], axis = 1)\n",
        "    df_steps_dummies = pd.get_dummies(df_cut)\n",
        "    step_fit = sm.GLM(df_steps.wage, df_steps_dummies).fit()\n",
        "    #bin_mapping = np.digitize(X_test, bin) \n",
        "    #X_valid = pd.get_dummies(bin_mapping)\n",
        "    #y_pred = step_fit.predict(X_valid)\n",
        "    mse_step = mean_squared_error(y_test, y_pred)\n",
        "    step_mse_list.append(mse_step)\n",
        "  step_avg_mse = sum(step_mse_list)/len(step_mse_list)\n",
        "  step_avg_mse_list.append(step_avg_mse)\n",
        "  print(step_avg_mse_list)"
      ],
      "execution_count": null,
      "outputs": []
    },
    {
      "cell_type": "code",
      "metadata": {
        "id": "mCSVpmLwxdW8"
      },
      "source": [
        "# Question B2: Plot the fit."
      ],
      "execution_count": null,
      "outputs": []
    },
    {
      "cell_type": "markdown",
      "metadata": {
        "id": "7GLQakVZ41gL"
      },
      "source": [
        "\n",
        "## **Part C** <font color=\"blue\">(4 points)</font>\n",
        "Apply SVM and random forests to a data set of your choice. Be sure to fit the models on a training set and to evaluate their performance on a test set. How accurate are the results compared to each other? Which of them yields the best performance?\n"
      ]
    },
    {
      "cell_type": "markdown",
      "metadata": {
        "id": "MMBNRL0X7PSN"
      },
      "source": [
        "## Part C"
      ]
    },
    {
      "cell_type": "markdown",
      "metadata": {
        "id": "urYQfmfWY0tj"
      },
      "source": [
        "### Question C: The dataset selection\n",
        "The dataset selected is from a kaggle repository. The dataset contains the calculated body fat percentage for 252 men with their various body circumference measurements. The dataset will be used to create a predictive model using random forest and support vector machines to predict body fat percentage. The 15 features for the herein dataset are the following:    \n",
        "\n",
        "*   Density determined from underwater weighing,\n",
        "*   Percent body fat from Siri's (1956) equation,\n",
        "*   Age (years),\n",
        "*   Weight (lbs),\n",
        "*   Height (inches),\n",
        "*   Neck circumference (cm),\n",
        "*   Chest circumference (cm),\n",
        "*   Abdomen 2 circumference (cm),\n",
        "*   Hip circumference (cm),\n",
        "*   Thigh circumference (cm),\n",
        "*   Knee circumference (cm),\n",
        "*   Ankle circumference (cm),\n",
        "*   Biceps (extended) circumference (cm),\n",
        "*   Forearm circumference (cm),\n",
        "*   Wrist circumference (cm).\n",
        "\n",
        "For more information on the sources or details of the dataset, please visit the following link: https://www.kaggle.com/fedesoriano/body-fat-prediction-dataset?select=bodyfat.csv.\n"
      ]
    },
    {
      "cell_type": "code",
      "metadata": {
        "id": "vnkNnx9hzy0U"
      },
      "source": [
        "import pandas as pd\n",
        "import matplotlib.pyplot as plt\n",
        "import seaborn as sns; sns.set_theme()"
      ],
      "execution_count": 31,
      "outputs": []
    },
    {
      "cell_type": "code",
      "metadata": {
        "id": "lbKK1KSxJnb8",
        "colab": {
          "resources": {
            "http://localhost:8080/nbextensions/google.colab/files.js": {
              "data": "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",
              "ok": true,
              "headers": [
                [
                  "content-type",
                  "application/javascript"
                ]
              ],
              "status": 200,
              "status_text": "OK"
            }
          },
          "base_uri": "https://localhost:8080/",
          "height": 73
        },
        "outputId": "c69570db-15e3-4355-a566-501585b32fcb"
      },
      "source": [
        "# Question C: Dowload Dataset.\n",
        "from google.colab import files\n",
        "uploaded = files.upload()\n",
        "body_fat_data = pd.read_csv('Bodyfat.csv')"
      ],
      "execution_count": 32,
      "outputs": [
        {
          "output_type": "display_data",
          "data": {
            "text/html": [
              "\n",
              "     <input type=\"file\" id=\"files-36b445e1-f726-4cda-b179-f6bccf838dcd\" name=\"files[]\" multiple disabled\n",
              "        style=\"border:none\" />\n",
              "     <output id=\"result-36b445e1-f726-4cda-b179-f6bccf838dcd\">\n",
              "      Upload widget is only available when the cell has been executed in the\n",
              "      current browser session. Please rerun this cell to enable.\n",
              "      </output>\n",
              "      <script src=\"/nbextensions/google.colab/files.js\"></script> "
            ],
            "text/plain": [
              "<IPython.core.display.HTML object>"
            ]
          },
          "metadata": {}
        },
        {
          "output_type": "stream",
          "name": "stdout",
          "text": [
            "Saving Bodyfat.csv to Bodyfat (2).csv\n"
          ]
        }
      ]
    },
    {
      "cell_type": "code",
      "metadata": {
        "id": "Fpx1XeLkz7C2",
        "colab": {
          "base_uri": "https://localhost:8080/",
          "height": 202
        },
        "outputId": "dc197103-5e03-4e38-a32f-2eeb7a5f7bd0"
      },
      "source": [
        "# Question C: Conduct some data exploration on dataset.\n",
        "body_fat_data.head()"
      ],
      "execution_count": 33,
      "outputs": [
        {
          "output_type": "execute_result",
          "data": {
            "text/html": [
              "<div>\n",
              "<style scoped>\n",
              "    .dataframe tbody tr th:only-of-type {\n",
              "        vertical-align: middle;\n",
              "    }\n",
              "\n",
              "    .dataframe tbody tr th {\n",
              "        vertical-align: top;\n",
              "    }\n",
              "\n",
              "    .dataframe thead th {\n",
              "        text-align: right;\n",
              "    }\n",
              "</style>\n",
              "<table border=\"1\" class=\"dataframe\">\n",
              "  <thead>\n",
              "    <tr style=\"text-align: right;\">\n",
              "      <th></th>\n",
              "      <th>Density</th>\n",
              "      <th>BodyFat</th>\n",
              "      <th>Age</th>\n",
              "      <th>Weight</th>\n",
              "      <th>Height</th>\n",
              "      <th>Neck</th>\n",
              "      <th>Chest</th>\n",
              "      <th>Abdomen</th>\n",
              "      <th>Hip</th>\n",
              "      <th>Thigh</th>\n",
              "      <th>Knee</th>\n",
              "      <th>Ankle</th>\n",
              "      <th>Biceps</th>\n",
              "      <th>Forearm</th>\n",
              "      <th>Wrist</th>\n",
              "    </tr>\n",
              "  </thead>\n",
              "  <tbody>\n",
              "    <tr>\n",
              "      <th>0</th>\n",
              "      <td>1.0708</td>\n",
              "      <td>12.3</td>\n",
              "      <td>23</td>\n",
              "      <td>154.25</td>\n",
              "      <td>67.75</td>\n",
              "      <td>36.2</td>\n",
              "      <td>93.1</td>\n",
              "      <td>85.2</td>\n",
              "      <td>94.5</td>\n",
              "      <td>59.0</td>\n",
              "      <td>37.3</td>\n",
              "      <td>21.9</td>\n",
              "      <td>32.0</td>\n",
              "      <td>27.4</td>\n",
              "      <td>17.1</td>\n",
              "    </tr>\n",
              "    <tr>\n",
              "      <th>1</th>\n",
              "      <td>1.0853</td>\n",
              "      <td>6.1</td>\n",
              "      <td>22</td>\n",
              "      <td>173.25</td>\n",
              "      <td>72.25</td>\n",
              "      <td>38.5</td>\n",
              "      <td>93.6</td>\n",
              "      <td>83.0</td>\n",
              "      <td>98.7</td>\n",
              "      <td>58.7</td>\n",
              "      <td>37.3</td>\n",
              "      <td>23.4</td>\n",
              "      <td>30.5</td>\n",
              "      <td>28.9</td>\n",
              "      <td>18.2</td>\n",
              "    </tr>\n",
              "    <tr>\n",
              "      <th>2</th>\n",
              "      <td>1.0414</td>\n",
              "      <td>25.3</td>\n",
              "      <td>22</td>\n",
              "      <td>154.00</td>\n",
              "      <td>66.25</td>\n",
              "      <td>34.0</td>\n",
              "      <td>95.8</td>\n",
              "      <td>87.9</td>\n",
              "      <td>99.2</td>\n",
              "      <td>59.6</td>\n",
              "      <td>38.9</td>\n",
              "      <td>24.0</td>\n",
              "      <td>28.8</td>\n",
              "      <td>25.2</td>\n",
              "      <td>16.6</td>\n",
              "    </tr>\n",
              "    <tr>\n",
              "      <th>3</th>\n",
              "      <td>1.0751</td>\n",
              "      <td>10.4</td>\n",
              "      <td>26</td>\n",
              "      <td>184.75</td>\n",
              "      <td>72.25</td>\n",
              "      <td>37.4</td>\n",
              "      <td>101.8</td>\n",
              "      <td>86.4</td>\n",
              "      <td>101.2</td>\n",
              "      <td>60.1</td>\n",
              "      <td>37.3</td>\n",
              "      <td>22.8</td>\n",
              "      <td>32.4</td>\n",
              "      <td>29.4</td>\n",
              "      <td>18.2</td>\n",
              "    </tr>\n",
              "    <tr>\n",
              "      <th>4</th>\n",
              "      <td>1.0340</td>\n",
              "      <td>28.7</td>\n",
              "      <td>24</td>\n",
              "      <td>184.25</td>\n",
              "      <td>71.25</td>\n",
              "      <td>34.4</td>\n",
              "      <td>97.3</td>\n",
              "      <td>100.0</td>\n",
              "      <td>101.9</td>\n",
              "      <td>63.2</td>\n",
              "      <td>42.2</td>\n",
              "      <td>24.0</td>\n",
              "      <td>32.2</td>\n",
              "      <td>27.7</td>\n",
              "      <td>17.7</td>\n",
              "    </tr>\n",
              "  </tbody>\n",
              "</table>\n",
              "</div>"
            ],
            "text/plain": [
              "   Density  BodyFat  Age  Weight  Height  ...  Knee  Ankle  Biceps  Forearm  Wrist\n",
              "0   1.0708     12.3   23  154.25   67.75  ...  37.3   21.9    32.0     27.4   17.1\n",
              "1   1.0853      6.1   22  173.25   72.25  ...  37.3   23.4    30.5     28.9   18.2\n",
              "2   1.0414     25.3   22  154.00   66.25  ...  38.9   24.0    28.8     25.2   16.6\n",
              "3   1.0751     10.4   26  184.75   72.25  ...  37.3   22.8    32.4     29.4   18.2\n",
              "4   1.0340     28.7   24  184.25   71.25  ...  42.2   24.0    32.2     27.7   17.7\n",
              "\n",
              "[5 rows x 15 columns]"
            ]
          },
          "metadata": {},
          "execution_count": 33
        }
      ]
    },
    {
      "cell_type": "code",
      "metadata": {
        "id": "9Nnhwlr70DAE",
        "colab": {
          "base_uri": "https://localhost:8080/"
        },
        "outputId": "7f0180c4-af39-4eea-873e-355444d2eac7"
      },
      "source": [
        "body_fat_data.dtypes"
      ],
      "execution_count": 34,
      "outputs": [
        {
          "output_type": "execute_result",
          "data": {
            "text/plain": [
              "Density    float64\n",
              "BodyFat    float64\n",
              "Age          int64\n",
              "Weight     float64\n",
              "Height     float64\n",
              "Neck       float64\n",
              "Chest      float64\n",
              "Abdomen    float64\n",
              "Hip        float64\n",
              "Thigh      float64\n",
              "Knee       float64\n",
              "Ankle      float64\n",
              "Biceps     float64\n",
              "Forearm    float64\n",
              "Wrist      float64\n",
              "dtype: object"
            ]
          },
          "metadata": {},
          "execution_count": 34
        }
      ]
    },
    {
      "cell_type": "code",
      "metadata": {
        "id": "2ee80ZSy0FwJ",
        "colab": {
          "base_uri": "https://localhost:8080/"
        },
        "outputId": "2f59c627-9680-473a-982e-eaa79f7f7f05"
      },
      "source": [
        "body_fat_data.columns"
      ],
      "execution_count": 35,
      "outputs": [
        {
          "output_type": "execute_result",
          "data": {
            "text/plain": [
              "Index(['Density', 'BodyFat', 'Age', 'Weight', 'Height', 'Neck', 'Chest',\n",
              "       'Abdomen', 'Hip', 'Thigh', 'Knee', 'Ankle', 'Biceps', 'Forearm',\n",
              "       'Wrist'],\n",
              "      dtype='object')"
            ]
          },
          "metadata": {},
          "execution_count": 35
        }
      ]
    },
    {
      "cell_type": "code",
      "metadata": {
        "id": "Zvx3tgtQ0LnA",
        "colab": {
          "base_uri": "https://localhost:8080/",
          "height": 294
        },
        "outputId": "a41cc0d3-5dd7-42cd-ae70-8df91f227778"
      },
      "source": [
        "body_fat_data.describe(include = 'all')"
      ],
      "execution_count": 36,
      "outputs": [
        {
          "output_type": "execute_result",
          "data": {
            "text/html": [
              "<div>\n",
              "<style scoped>\n",
              "    .dataframe tbody tr th:only-of-type {\n",
              "        vertical-align: middle;\n",
              "    }\n",
              "\n",
              "    .dataframe tbody tr th {\n",
              "        vertical-align: top;\n",
              "    }\n",
              "\n",
              "    .dataframe thead th {\n",
              "        text-align: right;\n",
              "    }\n",
              "</style>\n",
              "<table border=\"1\" class=\"dataframe\">\n",
              "  <thead>\n",
              "    <tr style=\"text-align: right;\">\n",
              "      <th></th>\n",
              "      <th>Density</th>\n",
              "      <th>BodyFat</th>\n",
              "      <th>Age</th>\n",
              "      <th>Weight</th>\n",
              "      <th>Height</th>\n",
              "      <th>Neck</th>\n",
              "      <th>Chest</th>\n",
              "      <th>Abdomen</th>\n",
              "      <th>Hip</th>\n",
              "      <th>Thigh</th>\n",
              "      <th>Knee</th>\n",
              "      <th>Ankle</th>\n",
              "      <th>Biceps</th>\n",
              "      <th>Forearm</th>\n",
              "      <th>Wrist</th>\n",
              "    </tr>\n",
              "  </thead>\n",
              "  <tbody>\n",
              "    <tr>\n",
              "      <th>count</th>\n",
              "      <td>252.000000</td>\n",
              "      <td>252.000000</td>\n",
              "      <td>252.000000</td>\n",
              "      <td>252.000000</td>\n",
              "      <td>252.000000</td>\n",
              "      <td>252.000000</td>\n",
              "      <td>252.000000</td>\n",
              "      <td>252.000000</td>\n",
              "      <td>252.000000</td>\n",
              "      <td>252.000000</td>\n",
              "      <td>252.000000</td>\n",
              "      <td>252.000000</td>\n",
              "      <td>252.000000</td>\n",
              "      <td>252.000000</td>\n",
              "      <td>252.000000</td>\n",
              "    </tr>\n",
              "    <tr>\n",
              "      <th>mean</th>\n",
              "      <td>1.055574</td>\n",
              "      <td>19.150794</td>\n",
              "      <td>44.884921</td>\n",
              "      <td>178.924405</td>\n",
              "      <td>70.148810</td>\n",
              "      <td>37.992063</td>\n",
              "      <td>100.824206</td>\n",
              "      <td>92.555952</td>\n",
              "      <td>99.904762</td>\n",
              "      <td>59.405952</td>\n",
              "      <td>38.590476</td>\n",
              "      <td>23.102381</td>\n",
              "      <td>32.273413</td>\n",
              "      <td>28.663889</td>\n",
              "      <td>18.229762</td>\n",
              "    </tr>\n",
              "    <tr>\n",
              "      <th>std</th>\n",
              "      <td>0.019031</td>\n",
              "      <td>8.368740</td>\n",
              "      <td>12.602040</td>\n",
              "      <td>29.389160</td>\n",
              "      <td>3.662856</td>\n",
              "      <td>2.430913</td>\n",
              "      <td>8.430476</td>\n",
              "      <td>10.783077</td>\n",
              "      <td>7.164058</td>\n",
              "      <td>5.249952</td>\n",
              "      <td>2.411805</td>\n",
              "      <td>1.694893</td>\n",
              "      <td>3.021274</td>\n",
              "      <td>2.020691</td>\n",
              "      <td>0.933585</td>\n",
              "    </tr>\n",
              "    <tr>\n",
              "      <th>min</th>\n",
              "      <td>0.995000</td>\n",
              "      <td>0.000000</td>\n",
              "      <td>22.000000</td>\n",
              "      <td>118.500000</td>\n",
              "      <td>29.500000</td>\n",
              "      <td>31.100000</td>\n",
              "      <td>79.300000</td>\n",
              "      <td>69.400000</td>\n",
              "      <td>85.000000</td>\n",
              "      <td>47.200000</td>\n",
              "      <td>33.000000</td>\n",
              "      <td>19.100000</td>\n",
              "      <td>24.800000</td>\n",
              "      <td>21.000000</td>\n",
              "      <td>15.800000</td>\n",
              "    </tr>\n",
              "    <tr>\n",
              "      <th>25%</th>\n",
              "      <td>1.041400</td>\n",
              "      <td>12.475000</td>\n",
              "      <td>35.750000</td>\n",
              "      <td>159.000000</td>\n",
              "      <td>68.250000</td>\n",
              "      <td>36.400000</td>\n",
              "      <td>94.350000</td>\n",
              "      <td>84.575000</td>\n",
              "      <td>95.500000</td>\n",
              "      <td>56.000000</td>\n",
              "      <td>36.975000</td>\n",
              "      <td>22.000000</td>\n",
              "      <td>30.200000</td>\n",
              "      <td>27.300000</td>\n",
              "      <td>17.600000</td>\n",
              "    </tr>\n",
              "    <tr>\n",
              "      <th>50%</th>\n",
              "      <td>1.054900</td>\n",
              "      <td>19.200000</td>\n",
              "      <td>43.000000</td>\n",
              "      <td>176.500000</td>\n",
              "      <td>70.000000</td>\n",
              "      <td>38.000000</td>\n",
              "      <td>99.650000</td>\n",
              "      <td>90.950000</td>\n",
              "      <td>99.300000</td>\n",
              "      <td>59.000000</td>\n",
              "      <td>38.500000</td>\n",
              "      <td>22.800000</td>\n",
              "      <td>32.050000</td>\n",
              "      <td>28.700000</td>\n",
              "      <td>18.300000</td>\n",
              "    </tr>\n",
              "    <tr>\n",
              "      <th>75%</th>\n",
              "      <td>1.070400</td>\n",
              "      <td>25.300000</td>\n",
              "      <td>54.000000</td>\n",
              "      <td>197.000000</td>\n",
              "      <td>72.250000</td>\n",
              "      <td>39.425000</td>\n",
              "      <td>105.375000</td>\n",
              "      <td>99.325000</td>\n",
              "      <td>103.525000</td>\n",
              "      <td>62.350000</td>\n",
              "      <td>39.925000</td>\n",
              "      <td>24.000000</td>\n",
              "      <td>34.325000</td>\n",
              "      <td>30.000000</td>\n",
              "      <td>18.800000</td>\n",
              "    </tr>\n",
              "    <tr>\n",
              "      <th>max</th>\n",
              "      <td>1.108900</td>\n",
              "      <td>47.500000</td>\n",
              "      <td>81.000000</td>\n",
              "      <td>363.150000</td>\n",
              "      <td>77.750000</td>\n",
              "      <td>51.200000</td>\n",
              "      <td>136.200000</td>\n",
              "      <td>148.100000</td>\n",
              "      <td>147.700000</td>\n",
              "      <td>87.300000</td>\n",
              "      <td>49.100000</td>\n",
              "      <td>33.900000</td>\n",
              "      <td>45.000000</td>\n",
              "      <td>34.900000</td>\n",
              "      <td>21.400000</td>\n",
              "    </tr>\n",
              "  </tbody>\n",
              "</table>\n",
              "</div>"
            ],
            "text/plain": [
              "          Density     BodyFat         Age  ...      Biceps     Forearm       Wrist\n",
              "count  252.000000  252.000000  252.000000  ...  252.000000  252.000000  252.000000\n",
              "mean     1.055574   19.150794   44.884921  ...   32.273413   28.663889   18.229762\n",
              "std      0.019031    8.368740   12.602040  ...    3.021274    2.020691    0.933585\n",
              "min      0.995000    0.000000   22.000000  ...   24.800000   21.000000   15.800000\n",
              "25%      1.041400   12.475000   35.750000  ...   30.200000   27.300000   17.600000\n",
              "50%      1.054900   19.200000   43.000000  ...   32.050000   28.700000   18.300000\n",
              "75%      1.070400   25.300000   54.000000  ...   34.325000   30.000000   18.800000\n",
              "max      1.108900   47.500000   81.000000  ...   45.000000   34.900000   21.400000\n",
              "\n",
              "[8 rows x 15 columns]"
            ]
          },
          "metadata": {},
          "execution_count": 36
        }
      ]
    },
    {
      "cell_type": "code",
      "metadata": {
        "id": "HAqbTVH_TcZX",
        "colab": {
          "base_uri": "https://localhost:8080/",
          "height": 1000
        },
        "outputId": "35d579e1-285a-41fe-dcc4-89590dbd340e"
      },
      "source": [
        "fig, ((ax0, ax1, ax2), (ax3, ax4, ax5), (ax6, ax7, ax8), (ax9, ax10, ax11), (ax12, ax13, ax14)) = plt.subplots(nrows = 5, ncols = 3, figsize = (15,15))\n",
        "ax0.hist(body_fat_data['Density'])\n",
        "ax0.set_title('Density')\n",
        "ax1.hist(body_fat_data['BodyFat'])\n",
        "ax1.set_title('BodyFat')\n",
        "ax2.hist(body_fat_data['Age'])\n",
        "ax2.set_title('Age')\n",
        "ax3.hist(body_fat_data['Weight'])\n",
        "ax3.set_title('Weight')\n",
        "ax4.hist(body_fat_data['Height'])\n",
        "ax4.set_title('Height')\n",
        "ax5.hist(body_fat_data['Neck'])\n",
        "ax5.set_title('Neck')\n",
        "ax6.hist(body_fat_data['Chest'])\n",
        "ax6.set_title('Chest')\n",
        "ax7.hist(body_fat_data['Abdomen'])\n",
        "ax7.set_title('Abdomen')\n",
        "ax8.hist(body_fat_data['Hip'])\n",
        "ax8.set_title('Hip')\n",
        "ax9.hist(body_fat_data['Thigh'])\n",
        "ax9.set_title('Thigh')\n",
        "ax10.hist(body_fat_data['Knee'])\n",
        "ax10.set_title('Knee')\n",
        "ax11.hist(body_fat_data['Ankle'])\n",
        "ax11.set_title('Ankle')\n",
        "ax12.hist(body_fat_data['Biceps'])\n",
        "ax12.set_title('Biceps')\n",
        "ax13.hist(body_fat_data['Forearm'])\n",
        "ax13.set_title('Forearm')\n",
        "ax14.hist(body_fat_data['Wrist'])\n",
        "ax14.set_title('Wrist')\n",
        "fig.tight_layout()\n",
        "plt.show();"
      ],
      "execution_count": 37,
      "outputs": [
        {
          "output_type": "display_data",
          "data": {
            "image/png": "[encoded data removed]",
            "text/plain": [
              "<Figure size 1080x1080 with 15 Axes>"
            ]
          },
          "metadata": {}
        }
      ]
    },
    {
      "cell_type": "code",
      "metadata": {
        "id": "0_6pve_mhatl",
        "colab": {
          "base_uri": "https://localhost:8080/",
          "height": 615
        },
        "outputId": "02444819-c8be-4226-e52e-aeefd130a2e3"
      },
      "source": [
        "bfd_corr = body_fat_data.corr()\n",
        "sns.set(rc = {'figure.figsize':(18,10)})\n",
        "sns.heatmap(bfd_corr, center = 0)"
      ],
      "execution_count": 38,
      "outputs": [
        {
          "output_type": "execute_result",
          "data": {
            "text/plain": [
              "<matplotlib.axes._subplots.AxesSubplot at 0x7f6a595ba9d0>"
            ]
          },
          "metadata": {},
          "execution_count": 38
        },
        {
          "output_type": "display_data",
          "data": {
            "image/png": "[encoded data removed]",
            "text/plain": [
              "<Figure size 1296x720 with 2 Axes>"
            ]
          },
          "metadata": {}
        }
      ]
    },
    {
      "cell_type": "code",
      "metadata": {
        "id": "LEf1scC8ieb-",
        "colab": {
          "base_uri": "https://localhost:8080/"
        },
        "outputId": "0c108ce1-8c8e-4a3d-e70e-8862c79d4220"
      },
      "source": [
        "body_fat_data.isnull().sum()"
      ],
      "execution_count": 39,
      "outputs": [
        {
          "output_type": "execute_result",
          "data": {
            "text/plain": [
              "Density    0\n",
              "BodyFat    0\n",
              "Age        0\n",
              "Weight     0\n",
              "Height     0\n",
              "Neck       0\n",
              "Chest      0\n",
              "Abdomen    0\n",
              "Hip        0\n",
              "Thigh      0\n",
              "Knee       0\n",
              "Ankle      0\n",
              "Biceps     0\n",
              "Forearm    0\n",
              "Wrist      0\n",
              "dtype: int64"
            ]
          },
          "metadata": {},
          "execution_count": 39
        }
      ]
    },
    {
      "cell_type": "code",
      "metadata": {
        "id": "OFZF2denkRHn",
        "colab": {
          "base_uri": "https://localhost:8080/"
        },
        "outputId": "f9b72303-e95d-49d7-e155-c4ac1d192c55"
      },
      "source": [
        "duplicateRowsDF = body_fat_data[body_fat_data.duplicated()]\n",
        "print(\"Duplicate Rows except first occurrence based on all columns are :\", duplicateRowsDF)"
      ],
      "execution_count": 40,
      "outputs": [
        {
          "output_type": "stream",
          "name": "stdout",
          "text": [
            "Duplicate Rows except first occurrence based on all columns are : Empty DataFrame\n",
            "Columns: [Density, BodyFat, Age, Weight, Height, Neck, Chest, Abdomen, Hip, Thigh, Knee, Ankle, Biceps, Forearm, Wrist]\n",
            "Index: []\n"
          ]
        }
      ]
    },
    {
      "cell_type": "markdown",
      "metadata": {
        "id": "FoIfx23LaRtK"
      },
      "source": [
        "### Question C: Obsrvations based on data exploration.\n",
        "*   The dataset has 15 features, whom all are numerical.\n",
        "*   The body fat percentage is calculated based on the density value. \n",
        "*   All the features are of type float, but only the ‘Age’ feature is of type integer. \n",
        "*   All columns have the same number of values, and the dataset is balanced.\n",
        "*   Most of the body measurements have a standard deviation less than 10 %. \n",
        "*   The average body fat from these observations is 19.15 %. \n",
        "*   Based on bivariate analysis, the body measurement features are highly linearly correlated between each other. However, the ‘Age’ and ‘Height' features correlate poorly in a linear fashion.\n",
        "*   There are no missing values in the dataset not duplicate observations. \n"
      ]
    },
    {
      "cell_type": "code",
      "metadata": {
        "id": "UdCbj8ftkpmr"
      },
      "source": [
        "# Question C: Segregate the predictors and target variable.\n",
        "X = body_fat_data[['Age', 'Weight', 'Height', 'Neck', 'Chest', 'Abdomen', 'Hip', 'Thigh', 'Knee', 'Ankle', 'Biceps', 'Forearm', 'Wrist']]\n",
        "y = body_fat_data['BodyFat']"
      ],
      "execution_count": 41,
      "outputs": []
    },
    {
      "cell_type": "code",
      "metadata": {
        "id": "PltsDQeslocx",
        "colab": {
          "base_uri": "https://localhost:8080/",
          "height": 202
        },
        "outputId": "d99a9a7e-4e32-42e8-ab6f-ed1f07d8cb77"
      },
      "source": [
        "X.head()"
      ],
      "execution_count": 42,
      "outputs": [
        {
          "output_type": "execute_result",
          "data": {
            "text/html": [
              "<div>\n",
              "<style scoped>\n",
              "    .dataframe tbody tr th:only-of-type {\n",
              "        vertical-align: middle;\n",
              "    }\n",
              "\n",
              "    .dataframe tbody tr th {\n",
              "        vertical-align: top;\n",
              "    }\n",
              "\n",
              "    .dataframe thead th {\n",
              "        text-align: right;\n",
              "    }\n",
              "</style>\n",
              "<table border=\"1\" class=\"dataframe\">\n",
              "  <thead>\n",
              "    <tr style=\"text-align: right;\">\n",
              "      <th></th>\n",
              "      <th>Age</th>\n",
              "      <th>Weight</th>\n",
              "      <th>Height</th>\n",
              "      <th>Neck</th>\n",
              "      <th>Chest</th>\n",
              "      <th>Abdomen</th>\n",
              "      <th>Hip</th>\n",
              "      <th>Thigh</th>\n",
              "      <th>Knee</th>\n",
              "      <th>Ankle</th>\n",
              "      <th>Biceps</th>\n",
              "      <th>Forearm</th>\n",
              "      <th>Wrist</th>\n",
              "    </tr>\n",
              "  </thead>\n",
              "  <tbody>\n",
              "    <tr>\n",
              "      <th>0</th>\n",
              "      <td>23</td>\n",
              "      <td>154.25</td>\n",
              "      <td>67.75</td>\n",
              "      <td>36.2</td>\n",
              "      <td>93.1</td>\n",
              "      <td>85.2</td>\n",
              "      <td>94.5</td>\n",
              "      <td>59.0</td>\n",
              "      <td>37.3</td>\n",
              "      <td>21.9</td>\n",
              "      <td>32.0</td>\n",
              "      <td>27.4</td>\n",
              "      <td>17.1</td>\n",
              "    </tr>\n",
              "    <tr>\n",
              "      <th>1</th>\n",
              "      <td>22</td>\n",
              "      <td>173.25</td>\n",
              "      <td>72.25</td>\n",
              "      <td>38.5</td>\n",
              "      <td>93.6</td>\n",
              "      <td>83.0</td>\n",
              "      <td>98.7</td>\n",
              "      <td>58.7</td>\n",
              "      <td>37.3</td>\n",
              "      <td>23.4</td>\n",
              "      <td>30.5</td>\n",
              "      <td>28.9</td>\n",
              "      <td>18.2</td>\n",
              "    </tr>\n",
              "    <tr>\n",
              "      <th>2</th>\n",
              "      <td>22</td>\n",
              "      <td>154.00</td>\n",
              "      <td>66.25</td>\n",
              "      <td>34.0</td>\n",
              "      <td>95.8</td>\n",
              "      <td>87.9</td>\n",
              "      <td>99.2</td>\n",
              "      <td>59.6</td>\n",
              "      <td>38.9</td>\n",
              "      <td>24.0</td>\n",
              "      <td>28.8</td>\n",
              "      <td>25.2</td>\n",
              "      <td>16.6</td>\n",
              "    </tr>\n",
              "    <tr>\n",
              "      <th>3</th>\n",
              "      <td>26</td>\n",
              "      <td>184.75</td>\n",
              "      <td>72.25</td>\n",
              "      <td>37.4</td>\n",
              "      <td>101.8</td>\n",
              "      <td>86.4</td>\n",
              "      <td>101.2</td>\n",
              "      <td>60.1</td>\n",
              "      <td>37.3</td>\n",
              "      <td>22.8</td>\n",
              "      <td>32.4</td>\n",
              "      <td>29.4</td>\n",
              "      <td>18.2</td>\n",
              "    </tr>\n",
              "    <tr>\n",
              "      <th>4</th>\n",
              "      <td>24</td>\n",
              "      <td>184.25</td>\n",
              "      <td>71.25</td>\n",
              "      <td>34.4</td>\n",
              "      <td>97.3</td>\n",
              "      <td>100.0</td>\n",
              "      <td>101.9</td>\n",
              "      <td>63.2</td>\n",
              "      <td>42.2</td>\n",
              "      <td>24.0</td>\n",
              "      <td>32.2</td>\n",
              "      <td>27.7</td>\n",
              "      <td>17.7</td>\n",
              "    </tr>\n",
              "  </tbody>\n",
              "</table>\n",
              "</div>"
            ],
            "text/plain": [
              "   Age  Weight  Height  Neck  Chest  ...  Knee  Ankle  Biceps  Forearm  Wrist\n",
              "0   23  154.25   67.75  36.2   93.1  ...  37.3   21.9    32.0     27.4   17.1\n",
              "1   22  173.25   72.25  38.5   93.6  ...  37.3   23.4    30.5     28.9   18.2\n",
              "2   22  154.00   66.25  34.0   95.8  ...  38.9   24.0    28.8     25.2   16.6\n",
              "3   26  184.75   72.25  37.4  101.8  ...  37.3   22.8    32.4     29.4   18.2\n",
              "4   24  184.25   71.25  34.4   97.3  ...  42.2   24.0    32.2     27.7   17.7\n",
              "\n",
              "[5 rows x 13 columns]"
            ]
          },
          "metadata": {},
          "execution_count": 42
        }
      ]
    },
    {
      "cell_type": "code",
      "metadata": {
        "id": "TS-P0znGlq7E",
        "colab": {
          "base_uri": "https://localhost:8080/"
        },
        "outputId": "2ffdca97-84ff-42e8-c890-5c082add98ac"
      },
      "source": [
        "y.head()"
      ],
      "execution_count": 43,
      "outputs": [
        {
          "output_type": "execute_result",
          "data": {
            "text/plain": [
              "0    12.3\n",
              "1     6.1\n",
              "2    25.3\n",
              "3    10.4\n",
              "4    28.7\n",
              "Name: BodyFat, dtype: float64"
            ]
          },
          "metadata": {},
          "execution_count": 43
        }
      ]
    },
    {
      "cell_type": "code",
      "metadata": {
        "id": "_Z9UOIaXo_WJ"
      },
      "source": [
        "# Question C: Split the dataset into training (70%) and test sets (30%).\n",
        "from sklearn.model_selection import train_test_split\n",
        "X_train, X_test, y_train, y_test = train_test_split(X, y, test_size = 0.3, random_state = 12)"
      ],
      "execution_count": 44,
      "outputs": []
    },
    {
      "cell_type": "code",
      "metadata": {
        "id": "Fg6aGfr9pzw-"
      },
      "source": [
        "# Question C: Scale the predictor variable.\n",
        "from sklearn.preprocessing import StandardScaler\n",
        "X_train_scaler = StandardScaler().fit(X_train)\n",
        "X_test_scaler = StandardScaler().fit(X_test)\n",
        "X_train_scaled = X_train_scaler.transform(X_train)\n",
        "X_test_scaled = X_test_scaler.transform(X_test)"
      ],
      "execution_count": 45,
      "outputs": []
    },
    {
      "cell_type": "code",
      "metadata": {
        "id": "2EuNaRBktq8h",
        "colab": {
          "base_uri": "https://localhost:8080/"
        },
        "outputId": "8d0fecbe-8775-42c2-ede6-722e85c704ee"
      },
      "source": [
        "# Question C: Build random forest regressor.\n",
        "from sklearn.model_selection import GridSearchCV\n",
        "from sklearn.ensemble import RandomForestRegressor\n",
        "from sklearn.model_selection import KFold\n",
        "kf_5 = KFold(n_splits = 5)\n",
        "rfr_ = RandomForestRegressor()\n",
        "dict_para = {'n_estimators': [20, 40, 80, 100], 'min_samples_split': [3, 5, 8], 'max_features': [3, 6, 9], 'max_leaf_nodes': [4, 6, 8]}\n",
        "gscv = GridSearchCV(rfr_ ,dict_para, cv = kf_5)\n",
        "gscv.fit(X_train_scaled, y_train)"
      ],
      "execution_count": 46,
      "outputs": [
        {
          "output_type": "execute_result",
          "data": {
            "text/plain": [
              "GridSearchCV(cv=KFold(n_splits=5, random_state=None, shuffle=False),\n",
              "             error_score=nan,\n",
              "             estimator=RandomForestRegressor(bootstrap=True, ccp_alpha=0.0,\n",
              "                                             criterion='mse', max_depth=None,\n",
              "                                             max_features='auto',\n",
              "                                             max_leaf_nodes=None,\n",
              "                                             max_samples=None,\n",
              "                                             min_impurity_decrease=0.0,\n",
              "                                             min_impurity_split=None,\n",
              "                                             min_samples_leaf=1,\n",
              "                                             min_samples_split=2,\n",
              "                                             min_weight_fraction_leaf=0.0,\n",
              "                                             n_estimators=100, n_jobs=None,\n",
              "                                             oob_score=False, random_state=None,\n",
              "                                             verbose=0, warm_start=False),\n",
              "             iid='deprecated', n_jobs=None,\n",
              "             param_grid={'max_features': [3, 6, 9], 'max_leaf_nodes': [4, 6, 8],\n",
              "                         'min_samples_split': [3, 5, 8],\n",
              "                         'n_estimators': [20, 40, 80, 100]},\n",
              "             pre_dispatch='2*n_jobs', refit=True, return_train_score=False,\n",
              "             scoring=None, verbose=0)"
            ]
          },
          "metadata": {},
          "execution_count": 46
        }
      ]
    },
    {
      "cell_type": "code",
      "metadata": {
        "id": "ZLo5KjgVzw0Q",
        "colab": {
          "base_uri": "https://localhost:8080/"
        },
        "outputId": "ebef8af0-38a5-4bd9-d953-8e34ec47bdbc"
      },
      "source": [
        "gscv.best_params_"
      ],
      "execution_count": 47,
      "outputs": [
        {
          "output_type": "execute_result",
          "data": {
            "text/plain": [
              "{'max_features': 9,\n",
              " 'max_leaf_nodes': 8,\n",
              " 'min_samples_split': 5,\n",
              " 'n_estimators': 100}"
            ]
          },
          "metadata": {},
          "execution_count": 47
        }
      ]
    },
    {
      "cell_type": "code",
      "metadata": {
        "id": "2GKwKO8qzylq",
        "colab": {
          "base_uri": "https://localhost:8080/",
          "height": 472
        },
        "outputId": "09d26efa-f80e-430f-b93a-a9e23a0dc734"
      },
      "source": [
        "results_rfr_ = pd.DataFrame(gscv.cv_results_)\n",
        "results_rfr_.head()"
      ],
      "execution_count": 48,
      "outputs": [
        {
          "output_type": "execute_result",
          "data": {
            "text/html": [
              "<div>\n",
              "<style scoped>\n",
              "    .dataframe tbody tr th:only-of-type {\n",
              "        vertical-align: middle;\n",
              "    }\n",
              "\n",
              "    .dataframe tbody tr th {\n",
              "        vertical-align: top;\n",
              "    }\n",
              "\n",
              "    .dataframe thead th {\n",
              "        text-align: right;\n",
              "    }\n",
              "</style>\n",
              "<table border=\"1\" class=\"dataframe\">\n",
              "  <thead>\n",
              "    <tr style=\"text-align: right;\">\n",
              "      <th></th>\n",
              "      <th>mean_fit_time</th>\n",
              "      <th>std_fit_time</th>\n",
              "      <th>mean_score_time</th>\n",
              "      <th>std_score_time</th>\n",
              "      <th>param_max_features</th>\n",
              "      <th>param_max_leaf_nodes</th>\n",
              "      <th>param_min_samples_split</th>\n",
              "      <th>param_n_estimators</th>\n",
              "      <th>params</th>\n",
              "      <th>split0_test_score</th>\n",
              "      <th>split1_test_score</th>\n",
              "      <th>split2_test_score</th>\n",
              "      <th>split3_test_score</th>\n",
              "      <th>split4_test_score</th>\n",
              "      <th>mean_test_score</th>\n",
              "      <th>std_test_score</th>\n",
              "      <th>rank_test_score</th>\n",
              "    </tr>\n",
              "  </thead>\n",
              "  <tbody>\n",
              "    <tr>\n",
              "      <th>0</th>\n",
              "      <td>0.026419</td>\n",
              "      <td>0.003821</td>\n",
              "      <td>0.002233</td>\n",
              "      <td>0.000118</td>\n",
              "      <td>3</td>\n",
              "      <td>4</td>\n",
              "      <td>3</td>\n",
              "      <td>20</td>\n",
              "      <td>{'max_features': 3, 'max_leaf_nodes': 4, 'min_...</td>\n",
              "      <td>0.484985</td>\n",
              "      <td>0.486252</td>\n",
              "      <td>0.494439</td>\n",
              "      <td>0.543953</td>\n",
              "      <td>0.418502</td>\n",
              "      <td>0.485626</td>\n",
              "      <td>0.039965</td>\n",
              "      <td>108</td>\n",
              "    </tr>\n",
              "    <tr>\n",
              "      <th>1</th>\n",
              "      <td>0.055716</td>\n",
              "      <td>0.004622</td>\n",
              "      <td>0.003393</td>\n",
              "      <td>0.000150</td>\n",
              "      <td>3</td>\n",
              "      <td>4</td>\n",
              "      <td>3</td>\n",
              "      <td>40</td>\n",
              "      <td>{'max_features': 3, 'max_leaf_nodes': 4, 'min_...</td>\n",
              "      <td>0.501354</td>\n",
              "      <td>0.536400</td>\n",
              "      <td>0.476845</td>\n",
              "      <td>0.542317</td>\n",
              "      <td>0.474465</td>\n",
              "      <td>0.506276</td>\n",
              "      <td>0.028666</td>\n",
              "      <td>105</td>\n",
              "    </tr>\n",
              "    <tr>\n",
              "      <th>2</th>\n",
              "      <td>0.097044</td>\n",
              "      <td>0.002060</td>\n",
              "      <td>0.005738</td>\n",
              "      <td>0.000497</td>\n",
              "      <td>3</td>\n",
              "      <td>4</td>\n",
              "      <td>3</td>\n",
              "      <td>80</td>\n",
              "      <td>{'max_features': 3, 'max_leaf_nodes': 4, 'min_...</td>\n",
              "      <td>0.529536</td>\n",
              "      <td>0.571781</td>\n",
              "      <td>0.493546</td>\n",
              "      <td>0.546983</td>\n",
              "      <td>0.485436</td>\n",
              "      <td>0.525456</td>\n",
              "      <td>0.032391</td>\n",
              "      <td>98</td>\n",
              "    </tr>\n",
              "    <tr>\n",
              "      <th>3</th>\n",
              "      <td>0.136357</td>\n",
              "      <td>0.008487</td>\n",
              "      <td>0.007032</td>\n",
              "      <td>0.000489</td>\n",
              "      <td>3</td>\n",
              "      <td>4</td>\n",
              "      <td>3</td>\n",
              "      <td>100</td>\n",
              "      <td>{'max_features': 3, 'max_leaf_nodes': 4, 'min_...</td>\n",
              "      <td>0.520835</td>\n",
              "      <td>0.559073</td>\n",
              "      <td>0.484819</td>\n",
              "      <td>0.549228</td>\n",
              "      <td>0.483299</td>\n",
              "      <td>0.519451</td>\n",
              "      <td>0.031511</td>\n",
              "      <td>100</td>\n",
              "    </tr>\n",
              "    <tr>\n",
              "      <th>4</th>\n",
              "      <td>0.028813</td>\n",
              "      <td>0.002686</td>\n",
              "      <td>0.002686</td>\n",
              "      <td>0.000320</td>\n",
              "      <td>3</td>\n",
              "      <td>4</td>\n",
              "      <td>5</td>\n",
              "      <td>20</td>\n",
              "      <td>{'max_features': 3, 'max_leaf_nodes': 4, 'min_...</td>\n",
              "      <td>0.506377</td>\n",
              "      <td>0.541434</td>\n",
              "      <td>0.443294</td>\n",
              "      <td>0.516419</td>\n",
              "      <td>0.451088</td>\n",
              "      <td>0.491722</td>\n",
              "      <td>0.038190</td>\n",
              "      <td>107</td>\n",
              "    </tr>\n",
              "  </tbody>\n",
              "</table>\n",
              "</div>"
            ],
            "text/plain": [
              "   mean_fit_time  std_fit_time  ...  std_test_score  rank_test_score\n",
              "0       0.026419      0.003821  ...        0.039965              108\n",
              "1       0.055716      0.004622  ...        0.028666              105\n",
              "2       0.097044      0.002060  ...        0.032391               98\n",
              "3       0.136357      0.008487  ...        0.031511              100\n",
              "4       0.028813      0.002686  ...        0.038190              107\n",
              "\n",
              "[5 rows x 17 columns]"
            ]
          },
          "metadata": {},
          "execution_count": 48
        }
      ]
    },
    {
      "cell_type": "code",
      "metadata": {
        "id": "_xA-6lJDz53i",
        "colab": {
          "base_uri": "https://localhost:8080/"
        },
        "outputId": "837ffdf8-148b-4b9a-e0e7-5cf18a0fc2f0"
      },
      "source": [
        "best_gs_est= gscv.best_estimator_\n",
        "best_gs_est"
      ],
      "execution_count": 49,
      "outputs": [
        {
          "output_type": "execute_result",
          "data": {
            "text/plain": [
              "RandomForestRegressor(bootstrap=True, ccp_alpha=0.0, criterion='mse',\n",
              "                      max_depth=None, max_features=9, max_leaf_nodes=8,\n",
              "                      max_samples=None, min_impurity_decrease=0.0,\n",
              "                      min_impurity_split=None, min_samples_leaf=1,\n",
              "                      min_samples_split=5, min_weight_fraction_leaf=0.0,\n",
              "                      n_estimators=100, n_jobs=None, oob_score=False,\n",
              "                      random_state=None, verbose=0, warm_start=False)"
            ]
          },
          "metadata": {},
          "execution_count": 49
        }
      ]
    },
    {
      "cell_type": "code",
      "metadata": {
        "id": "p6JAdhHi0QKF"
      },
      "source": [
        "y_pred = best_gs_est.predict(X_test_scaled)"
      ],
      "execution_count": 50,
      "outputs": []
    },
    {
      "cell_type": "code",
      "metadata": {
        "id": "7jly8z8c0Q_f",
        "colab": {
          "base_uri": "https://localhost:8080/"
        },
        "outputId": "82624946-0eb0-44d0-d6cf-b92bee96ca3e"
      },
      "source": [
        "from sklearn.metrics import mean_squared_error\n",
        "mean_squared_error(y_test, y_pred)"
      ],
      "execution_count": 51,
      "outputs": [
        {
          "output_type": "execute_result",
          "data": {
            "text/plain": [
              "26.969316165799047"
            ]
          },
          "metadata": {},
          "execution_count": 51
        }
      ]
    },
    {
      "cell_type": "code",
      "metadata": {
        "id": "smRuoXgk1V82",
        "colab": {
          "base_uri": "https://localhost:8080/"
        },
        "outputId": "e0754096-eb5c-47b7-db24-ef4e2c59716a"
      },
      "source": [
        "# Question C: Build support vector regressor.\n",
        "from sklearn.model_selection import GridSearchCV\n",
        "from sklearn.svm import SVR\n",
        "from sklearn.model_selection import KFold\n",
        "kf_5 = KFold(n_splits = 5)\n",
        "svr_ = SVR()\n",
        "dict_para = {'kernel' : ['linear', 'poly', 'rbf'], 'C' : [1, 2, 4, 9, 25, 36]}\n",
        "gscv = GridSearchCV(svr_ , dict_para, cv = kf_5)\n",
        "gscv.fit(X_train_scaled, y_train)"
      ],
      "execution_count": 52,
      "outputs": [
        {
          "output_type": "execute_result",
          "data": {
            "text/plain": [
              "GridSearchCV(cv=KFold(n_splits=5, random_state=None, shuffle=False),\n",
              "             error_score=nan,\n",
              "             estimator=SVR(C=1.0, cache_size=200, coef0=0.0, degree=3,\n",
              "                           epsilon=0.1, gamma='scale', kernel='rbf',\n",
              "                           max_iter=-1, shrinking=True, tol=0.001,\n",
              "                           verbose=False),\n",
              "             iid='deprecated', n_jobs=None,\n",
              "             param_grid={'C': [1, 2, 4, 9, 25, 36],\n",
              "                         'kernel': ['linear', 'poly', 'rbf']},\n",
              "             pre_dispatch='2*n_jobs', refit=True, return_train_score=False,\n",
              "             scoring=None, verbose=0)"
            ]
          },
          "metadata": {},
          "execution_count": 52
        }
      ]
    },
    {
      "cell_type": "code",
      "metadata": {
        "id": "ICDilYZM5db0",
        "colab": {
          "base_uri": "https://localhost:8080/"
        },
        "outputId": "77d1a2f8-165b-45c5-debb-4e40dc93d24b"
      },
      "source": [
        "gscv.best_params_"
      ],
      "execution_count": 53,
      "outputs": [
        {
          "output_type": "execute_result",
          "data": {
            "text/plain": [
              "{'C': 36, 'kernel': 'linear'}"
            ]
          },
          "metadata": {},
          "execution_count": 53
        }
      ]
    },
    {
      "cell_type": "code",
      "metadata": {
        "id": "ZOLkLCF95joy",
        "colab": {
          "base_uri": "https://localhost:8080/",
          "height": 388
        },
        "outputId": "23bad387-f055-42d3-a941-ac072a3e4178"
      },
      "source": [
        "results_svr_ = pd.DataFrame(gscv.cv_results_)\n",
        "results_svr_.head()"
      ],
      "execution_count": 54,
      "outputs": [
        {
          "output_type": "execute_result",
          "data": {
            "text/html": [
              "<div>\n",
              "<style scoped>\n",
              "    .dataframe tbody tr th:only-of-type {\n",
              "        vertical-align: middle;\n",
              "    }\n",
              "\n",
              "    .dataframe tbody tr th {\n",
              "        vertical-align: top;\n",
              "    }\n",
              "\n",
              "    .dataframe thead th {\n",
              "        text-align: right;\n",
              "    }\n",
              "</style>\n",
              "<table border=\"1\" class=\"dataframe\">\n",
              "  <thead>\n",
              "    <tr style=\"text-align: right;\">\n",
              "      <th></th>\n",
              "      <th>mean_fit_time</th>\n",
              "      <th>std_fit_time</th>\n",
              "      <th>mean_score_time</th>\n",
              "      <th>std_score_time</th>\n",
              "      <th>param_C</th>\n",
              "      <th>param_kernel</th>\n",
              "      <th>params</th>\n",
              "      <th>split0_test_score</th>\n",
              "      <th>split1_test_score</th>\n",
              "      <th>split2_test_score</th>\n",
              "      <th>split3_test_score</th>\n",
              "      <th>split4_test_score</th>\n",
              "      <th>mean_test_score</th>\n",
              "      <th>std_test_score</th>\n",
              "      <th>rank_test_score</th>\n",
              "    </tr>\n",
              "  </thead>\n",
              "  <tbody>\n",
              "    <tr>\n",
              "      <th>0</th>\n",
              "      <td>0.004614</td>\n",
              "      <td>0.001115</td>\n",
              "      <td>0.001350</td>\n",
              "      <td>0.000507</td>\n",
              "      <td>1</td>\n",
              "      <td>linear</td>\n",
              "      <td>{'C': 1, 'kernel': 'linear'}</td>\n",
              "      <td>0.647504</td>\n",
              "      <td>0.630858</td>\n",
              "      <td>0.566622</td>\n",
              "      <td>0.693803</td>\n",
              "      <td>0.729237</td>\n",
              "      <td>0.653605</td>\n",
              "      <td>0.055600</td>\n",
              "      <td>6</td>\n",
              "    </tr>\n",
              "    <tr>\n",
              "      <th>1</th>\n",
              "      <td>0.003170</td>\n",
              "      <td>0.000145</td>\n",
              "      <td>0.000818</td>\n",
              "      <td>0.000028</td>\n",
              "      <td>1</td>\n",
              "      <td>poly</td>\n",
              "      <td>{'C': 1, 'kernel': 'poly'}</td>\n",
              "      <td>0.379487</td>\n",
              "      <td>-21.218001</td>\n",
              "      <td>0.337106</td>\n",
              "      <td>0.393804</td>\n",
              "      <td>0.459479</td>\n",
              "      <td>-3.929625</td>\n",
              "      <td>8.644277</td>\n",
              "      <td>18</td>\n",
              "    </tr>\n",
              "    <tr>\n",
              "      <th>2</th>\n",
              "      <td>0.002444</td>\n",
              "      <td>0.000263</td>\n",
              "      <td>0.000955</td>\n",
              "      <td>0.000150</td>\n",
              "      <td>1</td>\n",
              "      <td>rbf</td>\n",
              "      <td>{'C': 1, 'kernel': 'rbf'}</td>\n",
              "      <td>0.392908</td>\n",
              "      <td>0.460810</td>\n",
              "      <td>0.384708</td>\n",
              "      <td>0.420641</td>\n",
              "      <td>0.412662</td>\n",
              "      <td>0.414346</td>\n",
              "      <td>0.026606</td>\n",
              "      <td>12</td>\n",
              "    </tr>\n",
              "    <tr>\n",
              "      <th>3</th>\n",
              "      <td>0.005636</td>\n",
              "      <td>0.001283</td>\n",
              "      <td>0.001023</td>\n",
              "      <td>0.000144</td>\n",
              "      <td>2</td>\n",
              "      <td>linear</td>\n",
              "      <td>{'C': 2, 'kernel': 'linear'}</td>\n",
              "      <td>0.649592</td>\n",
              "      <td>0.617963</td>\n",
              "      <td>0.604733</td>\n",
              "      <td>0.692012</td>\n",
              "      <td>0.736057</td>\n",
              "      <td>0.660071</td>\n",
              "      <td>0.048455</td>\n",
              "      <td>5</td>\n",
              "    </tr>\n",
              "    <tr>\n",
              "      <th>4</th>\n",
              "      <td>0.003777</td>\n",
              "      <td>0.000214</td>\n",
              "      <td>0.000810</td>\n",
              "      <td>0.000032</td>\n",
              "      <td>2</td>\n",
              "      <td>poly</td>\n",
              "      <td>{'C': 2, 'kernel': 'poly'}</td>\n",
              "      <td>0.421866</td>\n",
              "      <td>-18.783776</td>\n",
              "      <td>0.379686</td>\n",
              "      <td>0.441627</td>\n",
              "      <td>0.485039</td>\n",
              "      <td>-3.411112</td>\n",
              "      <td>7.686407</td>\n",
              "      <td>15</td>\n",
              "    </tr>\n",
              "  </tbody>\n",
              "</table>\n",
              "</div>"
            ],
            "text/plain": [
              "   mean_fit_time  std_fit_time  ...  std_test_score  rank_test_score\n",
              "0       0.004614      0.001115  ...        0.055600                6\n",
              "1       0.003170      0.000145  ...        8.644277               18\n",
              "2       0.002444      0.000263  ...        0.026606               12\n",
              "3       0.005636      0.001283  ...        0.048455                5\n",
              "4       0.003777      0.000214  ...        7.686407               15\n",
              "\n",
              "[5 rows x 15 columns]"
            ]
          },
          "metadata": {},
          "execution_count": 54
        }
      ]
    },
    {
      "cell_type": "code",
      "metadata": {
        "id": "Xp460Q1D6Fjv",
        "colab": {
          "base_uri": "https://localhost:8080/"
        },
        "outputId": "046239dc-2453-4b75-ff63-28131f7ab971"
      },
      "source": [
        "best_gs_est= gscv.best_estimator_\n",
        "best_gs_est"
      ],
      "execution_count": 55,
      "outputs": [
        {
          "output_type": "execute_result",
          "data": {
            "text/plain": [
              "SVR(C=36, cache_size=200, coef0=0.0, degree=3, epsilon=0.1, gamma='scale',\n",
              "    kernel='linear', max_iter=-1, shrinking=True, tol=0.001, verbose=False)"
            ]
          },
          "metadata": {},
          "execution_count": 55
        }
      ]
    },
    {
      "cell_type": "code",
      "metadata": {
        "id": "VO30O_ht6Ks7"
      },
      "source": [
        "y_pred = best_gs_est.predict(X_test_scaled)"
      ],
      "execution_count": 56,
      "outputs": []
    },
    {
      "cell_type": "code",
      "metadata": {
        "id": "quD8NW3s6NNN",
        "colab": {
          "base_uri": "https://localhost:8080/"
        },
        "outputId": "86cf3526-92c1-4074-99f5-50800989a696"
      },
      "source": [
        "from sklearn.metrics import mean_squared_error\n",
        "mean_squared_error(y_test, y_pred)"
      ],
      "execution_count": 57,
      "outputs": [
        {
          "output_type": "execute_result",
          "data": {
            "text/plain": [
              "21.917751807090145"
            ]
          },
          "metadata": {},
          "execution_count": 57
        }
      ]
    },
    {
      "cell_type": "markdown",
      "metadata": {
        "id": "-a4RH3Fr7sin"
      },
      "source": [
        "### Question C: Evaluate Performance and choose best model.\n",
        "\n",
        "Both models used a training and test split of respectfully 70 % and 30 %. The regressor versions of the random forest and support vector machine were used for the sake of tackling the herein predictive problem. The mean squarred error was used to quantify the performance of the models. The support vector regressor had the lower mean squarred error making it the more performing and better model."
      ]
    },
    {
      "cell_type": "markdown",
      "metadata": {
        "id": "JUCsQMN0UV5m"
      },
      "source": [
        "## **Part D** <font color=\"blue\">(3 points)</font>\n",
        "\n",
        "1. **<font color=\"blue\">(1 point)</font>** Generate $2$-dimentional data with $500$ observations from $3$ Gaussian clusters. \n",
        "2. **<font color=\"blue\">(0.5 points)</font>** Use a scatterplot to visualize the produced data. \n",
        "3. **<font color=\"blue\">(1 point)</font>** Shuffle the data and use $K$-means, with $K=2,3,4$ to cluster the data.\n",
        "4. **<font color=\"blue\">(0.5 points)</font>** Visualize the results, separately.  \n"
      ]
    },
    {
      "cell_type": "markdown",
      "metadata": {
        "id": "CWMAuGfg82W4"
      },
      "source": [
        "## Part D"
      ]
    },
    {
      "cell_type": "code",
      "metadata": {
        "id": "lz5VkDfM84LE",
        "colab": {
          "base_uri": "https://localhost:8080/",
          "height": 294
        },
        "outputId": "d981396f-62a6-4908-eea2-19a3088ee48d"
      },
      "source": [
        "# Question D1: Generate 2D data with 500 observations with 3 Gaussian clusters.\n",
        "import matplotlib.pyplot as plt\n",
        "plt.style.use('ggplot')\n",
        "import numpy as np\n",
        "import math\n",
        "import pandas as pd\n",
        "\n",
        "mean_d1 = [1, 2]\n",
        "mean_d2 = [3, 5]\n",
        "mean_d3 = [4, 0]\n",
        "cov = [[2, 1], [1, 2]] \n",
        "x1, y1 = np.random.multivariate_normal(mean_d1, cov, 167).T\n",
        "x2, y2 = np.random.multivariate_normal(mean_d2, cov, 167).T\n",
        "x3, y3 = np.random.multivariate_normal(mean_d3, cov, 166).T\n",
        "x = np.concatenate((x1, x2, x3), axis = 0)\n",
        "y = np.concatenate((y1, y2, y3), axis = 0)\n",
        "data = pd.DataFrame(data = np.hstack((x.reshape(-1, 1), y.reshape(-1, 1))),columns = ['x', 'y'])\n",
        "data.describe(include = 'all')"
      ],
      "execution_count": null,
      "outputs": [
        {
          "output_type": "execute_result",
          "data": {
            "text/html": [
              "<div>\n",
              "<style scoped>\n",
              "    .dataframe tbody tr th:only-of-type {\n",
              "        vertical-align: middle;\n",
              "    }\n",
              "\n",
              "    .dataframe tbody tr th {\n",
              "        vertical-align: top;\n",
              "    }\n",
              "\n",
              "    .dataframe thead th {\n",
              "        text-align: right;\n",
              "    }\n",
              "</style>\n",
              "<table border=\"1\" class=\"dataframe\">\n",
              "  <thead>\n",
              "    <tr style=\"text-align: right;\">\n",
              "      <th></th>\n",
              "      <th>x</th>\n",
              "      <th>y</th>\n",
              "    </tr>\n",
              "  </thead>\n",
              "  <tbody>\n",
              "    <tr>\n",
              "      <th>count</th>\n",
              "      <td>500.000000</td>\n",
              "      <td>500.000000</td>\n",
              "    </tr>\n",
              "    <tr>\n",
              "      <th>mean</th>\n",
              "      <td>2.621382</td>\n",
              "      <td>2.349502</td>\n",
              "    </tr>\n",
              "    <tr>\n",
              "      <th>std</th>\n",
              "      <td>1.860837</td>\n",
              "      <td>2.365749</td>\n",
              "    </tr>\n",
              "    <tr>\n",
              "      <th>min</th>\n",
              "      <td>-2.215351</td>\n",
              "      <td>-5.608531</td>\n",
              "    </tr>\n",
              "    <tr>\n",
              "      <th>25%</th>\n",
              "      <td>1.270955</td>\n",
              "      <td>0.649454</td>\n",
              "    </tr>\n",
              "    <tr>\n",
              "      <th>50%</th>\n",
              "      <td>2.769868</td>\n",
              "      <td>2.100764</td>\n",
              "    </tr>\n",
              "    <tr>\n",
              "      <th>75%</th>\n",
              "      <td>3.982373</td>\n",
              "      <td>4.118134</td>\n",
              "    </tr>\n",
              "    <tr>\n",
              "      <th>max</th>\n",
              "      <td>7.279231</td>\n",
              "      <td>7.854855</td>\n",
              "    </tr>\n",
              "  </tbody>\n",
              "</table>\n",
              "</div>"
            ],
            "text/plain": [
              "                x           y\n",
              "count  500.000000  500.000000\n",
              "mean     2.621382    2.349502\n",
              "std      1.860837    2.365749\n",
              "min     -2.215351   -5.608531\n",
              "25%      1.270955    0.649454\n",
              "50%      2.769868    2.100764\n",
              "75%      3.982373    4.118134\n",
              "max      7.279231    7.854855"
            ]
          },
          "metadata": {},
          "execution_count": 34
        }
      ]
    },
    {
      "cell_type": "code",
      "metadata": {
        "colab": {
          "base_uri": "https://localhost:8080/",
          "height": 356
        },
        "id": "O9Pq6ISxktOI",
        "outputId": "4d1ee7bd-a45a-4613-bf08-3468a0b7fd6b"
      },
      "source": [
        "# Question D2: Plot scatter plot with clusters.\n",
        "plt.rcParams['figure.figsize'] = (10, 5)\n",
        "plt.style.use('ggplot')\n",
        "plt.scatter(x1, y1, color = 'red', marker = 'o')\n",
        "plt.scatter(x2, y2, color = 'blue', marker = 'X')\n",
        "plt.scatter(x3, y3, color = 'green', marker = '*')\n",
        "plt.xlabel('x')\n",
        "plt.ylabel('y')"
      ],
      "execution_count": null,
      "outputs": [
        {
          "output_type": "execute_result",
          "data": {
            "text/plain": [
              "Text(0, 0.5, 'y')"
            ]
          },
          "metadata": {},
          "execution_count": 35
        },
        {
          "output_type": "display_data",
          "data": {
            "image/png": "[encoded data removed]",
            "text/plain": [
              "<Figure size 720x360 with 1 Axes>"
            ]
          },
          "metadata": {}
        }
      ]
    },
    {
      "cell_type": "code",
      "metadata": {
        "id": "mggl3Y5gr-r6"
      },
      "source": [
        "# Question D3: Shuffle the data and cluster data with different K-means.\n",
        "from sklearn.utils import shuffle\n",
        "from sklearn.cluster import KMeans\n",
        "data_s = shuffle(data)\n",
        "centroids_list = []\n",
        "labels_list = []\n",
        "for clusters in range(2,5):\n",
        "  kmeans = KMeans(n_clusters = clusters)\n",
        "  kmeans = kmeans.fit(data_s)\n",
        "  labels = kmeans.predict(data_s)\n",
        "  centroids = kmeans.cluster_centers_\n",
        "  centroids_list.append(centroids)\n",
        "  labels_list.append(labels)"
      ],
      "execution_count": null,
      "outputs": []
    },
    {
      "cell_type": "code",
      "metadata": {
        "colab": {
          "base_uri": "https://localhost:8080/",
          "height": 502
        },
        "id": "Jnl7XKxEzwye",
        "outputId": "611f00dd-935e-44eb-81f1-1ee4c517dded"
      },
      "source": [
        "# Plot scatter plot for K = 2\n",
        "centroids = centroids_list[0]\n",
        "figsize = plt.figure(figsize = (12,8))\n",
        "plt.scatter(data_s['x'], data_s['y'], c = labels_list[0], s = 200, marker = \"+\") \n",
        "plt.scatter(centroids[:,0], centroids[:,1], c = 'blue', s = 1000, marker = \".\")"
      ],
      "execution_count": null,
      "outputs": [
        {
          "output_type": "execute_result",
          "data": {
            "text/plain": [
              "<matplotlib.collections.PathCollection at 0x7fa269dcf490>"
            ]
          },
          "metadata": {},
          "execution_count": 37
        },
        {
          "output_type": "display_data",
          "data": {
            "image/png": "[encoded data removed]",
            "text/plain": [
              "<Figure size 864x576 with 1 Axes>"
            ]
          },
          "metadata": {}
        }
      ]
    },
    {
      "cell_type": "code",
      "metadata": {
        "colab": {
          "base_uri": "https://localhost:8080/",
          "height": 502
        },
        "id": "t-Ild4Zd0a7k",
        "outputId": "f05bbbb0-1218-4123-fb56-7693ee572701"
      },
      "source": [
        "# Plot scatter plot for K = 3\n",
        "centroids = centroids_list[1]\n",
        "figsize = plt.figure(figsize = (12,8))\n",
        "plt.scatter(data_s['x'], data_s['y'], c = labels_list[1], s = 200, marker = \"+\") \n",
        "plt.scatter(centroids[:,0], centroids[:,1], c = 'red', s = 1000, marker = \".\")"
      ],
      "execution_count": null,
      "outputs": [
        {
          "output_type": "execute_result",
          "data": {
            "text/plain": [
              "<matplotlib.collections.PathCollection at 0x7fa269d3e390>"
            ]
          },
          "metadata": {},
          "execution_count": 38
        },
        {
          "output_type": "display_data",
          "data": {
            "image/png": "[encoded data removed]",
            "text/plain": [
              "<Figure size 864x576 with 1 Axes>"
            ]
          },
          "metadata": {}
        }
      ]
    },
    {
      "cell_type": "code",
      "metadata": {
        "colab": {
          "base_uri": "https://localhost:8080/",
          "height": 502
        },
        "id": "dz-dVbxA0bNu",
        "outputId": "aaf36345-a154-4246-9551-08c0db92b2ed"
      },
      "source": [
        "# Plot scatter plot for K = 4\n",
        "centroids = centroids_list[2]\n",
        "figsize = plt.figure(figsize = (12,8))\n",
        "plt.scatter(data_s['x'], data_s['y'], c = labels_list[2], s = 200, marker = \"+\") \n",
        "plt.scatter(centroids[:,0], centroids[:,1], c = 'green', s = 1000, marker = \".\")"
      ],
      "execution_count": null,
      "outputs": [
        {
          "output_type": "execute_result",
          "data": {
            "text/plain": [
              "<matplotlib.collections.PathCollection at 0x7fa269d28250>"
            ]
          },
          "metadata": {},
          "execution_count": 39
        },
        {
          "output_type": "display_data",
          "data": {
            "image/png": "[encoded data removed]",
            "text/plain": [
              "<Figure size 864x576 with 1 Axes>"
            ]
          },
          "metadata": {}
        }
      ]
    }
  ]
}