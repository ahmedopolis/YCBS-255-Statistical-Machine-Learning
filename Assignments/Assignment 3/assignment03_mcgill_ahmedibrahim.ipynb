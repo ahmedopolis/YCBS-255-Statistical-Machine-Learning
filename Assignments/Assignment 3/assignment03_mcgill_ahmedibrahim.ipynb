{
  "nbformat": 4,
  "nbformat_minor": 0,
  "metadata": {
    "colab": {
      "name": "assignment03_mcgill_ahmedibrahim.ipynb",
      "provenance": [],
      "collapsed_sections": [
        "sIs3veLP7hfx",
        "daS0gU437eOs",
        "MMBNRL0X7PSN",
        "CWMAuGfg82W4"
      ],
      "toc_visible": true
    },
    "kernelspec": {
      "display_name": "Python 3",
      "language": "python",
      "name": "python3"
    },
    "language_info": {
      "codemirror_mode": {
        "name": "ipython",
        "version": 3
      },
      "file_extension": ".py",
      "mimetype": "text/x-python",
      "name": "python",
      "nbconvert_exporter": "python",
      "pygments_lexer": "ipython3",
      "version": "3.6.4"
    },
    "toc": {
      "base_numbering": 1,
      "nav_menu": {},
      "number_sections": true,
      "sideBar": true,
      "skip_h1_title": false,
      "title_cell": "Table of Contents",
      "title_sidebar": "Contents",
      "toc_cell": false,
      "toc_position": {},
      "toc_section_display": true,
      "toc_window_display": false
    }
  },
  "cells": [
    {
      "cell_type": "markdown",
      "metadata": {
        "id": "g2unLOmVzsBK"
      },
      "source": [
        "\n",
        "# Assignment 3  <font color=\"blue\"> (15 points) </font>\n",
        " \n",
        "------\n",
        "### Information\n",
        "**Name:** Ahmed Ibrahim\n",
        "\n",
        "**Student Number:** 261032796\n",
        "\n",
        "**Date:** 2021-11-18\n",
        "\n",
        "**Course Number:** YCBS 255 - Statistical Machine Learning\n",
        "\n",
        "------\n",
        "\n",
        "### Notes and Instructions\n",
        "  + You may need additional libraries besides the Python standard library to solve some questions. Import only necessary libraries. \n",
        "  + If more than one library exist for a same purpose, choose the one you wish as long as it does the task properly. \n",
        "  + If we want you to use a specific library, then we will state it clearly. \n",
        "  + Use the exact variable names asked in the questions. When no clear instructions given, feel free to do it the way you would like to.\n",
        "  + After each question, add the needed number of new cells and place your answers inside the cells. \n",
        "  + Use text cells for explanations. Use explanation and plain text as much as possible. \n",
        "  + Do not remove or modify the original cells provided by the instructor.\n",
        "  + In the following cell you will find some extra options to make your code more readable, including output colors RED, OKBLUE, or output text styles like BOLD or UNDERLINE that. Do not hesitate to use them. As an example, one may output text in red as follows: \n",
        "  ```python\n",
        "     print(bcolors.RED + \"your text\" + bcolors.ENDC)\n",
        "  ```\n",
        "  + Comment your code whenever needed using # sign at the beginning of the row.\n",
        "  + In some questions some of the details needed for solving the problem are **purposely** omitted to encourage additional self-directed research. This, especially, helps you develop some search skills for coding in Python (which is inevitable due to the inconsistent syntax of Python).\n",
        "  + Do not hesitate to communicate your questions to the TA's or instructors. \n",
        "    \n",
        "  Good luck! "
      ]
    },
    {
      "cell_type": "code",
      "metadata": {
        "id": "aOt20LC3zsBN"
      },
      "source": [
        "# The following piece of code gives the opportunity to show multiple outputs\n",
        "# in one cell:\n",
        "from IPython.core.interactiveshell import InteractiveShell\n",
        "InteractiveShell.ast_node_interactivity = \"all\"\n",
        "\n",
        "# Colorful outputs\n",
        "class bcolors:\n",
        "    RED       = '\\033[91m'\n",
        "    OKBLUE    = '\\033[94m'\n",
        "    BOLD      = '\\033[1m'\n",
        "    UNDERLINE = '\\033[4m'\n",
        "    ENDC      = '\\033[0m'"
      ],
      "execution_count": null,
      "outputs": []
    },
    {
      "cell_type": "markdown",
      "metadata": {
        "id": "JhunulGDzsBS"
      },
      "source": [
        ""
      ]
    },
    {
      "cell_type": "markdown",
      "metadata": {
        "id": "PI8k_3Wp2qVH"
      },
      "source": [
        "## **Part A** <font color=\"blue\">(5 points)</font>\n",
        "\n",
        "1. **<font color=\"blue\">(1 point)</font>** Generate 100 points equally distanced from $-20$ to $20$ and save them in a `numpy` array `x1`. Now, create $4$ more `numpy` arrays by raising `x1` to the power of $2,3,4,5$, and call them `x2`, `x3`, `x4` and `x5`, respectively. \n",
        "3. **<font color=\"blue\">(1 point)</font>** Create your response `y`, a new `numpy` array, defined as $y= 1.75 + 5 x_1 + 0.05 x_3 - 10.3 x_5 + \\varepsilon$, where $\\varepsilon \\sim \\mathcal{N}(0, 4)$.\n",
        "4. **<font color=\"blue\">(2 points)</font>** Using $5$-fold cross-validation, with a reasonable train-test proportion, train a **lasso** regression model including all $x_1, x_2, x_3 , x_4 , x_5$, and for $10$ different  pre-determined tuning parameters. \n",
        "5. **<font color=\"blue\">(1 point)</font>** Plot the **cross-validated mean squared errors** vs the tuning parameter's values\n",
        " and chose the best tuning parameter based on the plot. Does the best model chosen perform **variable selection**?"
      ]
    },
    {
      "cell_type": "markdown",
      "metadata": {
        "id": "sIs3veLP7hfx"
      },
      "source": [
        "## Part A"
      ]
    },
    {
      "cell_type": "code",
      "metadata": {
        "id": "5LkLf9m39Y_J"
      },
      "source": [
        "import numpy as np\n",
        "import math\n",
        "import pandas as pd\n",
        "import matplotlib.pyplot as plt\n",
        "plt.style.use('ggplot')\n",
        "%matplotlib inline"
      ],
      "execution_count": null,
      "outputs": []
    },
    {
      "cell_type": "code",
      "metadata": {
        "id": "w47-IiLZ9cBD"
      },
      "source": [
        "# Question A1: Generate x1 array.\n",
        "x1 = np.linspace(-20, 20, 100)"
      ],
      "execution_count": null,
      "outputs": []
    },
    {
      "cell_type": "code",
      "metadata": {
        "id": "rNV1ew_s-CTN"
      },
      "source": [
        "# Question A1: Generate x2, x3, x4, x5 array.\n",
        "x1 = np.linspace(-20, 20, 100)\n",
        "x_list = [x1]\n",
        "x_range = np.arange(2,6)\n",
        "\n",
        "for value in x_range:\n",
        "  x_value = np.power(x1, value)\n",
        "  x_list.append(x_value)\n",
        "\n",
        "x2 = x_list[1]\n",
        "x3 = x_list[2]\n",
        "x4 = x_list[3]\n",
        "x5 = x_list[4]\n",
        "\n",
        "X = pd.DataFrame(x_list, index = ['x1', 'x2', 'x3', 'x4', 'x5']).transpose().to_numpy()"
      ],
      "execution_count": null,
      "outputs": []
    },
    {
      "cell_type": "code",
      "metadata": {
        "id": "lAp2-VJ9BYNC"
      },
      "source": [
        "# Question A2: Generate 'y' function.\n",
        "np.random.seed(12)\n",
        "mu = 0\n",
        "sigma = math.sqrt(4)\n",
        "eps = np.random.normal(mu, sigma, 100)\n",
        "\n",
        "y = 1.75 + 5*x1 + 0.05*x3 -10.3*x5 + eps"
      ],
      "execution_count": null,
      "outputs": []
    },
    {
      "cell_type": "code",
      "metadata": {
        "colab": {
          "base_uri": "https://localhost:8080/",
          "height": 298
        },
        "id": "P5URpPNrmLQ9",
        "outputId": "6076747b-d0fe-4234-a839-9331d3788994"
      },
      "source": [
        "# Question A2: Plot polynomial.\n",
        "plt.scatter(x1, y)\n",
        "plt.xlabel('X')\n",
        "plt.ylabel('Y')\n",
        "plt.title('5th Degree Polynomial')\n",
        "\n",
        "plt.show();"
      ],
      "execution_count": null,
      "outputs": [
        {
          "output_type": "display_data",
          "data": {
            "image/png": "[encoded data removed]",
            "text/plain": [
              "<Figure size 432x288 with 1 Axes>"
            ]
          },
          "metadata": {
            "needs_background": "light"
          }
        }
      ]
    },
    {
      "cell_type": "code",
      "metadata": {
        "id": "Y4f2Z4cqD-PO"
      },
      "source": [
        "# Question A3: Split the dataset into training (70%) and test sets (30%). 'A' is for 'Question A'. \n",
        "from sklearn.model_selection import train_test_split\n",
        "X_train_A, X_test_A, y_train_A, y_test_A = train_test_split(X, y, test_size = 0.3, random_state = 12)"
      ],
      "execution_count": null,
      "outputs": []
    },
    {
      "cell_type": "code",
      "metadata": {
        "colab": {
          "base_uri": "https://localhost:8080/"
        },
        "id": "hXhIaH8VLAhV",
        "outputId": "8c40ec3a-296b-406a-fda2-03a5a959b9b1"
      },
      "source": [
        "# Question A3: Using  5-fold cross-validation, train a lasso model with 10 different tunning parameters.\n",
        "from sklearn.model_selection import KFold\n",
        "from sklearn.metrics import mean_squared_error\n",
        "from sklearn.linear_model import Lasso\n",
        "import math\n",
        "\n",
        "k = 5\n",
        "kf_5 = KFold(n_splits = k, random_state = 12, shuffle = True)\n",
        "tunning_para_list = [0.05, 0.1, 1, 5, 50, 500, 2500, 10000]\n",
        "\n",
        "lasso_avg_rmse_CV_list = []\n",
        "lasso_avg_rmse_test_list = []\n",
        "\n",
        "X = X_train_A\n",
        "y = y_train_A\n",
        "\n",
        "for tunning_para in tunning_para_list:\n",
        "  print(f\"Tunning Parameter: {tunning_para}\")\n",
        "  lasso_regression = Lasso(alpha = tunning_para)\n",
        "\n",
        "  lasso_rmse_CV_list = []\n",
        "  lasso_rmse_test_list = []\n",
        "\n",
        "  for train_index, test_index in kf_5.split(X_train_A):\n",
        "    X_train_A_CV, X_test_A_CV = X[train_index], X[test_index]\n",
        "    y_train_A_CV, y_test_A_CV = y[train_index], y[test_index]\n",
        "\n",
        "    lasso_regression.fit(X_train_A_CV, y_train_A_CV)\n",
        "    print(f\"Lasso Coefficients: {lasso_regression.coef_}\")\n",
        "\n",
        "    y_pred_A_CV = lasso_regression.predict(X_test_A_CV)\n",
        "    lasso_rmse_CV = math.sqrt(mean_squared_error(y_test_A_CV, y_pred_A_CV))\n",
        "    lasso_rmse_CV_list.append(lasso_rmse_CV)\n",
        "\n",
        "    y_pred_A_test = lasso_regression.predict(X_test_A)\n",
        "    lasso_rmse_test = math.sqrt(mean_squared_error(y_test_A, y_pred_A_test))\n",
        "    lasso_rmse_test_list.append(lasso_rmse_test)\n",
        "  \n",
        "  lasso_avg_rmse_CV = sum(lasso_rmse_CV_list)/len(lasso_rmse_CV_list)\n",
        "  lasso_avg_rmse_CV_list.append(lasso_avg_rmse_CV)\n",
        "\n",
        "  lasso_avg_rmse_test = sum(lasso_rmse_test_list)/len(lasso_rmse_test_list)\n",
        "  lasso_avg_rmse_test_list.append(lasso_avg_rmse_test)\n",
        "\n",
        "print(f\"CV-RMSE: {lasso_avg_rmse_CV_list}\")\n",
        "print(f\"test-RMSE: {lasso_avg_rmse_test_list}\")"
      ],
      "execution_count": null,
      "outputs": [
        {
          "output_type": "stream",
          "name": "stdout",
          "text": [
            "Tunning Parameter: 0.05\n",
            "Lasso Coefficients: [ 8.30094531e+01 -1.20947700e-01 -7.58535727e-01  8.50753685e-04\n",
            " -1.02983320e+01]\n",
            "Lasso Coefficients: [ 3.45595698e+02  1.54877560e+00 -3.81324065e+00 -3.26451349e-03\n",
            " -1.02918622e+01]\n",
            "Lasso Coefficients: [ 3.85172741e+01  3.35718387e-01 -3.00908381e-01 -8.39437598e-04\n",
            " -1.02992820e+01]\n",
            "Lasso Coefficients: [ 4.58937744e+01  1.18656394e+00 -4.16040045e-01 -3.66768329e-03\n",
            " -1.02989861e+01]\n",
            "Lasso Coefficients: [ 2.07968735e+02 -7.75476872e-01 -2.11759386e+00  1.42122382e-03\n",
            " -1.02955615e+01]\n",
            "Tunning Parameter: 0.1\n",
            "Lasso Coefficients: [ 8.30017687e+01 -1.20879930e-01 -7.58466681e-01  8.50536819e-04\n",
            " -1.02983322e+01]\n",
            "Lasso Coefficients: [ 3.45588590e+02  1.54873571e+00 -3.81317225e+00 -3.26442400e-03\n",
            " -1.02918623e+01]\n",
            "Lasso Coefficients: [ 3.85107192e+01  3.35673786e-01 -3.00850684e-01 -8.39321612e-04\n",
            " -1.02992821e+01]\n",
            "Lasso Coefficients: [ 4.58869391e+01  1.18649918e+00 -4.15976526e-01 -3.66747989e-03\n",
            " -1.02989862e+01]\n",
            "Lasso Coefficients: [ 2.07961376e+02 -7.75394754e-01 -2.11752656e+00  1.42103334e-03\n",
            " -1.02955616e+01]\n",
            "Tunning Parameter: 1\n",
            "Lasso Coefficients: [ 8.28634492e+01 -1.19660076e-01 -7.57223845e-01  8.46633231e-04\n",
            " -1.02983346e+01]\n",
            "Lasso Coefficients: [ 3.45460643e+02  1.54801768e+00 -3.81194107e+00 -3.26281329e-03\n",
            " -1.02918648e+01]\n",
            "Lasso Coefficients: [ 3.83927316e+01  3.34870954e-01 -2.99812145e-01 -8.37233864e-04\n",
            " -1.02992840e+01]\n",
            "Lasso Coefficients: [ 4.57639022e+01  1.18533356e+00 -4.14833195e-01 -3.66381868e-03\n",
            " -1.02989885e+01]\n",
            "Lasso Coefficients: [ 2.07828919e+02 -7.73916632e-01 -2.11631507e+00  1.41760467e-03\n",
            " -1.02955639e+01]\n",
            "Tunning Parameter: 5\n",
            "Lasso Coefficients: [ 8.22486958e+01 -1.14238503e-01 -7.51700131e-01  8.29283949e-04\n",
            " -1.02983453e+01]\n",
            "Lasso Coefficients: [ 3.44891990e+02  1.54482642e+00 -3.80646918e+00 -3.25565455e-03\n",
            " -1.02918756e+01]\n",
            "Lasso Coefficients: [ 3.78683424e+01  3.31302811e-01 -2.95196417e-01 -8.27954983e-04\n",
            " -1.02992928e+01]\n",
            "Lasso Coefficients: [ 4.52170717e+01  1.18015300e+00 -4.09751720e-01 -3.64754664e-03\n",
            " -1.02989986e+01]\n",
            "Lasso Coefficients: [ 2.07240218e+02 -7.67347200e-01 -2.11093071e+00  1.40236612e-03\n",
            " -1.02955743e+01]\n",
            "Tunning Parameter: 50\n",
            "Lasso Coefficients: [ 7.53327206e+01 -5.32457981e-02 -6.89558353e-01  6.34104525e-04\n",
            " -1.02984654e+01]\n",
            "Lasso Coefficients: [ 3.38494641e+02  1.50892481e+00 -3.74491038e+00 -3.17511875e-03\n",
            " -1.02919971e+01]\n",
            "Lasso Coefficients: [ 3.19689639e+01  2.91161214e-01 -2.43269467e-01 -7.23567579e-04\n",
            " -1.02993910e+01]\n",
            "Lasso Coefficients: [ 3.90652290e+01  1.12187173e+00 -3.52585132e-01 -3.46448617e-03\n",
            " -1.02991120e+01]\n",
            "Lasso Coefficients: [ 2.00617335e+02 -6.93441085e-01 -2.05035661e+00  1.23093243e-03\n",
            " -1.02956904e+01]\n",
            "Tunning Parameter: 500\n",
            "Lasso Coefficients: [ 6.57716683e+00  0.00000000e+00 -6.82186911e-02  1.11091985e-04\n",
            " -1.02996683e+01]\n",
            "Lasso Coefficients: [ 2.74521150e+02  1.14990867e+00 -3.12932243e+00 -2.36976072e-03\n",
            " -1.02932123e+01]\n",
            "Lasso Coefficients: [ 0.00000000e+00  0.00000000e+00  6.82742882e-02  1.66062154e-05\n",
            " -1.03000096e+01]\n",
            "Lasso Coefficients: [ 0.00000000e+00  0.00000000e+00  7.40882508e-02 -7.48852700e-05\n",
            " -1.03000251e+01]\n",
            "Lasso Coefficients: [ 1.34424119e+02 -0.00000000e+00 -1.44482904e+00 -3.69854754e-04\n",
            " -1.02968519e+01]\n",
            "Tunning Parameter: 2500\n",
            "Lasso Coefficients: [ 0.00000000e+00  0.00000000e+00  6.78454035e-02 -4.08724851e-06\n",
            " -1.03000074e+01]\n",
            "Lasso Coefficients: [ 0.00000000e+00  0.00000000e+00 -4.28101519e-01  9.26226442e-05\n",
            " -1.02985975e+01]\n",
            "Lasso Coefficients: [ 0.00000000e+00  0.00000000e+00  6.39758344e-02  1.79162185e-05\n",
            " -1.02999973e+01]\n",
            "Lasso Coefficients: [ 0.00000000e+00  0.00000000e+00  6.47564637e-02 -1.07876916e-04\n",
            " -1.02999974e+01]\n",
            "Lasso Coefficients: [ 0.00000000e+00  0.00000000e+00  6.36805706e-02 -7.65138234e-06\n",
            " -1.02999972e+01]\n",
            "Tunning Parameter: 10000\n",
            "Lasso Coefficients: [ 0.00000000e+00  0.00000000e+00  5.08504189e-02  4.21794390e-06\n",
            " -1.02999577e+01]\n",
            "Lasso Coefficients: [ 0.00000000e+00  0.00000000e+00  4.01359021e-02 -3.21147223e-07\n",
            " -1.02999300e+01]\n",
            "Lasso Coefficients: [ 0.00000000e+00  0.00000000e+00  4.63564222e-02  2.34504795e-05\n",
            " -1.02999468e+01]\n",
            "Lasso Coefficients: [ 0.00000000e+00  0.00000000e+00  4.52521429e-02 -1.68396401e-04\n",
            " -1.02999396e+01]\n",
            "Lasso Coefficients: [ 0.00000000e+00  0.00000000e+00  4.67247842e-02 -1.58694760e-05\n",
            " -1.02999494e+01]\n",
            "CV-RMSE: [493.8579884423939, 493.83829099792354, 493.483781053063, 491.9092094139234, 474.329954245423, 331.59714003365923, 103.99084443208392, 37.40734338237947]\n",
            "test-RMSE: [483.11899848535313, 483.10175446113374, 482.7914181306463, 481.4134503044177, 466.07508658980106, 339.0365129825742, 109.22370999870925, 39.89195123754439]\n"
          ]
        }
      ]
    },
    {
      "cell_type": "code",
      "metadata": {
        "colab": {
          "base_uri": "https://localhost:8080/",
          "height": 296
        },
        "id": "tkIxDFOXeecE",
        "outputId": "1c76e435-bccb-48bb-c229-ee8693c43a7c"
      },
      "source": [
        "# Question A4: Plot rmse vs tunning parameters.\n",
        "width = 0.35\n",
        "\n",
        "labels = tunning_para_list\n",
        "x = np.arange(len(labels))\n",
        "fig, ax = plt.subplots()\n",
        "rects1 = ax.bar(x - width/2, lasso_avg_rmse_CV_list, width, label = 'CV-RMSE')\n",
        "rects2 = ax.bar(x + width/2, lasso_avg_rmse_test_list, width, label = 'test-RMSE')\n",
        "\n",
        "ax.set_ylabel('Root Mean Squarred Error')\n",
        "ax.set_xlabel('Tunning Parameters')\n",
        "ax.set_title('RMSE for Different TP')\n",
        "ax.set_xticks(x)\n",
        "ax.set_xticklabels(labels)\n",
        "ax.legend()\n",
        "\n",
        "fig.tight_layout()\n",
        "\n",
        "plt.show();"
      ],
      "execution_count": null,
      "outputs": [
        {
          "output_type": "display_data",
          "data": {
            "image/png": "[encoded data removed]",
            "text/plain": [
              "<Figure size 432x288 with 1 Axes>"
            ]
          },
          "metadata": {
            "needs_background": "light"
          }
        }
      ]
    },
    {
      "cell_type": "markdown",
      "metadata": {
        "id": "qYqyFAj_tyH6"
      },
      "source": [
        "### Question A4: The choice of the tuning parameter.\n",
        "To train the lasso regression model, the data was split using 70 % for training and 30 % for testing. On the training portion, 5-fold cross-validation was applied. For the cross-validation, the 'KFold' function had the 'shuffle' set to 'True' to enable each split to be trained on a random batch of 'X' and 'y' values across the full range of values. The 'random_state' was set to a certain integer, in this case being 12 to ensure the same indices were used for each tunning parameter for consistency purposes. \n",
        "\n",
        "For 10 tunning parameters, 5 splits were generated and the coefficients of the resulting models were printed. The scoring used for every split is the mean squared error (MSE), where the root mean squared error (RMSE) is computed and stored. For each split of the fitted model, two RMSEs were calculated, where one was using the y-values from the validation portion ('CV-RMSE') as the 'True' values and the other was using the y-values from the testing portion from the initial split ('test-RMSE'). For every tunning parameter, the average RMSE for the validation and testing portions were computed and plotted. Based on the plot, the RMSE for the testing portions is lower than its validation counterpart for most of the tuning parameters. Among the tunning parameters, the highest tunning parameter yielded both the lowest validation and test RMSE, being 37.74 and 40.01 respectively; making it the best tunning parameter among the batch trained. \n",
        "\n",
        "Variable selection did occur for three tunning parameters being: '500', '2500' and '10000'. For the '500' tunning parameter, only 2 of its 5 splits had\n",
        "the first and second coefficients being eliminated while 2 others only had the second coefficients eliminated. As for the other tuning parameters, both the first and second coefficients were eliminated for all of their splits. \n"
      ]
    },
    {
      "cell_type": "markdown",
      "metadata": {
        "id": "lKnyVWq21kZ9"
      },
      "source": [
        "## **Part B** <font color=\"blue\">(3 points)</font>\n",
        "For this part upload `Wage.csv`.\n",
        "\n",
        "1. **<font color=\"blue\">(2 points)</font>** Perform polynomial regression to predict `wage` using `age`. Use cross-validation to select the optimal degree $d$ for the polynomial. What degree was chosen? Make a plot of\n",
        "the resulting polynomial fit to the data. \n",
        "2. **<font color=\"blue\">(1 point)</font>** Fit a step function to predict `wage` using `age` , and perform cross-validation to choose the optimal number of cuts. Make a plot of the fit obtained.\n"
      ]
    },
    {
      "cell_type": "markdown",
      "metadata": {
        "id": "daS0gU437eOs"
      },
      "source": [
        "## Part B"
      ]
    },
    {
      "cell_type": "code",
      "metadata": {
        "id": "VsXKZDzs6zrW"
      },
      "source": [
        "import numpy as np\n",
        "import matplotlib.pyplot as plt\n",
        "plt.style.use('ggplot')\n",
        "%matplotlib inline\n",
        "import pandas as pd"
      ],
      "execution_count": null,
      "outputs": []
    },
    {
      "cell_type": "code",
      "metadata": {
        "colab": {
          "resources": {
            "http://localhost:8080/nbextensions/google.colab/files.js": {
              "data": "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",
              "ok": true,
              "headers": [
                [
                  "content-type",
                  "application/javascript"
                ]
              ],
              "status": 200,
              "status_text": ""
            }
          },
          "base_uri": "https://localhost:8080/",
          "height": 73
        },
        "id": "GCTLb1Jn2q1b",
        "outputId": "b85464b6-8855-40ed-e642-473aa0b893c4"
      },
      "source": [
        "# Question B1: Download Wage.csv.\n",
        "from google.colab import files\n",
        "uploaded = files.upload()\n",
        "wage_data = pd.read_csv('Wage.csv')"
      ],
      "execution_count": null,
      "outputs": [
        {
          "output_type": "display_data",
          "data": {
            "text/html": [
              "\n",
              "     <input type=\"file\" id=\"files-d5223ef2-f75e-4675-b629-ae98499a56d3\" name=\"files[]\" multiple disabled\n",
              "        style=\"border:none\" />\n",
              "     <output id=\"result-d5223ef2-f75e-4675-b629-ae98499a56d3\">\n",
              "      Upload widget is only available when the cell has been executed in the\n",
              "      current browser session. Please rerun this cell to enable.\n",
              "      </output>\n",
              "      <script src=\"/nbextensions/google.colab/files.js\"></script> "
            ],
            "text/plain": [
              "<IPython.core.display.HTML object>"
            ]
          },
          "metadata": {}
        },
        {
          "output_type": "stream",
          "name": "stdout",
          "text": [
            "Saving Wage.csv to Wage (1).csv\n"
          ]
        }
      ]
    },
    {
      "cell_type": "code",
      "metadata": {
        "colab": {
          "base_uri": "https://localhost:8080/",
          "height": 202
        },
        "id": "Ah--0EoF6TWx",
        "outputId": "3039dc39-1b21-4a43-fa38-57576829e67f"
      },
      "source": [
        "# Question B1: Do some data exploration on 'Wage.csv'.\n",
        "wage_data.head()"
      ],
      "execution_count": null,
      "outputs": [
        {
          "output_type": "execute_result",
          "data": {
            "text/html": [
              "<div>\n",
              "<style scoped>\n",
              "    .dataframe tbody tr th:only-of-type {\n",
              "        vertical-align: middle;\n",
              "    }\n",
              "\n",
              "    .dataframe tbody tr th {\n",
              "        vertical-align: top;\n",
              "    }\n",
              "\n",
              "    .dataframe thead th {\n",
              "        text-align: right;\n",
              "    }\n",
              "</style>\n",
              "<table border=\"1\" class=\"dataframe\">\n",
              "  <thead>\n",
              "    <tr style=\"text-align: right;\">\n",
              "      <th></th>\n",
              "      <th>Unnamed: 0</th>\n",
              "      <th>year</th>\n",
              "      <th>age</th>\n",
              "      <th>sex</th>\n",
              "      <th>maritl</th>\n",
              "      <th>race</th>\n",
              "      <th>education</th>\n",
              "      <th>region</th>\n",
              "      <th>jobclass</th>\n",
              "      <th>health</th>\n",
              "      <th>health_ins</th>\n",
              "      <th>logwage</th>\n",
              "      <th>wage</th>\n",
              "    </tr>\n",
              "  </thead>\n",
              "  <tbody>\n",
              "    <tr>\n",
              "      <th>0</th>\n",
              "      <td>231655</td>\n",
              "      <td>2006</td>\n",
              "      <td>18</td>\n",
              "      <td>1. Male</td>\n",
              "      <td>1. Never Married</td>\n",
              "      <td>1. White</td>\n",
              "      <td>1. &lt; HS Grad</td>\n",
              "      <td>2. Middle Atlantic</td>\n",
              "      <td>1. Industrial</td>\n",
              "      <td>1. &lt;=Good</td>\n",
              "      <td>2. No</td>\n",
              "      <td>4.318063</td>\n",
              "      <td>75.043154</td>\n",
              "    </tr>\n",
              "    <tr>\n",
              "      <th>1</th>\n",
              "      <td>86582</td>\n",
              "      <td>2004</td>\n",
              "      <td>24</td>\n",
              "      <td>1. Male</td>\n",
              "      <td>1. Never Married</td>\n",
              "      <td>1. White</td>\n",
              "      <td>4. College Grad</td>\n",
              "      <td>2. Middle Atlantic</td>\n",
              "      <td>2. Information</td>\n",
              "      <td>2. &gt;=Very Good</td>\n",
              "      <td>2. No</td>\n",
              "      <td>4.255273</td>\n",
              "      <td>70.476020</td>\n",
              "    </tr>\n",
              "    <tr>\n",
              "      <th>2</th>\n",
              "      <td>161300</td>\n",
              "      <td>2003</td>\n",
              "      <td>45</td>\n",
              "      <td>1. Male</td>\n",
              "      <td>2. Married</td>\n",
              "      <td>1. White</td>\n",
              "      <td>3. Some College</td>\n",
              "      <td>2. Middle Atlantic</td>\n",
              "      <td>1. Industrial</td>\n",
              "      <td>1. &lt;=Good</td>\n",
              "      <td>1. Yes</td>\n",
              "      <td>4.875061</td>\n",
              "      <td>130.982177</td>\n",
              "    </tr>\n",
              "    <tr>\n",
              "      <th>3</th>\n",
              "      <td>155159</td>\n",
              "      <td>2003</td>\n",
              "      <td>43</td>\n",
              "      <td>1. Male</td>\n",
              "      <td>2. Married</td>\n",
              "      <td>3. Asian</td>\n",
              "      <td>4. College Grad</td>\n",
              "      <td>2. Middle Atlantic</td>\n",
              "      <td>2. Information</td>\n",
              "      <td>2. &gt;=Very Good</td>\n",
              "      <td>1. Yes</td>\n",
              "      <td>5.041393</td>\n",
              "      <td>154.685293</td>\n",
              "    </tr>\n",
              "    <tr>\n",
              "      <th>4</th>\n",
              "      <td>11443</td>\n",
              "      <td>2005</td>\n",
              "      <td>50</td>\n",
              "      <td>1. Male</td>\n",
              "      <td>4. Divorced</td>\n",
              "      <td>1. White</td>\n",
              "      <td>2. HS Grad</td>\n",
              "      <td>2. Middle Atlantic</td>\n",
              "      <td>2. Information</td>\n",
              "      <td>1. &lt;=Good</td>\n",
              "      <td>1. Yes</td>\n",
              "      <td>4.318063</td>\n",
              "      <td>75.043154</td>\n",
              "    </tr>\n",
              "  </tbody>\n",
              "</table>\n",
              "</div>"
            ],
            "text/plain": [
              "   Unnamed: 0  year  age  ... health_ins   logwage        wage\n",
              "0      231655  2006   18  ...      2. No  4.318063   75.043154\n",
              "1       86582  2004   24  ...      2. No  4.255273   70.476020\n",
              "2      161300  2003   45  ...     1. Yes  4.875061  130.982177\n",
              "3      155159  2003   43  ...     1. Yes  5.041393  154.685293\n",
              "4       11443  2005   50  ...     1. Yes  4.318063   75.043154\n",
              "\n",
              "[5 rows x 13 columns]"
            ]
          },
          "metadata": {},
          "execution_count": 11
        }
      ]
    },
    {
      "cell_type": "code",
      "metadata": {
        "colab": {
          "base_uri": "https://localhost:8080/"
        },
        "id": "Fk8Ny9V_868i",
        "outputId": "cc01499c-f3d0-4250-deb5-9149c5cae63c"
      },
      "source": [
        "wage_data.shape"
      ],
      "execution_count": null,
      "outputs": [
        {
          "output_type": "execute_result",
          "data": {
            "text/plain": [
              "(3000, 13)"
            ]
          },
          "metadata": {},
          "execution_count": 12
        }
      ]
    },
    {
      "cell_type": "code",
      "metadata": {
        "colab": {
          "base_uri": "https://localhost:8080/"
        },
        "id": "MSHQ6RgL8_VQ",
        "outputId": "025d75d3-b80a-4a00-b6ef-fe9fd8d2c2e5"
      },
      "source": [
        "wage_data.dtypes"
      ],
      "execution_count": null,
      "outputs": [
        {
          "output_type": "execute_result",
          "data": {
            "text/plain": [
              "Unnamed: 0      int64\n",
              "year            int64\n",
              "age             int64\n",
              "sex            object\n",
              "maritl         object\n",
              "race           object\n",
              "education      object\n",
              "region         object\n",
              "jobclass       object\n",
              "health         object\n",
              "health_ins     object\n",
              "logwage       float64\n",
              "wage          float64\n",
              "dtype: object"
            ]
          },
          "metadata": {},
          "execution_count": 13
        }
      ]
    },
    {
      "cell_type": "code",
      "metadata": {
        "id": "oeELH0j4-YQe",
        "colab": {
          "base_uri": "https://localhost:8080/",
          "height": 385
        },
        "outputId": "3193eae0-2e64-416a-f0b1-6b2bf08740e7"
      },
      "source": [
        "wage_data.describe(include = 'all')"
      ],
      "execution_count": null,
      "outputs": [
        {
          "output_type": "execute_result",
          "data": {
            "text/html": [
              "<div>\n",
              "<style scoped>\n",
              "    .dataframe tbody tr th:only-of-type {\n",
              "        vertical-align: middle;\n",
              "    }\n",
              "\n",
              "    .dataframe tbody tr th {\n",
              "        vertical-align: top;\n",
              "    }\n",
              "\n",
              "    .dataframe thead th {\n",
              "        text-align: right;\n",
              "    }\n",
              "</style>\n",
              "<table border=\"1\" class=\"dataframe\">\n",
              "  <thead>\n",
              "    <tr style=\"text-align: right;\">\n",
              "      <th></th>\n",
              "      <th>Unnamed: 0</th>\n",
              "      <th>year</th>\n",
              "      <th>age</th>\n",
              "      <th>sex</th>\n",
              "      <th>maritl</th>\n",
              "      <th>race</th>\n",
              "      <th>education</th>\n",
              "      <th>region</th>\n",
              "      <th>jobclass</th>\n",
              "      <th>health</th>\n",
              "      <th>health_ins</th>\n",
              "      <th>logwage</th>\n",
              "      <th>wage</th>\n",
              "    </tr>\n",
              "  </thead>\n",
              "  <tbody>\n",
              "    <tr>\n",
              "      <th>count</th>\n",
              "      <td>3000.000000</td>\n",
              "      <td>3000.000000</td>\n",
              "      <td>3000.000000</td>\n",
              "      <td>3000</td>\n",
              "      <td>3000</td>\n",
              "      <td>3000</td>\n",
              "      <td>3000</td>\n",
              "      <td>3000</td>\n",
              "      <td>3000</td>\n",
              "      <td>3000</td>\n",
              "      <td>3000</td>\n",
              "      <td>3000.000000</td>\n",
              "      <td>3000.000000</td>\n",
              "    </tr>\n",
              "    <tr>\n",
              "      <th>unique</th>\n",
              "      <td>NaN</td>\n",
              "      <td>NaN</td>\n",
              "      <td>NaN</td>\n",
              "      <td>1</td>\n",
              "      <td>5</td>\n",
              "      <td>4</td>\n",
              "      <td>5</td>\n",
              "      <td>1</td>\n",
              "      <td>2</td>\n",
              "      <td>2</td>\n",
              "      <td>2</td>\n",
              "      <td>NaN</td>\n",
              "      <td>NaN</td>\n",
              "    </tr>\n",
              "    <tr>\n",
              "      <th>top</th>\n",
              "      <td>NaN</td>\n",
              "      <td>NaN</td>\n",
              "      <td>NaN</td>\n",
              "      <td>1. Male</td>\n",
              "      <td>2. Married</td>\n",
              "      <td>1. White</td>\n",
              "      <td>2. HS Grad</td>\n",
              "      <td>2. Middle Atlantic</td>\n",
              "      <td>1. Industrial</td>\n",
              "      <td>2. &gt;=Very Good</td>\n",
              "      <td>1. Yes</td>\n",
              "      <td>NaN</td>\n",
              "      <td>NaN</td>\n",
              "    </tr>\n",
              "    <tr>\n",
              "      <th>freq</th>\n",
              "      <td>NaN</td>\n",
              "      <td>NaN</td>\n",
              "      <td>NaN</td>\n",
              "      <td>3000</td>\n",
              "      <td>2074</td>\n",
              "      <td>2480</td>\n",
              "      <td>971</td>\n",
              "      <td>3000</td>\n",
              "      <td>1544</td>\n",
              "      <td>2142</td>\n",
              "      <td>2083</td>\n",
              "      <td>NaN</td>\n",
              "      <td>NaN</td>\n",
              "    </tr>\n",
              "    <tr>\n",
              "      <th>mean</th>\n",
              "      <td>218883.373000</td>\n",
              "      <td>2005.791000</td>\n",
              "      <td>42.414667</td>\n",
              "      <td>NaN</td>\n",
              "      <td>NaN</td>\n",
              "      <td>NaN</td>\n",
              "      <td>NaN</td>\n",
              "      <td>NaN</td>\n",
              "      <td>NaN</td>\n",
              "      <td>NaN</td>\n",
              "      <td>NaN</td>\n",
              "      <td>4.653905</td>\n",
              "      <td>111.703608</td>\n",
              "    </tr>\n",
              "    <tr>\n",
              "      <th>std</th>\n",
              "      <td>145654.072587</td>\n",
              "      <td>2.026167</td>\n",
              "      <td>11.542406</td>\n",
              "      <td>NaN</td>\n",
              "      <td>NaN</td>\n",
              "      <td>NaN</td>\n",
              "      <td>NaN</td>\n",
              "      <td>NaN</td>\n",
              "      <td>NaN</td>\n",
              "      <td>NaN</td>\n",
              "      <td>NaN</td>\n",
              "      <td>0.351753</td>\n",
              "      <td>41.728595</td>\n",
              "    </tr>\n",
              "    <tr>\n",
              "      <th>min</th>\n",
              "      <td>7373.000000</td>\n",
              "      <td>2003.000000</td>\n",
              "      <td>18.000000</td>\n",
              "      <td>NaN</td>\n",
              "      <td>NaN</td>\n",
              "      <td>NaN</td>\n",
              "      <td>NaN</td>\n",
              "      <td>NaN</td>\n",
              "      <td>NaN</td>\n",
              "      <td>NaN</td>\n",
              "      <td>NaN</td>\n",
              "      <td>3.000000</td>\n",
              "      <td>20.085537</td>\n",
              "    </tr>\n",
              "    <tr>\n",
              "      <th>25%</th>\n",
              "      <td>85622.250000</td>\n",
              "      <td>2004.000000</td>\n",
              "      <td>33.750000</td>\n",
              "      <td>NaN</td>\n",
              "      <td>NaN</td>\n",
              "      <td>NaN</td>\n",
              "      <td>NaN</td>\n",
              "      <td>NaN</td>\n",
              "      <td>NaN</td>\n",
              "      <td>NaN</td>\n",
              "      <td>NaN</td>\n",
              "      <td>4.447158</td>\n",
              "      <td>85.383940</td>\n",
              "    </tr>\n",
              "    <tr>\n",
              "      <th>50%</th>\n",
              "      <td>228799.500000</td>\n",
              "      <td>2006.000000</td>\n",
              "      <td>42.000000</td>\n",
              "      <td>NaN</td>\n",
              "      <td>NaN</td>\n",
              "      <td>NaN</td>\n",
              "      <td>NaN</td>\n",
              "      <td>NaN</td>\n",
              "      <td>NaN</td>\n",
              "      <td>NaN</td>\n",
              "      <td>NaN</td>\n",
              "      <td>4.653213</td>\n",
              "      <td>104.921507</td>\n",
              "    </tr>\n",
              "    <tr>\n",
              "      <th>75%</th>\n",
              "      <td>374759.500000</td>\n",
              "      <td>2008.000000</td>\n",
              "      <td>51.000000</td>\n",
              "      <td>NaN</td>\n",
              "      <td>NaN</td>\n",
              "      <td>NaN</td>\n",
              "      <td>NaN</td>\n",
              "      <td>NaN</td>\n",
              "      <td>NaN</td>\n",
              "      <td>NaN</td>\n",
              "      <td>NaN</td>\n",
              "      <td>4.857332</td>\n",
              "      <td>128.680488</td>\n",
              "    </tr>\n",
              "    <tr>\n",
              "      <th>max</th>\n",
              "      <td>453870.000000</td>\n",
              "      <td>2009.000000</td>\n",
              "      <td>80.000000</td>\n",
              "      <td>NaN</td>\n",
              "      <td>NaN</td>\n",
              "      <td>NaN</td>\n",
              "      <td>NaN</td>\n",
              "      <td>NaN</td>\n",
              "      <td>NaN</td>\n",
              "      <td>NaN</td>\n",
              "      <td>NaN</td>\n",
              "      <td>5.763128</td>\n",
              "      <td>318.342430</td>\n",
              "    </tr>\n",
              "  </tbody>\n",
              "</table>\n",
              "</div>"
            ],
            "text/plain": [
              "           Unnamed: 0         year  ...      logwage         wage\n",
              "count     3000.000000  3000.000000  ...  3000.000000  3000.000000\n",
              "unique            NaN          NaN  ...          NaN          NaN\n",
              "top               NaN          NaN  ...          NaN          NaN\n",
              "freq              NaN          NaN  ...          NaN          NaN\n",
              "mean    218883.373000  2005.791000  ...     4.653905   111.703608\n",
              "std     145654.072587     2.026167  ...     0.351753    41.728595\n",
              "min       7373.000000  2003.000000  ...     3.000000    20.085537\n",
              "25%      85622.250000  2004.000000  ...     4.447158    85.383940\n",
              "50%     228799.500000  2006.000000  ...     4.653213   104.921507\n",
              "75%     374759.500000  2008.000000  ...     4.857332   128.680488\n",
              "max     453870.000000  2009.000000  ...     5.763128   318.342430\n",
              "\n",
              "[11 rows x 13 columns]"
            ]
          },
          "metadata": {},
          "execution_count": 14
        }
      ]
    },
    {
      "cell_type": "code",
      "metadata": {
        "id": "duzOBrW59CSR"
      },
      "source": [
        "# Question B1: Extract necessary columns.\n",
        "data_x = wage_data['age']\n",
        "data_y = wage_data['wage']"
      ],
      "execution_count": null,
      "outputs": []
    },
    {
      "cell_type": "code",
      "metadata": {
        "colab": {
          "base_uri": "https://localhost:8080/"
        },
        "id": "uOrTzGz8x0uF",
        "outputId": "de5778b7-2170-4364-a8c5-426f708ac06d"
      },
      "source": [
        "data_x.index"
      ],
      "execution_count": null,
      "outputs": [
        {
          "output_type": "execute_result",
          "data": {
            "text/plain": [
              "RangeIndex(start=0, stop=3000, step=1)"
            ]
          },
          "metadata": {},
          "execution_count": 16
        }
      ]
    },
    {
      "cell_type": "code",
      "metadata": {
        "colab": {
          "base_uri": "https://localhost:8080/",
          "height": 282
        },
        "id": "yrM6qP_EJVam",
        "outputId": "35c5e8c1-5e5a-48cb-8671-649840a984c4"
      },
      "source": [
        "# Querstion B1: Plot data.\n",
        "plt.scatter(data_x, data_y)\n",
        "plt.xlabel('Age')\n",
        "plt.ylabel('Wage')\n",
        "\n",
        "plt.show();"
      ],
      "execution_count": null,
      "outputs": [
        {
          "output_type": "display_data",
          "data": {
            "image/png": "[encoded data removed]",
            "text/plain": [
              "<Figure size 432x288 with 1 Axes>"
            ]
          },
          "metadata": {
            "needs_background": "light"
          }
        }
      ]
    },
    {
      "cell_type": "code",
      "metadata": {
        "id": "ogbVD9VUxX6D"
      },
      "source": [
        "# Question B1: Split the dataset into training (70%) and test sets (30%). 'B1' is for 'Question B1'. \n",
        "from sklearn.model_selection import train_test_split\n",
        "X_train_B1, X_test_B1, y_train_B1, y_test_B1 = train_test_split(data_x, data_y, test_size = 0.3, random_state = 12)"
      ],
      "execution_count": null,
      "outputs": []
    },
    {
      "cell_type": "code",
      "metadata": {
        "id": "t5M-XaczzWEC",
        "colab": {
          "base_uri": "https://localhost:8080/"
        },
        "outputId": "ae70309d-e445-4d3f-8239-83343d9da6a1"
      },
      "source": [
        "# Question B1: Perform polynomial regression using 5-fold cross validation to find optimal degree.\n",
        "from sklearn.preprocessing import PolynomialFeatures\n",
        "from sklearn.model_selection import KFold\n",
        "from sklearn.metrics import mean_squared_error\n",
        "import statsmodels.api as sm\n",
        "import math\n",
        "\n",
        "k = 5\n",
        "kf_5 = KFold(n_splits = k, random_state = 12, shuffle = True)\n",
        "degree_nth_list = np.arange(2, 10)\n",
        "\n",
        "X_B1 = np.array(X_train_B1).reshape(-1, 1)\n",
        "y_B1 = np.array(y_train_B1)\n",
        "\n",
        "X_test = np.array(X_test_B1).reshape(-1, 1)\n",
        "y_test = np.array(y_test_B1) \n",
        "\n",
        "poly_avg_rmse_CV_list = []\n",
        "poly_avg_rmse_test_list = []\n",
        "\n",
        "for degree_nth in degree_nth_list:\n",
        "  print(f\"Degree of Polynomial: {degree_nth}\")\n",
        "  polynomial_model = PolynomialFeatures(degree = degree_nth)\n",
        "\n",
        "  poly_rmse_CV_list = []\n",
        "  poly_rmse_test_list = []\n",
        "\n",
        "  for train_index, test_index in kf_5.split(X_B1):\n",
        "    X_train_B1_CV, X_test_B1_CV = X_B1[train_index], X_B1[test_index]\n",
        "    y_train_B1_CV, y_test_B1_CV = y_B1[train_index], y_B1[test_index]\n",
        "\n",
        "    X_poly = polynomial_model.fit_transform(X_train_B1_CV)\n",
        "    model_poly = sm.OLS(y_train_B1_CV, X_poly).fit()\n",
        "    print(f\"Polynomial Coefficients: {model_poly.params}\")\n",
        "\n",
        "    X_poly_pred_B1_CV = polynomial_model.fit_transform(X_test_B1_CV)\n",
        "    y_pred_B1_CV = model_poly.predict(X_poly_pred_B1_CV)\n",
        "    poly_rmse_CV = math.sqrt(mean_squared_error(y_test_B1_CV, y_pred_B1_CV))\n",
        "    poly_rmse_CV_list.append(poly_rmse_CV)\n",
        "\n",
        "    X_poly_pred_B1_test = polynomial_model.fit_transform(X_test)\n",
        "    y_pred_B1_test = model_poly.predict(X_poly_pred_B1_test)\n",
        "    poly_rmse_test = math.sqrt(mean_squared_error(y_test, y_pred_B1_test))\n",
        "    poly_rmse_test_list.append(poly_rmse_test)\n",
        "\n",
        "  poly_avg_rmse_CV = sum(poly_rmse_CV_list)/len(poly_rmse_CV_list)\n",
        "  poly_avg_rmse_CV_list.append(poly_avg_rmse_CV)\n",
        "\n",
        "  poly_avg_rmse_test = sum(poly_rmse_test_list)/len(poly_rmse_test_list)\n",
        "  poly_avg_rmse_test_list.append(poly_avg_rmse_test)\n",
        "\n",
        "print(f\"CV-RMSE: {poly_avg_rmse_CV_list}\")\n",
        "print(f\"test-RMSE: {poly_avg_rmse_test_list}\")"
      ],
      "execution_count": null,
      "outputs": [
        {
          "output_type": "stream",
          "name": "stderr",
          "text": [
            "/usr/local/lib/python3.7/dist-packages/statsmodels/tools/_testing.py:19: FutureWarning: pandas.util.testing is deprecated. Use the functions in the public API at pandas.testing instead.\n",
            "  import pandas.util.testing as tm\n"
          ]
        },
        {
          "output_type": "stream",
          "name": "stdout",
          "text": [
            "Degree of Polynomial: 2\n",
            "Polynomial Coefficients: [-8.81372466  5.22420533 -0.05271101]\n",
            "Polynomial Coefficients: [-3.55485265  4.98894032 -0.05026195]\n",
            "Polynomial Coefficients: [-6.79383993  5.15447183 -0.05195235]\n",
            "Polynomial Coefficients: [-8.53306885  5.09949259 -0.05045453]\n",
            "Polynomial Coefficients: [-11.54102471   5.40830384  -0.054734  ]\n",
            "Degree of Polynomial: 3\n",
            "Polynomial Coefficients: [-8.56270167e+01  1.11126992e+01 -1.93241241e-01  1.05521882e-03]\n",
            "Polynomial Coefficients: [-7.13001964e+01  1.01244606e+01 -1.71324110e-01  8.96995328e-04]\n",
            "Polynomial Coefficients: [-8.16007631e+01  1.08499095e+01 -1.86869217e-01  1.00513003e-03]\n",
            "Polynomial Coefficients: [-7.08985898e+01  9.80754575e+00 -1.61053494e-01  8.16654867e-04]\n",
            "Polynomial Coefficients: [-9.54862873e+01  1.17470368e+01 -2.03728759e-01  1.10151138e-03]\n",
            "Degree of Polynomial: 4\n",
            "Polynomial Coefficients: [-2.25472831e+02  2.54992405e+01 -7.15642889e-01  9.04224555e-03\n",
            " -4.36376872e-05]\n",
            "Polynomial Coefficients: [-2.26109287e+02  2.58503578e+01 -7.34129842e-01  9.36272358e-03\n",
            " -4.54259331e-05]\n",
            "Polynomial Coefficients: [-2.42340888e+02  2.72427917e+01 -7.76514761e-01  9.92639180e-03\n",
            " -4.81705783e-05]\n",
            "Polynomial Coefficients: [-1.91991445e+02  2.20798042e+01 -5.99468706e-01  7.40082745e-03\n",
            " -3.52723139e-05]\n",
            "Polynomial Coefficients: [-2.18153264e+02  2.41243038e+01 -6.44465702e-01  7.70513821e-03\n",
            " -3.53193710e-05]\n",
            "Degree of Polynomial: 5\n",
            "Polynomial Coefficients: [-1.01906145e+02  9.49406308e+00  7.12626710e-02 -9.38723941e-03\n",
            "  1.62802712e-04 -8.88164780e-07]\n",
            "Polynomial Coefficients: [-1.53079107e+02  1.64939092e+01 -2.79730597e-01 -1.13610726e-03\n",
            "  7.04459285e-05 -4.90501272e-07]\n",
            "Polynomial Coefficients: [-2.08918364e+01 -1.33643743e+00  6.22209382e-01 -2.26449905e-02\n",
            "  3.14116392e-04 -1.54536693e-06]\n",
            "Polynomial Coefficients: [-3.69003614e+01  2.25088732e+00  3.61784489e-01 -1.47727199e-02\n",
            "  2.09083499e-04 -1.03294221e-06]\n",
            "Polynomial Coefficients: [-5.32898518e+01  3.14852578e+00  3.68554777e-01 -1.55902346e-02\n",
            "  2.20709719e-04 -1.07962214e-06]\n",
            "Degree of Polynomial: 6\n",
            "Polynomial Coefficients: [ 1.86577683e+02 -3.54633330e+01  2.85939726e+00 -9.76975487e-02\n",
            "  1.67397114e-03 -1.41744107e-05  4.70231778e-08]\n",
            "Polynomial Coefficients: [ 3.62210544e+02 -6.32124734e+01  4.62267519e+00 -1.55006605e-01\n",
            "  2.67748825e-03 -2.31664517e-05  7.93280844e-08]\n",
            "Polynomial Coefficients: [ 4.92461670e+02 -8.13056990e+01  5.57602432e+00 -1.79253994e-01\n",
            "  2.98698050e-03 -2.49658340e-05  8.25430788e-08]\n",
            "Polynomial Coefficients: [ 4.24584423e+02 -6.90435862e+01  4.74205513e+00 -1.52125868e-01\n",
            "  2.53431208e-03 -2.12418165e-05  7.06444134e-08]\n",
            "Polynomial Coefficients: [ 6.40586612e+02 -1.03567449e+02  6.90373695e+00 -2.20040199e-01\n",
            "  3.67626613e-03 -3.10799857e-05  1.04795772e-07]\n",
            "Degree of Polynomial: 7\n",
            "Polynomial Coefficients: [ 3.53996164e-01  1.97029071e+00 -2.01663108e-01  3.46514822e-02\n",
            " -1.60436049e-03  3.25105262e-05 -3.08077379e-07  1.11652721e-09]\n",
            "Polynomial Coefficients: [ 1.29556460e+00  7.21413822e+00 -9.86898843e-01  8.18762240e-02\n",
            " -3.06544605e-03  5.70060827e-05 -5.19213792e-07  1.84881627e-09]\n",
            "Polynomial Coefficients: [ 2.93551187e+00  1.62898311e+01 -2.34279359e+00  1.60597223e-01\n",
            " -5.37118749e-03  9.32269027e-05 -8.10243622e-07  2.78766156e-09]\n",
            "Polynomial Coefficients: [ 1.97355725e+00  1.10031415e+01 -1.47364959e+00  1.04760293e-01\n",
            " -3.58140964e-03  6.28350445e-05 -5.48949064e-07  1.89285766e-09]\n",
            "Polynomial Coefficients: [ 2.49793115e+00  1.39779370e+01 -2.00240159e+00  1.40224170e-01\n",
            " -4.74225934e-03  8.28040524e-05 -7.22850174e-07  2.49821204e-09]\n",
            "Degree of Polynomial: 8\n",
            "Polynomial Coefficients: [ 5.19688232e-03  5.13269171e-02  3.01898997e-01 -1.26322869e-02\n",
            "  6.07105590e-04 -2.48081944e-05  5.29115346e-07 -5.33346021e-09\n",
            "  2.03767081e-11]\n",
            "Polynomial Coefficients: [ 7.62872765e-03  7.63725610e-02  4.44346883e-01 -3.22913840e-02\n",
            "  1.71126290e-03 -5.70867973e-05  1.04534572e-06 -9.60928373e-09\n",
            "  3.47064143e-11]\n",
            "Polynomial Coefficients: [ 1.31091395e-02  1.29789405e-01  7.58601131e-01 -7.86923332e-02\n",
            "  4.38582052e-03 -1.35173498e-04  2.27253993e-06 -1.95080389e-08\n",
            "  6.68681193e-11]\n",
            "Polynomial Coefficients: [ 1.02930110e-02  1.03519866e-01  6.00879726e-01 -5.42297804e-02\n",
            "  2.86509578e-03 -8.73457305e-05  1.46953487e-06 -1.26501003e-08\n",
            "  4.34639338e-11]\n",
            "Polynomial Coefficients: [ 7.29660611e-03  7.33008589e-02  4.29430788e-01 -3.30627930e-02\n",
            "  1.85450629e-03 -6.26973345e-05  1.14199966e-06 -1.03934226e-08\n",
            "  3.71626449e-11]\n",
            "Degree of Polynomial: 9\n",
            "Polynomial Coefficients: [ 4.88025226e-05  6.18333395e-04  6.80673997e-03  4.17259735e-02\n",
            " -3.42246796e-03  1.33316452e-04 -3.04146083e-06  4.12795696e-08\n",
            " -3.06607527e-10  9.53843550e-13]\n",
            "Polynomial Coefficients: [ 5.28458802e-05  8.49160124e-04  7.40202748e-03  4.54548596e-02\n",
            " -3.89119751e-03  1.57601520e-04 -3.70487545e-06  5.13109343e-08\n",
            " -3.85924493e-10  1.20951425e-12]\n",
            "Polynomial Coefficients: [ 6.07668486e-05  8.38288547e-04  8.49524800e-03  5.21323620e-02\n",
            " -4.88501936e-03  2.15068568e-04 -5.38314654e-06  7.76506784e-08\n",
            " -5.97936091e-10  1.89674234e-12]\n",
            "Polynomial Coefficients: [ 5.72474338e-05  7.34044720e-04  8.06171750e-03  4.96138336e-02\n",
            " -4.52063817e-03  1.92570064e-04 -4.66628432e-06  6.54177999e-08\n",
            " -4.91936191e-10  1.53069596e-12]\n",
            "Polynomial Coefficients: [ 3.99226925e-05  4.09341765e-04  5.65610942e-03  3.49128270e-02\n",
            " -2.61024750e-03  9.47003267e-05 -2.08842491e-06  2.83208195e-08\n",
            " -2.14285095e-10  6.84183726e-13]\n",
            "CV-RMSE: [39.56641726917141, 39.49540982114955, 39.45972165565239, 39.4653448901364, 39.457464245006655, 39.45226563655172, 39.44881363689998, 39.44950990005903]\n",
            "test-RMSE: [40.95019189467199, 40.93227808628046, 40.95325766899065, 40.951203016084904, 40.9240234026991, 40.91462103075922, 40.91891217063598, 40.94854495430372]\n"
          ]
        }
      ]
    },
    {
      "cell_type": "code",
      "metadata": {
        "colab": {
          "base_uri": "https://localhost:8080/"
        },
        "id": "ObTLcTi0NkmM",
        "outputId": "034b01f4-db9d-4ce2-f229-6c668a5e2e02"
      },
      "source": [
        "# Question B1: Compute average rmse for validation and training portion.\n",
        "avg_poly_CV = sum(poly_avg_rmse_CV_list)/len(poly_avg_rmse_CV_list)\n",
        "avg_poly_test = sum(poly_avg_rmse_test_list)/len(poly_avg_rmse_test_list)\n",
        "\n",
        "print(f\"avg-CV-RMSE: {avg_poly_CV}\")\n",
        "print(f\"avg-test-RMSE: {avg_poly_test }\")"
      ],
      "execution_count": null,
      "outputs": [
        {
          "output_type": "stream",
          "name": "stdout",
          "text": [
            "avg-CV-RMSE: 39.47436838182839\n",
            "avg-test-RMSE: 40.936629028053254\n"
          ]
        }
      ]
    },
    {
      "cell_type": "code",
      "metadata": {
        "colab": {
          "base_uri": "https://localhost:8080/",
          "height": 296
        },
        "id": "3ZzSmUf0gz-X",
        "outputId": "1934fb57-a5f7-494c-effc-651b52f4613e"
      },
      "source": [
        "# Question B1: Plot rmse vs polynomial degrees.\n",
        "width = 0.35\n",
        "\n",
        "labels = degree_nth_list\n",
        "x = np.arange(len(labels))\n",
        "fig, ax = plt.subplots()\n",
        "rects1 = ax.bar(x - width/2, poly_avg_rmse_CV_list, width, label = 'CV-RMSE')\n",
        "rects2 = ax.bar(x + width/2, poly_avg_rmse_test_list, width, label = 'test-RMSE')\n",
        "\n",
        "ax.set_ylabel('Root Mean Squarred Error')\n",
        "ax.set_xlabel('Polynomial Degrees')\n",
        "ax.set_title('RMSE for Different Polynomial Degrees')\n",
        "ax.set_xticks(x)\n",
        "ax.set_xticklabels(labels)\n",
        "ax.legend()\n",
        "\n",
        "fig.tight_layout()\n",
        "\n",
        "plt.show();"
      ],
      "execution_count": null,
      "outputs": [
        {
          "output_type": "display_data",
          "data": {
            "image/png": "[encoded data removed]",
            "text/plain": [
              "<Figure size 432x288 with 1 Axes>"
            ]
          },
          "metadata": {
            "needs_background": "light"
          }
        }
      ]
    },
    {
      "cell_type": "markdown",
      "metadata": {
        "id": "tPMaWZzAn55X"
      },
      "source": [
        "### Question B1: Choose a polynomial degree.\n",
        "Using 5-fold cross-validation, polynomial models of degrees 2 to 9 were trained. The root means the squared error (RMSE) was computed for the validation and test portion for every split. The average RMSE for the validation portion was obtained to be 39.74 and the test portion was 40.93. However, the deviation in RMSE for increasing the polynomial degrees of 2 to 9 is minimal for both the testing and validation portion. Thus, the optimal degree would be 2 as that would be computationally advantageous."
      ]
    },
    {
      "cell_type": "code",
      "metadata": {
        "colab": {
          "base_uri": "https://localhost:8080/",
          "height": 298
        },
        "id": "C-EeMtUJoHid",
        "outputId": "651025ce-18b7-4094-d2bf-d0a2d253ce5d"
      },
      "source": [
        "# Question B1: Make a plot of the resulting polynomial fit to the data.\n",
        "from sklearn.preprocessing import PolynomialFeatures\n",
        "import statsmodels.api as sm\n",
        "\n",
        "X = np.array(X_train_B1).reshape(-1, 1)\n",
        "y = np.array(y_train_B1)\n",
        "\n",
        "polynomial_model = PolynomialFeatures(degree = 2)\n",
        "X_poly = polynomial_model.fit_transform(X)\n",
        "model_poly = sm.OLS(y, X_poly).fit()\n",
        "\n",
        "x_val = np.linspace(X_test_B1.min(), X_test_B1.max(), 100)\n",
        "x_val = np.array(x_val).reshape(-1,1) \n",
        "x_vals = polynomial_model.fit_transform(x_val)\n",
        "\n",
        "y_pred = model_poly.predict(x_vals)\n",
        "plt.plot(x_val, y_pred,  color = \"red\", label = \"2nd Degree Polynomial Fit\")\n",
        "\n",
        "plt.scatter(data_x, data_y, color = \"green\", alpha = 0.6)\n",
        "plt.xlabel('Age')\n",
        "plt.ylabel('Wage')\n",
        "plt.title('Predicting Wage Based On Age Using Polynomial Regression')\n",
        "\n",
        "plt.legend()\n",
        "\n",
        "plt.show();"
      ],
      "execution_count": null,
      "outputs": [
        {
          "output_type": "display_data",
          "data": {
            "image/png": "[encoded data removed]",
            "text/plain": [
              "<Figure size 432x288 with 1 Axes>"
            ]
          },
          "metadata": {
            "needs_background": "light"
          }
        }
      ]
    },
    {
      "cell_type": "code",
      "metadata": {
        "id": "RTnKJkQptdr0"
      },
      "source": [
        "# Question B2: Split the dataset into training (70%) and test sets (30%). 'B2' is for 'Question B2'. \n",
        "from sklearn.model_selection import train_test_split\n",
        "X_train_B2, X_test_B2, y_train_B2, y_test_B2 = train_test_split(data_x, data_y, test_size = 0.3, random_state = 9)"
      ],
      "execution_count": null,
      "outputs": []
    },
    {
      "cell_type": "code",
      "metadata": {
        "colab": {
          "base_uri": "https://localhost:8080/"
        },
        "id": "U-G4dS1MsZCo",
        "outputId": "48e68be7-3431-4083-c5db-7f5c455f69ba"
      },
      "source": [
        "X_train_B2.index"
      ],
      "execution_count": null,
      "outputs": [
        {
          "output_type": "execute_result",
          "data": {
            "text/plain": [
              "Int64Index([2459, 2110, 1572, 1934, 1428, 1968, 1980,  217, 1857, 1446,\n",
              "            ...\n",
              "            1558,  577, 1149,  918, 1787, 2104,  501, 2686,  348,  382],\n",
              "           dtype='int64', length=2100)"
            ]
          },
          "metadata": {},
          "execution_count": 24
        }
      ]
    },
    {
      "cell_type": "code",
      "metadata": {
        "colab": {
          "base_uri": "https://localhost:8080/"
        },
        "id": "nVgb0HY1BmG_",
        "outputId": "b034b985-1549-4926-bac2-ed8eee786836"
      },
      "source": [
        "# Question B2: Fit a step function to predict wage using age with cv to find the optimal number of cuts , and perform cross-validation to choose the optimal number of cuts. Make a plot of the fit obtained.\n",
        "from sklearn.model_selection import KFold\n",
        "from sklearn.metrics import mean_squared_error\n",
        "import statsmodels.api as sm\n",
        "import math\n",
        "\n",
        "k = 5\n",
        "kf_5 = KFold(n_splits = k, random_state = 12, shuffle = True)\n",
        "cut_list = np.arange(1, 11)\n",
        "\n",
        "X_B2 = X_train_B2\n",
        "y_B2 = y_train_B2\n",
        "\n",
        "step_avg_rmse_CV_list = []\n",
        "step_avg_rmse_test_list = []\n",
        "\n",
        "for cut_value in cut_list:\n",
        "  \n",
        "  step_rmse_test_list = []\n",
        "  step_rmse_CV_list = []\n",
        "\n",
        "  for train_index, test_index in kf_5.split(X_B2):\n",
        "    X_train_B2_CV, X_test_B2_CV = X_B2.iloc[train_index], X_B2.iloc[test_index]\n",
        "    y_train_B2_CV, y_test_B2_CV = y_B2.iloc[train_index], y_B2.iloc[test_index]\n",
        "\n",
        "    df_cut, bins = pd.cut(X_train_B2_CV, cut_value, retbins = True, right = True)\n",
        "\n",
        "    df_steps = pd.concat([X_train_B2_CV, df_cut, y_train_B2_CV], keys = ['age', 'age_cuts', 'wage'], axis = 1)\n",
        "    df_steps_dummies = pd.get_dummies(df_cut)\n",
        "\n",
        "    fit_step = sm.GLM(df_steps.wage, df_steps_dummies).fit()\n",
        "\n",
        "    bin_mapping_CV = np.digitize(X_test_B2_CV, bins, right = True) \n",
        "    X_valid_CV = pd.get_dummies(bin_mapping_CV)\n",
        "    y_pred_B2_CV = fit_step.predict(X_valid_CV)\n",
        "\n",
        "    bin_mapping_test = np.digitize(X_test_B2, bins, right = True) \n",
        "    X_valid_test = pd.get_dummies(bin_mapping_test)\n",
        "    y_pred_B2_test = fit_step.predict(X_valid_test)\n",
        "\n",
        "    step_rmse_CV = math.sqrt(mean_squared_error(y_test_B2_CV, y_pred_B2_CV))\n",
        "    step_rmse_CV_list.append(step_rmse_CV)\n",
        "\n",
        "    step_rmse_test = math.sqrt(mean_squared_error(y_test_B2, y_pred_B2_test))\n",
        "    step_rmse_test_list.append(step_rmse_test)\n",
        "\n",
        "  step_avg_rmse_CV = sum(step_rmse_CV_list)/len(step_rmse_CV_list)\n",
        "  step_avg_rmse_CV_list.append(step_avg_rmse_CV)\n",
        "\n",
        "  step_avg_rmse_test = sum(step_rmse_test_list)/len(step_rmse_test_list)\n",
        "  step_avg_rmse_test_list.append(step_avg_rmse_test)\n",
        "\n",
        "\n",
        "print(f\"CV-RMSE: {step_avg_rmse_CV_list}\")\n",
        "print(f\"test-RMSE: {step_avg_rmse_test_list}\")"
      ],
      "execution_count": null,
      "outputs": [
        {
          "output_type": "stream",
          "name": "stdout",
          "text": [
            "CV-RMSE: [42.50645443247102, 42.46575051162299, 41.89188242691112, 41.200617835314596, 41.26361651007332, 41.16362639204681, 40.94984127632448, 40.8153167892586, 40.94697027025878, 40.898026227067376]\n",
            "test-RMSE: [39.75958026945109, 39.580689513429334, 38.812895791875164, 38.49708025206178, 38.24108120211251, 38.208111573561254, 38.149117943813195, 38.08459114739984, 38.112342535920675, 38.05508700619192]\n"
          ]
        }
      ]
    },
    {
      "cell_type": "code",
      "metadata": {
        "colab": {
          "base_uri": "https://localhost:8080/"
        },
        "id": "4VneqJXhBsJB",
        "outputId": "ea8fd102-6d2e-407f-873a-c90bf1f91177"
      },
      "source": [
        "# Question B2: Compute average rmse for validation and training portion.\n",
        "avg_step_CV = sum(step_avg_rmse_CV_list)/len(step_avg_rmse_CV_list)\n",
        "avg_step_test = sum(step_avg_rmse_test_list)/len(step_avg_rmse_test_list)\n",
        "\n",
        "print(f\"avg-CV-RMSE: {avg_step_CV}\")\n",
        "print(f\"avg-test-RMSE: {avg_step_test }\")"
      ],
      "execution_count": null,
      "outputs": [
        {
          "output_type": "stream",
          "name": "stdout",
          "text": [
            "avg-CV-RMSE: 41.4102102671349\n",
            "avg-test-RMSE: 38.55005772358168\n"
          ]
        }
      ]
    },
    {
      "cell_type": "code",
      "metadata": {
        "colab": {
          "base_uri": "https://localhost:8080/",
          "height": 296
        },
        "id": "xF5S123NansN",
        "outputId": "8c811fdd-6f31-405d-ae99-3e1301fabdbe"
      },
      "source": [
        "# Question B2: Plot rmse vs number of cuts.\n",
        "width = 0.35\n",
        "\n",
        "labels = cut_list\n",
        "x = np.arange(len(labels))\n",
        "fig, ax = plt.subplots()\n",
        "rects1 = ax.bar(x - width/2, step_avg_rmse_CV_list, width, label = 'CV-RMSE')\n",
        "rects2 = ax.bar(x + width/2, step_avg_rmse_test_list, width, label = 'test-RMSE')\n",
        "\n",
        "ax.set_ylabel('Root Mean Squarred Error')\n",
        "ax.set_xlabel('Number of Cuts')\n",
        "ax.set_title('RMSE for Different Cuts')\n",
        "ax.set_xticks(x)\n",
        "ax.set_xticklabels(labels)\n",
        "ax.legend()\n",
        "\n",
        "fig.tight_layout()\n",
        "\n",
        "plt.show();"
      ],
      "execution_count": null,
      "outputs": [
        {
          "output_type": "display_data",
          "data": {
            "image/png": "[encoded data removed]",
            "text/plain": [
              "<Figure size 432x288 with 1 Axes>"
            ]
          },
          "metadata": {
            "needs_background": "light"
          }
        }
      ]
    },
    {
      "cell_type": "markdown",
      "metadata": {
        "id": "hBa2bB6LbphG"
      },
      "source": [
        "### Question B1: Choose the number of cuts.\n",
        "Using 5-fold cross-validation, step-function models of 1 to 10 cuts were trained. The root means squared error (RMSE) was computed for the test portion for every split. The lowest validation RMSE was obtained for a model with 8 cuts, being 40.82. On the other hand, for the testing portion, the lowest RMSE, being 38.06, was obtained for 10 cuts. The average RMSE for the validation and testing portion is respectively 41.41 and 38.55. Given the low deviation in RMSE on both portions for the herein range of cuts, it is possible to select a model with fewer cuts as that would be computationally advantageous. Thus, between a model with 8 or 10 cuts, the optimal degree is 8."
      ]
    },
    {
      "cell_type": "code",
      "metadata": {
        "colab": {
          "base_uri": "https://localhost:8080/",
          "height": 311
        },
        "id": "bPMJfXBFcUc-",
        "outputId": "78372b25-6580-476e-8357-8e27dfc36417"
      },
      "source": [
        "# Question B2: Plot the step function with 8 cuts.\n",
        "\n",
        "df_cut, bins = pd.cut(X_train_B2, 8, retbins = True, right = True)\n",
        "\n",
        "df_steps = pd.concat([X_train_B2, df_cut, y_train_B2], keys = ['age', 'age_cuts', 'wage'], axis = 1)\n",
        "df_steps_dummies = pd.get_dummies(df_cut)\n",
        "\n",
        "fit_step = sm.GLM(df_steps.wage, df_steps_dummies).fit()\n",
        "\n",
        "xp = np.linspace(X_test_B2.min(), X_test_B2.max() - 1, 100) \n",
        "bin_mapping = np.digitize(xp, bins, right = True) \n",
        "X_valid_cut8 = pd.get_dummies(bin_mapping) \n",
        "pred_cut8 = fit_step.predict(X_valid_cut8)\n",
        "\n",
        "fig, (ax0) = plt.subplots(1,1, figsize = (10, 4))\n",
        "fig.suptitle('Piecewise Constant Function ', fontsize = 16)\n",
        "ax0.scatter(X_train_B2, y_train_B2, alpha = 0.3)\n",
        "ax0.plot(xp, pred_cut8, color = 'black', label =  'Piecewise Fit')\n",
        "ax0.set_xlabel('Age')\n",
        "ax0.set_ylabel('Wage')\n",
        "\n",
        "plt.legend()\n",
        "\n",
        "plt.show();"
      ],
      "execution_count": null,
      "outputs": [
        {
          "output_type": "display_data",
          "data": {
            "image/png": "[encoded data removed]",
            "text/plain": [
              "<Figure size 720x288 with 1 Axes>"
            ]
          },
          "metadata": {
            "needs_background": "light"
          }
        }
      ]
    },
    {
      "cell_type": "markdown",
      "metadata": {
        "id": "7GLQakVZ41gL"
      },
      "source": [
        "\n",
        "## **Part C** <font color=\"blue\">(4 points)</font>\n",
        "Apply SVM and random forests to a data set of your choice. Be sure to fit the models on a training set and to evaluate their performance on a test set. How accurate are the results compared to each other? Which of them yields the best performance?\n"
      ]
    },
    {
      "cell_type": "markdown",
      "metadata": {
        "id": "MMBNRL0X7PSN"
      },
      "source": [
        "## Part C"
      ]
    },
    {
      "cell_type": "markdown",
      "metadata": {
        "id": "aiqP3IFRbXFJ"
      },
      "source": [
        "### Question C: The dataset selection\n",
        "The dataset selected is from a Kaggle repository. The dataset contains data about MBA students from Jain University in Bangalore and was curated to investigate the frequency of MBA students getting work placements relative to various features. The dataset will be used to create a predictive model using random forest and support vector machines to predict whether a student will get a work placement or not. The features for the herein dataset are the following:    \n",
        "\n",
        "*   Gender,\n",
        "*   Secondary Education percentage - 10th Grade (%),\n",
        "*   Board of Education - 10th Grade - Central/ Others,\n",
        "*   Higher Secondary Education percentage- 12th Grade (%),\n",
        "*   Board of Education - 12th Grade - Central/ Others,\n",
        "*   Specialization in Higher Secondary Education,\n",
        "*   Degree Percentage (%),\n",
        "*   Under Graduation (Degree type) - Field of degree education,\n",
        "*   Work Experience - Yes/No,\n",
        "*   Entrance Test Percentage (%),\n",
        "*   MBA Specialization,\n",
        "*   Work Placement - Placed/Not Placed,\n",
        "*   Salary.\n",
        "\n",
        "For more information on the sources or details of the dataset, please visit the following link: https://www.kaggle.com/benroshan/factors-affecting-campus-placement?select=Placement_Data_Full_Class.csv.\n"
      ]
    },
    {
      "cell_type": "code",
      "metadata": {
        "id": "vnkNnx9hzy0U"
      },
      "source": [
        "import pandas as pd\n",
        "import matplotlib.pyplot as plt\n",
        "plt.style.use('ggplot')\n",
        "%matplotlib inline\n",
        "import seaborn as sns; sns.set_theme()"
      ],
      "execution_count": null,
      "outputs": []
    },
    {
      "cell_type": "code",
      "metadata": {
        "id": "lbKK1KSxJnb8",
        "colab": {
          "resources": {
            "http://localhost:8080/nbextensions/google.colab/files.js": {
              "data": "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",
              "ok": true,
              "headers": [
                [
                  "content-type",
                  "application/javascript"
                ]
              ],
              "status": 200,
              "status_text": ""
            }
          },
          "base_uri": "https://localhost:8080/",
          "height": 73
        },
        "outputId": "d2d27a3d-0aa4-46a0-d402-e7e31a9b6e34"
      },
      "source": [
        "# Question C: Dowload Dataset.\n",
        "from google.colab import files\n",
        "uploaded = files.upload()\n",
        "placement_data = pd.read_csv('Placement_Data_Full_Class.csv')"
      ],
      "execution_count": null,
      "outputs": [
        {
          "output_type": "display_data",
          "data": {
            "text/html": [
              "\n",
              "     <input type=\"file\" id=\"files-b9beace9-f3f4-4fc0-81e4-a18b1c020d80\" name=\"files[]\" multiple disabled\n",
              "        style=\"border:none\" />\n",
              "     <output id=\"result-b9beace9-f3f4-4fc0-81e4-a18b1c020d80\">\n",
              "      Upload widget is only available when the cell has been executed in the\n",
              "      current browser session. Please rerun this cell to enable.\n",
              "      </output>\n",
              "      <script src=\"/nbextensions/google.colab/files.js\"></script> "
            ],
            "text/plain": [
              "<IPython.core.display.HTML object>"
            ]
          },
          "metadata": {}
        },
        {
          "output_type": "stream",
          "name": "stdout",
          "text": [
            "Saving Placement_Data_Full_Class.csv to Placement_Data_Full_Class.csv\n"
          ]
        }
      ]
    },
    {
      "cell_type": "code",
      "metadata": {
        "id": "Fpx1XeLkz7C2",
        "colab": {
          "base_uri": "https://localhost:8080/",
          "height": 202
        },
        "outputId": "4d1b1650-a368-48a0-ac52-6f23ca38e348"
      },
      "source": [
        "# Question C: Conduct some data exploration on dataset.\n",
        "placement_data.head()"
      ],
      "execution_count": null,
      "outputs": [
        {
          "output_type": "execute_result",
          "data": {
            "text/html": [
              "<div>\n",
              "<style scoped>\n",
              "    .dataframe tbody tr th:only-of-type {\n",
              "        vertical-align: middle;\n",
              "    }\n",
              "\n",
              "    .dataframe tbody tr th {\n",
              "        vertical-align: top;\n",
              "    }\n",
              "\n",
              "    .dataframe thead th {\n",
              "        text-align: right;\n",
              "    }\n",
              "</style>\n",
              "<table border=\"1\" class=\"dataframe\">\n",
              "  <thead>\n",
              "    <tr style=\"text-align: right;\">\n",
              "      <th></th>\n",
              "      <th>sl_no</th>\n",
              "      <th>gender</th>\n",
              "      <th>ssc_p</th>\n",
              "      <th>ssc_b</th>\n",
              "      <th>hsc_p</th>\n",
              "      <th>hsc_b</th>\n",
              "      <th>hsc_s</th>\n",
              "      <th>degree_p</th>\n",
              "      <th>degree_t</th>\n",
              "      <th>workex</th>\n",
              "      <th>etest_p</th>\n",
              "      <th>specialisation</th>\n",
              "      <th>mba_p</th>\n",
              "      <th>status</th>\n",
              "      <th>salary</th>\n",
              "    </tr>\n",
              "  </thead>\n",
              "  <tbody>\n",
              "    <tr>\n",
              "      <th>0</th>\n",
              "      <td>1</td>\n",
              "      <td>M</td>\n",
              "      <td>67.00</td>\n",
              "      <td>Others</td>\n",
              "      <td>91.00</td>\n",
              "      <td>Others</td>\n",
              "      <td>Commerce</td>\n",
              "      <td>58.00</td>\n",
              "      <td>Sci&amp;Tech</td>\n",
              "      <td>No</td>\n",
              "      <td>55.0</td>\n",
              "      <td>Mkt&amp;HR</td>\n",
              "      <td>58.80</td>\n",
              "      <td>Placed</td>\n",
              "      <td>270000.0</td>\n",
              "    </tr>\n",
              "    <tr>\n",
              "      <th>1</th>\n",
              "      <td>2</td>\n",
              "      <td>M</td>\n",
              "      <td>79.33</td>\n",
              "      <td>Central</td>\n",
              "      <td>78.33</td>\n",
              "      <td>Others</td>\n",
              "      <td>Science</td>\n",
              "      <td>77.48</td>\n",
              "      <td>Sci&amp;Tech</td>\n",
              "      <td>Yes</td>\n",
              "      <td>86.5</td>\n",
              "      <td>Mkt&amp;Fin</td>\n",
              "      <td>66.28</td>\n",
              "      <td>Placed</td>\n",
              "      <td>200000.0</td>\n",
              "    </tr>\n",
              "    <tr>\n",
              "      <th>2</th>\n",
              "      <td>3</td>\n",
              "      <td>M</td>\n",
              "      <td>65.00</td>\n",
              "      <td>Central</td>\n",
              "      <td>68.00</td>\n",
              "      <td>Central</td>\n",
              "      <td>Arts</td>\n",
              "      <td>64.00</td>\n",
              "      <td>Comm&amp;Mgmt</td>\n",
              "      <td>No</td>\n",
              "      <td>75.0</td>\n",
              "      <td>Mkt&amp;Fin</td>\n",
              "      <td>57.80</td>\n",
              "      <td>Placed</td>\n",
              "      <td>250000.0</td>\n",
              "    </tr>\n",
              "    <tr>\n",
              "      <th>3</th>\n",
              "      <td>4</td>\n",
              "      <td>M</td>\n",
              "      <td>56.00</td>\n",
              "      <td>Central</td>\n",
              "      <td>52.00</td>\n",
              "      <td>Central</td>\n",
              "      <td>Science</td>\n",
              "      <td>52.00</td>\n",
              "      <td>Sci&amp;Tech</td>\n",
              "      <td>No</td>\n",
              "      <td>66.0</td>\n",
              "      <td>Mkt&amp;HR</td>\n",
              "      <td>59.43</td>\n",
              "      <td>Not Placed</td>\n",
              "      <td>NaN</td>\n",
              "    </tr>\n",
              "    <tr>\n",
              "      <th>4</th>\n",
              "      <td>5</td>\n",
              "      <td>M</td>\n",
              "      <td>85.80</td>\n",
              "      <td>Central</td>\n",
              "      <td>73.60</td>\n",
              "      <td>Central</td>\n",
              "      <td>Commerce</td>\n",
              "      <td>73.30</td>\n",
              "      <td>Comm&amp;Mgmt</td>\n",
              "      <td>No</td>\n",
              "      <td>96.8</td>\n",
              "      <td>Mkt&amp;Fin</td>\n",
              "      <td>55.50</td>\n",
              "      <td>Placed</td>\n",
              "      <td>425000.0</td>\n",
              "    </tr>\n",
              "  </tbody>\n",
              "</table>\n",
              "</div>"
            ],
            "text/plain": [
              "   sl_no gender  ssc_p    ssc_b  ...  specialisation  mba_p      status    salary\n",
              "0      1      M  67.00   Others  ...          Mkt&HR  58.80      Placed  270000.0\n",
              "1      2      M  79.33  Central  ...         Mkt&Fin  66.28      Placed  200000.0\n",
              "2      3      M  65.00  Central  ...         Mkt&Fin  57.80      Placed  250000.0\n",
              "3      4      M  56.00  Central  ...          Mkt&HR  59.43  Not Placed       NaN\n",
              "4      5      M  85.80  Central  ...         Mkt&Fin  55.50      Placed  425000.0\n",
              "\n",
              "[5 rows x 15 columns]"
            ]
          },
          "metadata": {},
          "execution_count": 31
        }
      ]
    },
    {
      "cell_type": "code",
      "metadata": {
        "id": "9Nnhwlr70DAE",
        "colab": {
          "base_uri": "https://localhost:8080/"
        },
        "outputId": "b5dff277-2b36-4aef-ae0f-74f175ebc3c5"
      },
      "source": [
        "placement_data.dtypes"
      ],
      "execution_count": null,
      "outputs": [
        {
          "output_type": "execute_result",
          "data": {
            "text/plain": [
              "sl_no               int64\n",
              "gender             object\n",
              "ssc_p             float64\n",
              "ssc_b              object\n",
              "hsc_p             float64\n",
              "hsc_b              object\n",
              "hsc_s              object\n",
              "degree_p          float64\n",
              "degree_t           object\n",
              "workex             object\n",
              "etest_p           float64\n",
              "specialisation     object\n",
              "mba_p             float64\n",
              "status             object\n",
              "salary            float64\n",
              "dtype: object"
            ]
          },
          "metadata": {},
          "execution_count": 32
        }
      ]
    },
    {
      "cell_type": "code",
      "metadata": {
        "id": "2ee80ZSy0FwJ",
        "colab": {
          "base_uri": "https://localhost:8080/"
        },
        "outputId": "aacc58b9-3f0b-46d8-d8fb-016fcb386035"
      },
      "source": [
        "placement_data.columns"
      ],
      "execution_count": null,
      "outputs": [
        {
          "output_type": "execute_result",
          "data": {
            "text/plain": [
              "Index(['sl_no', 'gender', 'ssc_p', 'ssc_b', 'hsc_p', 'hsc_b', 'hsc_s',\n",
              "       'degree_p', 'degree_t', 'workex', 'etest_p', 'specialisation', 'mba_p',\n",
              "       'status', 'salary'],\n",
              "      dtype='object')"
            ]
          },
          "metadata": {},
          "execution_count": 33
        }
      ]
    },
    {
      "cell_type": "code",
      "metadata": {
        "colab": {
          "base_uri": "https://localhost:8080/"
        },
        "id": "5tQ6sIb70GKN",
        "outputId": "b2eb729a-dc24-409e-a19a-c865fa153836"
      },
      "source": [
        "placement_data.shape"
      ],
      "execution_count": null,
      "outputs": [
        {
          "output_type": "execute_result",
          "data": {
            "text/plain": [
              "(215, 15)"
            ]
          },
          "metadata": {},
          "execution_count": 34
        }
      ]
    },
    {
      "cell_type": "code",
      "metadata": {
        "id": "Zvx3tgtQ0LnA",
        "colab": {
          "base_uri": "https://localhost:8080/",
          "height": 385
        },
        "outputId": "eaf03139-3f99-4729-c6af-bad1a2fa6d0c"
      },
      "source": [
        "placement_data.describe(include = 'all')"
      ],
      "execution_count": null,
      "outputs": [
        {
          "output_type": "execute_result",
          "data": {
            "text/html": [
              "<div>\n",
              "<style scoped>\n",
              "    .dataframe tbody tr th:only-of-type {\n",
              "        vertical-align: middle;\n",
              "    }\n",
              "\n",
              "    .dataframe tbody tr th {\n",
              "        vertical-align: top;\n",
              "    }\n",
              "\n",
              "    .dataframe thead th {\n",
              "        text-align: right;\n",
              "    }\n",
              "</style>\n",
              "<table border=\"1\" class=\"dataframe\">\n",
              "  <thead>\n",
              "    <tr style=\"text-align: right;\">\n",
              "      <th></th>\n",
              "      <th>sl_no</th>\n",
              "      <th>gender</th>\n",
              "      <th>ssc_p</th>\n",
              "      <th>ssc_b</th>\n",
              "      <th>hsc_p</th>\n",
              "      <th>hsc_b</th>\n",
              "      <th>hsc_s</th>\n",
              "      <th>degree_p</th>\n",
              "      <th>degree_t</th>\n",
              "      <th>workex</th>\n",
              "      <th>etest_p</th>\n",
              "      <th>specialisation</th>\n",
              "      <th>mba_p</th>\n",
              "      <th>status</th>\n",
              "      <th>salary</th>\n",
              "    </tr>\n",
              "  </thead>\n",
              "  <tbody>\n",
              "    <tr>\n",
              "      <th>count</th>\n",
              "      <td>215.000000</td>\n",
              "      <td>215</td>\n",
              "      <td>215.000000</td>\n",
              "      <td>215</td>\n",
              "      <td>215.000000</td>\n",
              "      <td>215</td>\n",
              "      <td>215</td>\n",
              "      <td>215.000000</td>\n",
              "      <td>215</td>\n",
              "      <td>215</td>\n",
              "      <td>215.000000</td>\n",
              "      <td>215</td>\n",
              "      <td>215.000000</td>\n",
              "      <td>215</td>\n",
              "      <td>148.000000</td>\n",
              "    </tr>\n",
              "    <tr>\n",
              "      <th>unique</th>\n",
              "      <td>NaN</td>\n",
              "      <td>2</td>\n",
              "      <td>NaN</td>\n",
              "      <td>2</td>\n",
              "      <td>NaN</td>\n",
              "      <td>2</td>\n",
              "      <td>3</td>\n",
              "      <td>NaN</td>\n",
              "      <td>3</td>\n",
              "      <td>2</td>\n",
              "      <td>NaN</td>\n",
              "      <td>2</td>\n",
              "      <td>NaN</td>\n",
              "      <td>2</td>\n",
              "      <td>NaN</td>\n",
              "    </tr>\n",
              "    <tr>\n",
              "      <th>top</th>\n",
              "      <td>NaN</td>\n",
              "      <td>M</td>\n",
              "      <td>NaN</td>\n",
              "      <td>Central</td>\n",
              "      <td>NaN</td>\n",
              "      <td>Others</td>\n",
              "      <td>Commerce</td>\n",
              "      <td>NaN</td>\n",
              "      <td>Comm&amp;Mgmt</td>\n",
              "      <td>No</td>\n",
              "      <td>NaN</td>\n",
              "      <td>Mkt&amp;Fin</td>\n",
              "      <td>NaN</td>\n",
              "      <td>Placed</td>\n",
              "      <td>NaN</td>\n",
              "    </tr>\n",
              "    <tr>\n",
              "      <th>freq</th>\n",
              "      <td>NaN</td>\n",
              "      <td>139</td>\n",
              "      <td>NaN</td>\n",
              "      <td>116</td>\n",
              "      <td>NaN</td>\n",
              "      <td>131</td>\n",
              "      <td>113</td>\n",
              "      <td>NaN</td>\n",
              "      <td>145</td>\n",
              "      <td>141</td>\n",
              "      <td>NaN</td>\n",
              "      <td>120</td>\n",
              "      <td>NaN</td>\n",
              "      <td>148</td>\n",
              "      <td>NaN</td>\n",
              "    </tr>\n",
              "    <tr>\n",
              "      <th>mean</th>\n",
              "      <td>108.000000</td>\n",
              "      <td>NaN</td>\n",
              "      <td>67.303395</td>\n",
              "      <td>NaN</td>\n",
              "      <td>66.333163</td>\n",
              "      <td>NaN</td>\n",
              "      <td>NaN</td>\n",
              "      <td>66.370186</td>\n",
              "      <td>NaN</td>\n",
              "      <td>NaN</td>\n",
              "      <td>72.100558</td>\n",
              "      <td>NaN</td>\n",
              "      <td>62.278186</td>\n",
              "      <td>NaN</td>\n",
              "      <td>288655.405405</td>\n",
              "    </tr>\n",
              "    <tr>\n",
              "      <th>std</th>\n",
              "      <td>62.209324</td>\n",
              "      <td>NaN</td>\n",
              "      <td>10.827205</td>\n",
              "      <td>NaN</td>\n",
              "      <td>10.897509</td>\n",
              "      <td>NaN</td>\n",
              "      <td>NaN</td>\n",
              "      <td>7.358743</td>\n",
              "      <td>NaN</td>\n",
              "      <td>NaN</td>\n",
              "      <td>13.275956</td>\n",
              "      <td>NaN</td>\n",
              "      <td>5.833385</td>\n",
              "      <td>NaN</td>\n",
              "      <td>93457.452420</td>\n",
              "    </tr>\n",
              "    <tr>\n",
              "      <th>min</th>\n",
              "      <td>1.000000</td>\n",
              "      <td>NaN</td>\n",
              "      <td>40.890000</td>\n",
              "      <td>NaN</td>\n",
              "      <td>37.000000</td>\n",
              "      <td>NaN</td>\n",
              "      <td>NaN</td>\n",
              "      <td>50.000000</td>\n",
              "      <td>NaN</td>\n",
              "      <td>NaN</td>\n",
              "      <td>50.000000</td>\n",
              "      <td>NaN</td>\n",
              "      <td>51.210000</td>\n",
              "      <td>NaN</td>\n",
              "      <td>200000.000000</td>\n",
              "    </tr>\n",
              "    <tr>\n",
              "      <th>25%</th>\n",
              "      <td>54.500000</td>\n",
              "      <td>NaN</td>\n",
              "      <td>60.600000</td>\n",
              "      <td>NaN</td>\n",
              "      <td>60.900000</td>\n",
              "      <td>NaN</td>\n",
              "      <td>NaN</td>\n",
              "      <td>61.000000</td>\n",
              "      <td>NaN</td>\n",
              "      <td>NaN</td>\n",
              "      <td>60.000000</td>\n",
              "      <td>NaN</td>\n",
              "      <td>57.945000</td>\n",
              "      <td>NaN</td>\n",
              "      <td>240000.000000</td>\n",
              "    </tr>\n",
              "    <tr>\n",
              "      <th>50%</th>\n",
              "      <td>108.000000</td>\n",
              "      <td>NaN</td>\n",
              "      <td>67.000000</td>\n",
              "      <td>NaN</td>\n",
              "      <td>65.000000</td>\n",
              "      <td>NaN</td>\n",
              "      <td>NaN</td>\n",
              "      <td>66.000000</td>\n",
              "      <td>NaN</td>\n",
              "      <td>NaN</td>\n",
              "      <td>71.000000</td>\n",
              "      <td>NaN</td>\n",
              "      <td>62.000000</td>\n",
              "      <td>NaN</td>\n",
              "      <td>265000.000000</td>\n",
              "    </tr>\n",
              "    <tr>\n",
              "      <th>75%</th>\n",
              "      <td>161.500000</td>\n",
              "      <td>NaN</td>\n",
              "      <td>75.700000</td>\n",
              "      <td>NaN</td>\n",
              "      <td>73.000000</td>\n",
              "      <td>NaN</td>\n",
              "      <td>NaN</td>\n",
              "      <td>72.000000</td>\n",
              "      <td>NaN</td>\n",
              "      <td>NaN</td>\n",
              "      <td>83.500000</td>\n",
              "      <td>NaN</td>\n",
              "      <td>66.255000</td>\n",
              "      <td>NaN</td>\n",
              "      <td>300000.000000</td>\n",
              "    </tr>\n",
              "    <tr>\n",
              "      <th>max</th>\n",
              "      <td>215.000000</td>\n",
              "      <td>NaN</td>\n",
              "      <td>89.400000</td>\n",
              "      <td>NaN</td>\n",
              "      <td>97.700000</td>\n",
              "      <td>NaN</td>\n",
              "      <td>NaN</td>\n",
              "      <td>91.000000</td>\n",
              "      <td>NaN</td>\n",
              "      <td>NaN</td>\n",
              "      <td>98.000000</td>\n",
              "      <td>NaN</td>\n",
              "      <td>77.890000</td>\n",
              "      <td>NaN</td>\n",
              "      <td>940000.000000</td>\n",
              "    </tr>\n",
              "  </tbody>\n",
              "</table>\n",
              "</div>"
            ],
            "text/plain": [
              "             sl_no gender       ssc_p  ...       mba_p  status         salary\n",
              "count   215.000000    215  215.000000  ...  215.000000     215     148.000000\n",
              "unique         NaN      2         NaN  ...         NaN       2            NaN\n",
              "top            NaN      M         NaN  ...         NaN  Placed            NaN\n",
              "freq           NaN    139         NaN  ...         NaN     148            NaN\n",
              "mean    108.000000    NaN   67.303395  ...   62.278186     NaN  288655.405405\n",
              "std      62.209324    NaN   10.827205  ...    5.833385     NaN   93457.452420\n",
              "min       1.000000    NaN   40.890000  ...   51.210000     NaN  200000.000000\n",
              "25%      54.500000    NaN   60.600000  ...   57.945000     NaN  240000.000000\n",
              "50%     108.000000    NaN   67.000000  ...   62.000000     NaN  265000.000000\n",
              "75%     161.500000    NaN   75.700000  ...   66.255000     NaN  300000.000000\n",
              "max     215.000000    NaN   89.400000  ...   77.890000     NaN  940000.000000\n",
              "\n",
              "[11 rows x 15 columns]"
            ]
          },
          "metadata": {},
          "execution_count": 35
        }
      ]
    },
    {
      "cell_type": "code",
      "metadata": {
        "colab": {
          "base_uri": "https://localhost:8080/",
          "height": 284
        },
        "id": "_WUgghl2k0ny",
        "outputId": "9cf45789-a51f-4173-8c3f-404f6c6f3bd2"
      },
      "source": [
        "placement_data['gender'].value_counts().plot(kind = 'bar', xlabel = 'Gender', ylabel = 'Count');"
      ],
      "execution_count": null,
      "outputs": [
        {
          "output_type": "display_data",
          "data": {
            "image/png": "[encoded data removed]",
            "text/plain": [
              "<Figure size 432x288 with 1 Axes>"
            ]
          },
          "metadata": {}
        }
      ]
    },
    {
      "cell_type": "code",
      "metadata": {
        "colab": {
          "base_uri": "https://localhost:8080/",
          "height": 284
        },
        "id": "GqZO-fOrm2sx",
        "outputId": "a1a496e1-d3f4-489c-ee01-955e013c146c"
      },
      "source": [
        "plt.hist(placement_data['ssc_p'])\n",
        "plt.xlabel('10th Grade Percantage (%)')\n",
        "plt.ylabel('Count')\n",
        "plt.show();"
      ],
      "execution_count": null,
      "outputs": [
        {
          "output_type": "display_data",
          "data": {
            "image/png": "[encoded data removed]",
            "text/plain": [
              "<Figure size 432x288 with 1 Axes>"
            ]
          },
          "metadata": {}
        }
      ]
    },
    {
      "cell_type": "code",
      "metadata": {
        "colab": {
          "base_uri": "https://localhost:8080/",
          "height": 315
        },
        "id": "WpzcsF2npOIf",
        "outputId": "eba4314e-98fd-48b8-cc54-b45ccd79aad8"
      },
      "source": [
        "placement_data['ssc_b'].value_counts().plot(kind = 'bar', xlabel = '10th Grade - Board of Education', ylabel = 'Count');"
      ],
      "execution_count": null,
      "outputs": [
        {
          "output_type": "display_data",
          "data": {
            "image/png": "[encoded data removed]",
            "text/plain": [
              "<Figure size 432x288 with 1 Axes>"
            ]
          },
          "metadata": {}
        }
      ]
    },
    {
      "cell_type": "code",
      "metadata": {
        "colab": {
          "base_uri": "https://localhost:8080/",
          "height": 284
        },
        "id": "P0oDrFd0rifI",
        "outputId": "5cb3521b-f491-4719-be31-31b34402830b"
      },
      "source": [
        "plt.hist(placement_data['hsc_p'])\n",
        "plt.xlabel('12th Grade Percantage (%)')\n",
        "plt.ylabel('Count')\n",
        "plt.show();"
      ],
      "execution_count": null,
      "outputs": [
        {
          "output_type": "display_data",
          "data": {
            "image/png": "[encoded data removed]",
            "text/plain": [
              "<Figure size 432x288 with 1 Axes>"
            ]
          },
          "metadata": {}
        }
      ]
    },
    {
      "cell_type": "code",
      "metadata": {
        "colab": {
          "base_uri": "https://localhost:8080/",
          "height": 314
        },
        "id": "Cvo2KXBJr4K8",
        "outputId": "e2358efb-0d36-415b-a889-9cff1c5f34cc"
      },
      "source": [
        "placement_data['hsc_b'].value_counts().plot(kind = 'bar', xlabel = '12th Grade - Board of Education', ylabel = 'Count');"
      ],
      "execution_count": null,
      "outputs": [
        {
          "output_type": "display_data",
          "data": {
            "image/png": "[encoded data removed]",
            "text/plain": [
              "<Figure size 432x288 with 1 Axes>"
            ]
          },
          "metadata": {}
        }
      ]
    },
    {
      "cell_type": "code",
      "metadata": {
        "colab": {
          "base_uri": "https://localhost:8080/",
          "height": 285
        },
        "id": "hBPPFiyOr9Ke",
        "outputId": "1d75cace-31fd-4d7e-f6df-5312bce8e944"
      },
      "source": [
        "plt.hist(placement_data['degree_p'])\n",
        "plt.xlabel('Degree Grade Percantage (%)')\n",
        "plt.ylabel('Count')\n",
        "plt.show();"
      ],
      "execution_count": null,
      "outputs": [
        {
          "output_type": "display_data",
          "data": {
            "image/png": "[encoded data removed]",
            "text/plain": [
              "<Figure size 432x288 with 1 Axes>"
            ]
          },
          "metadata": {}
        }
      ]
    },
    {
      "cell_type": "code",
      "metadata": {
        "colab": {
          "base_uri": "https://localhost:8080/",
          "height": 351
        },
        "id": "_UL1eqABsLtK",
        "outputId": "0c59eb63-dc7a-4b1f-b4fa-21f9aa1e67f5"
      },
      "source": [
        "placement_data['degree_t'].value_counts().plot(kind = 'bar', xlabel = 'Degree Type', ylabel = 'Count');"
      ],
      "execution_count": null,
      "outputs": [
        {
          "output_type": "display_data",
          "data": {
            "image/png": "[encoded data removed]",
            "text/plain": [
              "<Figure size 432x288 with 1 Axes>"
            ]
          },
          "metadata": {}
        }
      ]
    },
    {
      "cell_type": "code",
      "metadata": {
        "colab": {
          "base_uri": "https://localhost:8080/",
          "height": 293
        },
        "id": "fy2u_7U9sSXG",
        "outputId": "6778d278-8241-41e9-b4ae-f40af231b501"
      },
      "source": [
        "placement_data['workex'].value_counts().plot(kind = 'bar', xlabel = 'Work Experience', ylabel = 'Count');"
      ],
      "execution_count": null,
      "outputs": [
        {
          "output_type": "display_data",
          "data": {
            "image/png": "[encoded data removed]",
            "text/plain": [
              "<Figure size 432x288 with 1 Axes>"
            ]
          },
          "metadata": {}
        }
      ]
    },
    {
      "cell_type": "code",
      "metadata": {
        "colab": {
          "base_uri": "https://localhost:8080/",
          "height": 284
        },
        "id": "4zDY7SPGsltX",
        "outputId": "28f6bf46-b3b7-4ac5-8c34-ca0a16f4daca"
      },
      "source": [
        "plt.hist(placement_data['etest_p'])\n",
        "plt.xlabel('Entrance Test Percantage (%)')\n",
        "plt.ylabel('Count')\n",
        "plt.show();"
      ],
      "execution_count": null,
      "outputs": [
        {
          "output_type": "display_data",
          "data": {
            "image/png": "[encoded data removed]",
            "text/plain": [
              "<Figure size 432x288 with 1 Axes>"
            ]
          },
          "metadata": {}
        }
      ]
    },
    {
      "cell_type": "code",
      "metadata": {
        "colab": {
          "base_uri": "https://localhost:8080/",
          "height": 320
        },
        "id": "pdWELmGnvMzL",
        "outputId": "b66d1174-2281-4683-935d-dc565d7c64af"
      },
      "source": [
        "placement_data['specialisation'].value_counts().plot(kind = 'bar', xlabel = 'Specialisation', ylabel = 'Count');"
      ],
      "execution_count": null,
      "outputs": [
        {
          "output_type": "display_data",
          "data": {
            "image/png": "[encoded data removed]",
            "text/plain": [
              "<Figure size 432x288 with 1 Axes>"
            ]
          },
          "metadata": {}
        }
      ]
    },
    {
      "cell_type": "code",
      "metadata": {
        "colab": {
          "base_uri": "https://localhost:8080/",
          "height": 284
        },
        "id": "L2NwdTRHvWXK",
        "outputId": "6aebc27a-75b1-4412-80bb-57295a445ec8"
      },
      "source": [
        "plt.hist(placement_data['mba_p'])\n",
        "plt.xlabel('MBA Grade Percantage (%)')\n",
        "plt.ylabel('Count')\n",
        "plt.show();"
      ],
      "execution_count": null,
      "outputs": [
        {
          "output_type": "display_data",
          "data": {
            "image/png": "[encoded data removed]",
            "text/plain": [
              "<Figure size 432x288 with 1 Axes>"
            ]
          },
          "metadata": {}
        }
      ]
    },
    {
      "cell_type": "code",
      "metadata": {
        "id": "DE9nhXA2xHxw",
        "colab": {
          "base_uri": "https://localhost:8080/",
          "height": 334
        },
        "outputId": "0d99381f-f691-4b59-f4db-0216926a79c8"
      },
      "source": [
        "placement_data['status'].value_counts().plot(kind = 'bar', xlabel = 'Placement Status', ylabel = 'Count');"
      ],
      "execution_count": null,
      "outputs": [
        {
          "output_type": "display_data",
          "data": {
            "image/png": "[encoded data removed]",
            "text/plain": [
              "<Figure size 432x288 with 1 Axes>"
            ]
          },
          "metadata": {}
        }
      ]
    },
    {
      "cell_type": "code",
      "metadata": {
        "colab": {
          "base_uri": "https://localhost:8080/",
          "height": 284
        },
        "id": "c2V441r0xjtl",
        "outputId": "8c0219e8-037d-4a40-a92c-3705e0a3f27b"
      },
      "source": [
        "plt.hist(placement_data['salary'])\n",
        "plt.xlabel('salary (INR)')\n",
        "plt.ylabel('Count')\n",
        "current_values = plt.gca().get_xticks()\n",
        "plt.gca().set_xticklabels(['{:1.0f}K'.format(x) for x in current_values * 0.001])\n",
        "plt.show();"
      ],
      "execution_count": null,
      "outputs": [
        {
          "output_type": "display_data",
          "data": {
            "image/png": "[encoded data removed]",
            "text/plain": [
              "<Figure size 432x288 with 1 Axes>"
            ]
          },
          "metadata": {}
        }
      ]
    },
    {
      "cell_type": "code",
      "metadata": {
        "id": "0_6pve_mhatl",
        "colab": {
          "base_uri": "https://localhost:8080/",
          "height": 598
        },
        "outputId": "7c9f974e-a9e9-409b-97de-ad6eedd98809"
      },
      "source": [
        "placement_data_corr = placement_data.drop(['sl_no'], axis = 1)\n",
        "pd_corr = placement_data_corr.corr()\n",
        "sns.set(rc = {'figure.figsize':(18,10)})\n",
        "sns.heatmap(pd_corr, \n",
        "            xticklabels = pd_corr.columns, \n",
        "            yticklabels = pd_corr.columns, \n",
        "            annot = True, \n",
        "            cmap = sns.diverging_palette(220, 20, as_cmap = True));"
      ],
      "execution_count": null,
      "outputs": [
        {
          "output_type": "display_data",
          "data": {
            "image/png": "[encoded data removed]",
            "text/plain": [
              "<Figure size 1296x720 with 2 Axes>"
            ]
          },
          "metadata": {}
        }
      ]
    },
    {
      "cell_type": "code",
      "metadata": {
        "id": "LEf1scC8ieb-",
        "colab": {
          "base_uri": "https://localhost:8080/"
        },
        "outputId": "f093528f-db88-4de6-a692-b784bc4dffc4"
      },
      "source": [
        "placement_data.isnull().sum()"
      ],
      "execution_count": null,
      "outputs": [
        {
          "output_type": "execute_result",
          "data": {
            "text/plain": [
              "sl_no              0\n",
              "gender             0\n",
              "ssc_p              0\n",
              "ssc_b              0\n",
              "hsc_p              0\n",
              "hsc_b              0\n",
              "hsc_s              0\n",
              "degree_p           0\n",
              "degree_t           0\n",
              "workex             0\n",
              "etest_p            0\n",
              "specialisation     0\n",
              "mba_p              0\n",
              "status             0\n",
              "salary            67\n",
              "dtype: int64"
            ]
          },
          "metadata": {},
          "execution_count": 50
        }
      ]
    },
    {
      "cell_type": "code",
      "metadata": {
        "id": "OFZF2denkRHn",
        "colab": {
          "base_uri": "https://localhost:8080/"
        },
        "outputId": "17f1f161-3e12-46f4-b6f4-69d063f5962a"
      },
      "source": [
        "duplicateRowsDF = placement_data[placement_data.duplicated()]\n",
        "print(\"Duplicate Rows except first occurrence based on all columns are :\", duplicateRowsDF)"
      ],
      "execution_count": null,
      "outputs": [
        {
          "output_type": "stream",
          "name": "stdout",
          "text": [
            "Duplicate Rows except first occurrence based on all columns are : Empty DataFrame\n",
            "Columns: [sl_no, gender, ssc_p, ssc_b, hsc_p, hsc_b, hsc_s, degree_p, degree_t, workex, etest_p, specialisation, mba_p, status, salary]\n",
            "Index: []\n"
          ]
        }
      ]
    },
    {
      "cell_type": "markdown",
      "metadata": {
        "id": "FoIfx23LaRtK"
      },
      "source": [
        "### Question C: Obsrvations based on data exploration.\n",
        "*   The dataset has 15 features, whom 1 is a serial integer, 6 are numerical features and 8 are categorical features. \n",
        "*   The dataset contains 215 observations.\n",
        "*   All columns have the same number of values except the 'salary' column. Only 148 observations have a value for the 'salary' column and the rest don't as they didn't get a placement.\n",
        "*   The observations consist of 139 males and 76 females.\n",
        "*   The mean of the 10th grade, 12th grade, and degree percentage scores hover around 66 %.\n",
        "*   The student placement salaries are mostly between 200K to 400K INR.\n",
        "*   There are only null values in the 'salary' column.\n",
        "*   There are no duplicate observations. "
      ]
    },
    {
      "cell_type": "markdown",
      "metadata": {
        "id": "7j63REnb3Ovf"
      },
      "source": [
        "### Question C: Features to be used\n",
        "For the sake of this study, the serial integer, the categorical features and the salary of students will be omitted. The target variable will be the 'Work Placement' categorical feature and the remaining features, being numerical, will be predictors."
      ]
    },
    {
      "cell_type": "code",
      "metadata": {
        "id": "UdCbj8ftkpmr"
      },
      "source": [
        "# Question C: Segregate the predictors and target variable.\n",
        "X_C = placement_data[['ssc_p', 'hsc_p', 'degree_p', 'etest_p', 'mba_p']]\n",
        "y_C = placement_data['status']"
      ],
      "execution_count": null,
      "outputs": []
    },
    {
      "cell_type": "code",
      "metadata": {
        "id": "PltsDQeslocx",
        "colab": {
          "base_uri": "https://localhost:8080/",
          "height": 202
        },
        "outputId": "5ed17e56-69cf-4ded-8e3d-2547c5968cfc"
      },
      "source": [
        "X_C.head()"
      ],
      "execution_count": null,
      "outputs": [
        {
          "output_type": "execute_result",
          "data": {
            "text/html": [
              "<div>\n",
              "<style scoped>\n",
              "    .dataframe tbody tr th:only-of-type {\n",
              "        vertical-align: middle;\n",
              "    }\n",
              "\n",
              "    .dataframe tbody tr th {\n",
              "        vertical-align: top;\n",
              "    }\n",
              "\n",
              "    .dataframe thead th {\n",
              "        text-align: right;\n",
              "    }\n",
              "</style>\n",
              "<table border=\"1\" class=\"dataframe\">\n",
              "  <thead>\n",
              "    <tr style=\"text-align: right;\">\n",
              "      <th></th>\n",
              "      <th>ssc_p</th>\n",
              "      <th>hsc_p</th>\n",
              "      <th>degree_p</th>\n",
              "      <th>etest_p</th>\n",
              "      <th>mba_p</th>\n",
              "    </tr>\n",
              "  </thead>\n",
              "  <tbody>\n",
              "    <tr>\n",
              "      <th>0</th>\n",
              "      <td>67.00</td>\n",
              "      <td>91.00</td>\n",
              "      <td>58.00</td>\n",
              "      <td>55.0</td>\n",
              "      <td>58.80</td>\n",
              "    </tr>\n",
              "    <tr>\n",
              "      <th>1</th>\n",
              "      <td>79.33</td>\n",
              "      <td>78.33</td>\n",
              "      <td>77.48</td>\n",
              "      <td>86.5</td>\n",
              "      <td>66.28</td>\n",
              "    </tr>\n",
              "    <tr>\n",
              "      <th>2</th>\n",
              "      <td>65.00</td>\n",
              "      <td>68.00</td>\n",
              "      <td>64.00</td>\n",
              "      <td>75.0</td>\n",
              "      <td>57.80</td>\n",
              "    </tr>\n",
              "    <tr>\n",
              "      <th>3</th>\n",
              "      <td>56.00</td>\n",
              "      <td>52.00</td>\n",
              "      <td>52.00</td>\n",
              "      <td>66.0</td>\n",
              "      <td>59.43</td>\n",
              "    </tr>\n",
              "    <tr>\n",
              "      <th>4</th>\n",
              "      <td>85.80</td>\n",
              "      <td>73.60</td>\n",
              "      <td>73.30</td>\n",
              "      <td>96.8</td>\n",
              "      <td>55.50</td>\n",
              "    </tr>\n",
              "  </tbody>\n",
              "</table>\n",
              "</div>"
            ],
            "text/plain": [
              "   ssc_p  hsc_p  degree_p  etest_p  mba_p\n",
              "0  67.00  91.00     58.00     55.0  58.80\n",
              "1  79.33  78.33     77.48     86.5  66.28\n",
              "2  65.00  68.00     64.00     75.0  57.80\n",
              "3  56.00  52.00     52.00     66.0  59.43\n",
              "4  85.80  73.60     73.30     96.8  55.50"
            ]
          },
          "metadata": {},
          "execution_count": 53
        }
      ]
    },
    {
      "cell_type": "code",
      "metadata": {
        "id": "TS-P0znGlq7E",
        "colab": {
          "base_uri": "https://localhost:8080/"
        },
        "outputId": "89526f44-a196-4aa2-bb6b-d60adeafad4c"
      },
      "source": [
        "y_C.head()"
      ],
      "execution_count": null,
      "outputs": [
        {
          "output_type": "execute_result",
          "data": {
            "text/plain": [
              "0        Placed\n",
              "1        Placed\n",
              "2        Placed\n",
              "3    Not Placed\n",
              "4        Placed\n",
              "Name: status, dtype: object"
            ]
          },
          "metadata": {},
          "execution_count": 54
        }
      ]
    },
    {
      "cell_type": "code",
      "metadata": {
        "id": "_Z9UOIaXo_WJ"
      },
      "source": [
        "# Question C: Split the dataset into training (70%) and test sets (30%). 'C' is for 'Question C'.\n",
        "from sklearn.model_selection import train_test_split\n",
        "X_train_C, X_test_C, y_train_C, y_test_C = train_test_split(X_C, y_C, test_size = 0.3, random_state = 10)"
      ],
      "execution_count": null,
      "outputs": []
    },
    {
      "cell_type": "code",
      "metadata": {
        "id": "nR5ghw_NWMHA"
      },
      "source": [
        "# Question C: Scale data for testing and training.\n",
        "from sklearn.preprocessing import StandardScaler, scale\n",
        "scaler = StandardScaler().fit(X_train_C)\n",
        "X_train_scaled = scaler.transform(X_train_C)\n",
        "X_test_scaled = scaler.transform(X_test_C)"
      ],
      "execution_count": null,
      "outputs": []
    },
    {
      "cell_type": "code",
      "metadata": {
        "id": "2EuNaRBktq8h",
        "colab": {
          "base_uri": "https://localhost:8080/"
        },
        "outputId": "44471ab6-0ed5-47d5-8d1c-193ba93223b5"
      },
      "source": [
        "# Question C: Build random forest classifier.\n",
        "from sklearn.model_selection import GridSearchCV\n",
        "from sklearn.ensemble import RandomForestClassifier\n",
        "from sklearn.model_selection import KFold\n",
        "kf_5 = KFold(n_splits = 5)\n",
        "rfc_ = RandomForestClassifier()\n",
        "dict_para = {'n_estimators': [20, 40, 80, 100], 'min_samples_split': [4, 8, 12], 'criterion': ('gini', 'entropy'), 'max_leaf_nodes': [4, 8, 12]}\n",
        "gscv_rfc_ = GridSearchCV(rfc_ ,dict_para, cv = kf_5)\n",
        "gscv_rfc_.fit(X_train_scaled, y_train_C)"
      ],
      "execution_count": null,
      "outputs": [
        {
          "output_type": "execute_result",
          "data": {
            "text/plain": [
              "GridSearchCV(cv=KFold(n_splits=5, random_state=None, shuffle=False),\n",
              "             estimator=RandomForestClassifier(),\n",
              "             param_grid={'criterion': ('gini', 'entropy'),\n",
              "                         'max_leaf_nodes': [4, 8, 12],\n",
              "                         'min_samples_split': [4, 8, 12],\n",
              "                         'n_estimators': [20, 40, 80, 100]})"
            ]
          },
          "metadata": {},
          "execution_count": 57
        }
      ]
    },
    {
      "cell_type": "code",
      "metadata": {
        "id": "ZLo5KjgVzw0Q",
        "colab": {
          "base_uri": "https://localhost:8080/"
        },
        "outputId": "1369828f-1ff9-4c39-83db-7b81ba5f4f00"
      },
      "source": [
        "gscv_rfc_.best_params_"
      ],
      "execution_count": null,
      "outputs": [
        {
          "output_type": "execute_result",
          "data": {
            "text/plain": [
              "{'criterion': 'gini',\n",
              " 'max_leaf_nodes': 4,\n",
              " 'min_samples_split': 4,\n",
              " 'n_estimators': 40}"
            ]
          },
          "metadata": {},
          "execution_count": 58
        }
      ]
    },
    {
      "cell_type": "code",
      "metadata": {
        "id": "2GKwKO8qzylq",
        "colab": {
          "base_uri": "https://localhost:8080/",
          "height": 388
        },
        "outputId": "39c715dd-75d9-4fad-ca4e-9f592c85379a"
      },
      "source": [
        "results_rfc_ = pd.DataFrame(gscv_rfc_.cv_results_)\n",
        "results_rfc_.head()"
      ],
      "execution_count": null,
      "outputs": [
        {
          "output_type": "execute_result",
          "data": {
            "text/html": [
              "<div>\n",
              "<style scoped>\n",
              "    .dataframe tbody tr th:only-of-type {\n",
              "        vertical-align: middle;\n",
              "    }\n",
              "\n",
              "    .dataframe tbody tr th {\n",
              "        vertical-align: top;\n",
              "    }\n",
              "\n",
              "    .dataframe thead th {\n",
              "        text-align: right;\n",
              "    }\n",
              "</style>\n",
              "<table border=\"1\" class=\"dataframe\">\n",
              "  <thead>\n",
              "    <tr style=\"text-align: right;\">\n",
              "      <th></th>\n",
              "      <th>mean_fit_time</th>\n",
              "      <th>std_fit_time</th>\n",
              "      <th>mean_score_time</th>\n",
              "      <th>std_score_time</th>\n",
              "      <th>param_criterion</th>\n",
              "      <th>param_max_leaf_nodes</th>\n",
              "      <th>param_min_samples_split</th>\n",
              "      <th>param_n_estimators</th>\n",
              "      <th>params</th>\n",
              "      <th>split0_test_score</th>\n",
              "      <th>split1_test_score</th>\n",
              "      <th>split2_test_score</th>\n",
              "      <th>split3_test_score</th>\n",
              "      <th>split4_test_score</th>\n",
              "      <th>mean_test_score</th>\n",
              "      <th>std_test_score</th>\n",
              "      <th>rank_test_score</th>\n",
              "    </tr>\n",
              "  </thead>\n",
              "  <tbody>\n",
              "    <tr>\n",
              "      <th>0</th>\n",
              "      <td>0.032975</td>\n",
              "      <td>0.003667</td>\n",
              "      <td>0.003495</td>\n",
              "      <td>0.000526</td>\n",
              "      <td>gini</td>\n",
              "      <td>4</td>\n",
              "      <td>4</td>\n",
              "      <td>20</td>\n",
              "      <td>{'criterion': 'gini', 'max_leaf_nodes': 4, 'mi...</td>\n",
              "      <td>0.866667</td>\n",
              "      <td>0.700000</td>\n",
              "      <td>0.866667</td>\n",
              "      <td>0.833333</td>\n",
              "      <td>0.9</td>\n",
              "      <td>0.833333</td>\n",
              "      <td>0.069921</td>\n",
              "      <td>7</td>\n",
              "    </tr>\n",
              "    <tr>\n",
              "      <th>1</th>\n",
              "      <td>0.059680</td>\n",
              "      <td>0.005980</td>\n",
              "      <td>0.005198</td>\n",
              "      <td>0.000509</td>\n",
              "      <td>gini</td>\n",
              "      <td>4</td>\n",
              "      <td>4</td>\n",
              "      <td>40</td>\n",
              "      <td>{'criterion': 'gini', 'max_leaf_nodes': 4, 'mi...</td>\n",
              "      <td>0.900000</td>\n",
              "      <td>0.766667</td>\n",
              "      <td>0.900000</td>\n",
              "      <td>0.800000</td>\n",
              "      <td>0.9</td>\n",
              "      <td>0.853333</td>\n",
              "      <td>0.058119</td>\n",
              "      <td>1</td>\n",
              "    </tr>\n",
              "    <tr>\n",
              "      <th>2</th>\n",
              "      <td>0.110752</td>\n",
              "      <td>0.003559</td>\n",
              "      <td>0.008834</td>\n",
              "      <td>0.000284</td>\n",
              "      <td>gini</td>\n",
              "      <td>4</td>\n",
              "      <td>4</td>\n",
              "      <td>80</td>\n",
              "      <td>{'criterion': 'gini', 'max_leaf_nodes': 4, 'mi...</td>\n",
              "      <td>0.833333</td>\n",
              "      <td>0.766667</td>\n",
              "      <td>0.866667</td>\n",
              "      <td>0.766667</td>\n",
              "      <td>0.9</td>\n",
              "      <td>0.826667</td>\n",
              "      <td>0.053333</td>\n",
              "      <td>22</td>\n",
              "    </tr>\n",
              "    <tr>\n",
              "      <th>3</th>\n",
              "      <td>0.150906</td>\n",
              "      <td>0.013215</td>\n",
              "      <td>0.011547</td>\n",
              "      <td>0.000992</td>\n",
              "      <td>gini</td>\n",
              "      <td>4</td>\n",
              "      <td>4</td>\n",
              "      <td>100</td>\n",
              "      <td>{'criterion': 'gini', 'max_leaf_nodes': 4, 'mi...</td>\n",
              "      <td>0.800000</td>\n",
              "      <td>0.766667</td>\n",
              "      <td>0.866667</td>\n",
              "      <td>0.766667</td>\n",
              "      <td>0.9</td>\n",
              "      <td>0.820000</td>\n",
              "      <td>0.054160</td>\n",
              "      <td>43</td>\n",
              "    </tr>\n",
              "    <tr>\n",
              "      <th>4</th>\n",
              "      <td>0.029884</td>\n",
              "      <td>0.001220</td>\n",
              "      <td>0.003163</td>\n",
              "      <td>0.000270</td>\n",
              "      <td>gini</td>\n",
              "      <td>4</td>\n",
              "      <td>8</td>\n",
              "      <td>20</td>\n",
              "      <td>{'criterion': 'gini', 'max_leaf_nodes': 4, 'mi...</td>\n",
              "      <td>0.833333</td>\n",
              "      <td>0.733333</td>\n",
              "      <td>0.866667</td>\n",
              "      <td>0.766667</td>\n",
              "      <td>0.9</td>\n",
              "      <td>0.820000</td>\n",
              "      <td>0.061824</td>\n",
              "      <td>43</td>\n",
              "    </tr>\n",
              "  </tbody>\n",
              "</table>\n",
              "</div>"
            ],
            "text/plain": [
              "   mean_fit_time  std_fit_time  ...  std_test_score  rank_test_score\n",
              "0       0.032975      0.003667  ...        0.069921                7\n",
              "1       0.059680      0.005980  ...        0.058119                1\n",
              "2       0.110752      0.003559  ...        0.053333               22\n",
              "3       0.150906      0.013215  ...        0.054160               43\n",
              "4       0.029884      0.001220  ...        0.061824               43\n",
              "\n",
              "[5 rows x 17 columns]"
            ]
          },
          "metadata": {},
          "execution_count": 59
        }
      ]
    },
    {
      "cell_type": "code",
      "metadata": {
        "id": "_xA-6lJDz53i",
        "colab": {
          "base_uri": "https://localhost:8080/"
        },
        "outputId": "89619548-0ae3-4cc9-fcba-c0c99b8fab6b"
      },
      "source": [
        "best_gs_est_rfc_ = gscv_rfc_.best_estimator_\n",
        "best_gs_est_rfc_"
      ],
      "execution_count": null,
      "outputs": [
        {
          "output_type": "execute_result",
          "data": {
            "text/plain": [
              "RandomForestClassifier(max_leaf_nodes=4, min_samples_split=4, n_estimators=40)"
            ]
          },
          "metadata": {},
          "execution_count": 60
        }
      ]
    },
    {
      "cell_type": "code",
      "metadata": {
        "id": "p6JAdhHi0QKF"
      },
      "source": [
        "y_pred_rfc_ = best_gs_est_rfc_.predict(X_test_scaled)"
      ],
      "execution_count": null,
      "outputs": []
    },
    {
      "cell_type": "code",
      "metadata": {
        "colab": {
          "base_uri": "https://localhost:8080/"
        },
        "id": "5xmEvjPOZnKq",
        "outputId": "e193b4eb-4045-4c17-d67f-a10329ef4e98"
      },
      "source": [
        "from sklearn.metrics import confusion_matrix\n",
        "confusing_matric_rfc_ = confusion_matrix(y_test_C, y_pred_rfc_)\n",
        "print(confusing_matric_rfc_)"
      ],
      "execution_count": null,
      "outputs": [
        {
          "output_type": "stream",
          "name": "stdout",
          "text": [
            "[[14  9]\n",
            " [ 2 40]]\n"
          ]
        }
      ]
    },
    {
      "cell_type": "code",
      "metadata": {
        "colab": {
          "base_uri": "https://localhost:8080/"
        },
        "id": "IGNeYHSeaCxD",
        "outputId": "81e6a15e-0fae-452b-d9fd-5f43735239a7"
      },
      "source": [
        "from sklearn.metrics import classification_report\n",
        "print(classification_report(y_test_C, y_pred_rfc_))"
      ],
      "execution_count": null,
      "outputs": [
        {
          "output_type": "stream",
          "name": "stdout",
          "text": [
            "              precision    recall  f1-score   support\n",
            "\n",
            "  Not Placed       0.88      0.61      0.72        23\n",
            "      Placed       0.82      0.95      0.88        42\n",
            "\n",
            "    accuracy                           0.83        65\n",
            "   macro avg       0.85      0.78      0.80        65\n",
            "weighted avg       0.84      0.83      0.82        65\n",
            "\n"
          ]
        }
      ]
    },
    {
      "cell_type": "code",
      "metadata": {
        "id": "smRuoXgk1V82",
        "colab": {
          "base_uri": "https://localhost:8080/"
        },
        "outputId": "cc5d0cd2-cd44-42e0-8c68-b29c9e4fa256"
      },
      "source": [
        "# Question C: Build support vector classifier.\n",
        "from sklearn.model_selection import GridSearchCV\n",
        "from sklearn.svm import SVC\n",
        "from sklearn.model_selection import KFold\n",
        "kf_5 = KFold(n_splits = 5)\n",
        "svc_ = SVC()\n",
        "dict_para = {'kernel' : ['linear', 'poly', 'rbf', 'sigmoid'], 'C' : [4, 8, 12, 16, 20, 24, 28, 32, 36, 40, 44, 48]}\n",
        "gscv_svc_ = GridSearchCV(svc_ , dict_para, cv = kf_5)\n",
        "gscv_svc_.fit(X_train_scaled, y_train_C)"
      ],
      "execution_count": null,
      "outputs": [
        {
          "output_type": "execute_result",
          "data": {
            "text/plain": [
              "GridSearchCV(cv=KFold(n_splits=5, random_state=None, shuffle=False),\n",
              "             estimator=SVC(),\n",
              "             param_grid={'C': [4, 8, 12, 16, 20, 24, 28, 32, 36, 40, 44, 48],\n",
              "                         'kernel': ['linear', 'poly', 'rbf', 'sigmoid']})"
            ]
          },
          "metadata": {},
          "execution_count": 64
        }
      ]
    },
    {
      "cell_type": "code",
      "metadata": {
        "id": "ICDilYZM5db0",
        "colab": {
          "base_uri": "https://localhost:8080/"
        },
        "outputId": "b78ba0a4-e12c-401c-f4c8-45e6bc8349bd"
      },
      "source": [
        "gscv_svc_.best_params_"
      ],
      "execution_count": null,
      "outputs": [
        {
          "output_type": "execute_result",
          "data": {
            "text/plain": [
              "{'C': 36, 'kernel': 'poly'}"
            ]
          },
          "metadata": {},
          "execution_count": 65
        }
      ]
    },
    {
      "cell_type": "code",
      "metadata": {
        "id": "ZOLkLCF95joy",
        "colab": {
          "base_uri": "https://localhost:8080/",
          "height": 388
        },
        "outputId": "f185aa68-9bbf-4d86-91f9-04f9e728ec8a"
      },
      "source": [
        "results_svc_ = pd.DataFrame(gscv_svc_.cv_results_)\n",
        "results_svc_.head()"
      ],
      "execution_count": null,
      "outputs": [
        {
          "output_type": "execute_result",
          "data": {
            "text/html": [
              "<div>\n",
              "<style scoped>\n",
              "    .dataframe tbody tr th:only-of-type {\n",
              "        vertical-align: middle;\n",
              "    }\n",
              "\n",
              "    .dataframe tbody tr th {\n",
              "        vertical-align: top;\n",
              "    }\n",
              "\n",
              "    .dataframe thead th {\n",
              "        text-align: right;\n",
              "    }\n",
              "</style>\n",
              "<table border=\"1\" class=\"dataframe\">\n",
              "  <thead>\n",
              "    <tr style=\"text-align: right;\">\n",
              "      <th></th>\n",
              "      <th>mean_fit_time</th>\n",
              "      <th>std_fit_time</th>\n",
              "      <th>mean_score_time</th>\n",
              "      <th>std_score_time</th>\n",
              "      <th>param_C</th>\n",
              "      <th>param_kernel</th>\n",
              "      <th>params</th>\n",
              "      <th>split0_test_score</th>\n",
              "      <th>split1_test_score</th>\n",
              "      <th>split2_test_score</th>\n",
              "      <th>split3_test_score</th>\n",
              "      <th>split4_test_score</th>\n",
              "      <th>mean_test_score</th>\n",
              "      <th>std_test_score</th>\n",
              "      <th>rank_test_score</th>\n",
              "    </tr>\n",
              "  </thead>\n",
              "  <tbody>\n",
              "    <tr>\n",
              "      <th>0</th>\n",
              "      <td>0.002392</td>\n",
              "      <td>0.000918</td>\n",
              "      <td>0.000665</td>\n",
              "      <td>0.000161</td>\n",
              "      <td>4</td>\n",
              "      <td>linear</td>\n",
              "      <td>{'C': 4, 'kernel': 'linear'}</td>\n",
              "      <td>0.833333</td>\n",
              "      <td>0.8</td>\n",
              "      <td>0.900000</td>\n",
              "      <td>0.800000</td>\n",
              "      <td>0.900000</td>\n",
              "      <td>0.846667</td>\n",
              "      <td>0.045216</td>\n",
              "      <td>9</td>\n",
              "    </tr>\n",
              "    <tr>\n",
              "      <th>1</th>\n",
              "      <td>0.001335</td>\n",
              "      <td>0.000071</td>\n",
              "      <td>0.000563</td>\n",
              "      <td>0.000029</td>\n",
              "      <td>4</td>\n",
              "      <td>poly</td>\n",
              "      <td>{'C': 4, 'kernel': 'poly'}</td>\n",
              "      <td>0.833333</td>\n",
              "      <td>0.7</td>\n",
              "      <td>0.866667</td>\n",
              "      <td>0.800000</td>\n",
              "      <td>0.900000</td>\n",
              "      <td>0.820000</td>\n",
              "      <td>0.068638</td>\n",
              "      <td>26</td>\n",
              "    </tr>\n",
              "    <tr>\n",
              "      <th>2</th>\n",
              "      <td>0.001624</td>\n",
              "      <td>0.000135</td>\n",
              "      <td>0.000764</td>\n",
              "      <td>0.000036</td>\n",
              "      <td>4</td>\n",
              "      <td>rbf</td>\n",
              "      <td>{'C': 4, 'kernel': 'rbf'}</td>\n",
              "      <td>0.833333</td>\n",
              "      <td>0.8</td>\n",
              "      <td>0.933333</td>\n",
              "      <td>0.800000</td>\n",
              "      <td>0.933333</td>\n",
              "      <td>0.860000</td>\n",
              "      <td>0.061101</td>\n",
              "      <td>5</td>\n",
              "    </tr>\n",
              "    <tr>\n",
              "      <th>3</th>\n",
              "      <td>0.001557</td>\n",
              "      <td>0.000091</td>\n",
              "      <td>0.000730</td>\n",
              "      <td>0.000147</td>\n",
              "      <td>4</td>\n",
              "      <td>sigmoid</td>\n",
              "      <td>{'C': 4, 'kernel': 'sigmoid'}</td>\n",
              "      <td>0.833333</td>\n",
              "      <td>0.7</td>\n",
              "      <td>0.833333</td>\n",
              "      <td>0.866667</td>\n",
              "      <td>0.833333</td>\n",
              "      <td>0.813333</td>\n",
              "      <td>0.058119</td>\n",
              "      <td>29</td>\n",
              "    </tr>\n",
              "    <tr>\n",
              "      <th>4</th>\n",
              "      <td>0.003185</td>\n",
              "      <td>0.000861</td>\n",
              "      <td>0.000677</td>\n",
              "      <td>0.000037</td>\n",
              "      <td>8</td>\n",
              "      <td>linear</td>\n",
              "      <td>{'C': 8, 'kernel': 'linear'}</td>\n",
              "      <td>0.800000</td>\n",
              "      <td>0.8</td>\n",
              "      <td>0.900000</td>\n",
              "      <td>0.800000</td>\n",
              "      <td>0.900000</td>\n",
              "      <td>0.840000</td>\n",
              "      <td>0.048990</td>\n",
              "      <td>13</td>\n",
              "    </tr>\n",
              "  </tbody>\n",
              "</table>\n",
              "</div>"
            ],
            "text/plain": [
              "   mean_fit_time  std_fit_time  ...  std_test_score  rank_test_score\n",
              "0       0.002392      0.000918  ...        0.045216                9\n",
              "1       0.001335      0.000071  ...        0.068638               26\n",
              "2       0.001624      0.000135  ...        0.061101                5\n",
              "3       0.001557      0.000091  ...        0.058119               29\n",
              "4       0.003185      0.000861  ...        0.048990               13\n",
              "\n",
              "[5 rows x 15 columns]"
            ]
          },
          "metadata": {},
          "execution_count": 66
        }
      ]
    },
    {
      "cell_type": "code",
      "metadata": {
        "id": "Xp460Q1D6Fjv",
        "colab": {
          "base_uri": "https://localhost:8080/"
        },
        "outputId": "652aee7f-0701-432c-e873-4e549b520ee6"
      },
      "source": [
        "best_gs_est_svc_ = gscv_svc_.best_estimator_\n",
        "best_gs_est_svc_"
      ],
      "execution_count": null,
      "outputs": [
        {
          "output_type": "execute_result",
          "data": {
            "text/plain": [
              "SVC(C=36, kernel='poly')"
            ]
          },
          "metadata": {},
          "execution_count": 67
        }
      ]
    },
    {
      "cell_type": "code",
      "metadata": {
        "id": "VO30O_ht6Ks7"
      },
      "source": [
        "y_pred_svc_ = best_gs_est_svc_.predict(X_test_scaled)"
      ],
      "execution_count": null,
      "outputs": []
    },
    {
      "cell_type": "code",
      "metadata": {
        "colab": {
          "base_uri": "https://localhost:8080/"
        },
        "id": "0RZWs64FbbTs",
        "outputId": "bd0bb8be-d980-4195-965e-3045eeb7af4f"
      },
      "source": [
        "from sklearn.metrics import confusion_matrix\n",
        "confusing_matric_svc_ = confusion_matrix(y_test_C, y_pred_svc_)\n",
        "print(confusing_matric_svc_)"
      ],
      "execution_count": null,
      "outputs": [
        {
          "output_type": "stream",
          "name": "stdout",
          "text": [
            "[[16  7]\n",
            " [ 5 37]]\n"
          ]
        }
      ]
    },
    {
      "cell_type": "code",
      "metadata": {
        "id": "quD8NW3s6NNN",
        "colab": {
          "base_uri": "https://localhost:8080/"
        },
        "outputId": "53401309-800d-4382-b05c-1619a0528e0f"
      },
      "source": [
        "from sklearn.metrics import classification_report\n",
        "print(classification_report(y_test_C, y_pred_svc_))"
      ],
      "execution_count": null,
      "outputs": [
        {
          "output_type": "stream",
          "name": "stdout",
          "text": [
            "              precision    recall  f1-score   support\n",
            "\n",
            "  Not Placed       0.76      0.70      0.73        23\n",
            "      Placed       0.84      0.88      0.86        42\n",
            "\n",
            "    accuracy                           0.82        65\n",
            "   macro avg       0.80      0.79      0.79        65\n",
            "weighted avg       0.81      0.82      0.81        65\n",
            "\n"
          ]
        }
      ]
    },
    {
      "cell_type": "markdown",
      "metadata": {
        "id": "-a4RH3Fr7sin"
      },
      "source": [
        "### Question C: Evaluate Performance and choose the best model.\n",
        "Both models used a training and test split of respectfully 70 % and 30 %. Only the numerical features based on the 'salary' column were used as predictors to train the random forest (RFC) and support vector classifiers (SVC). The 'GridSearchCV' function was used to search for an optimal combination of parameters for each model type. The best parameters among the respective batches were used to generate a confusion matrix and classification report for both. When comparing their confusing matrices, the SVC had a higher number of true positives (16) in comparison to the RFC's number of true positives (14). On the other hand, the RFC had a higher number of true negatives (40) versus the SVC's with 37 true negatives. Thus, the SVC is slightly better at detecting the placed students while the RFC is slightly better for the non-placed students. When looking at the classification reports for each model, specifically the weighted averages. The RFC had slightly higher precision, recall, and f1 scores in comparison as well as a higher accuracy of 83 % vs the 82 % accuracy of the SVC model. Thus, RFC is the more performing model based on the features selected and model parameters tested.\n"
      ]
    },
    {
      "cell_type": "markdown",
      "metadata": {
        "id": "JUCsQMN0UV5m"
      },
      "source": [
        "## **Part D** <font color=\"blue\">(3 points)</font>\n",
        "\n",
        "1. **<font color=\"blue\">(1 point)</font>** Generate $2$-dimentional data with $500$ observations from $3$ Gaussian clusters. \n",
        "2. **<font color=\"blue\">(0.5 points)</font>** Use a scatterplot to visualize the produced data. \n",
        "3. **<font color=\"blue\">(1 point)</font>** Shuffle the data and use $K$-means, with $K=2,3,4$ to cluster the data.\n",
        "4. **<font color=\"blue\">(0.5 points)</font>** Visualize the results, separately.  \n"
      ]
    },
    {
      "cell_type": "markdown",
      "metadata": {
        "id": "CWMAuGfg82W4"
      },
      "source": [
        "## Part D"
      ]
    },
    {
      "cell_type": "code",
      "metadata": {
        "id": "lz5VkDfM84LE",
        "colab": {
          "base_uri": "https://localhost:8080/",
          "height": 294
        },
        "outputId": "6670c33f-1f89-400b-aa88-9daa7c6e157f"
      },
      "source": [
        "# Question D1: Generate 2D data with 500 observations with 3 Gaussian clusters.\n",
        "import matplotlib.pyplot as plt\n",
        "plt.style.use('ggplot')\n",
        "import numpy as np\n",
        "import math\n",
        "import pandas as pd\n",
        "\n",
        "mean_d1 = [1, 2]\n",
        "mean_d2 = [3, 5]\n",
        "mean_d3 = [4, 0]\n",
        "cov = [[2, 1], [1, 2]] \n",
        "x1, y1 = np.random.multivariate_normal(mean_d1, cov, 167).T\n",
        "x2, y2 = np.random.multivariate_normal(mean_d2, cov, 167).T\n",
        "x3, y3 = np.random.multivariate_normal(mean_d3, cov, 166).T\n",
        "x = np.concatenate((x1, x2, x3), axis = 0)\n",
        "y = np.concatenate((y1, y2, y3), axis = 0)\n",
        "data = pd.DataFrame(data = np.hstack((x.reshape(-1, 1), y.reshape(-1, 1))),columns = ['x', 'y'])\n",
        "data.describe(include = 'all')"
      ],
      "execution_count": null,
      "outputs": [
        {
          "output_type": "execute_result",
          "data": {
            "text/html": [
              "<div>\n",
              "<style scoped>\n",
              "    .dataframe tbody tr th:only-of-type {\n",
              "        vertical-align: middle;\n",
              "    }\n",
              "\n",
              "    .dataframe tbody tr th {\n",
              "        vertical-align: top;\n",
              "    }\n",
              "\n",
              "    .dataframe thead th {\n",
              "        text-align: right;\n",
              "    }\n",
              "</style>\n",
              "<table border=\"1\" class=\"dataframe\">\n",
              "  <thead>\n",
              "    <tr style=\"text-align: right;\">\n",
              "      <th></th>\n",
              "      <th>x</th>\n",
              "      <th>y</th>\n",
              "    </tr>\n",
              "  </thead>\n",
              "  <tbody>\n",
              "    <tr>\n",
              "      <th>count</th>\n",
              "      <td>500.000000</td>\n",
              "      <td>500.000000</td>\n",
              "    </tr>\n",
              "    <tr>\n",
              "      <th>mean</th>\n",
              "      <td>2.659087</td>\n",
              "      <td>2.358163</td>\n",
              "    </tr>\n",
              "    <tr>\n",
              "      <th>std</th>\n",
              "      <td>1.908286</td>\n",
              "      <td>2.499178</td>\n",
              "    </tr>\n",
              "    <tr>\n",
              "      <th>min</th>\n",
              "      <td>-3.509099</td>\n",
              "      <td>-3.106122</td>\n",
              "    </tr>\n",
              "    <tr>\n",
              "      <th>25%</th>\n",
              "      <td>1.309840</td>\n",
              "      <td>0.443720</td>\n",
              "    </tr>\n",
              "    <tr>\n",
              "      <th>50%</th>\n",
              "      <td>2.791014</td>\n",
              "      <td>2.200424</td>\n",
              "    </tr>\n",
              "    <tr>\n",
              "      <th>75%</th>\n",
              "      <td>4.100108</td>\n",
              "      <td>4.495615</td>\n",
              "    </tr>\n",
              "    <tr>\n",
              "      <th>max</th>\n",
              "      <td>7.921330</td>\n",
              "      <td>8.485507</td>\n",
              "    </tr>\n",
              "  </tbody>\n",
              "</table>\n",
              "</div>"
            ],
            "text/plain": [
              "                x           y\n",
              "count  500.000000  500.000000\n",
              "mean     2.659087    2.358163\n",
              "std      1.908286    2.499178\n",
              "min     -3.509099   -3.106122\n",
              "25%      1.309840    0.443720\n",
              "50%      2.791014    2.200424\n",
              "75%      4.100108    4.495615\n",
              "max      7.921330    8.485507"
            ]
          },
          "metadata": {},
          "execution_count": 72
        }
      ]
    },
    {
      "cell_type": "code",
      "metadata": {
        "colab": {
          "base_uri": "https://localhost:8080/",
          "height": 338
        },
        "id": "O9Pq6ISxktOI",
        "outputId": "2e1eb2f8-d8fe-4505-f539-7f95057efd4e"
      },
      "source": [
        "# Question D2: Plot scatter plot with clusters.\n",
        "plt.rcParams['figure.figsize'] = (10, 5)\n",
        "plt.style.use('ggplot')\n",
        "plt.scatter(x1, y1, color = 'red', marker = 'o')\n",
        "plt.scatter(x2, y2, color = 'blue', marker = 'X')\n",
        "plt.scatter(x3, y3, color = 'green', marker = '*')\n",
        "plt.xlabel('x')\n",
        "plt.ylabel('y')\n",
        "plt.show();"
      ],
      "execution_count": null,
      "outputs": [
        {
          "output_type": "display_data",
          "data": {
            "image/png": "[encoded data removed]",
            "text/plain": [
              "<Figure size 720x360 with 1 Axes>"
            ]
          },
          "metadata": {}
        }
      ]
    },
    {
      "cell_type": "code",
      "metadata": {
        "id": "mggl3Y5gr-r6"
      },
      "source": [
        "# Question D3: Shuffle the data and cluster data with different K-means.\n",
        "from sklearn.utils import shuffle\n",
        "from sklearn.cluster import KMeans\n",
        "data_s = shuffle(data)\n",
        "centroids_list = []\n",
        "labels_list = []\n",
        "for clusters in range(2,5):\n",
        "  kmeans = KMeans(n_clusters = clusters)\n",
        "  kmeans = kmeans.fit(data_s)\n",
        "  labels = kmeans.predict(data_s)\n",
        "  centroids = kmeans.cluster_centers_\n",
        "  centroids_list.append(centroids)\n",
        "  labels_list.append(labels)"
      ],
      "execution_count": null,
      "outputs": []
    },
    {
      "cell_type": "code",
      "metadata": {
        "colab": {
          "base_uri": "https://localhost:8080/",
          "height": 484
        },
        "id": "Jnl7XKxEzwye",
        "outputId": "baa2915d-c69e-4f88-e897-09a3cd41f742"
      },
      "source": [
        "# Question D4: Plot scatter plot for K = 2\n",
        "centroids = centroids_list[0]\n",
        "figsize = plt.figure(figsize = (12,8))\n",
        "plt.scatter(data_s['x'], data_s['y'], c = labels_list[0], s = 200, marker = \"+\") \n",
        "plt.scatter(centroids[:,0], centroids[:,1], c = 'blue', s = 1000, marker = \".\")\n",
        "plt.show();"
      ],
      "execution_count": null,
      "outputs": [
        {
          "output_type": "display_data",
          "data": {
            "image/png": "[encoded data removed]",
            "text/plain": [
              "<Figure size 864x576 with 1 Axes>"
            ]
          },
          "metadata": {}
        }
      ]
    },
    {
      "cell_type": "code",
      "metadata": {
        "colab": {
          "base_uri": "https://localhost:8080/",
          "height": 484
        },
        "id": "t-Ild4Zd0a7k",
        "outputId": "ebad3335-1d4d-4b38-8647-9e32a84bd236"
      },
      "source": [
        "# Question D4: Plot scatter plot for K = 3\n",
        "centroids = centroids_list[1]\n",
        "figsize = plt.figure(figsize = (12,8))\n",
        "plt.scatter(data_s['x'], data_s['y'], c = labels_list[1], s = 200, marker = \"+\") \n",
        "plt.scatter(centroids[:,0], centroids[:,1], c = 'red', s = 1000, marker = \".\")\n",
        "plt.show();"
      ],
      "execution_count": null,
      "outputs": [
        {
          "output_type": "display_data",
          "data": {
            "image/png": "[encoded data removed]",
            "text/plain": [
              "<Figure size 864x576 with 1 Axes>"
            ]
          },
          "metadata": {}
        }
      ]
    },
    {
      "cell_type": "code",
      "metadata": {
        "colab": {
          "base_uri": "https://localhost:8080/",
          "height": 484
        },
        "id": "dz-dVbxA0bNu",
        "outputId": "324eace7-777d-4517-fb82-8fe100473720"
      },
      "source": [
        "# Question D4: Plot scatter plot for K = 4\n",
        "centroids = centroids_list[2]\n",
        "figsize = plt.figure(figsize = (12,8))\n",
        "plt.scatter(data_s['x'], data_s['y'], c = labels_list[2], s = 200, marker = \"+\") \n",
        "plt.scatter(centroids[:,0], centroids[:,1], c = 'green', s = 1000, marker = \".\")\n",
        "plt.show();"
      ],
      "execution_count": null,
      "outputs": [
        {
          "output_type": "display_data",
          "data": {
            "image/png": "[encoded data removed]",
            "text/plain": [
              "<Figure size 864x576 with 1 Axes>"
            ]
          },
          "metadata": {}
        }
      ]
    }
  ]
}