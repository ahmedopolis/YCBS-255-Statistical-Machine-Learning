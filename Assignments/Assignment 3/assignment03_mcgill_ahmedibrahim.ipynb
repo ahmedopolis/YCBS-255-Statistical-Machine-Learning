{
  "nbformat": 4,
  "nbformat_minor": 0,
  "metadata": {
    "colab": {
      "name": "assignment03_mcgill_ahmedibrahim.ipynb",
      "provenance": [],
      "collapsed_sections": []
    },
    "kernelspec": {
      "display_name": "Python 3",
      "language": "python",
      "name": "python3"
    },
    "language_info": {
      "codemirror_mode": {
        "name": "ipython",
        "version": 3
      },
      "file_extension": ".py",
      "mimetype": "text/x-python",
      "name": "python",
      "nbconvert_exporter": "python",
      "pygments_lexer": "ipython3",
      "version": "3.6.4"
    },
    "toc": {
      "base_numbering": 1,
      "nav_menu": {},
      "number_sections": true,
      "sideBar": true,
      "skip_h1_title": false,
      "title_cell": "Table of Contents",
      "title_sidebar": "Contents",
      "toc_cell": false,
      "toc_position": {},
      "toc_section_display": true,
      "toc_window_display": false
    }
  },
  "cells": [
    {
      "cell_type": "markdown",
      "metadata": {
        "id": "g2unLOmVzsBK"
      },
      "source": [
        "\n",
        "# Assignment 3  <font color=\"blue\"> (15 points) </font>\n",
        " \n",
        "------\n",
        "### Information\n",
        "**Name:** Ahmed Ibrahim\n",
        "\n",
        "**Student Number:** 261032796\n",
        "\n",
        "**Date:** 2021-11-07\n",
        "\n",
        "**Course Number:** YCBS 255 - Statistical Machine Learning\n",
        "\n",
        "------\n",
        "\n",
        "### Notes and Instructions\n",
        "  + You may need additional libraries besides the Python standard library to solve some questions. Import only necessary libraries. \n",
        "  + If more than one library exist for a same purpose, choose the one you wish as long as it does the task properly. \n",
        "  + If we want you to use a specific library, then we will state it clearly. \n",
        "  + Use the exact variable names asked in the questions. When no clear instructions given, feel free to do it the way you would like to.\n",
        "  + After each question, add the needed number of new cells and place your answers inside the cells. \n",
        "  + Use text cells for explanations. Use explanation and plain text as much as possible. \n",
        "  + Do not remove or modify the original cells provided by the instructor.\n",
        "  + In the following cell you will find some extra options to make your code more readable, including output colors RED, OKBLUE, or output text styles like BOLD or UNDERLINE that. Do not hesitate to use them. As an example, one may output text in red as follows: \n",
        "  ```python\n",
        "     print(bcolors.RED + \"your text\" + bcolors.ENDC)\n",
        "  ```\n",
        "  + Comment your code whenever needed using # sign at the beginning of the row.\n",
        "  + In some questions some of the details needed for solving the problem are **purposely** omitted to encourage additional self-directed research. This, especially, helps you develop some search skills for coding in Python (which is inevitable due to the inconsistent syntax of Python).\n",
        "  + Do not hesitate to communicate your questions to the TA's or instructors. \n",
        "    \n",
        "  Good luck! "
      ]
    },
    {
      "cell_type": "code",
      "metadata": {
        "id": "aOt20LC3zsBN"
      },
      "source": [
        "# The following piece of code gives the opportunity to show multiple outputs\n",
        "# in one cell:\n",
        "from IPython.core.interactiveshell import InteractiveShell\n",
        "InteractiveShell.ast_node_interactivity = \"all\"\n",
        "\n",
        "\n",
        "# Colorful outputs\n",
        "class bcolors:\n",
        "    RED       = '\\033[91m'\n",
        "    OKBLUE    = '\\033[94m'\n",
        "    BOLD      = '\\033[1m'\n",
        "    UNDERLINE = '\\033[4m'\n",
        "    ENDC      = '\\033[0m'"
      ],
      "execution_count": null,
      "outputs": []
    },
    {
      "cell_type": "markdown",
      "metadata": {
        "id": "JhunulGDzsBS"
      },
      "source": [
        ""
      ]
    },
    {
      "cell_type": "markdown",
      "metadata": {
        "id": "PI8k_3Wp2qVH"
      },
      "source": [
        "## **Part A** <font color=\"blue\">(5 points)</font>\n",
        "\n",
        "1. **<font color=\"blue\">(1 point)</font>** Generate 100 points equally distanced from $-20$ to $20$ and save them in a `numpy` array `x1`. Now, create $4$ more `numpy` arrays by raising `x1` to the power of $2,3,4,5$, and call them `x2`, `x3`, `x4` and `x5`, respectively. \n",
        "3. **<font color=\"blue\">(1 point)</font>** Create your response `y`, a new `numpy` array, defined as $y= 1.75 + 5 x_1 + 0.05 x_3 - 10.3 x_5 + \\varepsilon$, where $\\varepsilon \\sim \\mathcal{N}(0, 4)$.\n",
        "4. **<font color=\"blue\">(2 points)</font>** Using $5$-fold cross-validation, with a reasonable train-test proportion, train a **lasso** regression model including all $x_1, x_2, x_3 , x_4 , x_5$, and for $10$ different  pre-determined tuning parameters. \n",
        "5. **<font color=\"blue\">(1 point)</font>** Plot the **cross-validated mean squared errors** vs the tuning parameter's values\n",
        " and chose the best tuning parameter based on the plot. Does the best model chosen perform **variable selection**?"
      ]
    },
    {
      "cell_type": "code",
      "metadata": {
        "id": "5LkLf9m39Y_J"
      },
      "source": [
        "import numpy as np\n",
        "import math\n",
        "import pandas as pd\n",
        "import matplotlib.pyplot as plt"
      ],
      "execution_count": 1,
      "outputs": []
    },
    {
      "cell_type": "code",
      "metadata": {
        "id": "w47-IiLZ9cBD"
      },
      "source": [
        "# Question A1: Generate x1 array.\n",
        "x1 = np.linspace(-20, 20, 100)"
      ],
      "execution_count": 2,
      "outputs": []
    },
    {
      "cell_type": "code",
      "metadata": {
        "id": "rNV1ew_s-CTN"
      },
      "source": [
        "# Question A1: Generate x2, x3, x4, x5 array.\n",
        "x1 = np.linspace(-20, 20, 100)\n",
        "x_list = [x1]\n",
        "x_range = np.arange(2,6)\n",
        "for value in x_range:\n",
        "  x_value = np.power(x1, value)\n",
        "  x_list.append(x_value)\n",
        "x2 = x_list[1]\n",
        "x3 = x_list[2]\n",
        "x4 = x_list[3]\n",
        "x5 = x_list[4]\n",
        "X = pd.DataFrame(x_list, index = ['x1', 'x2', 'x3', 'x4', 'x5']).transpose().to_numpy()"
      ],
      "execution_count": 3,
      "outputs": []
    },
    {
      "cell_type": "code",
      "metadata": {
        "id": "lAp2-VJ9BYNC"
      },
      "source": [
        "# Question A2: Generate 'y' function.\n",
        "np.random.seed(12)\n",
        "mu = 0\n",
        "sigma = math.sqrt(4)\n",
        "eps = np.random.normal(mu, sigma, 100)\n",
        "y = 1.75 + 5*x1 + 0.05*x3 -10.3*x5 + eps"
      ],
      "execution_count": 4,
      "outputs": []
    },
    {
      "cell_type": "code",
      "metadata": {
        "colab": {
          "base_uri": "https://localhost:8080/",
          "height": 294
        },
        "id": "P5URpPNrmLQ9",
        "outputId": "f4c40da5-8adc-49ed-df5e-3509ea0190ef"
      },
      "source": [
        "# Question A2: Plot polynomial.\n",
        "plt.scatter(x1, y)\n",
        "plt.xlabel('X')\n",
        "plt.ylabel('Y')\n",
        "plt.title('5th Degree Polynomial')\n",
        "plt.show()"
      ],
      "execution_count": 5,
      "outputs": [
        {
          "output_type": "display_data",
          "data": {
            "image/png": "[encoded data removed]",
            "text/plain": [
              "<Figure size 432x288 with 1 Axes>"
            ]
          },
          "metadata": {
            "needs_background": "light"
          }
        }
      ]
    },
    {
      "cell_type": "code",
      "metadata": {
        "id": "s1VeHDEaGXdw",
        "colab": {
          "base_uri": "https://localhost:8080/"
        },
        "outputId": "d72af8e2-81ee-40dc-fb17-fa4e01ae298e"
      },
      "source": [
        "# Question A3: Using  5-fold cross-validation, train a lasso model including with 10 different tunning parameters. \n",
        "from sklearn.model_selection import KFold\n",
        "from sklearn.metrics import mean_squared_error\n",
        "from sklearn.linear_model import Lasso\n",
        "k = 5\n",
        "kf = KFold(n_splits = k, random_state = 12, shuffle = True)\n",
        "tunning_para_list = [0.05, 0.1, 1, 5, 50, 500, 2500, 10000]\n",
        "lasso_avg_mse_list = []\n",
        "for tunning_para in tunning_para_list:\n",
        "  lasso_regression = Lasso(alpha = tunning_para)\n",
        "  lasso_mse_list = []\n",
        "  for train_index, test_index in kf.split(X):\n",
        "    X_train, X_test = X[train_index], X[test_index]\n",
        "    y_train, y_test = y[train_index], y[test_index]\n",
        "    lasso_regression.fit(X_train, y_train)\n",
        "    y_pred = lasso_regression.predict(X_test)\n",
        "    mse_lasso = mean_squared_error(y_test, y_pred)\n",
        "    lasso_mse_list.append(mse_lasso)\n",
        "    print(lasso_regression.coef_)\n",
        "  lasso_avg_mse = sum(lasso_mse_list)/len(lasso_mse_list)\n",
        "  lasso_avg_mse_list.append(lasso_avg_mse)\n",
        "print(lasso_avg_mse_list)"
      ],
      "execution_count": 7,
      "outputs": [
        {
          "output_type": "stream",
          "name": "stdout",
          "text": [
            "[ 5.52965206e+01  4.98208024e-01 -4.88538558e-01 -1.22317619e-03\n",
            " -1.02988817e+01]\n",
            "[ 5.15683208e+01 -4.82412550e-01 -4.28439513e-01  1.21663709e-03\n",
            " -1.02990146e+01]\n",
            "[ 2.96203885e+01  8.37638578e-02 -1.92599005e-01 -2.17064447e-04\n",
            " -1.02995073e+01]\n",
            "[ 1.10147462e+01 -5.95538097e-02 -1.09897617e-02  1.66767381e-04\n",
            " -1.02998722e+01]\n",
            "[ 7.64616272e+00  2.50521491e-02  2.19426404e-02 -8.53688934e-05\n",
            " -1.02999395e+01]\n",
            "[ 5.52893154e+01  4.98144179e-01 -4.88472167e-01 -1.22301861e-03\n",
            " -1.02988819e+01]\n",
            "[ 5.15612336e+01 -4.82342046e-01 -4.28376807e-01  1.21645399e-03\n",
            " -1.02990148e+01]\n",
            "[ 2.96130535e+01  8.36931506e-02 -1.92535472e-01 -2.16872064e-04\n",
            " -1.02995074e+01]\n",
            "[ 1.10074677e+01 -5.94768225e-02 -1.09252920e-02  1.66557579e-04\n",
            " -1.02998724e+01]\n",
            "[ 7.63902198e+00  2.49810632e-02  2.20077769e-02 -8.51572211e-05\n",
            " -1.02999397e+01]\n",
            "[ 5.51596229e+01  4.96994974e-01 -4.87277125e-01 -1.22018204e-03\n",
            " -1.02988842e+01]\n",
            "[ 5.14336629e+01 -4.81072967e-01 -4.27248090e-01  1.21315815e-03\n",
            " -1.02990169e+01]\n",
            "[ 2.94810233e+01  8.24204193e-02 -1.91391885e-01 -2.13409168e-04\n",
            " -1.02995096e+01]\n",
            "[ 1.08764536e+01 -5.80910520e-02 -9.76483633e-03  1.62781136e-04\n",
            " -1.02998746e+01]\n",
            "[ 7.51052235e+00  2.37019271e-02  2.31798798e-02 -8.13484618e-05\n",
            " -1.02999420e+01]\n",
            "[ 5.45832116e+01  4.91887395e-01 -4.81965828e-01 -1.20757509e-03\n",
            " -1.02988945e+01]\n",
            "[ 5.08666823e+01 -4.75432618e-01 -4.22231572e-01  1.19850997e-03\n",
            " -1.02990265e+01]\n",
            "[ 2.88942223e+01  7.67638363e-02 -1.86309274e-01 -1.98018518e-04\n",
            " -1.02995192e+01]\n",
            "[ 1.02941686e+01 -5.19320721e-02 -4.60725571e-03  1.45996946e-04\n",
            " -1.02998847e+01]\n",
            "[ 6.94010923e+00  1.80256502e-02  2.83818779e-02 -6.44491494e-05\n",
            " -1.02999524e+01]\n",
            "[ 4.80985847e+01  4.34427133e-01 -4.22213734e-01 -1.06574683e-03\n",
            " -1.02990107e+01]\n",
            "[ 4.44881499e+01 -4.11978694e-01 -3.65795740e-01  1.03371800e-03\n",
            " -1.02991348e+01]\n",
            "[ 2.22927111e+01  1.31272779e-02 -1.29129897e-01 -2.48737077e-05\n",
            " -1.02996278e+01]\n",
            "[ 3.80400984e+00 -0.00000000e+00  5.27268589e-02  4.12963853e-06\n",
            " -1.02999964e+01]\n",
            "[ 5.82960076e-01 -0.00000000e+00  8.62036248e-02 -3.03226333e-06\n",
            " -1.03000680e+01]\n",
            "[ 0.00000000e+00  0.00000000e+00  7.12796055e-02 -2.13227240e-06\n",
            " -1.03000178e+01]\n",
            "[ 0.00000000e+00 -0.00000000e+00  6.98944916e-02 -1.49453110e-05\n",
            " -1.03000134e+01]\n",
            "[ 0.00000000e+00 -0.00000000e+00  7.34076146e-02  2.83522168e-05\n",
            " -1.03000231e+01]\n",
            "[ 0.00000000e+00 -0.00000000e+00  7.56009404e-02  1.00393144e-05\n",
            " -1.03000286e+01]\n",
            "[ 0.00000000e+00  0.00000000e+00  7.66908938e-02 -4.12341791e-05\n",
            " -1.03000315e+01]\n",
            "[ 0.00000000e+00  0.00000000e+00  6.74424506e-02 -2.23057623e-07\n",
            " -1.03000067e+01]\n",
            "[ 0.00000000e+00 -0.00000000e+00  6.50516960e-02 -1.69092178e-05\n",
            " -1.02999992e+01]\n",
            "[ 0.00000000e+00 -0.00000000e+00  6.94412978e-02  3.06184879e-05\n",
            " -1.03000112e+01]\n",
            "[ 0.00000000e+00 -0.00000000e+00  7.15750336e-02  1.03091208e-05\n",
            " -1.03000162e+01]\n",
            "[ 0.00000000e+00  0.00000000e+00  7.22432276e-02 -4.72364492e-05\n",
            " -1.03000174e+01]\n",
            "[  0.           0.           0.04980114   0.         -10.2999556 ]\n",
            "[ 0.00000000e+00 -0.00000000e+00  4.92929766e-02 -2.30369853e-05\n",
            " -1.02999529e+01]\n",
            "[ 0.00000000e+00 -0.00000000e+00  5.46757303e-02  3.89978135e-05\n",
            " -1.02999672e+01]\n",
            "[ 0.00000000e+00 -0.00000000e+00  5.57813711e-02  1.17950179e-05\n",
            " -1.02999674e+01]\n",
            "[ 0.00000000e+00  0.00000000e+00  5.49104707e-02 -7.15353989e-05\n",
            " -1.02999624e+01]\n",
            "[11741.103089756949, 11737.829722527178, 11679.058585324547, 11421.276878262433, 8901.542547099929, 422.1602563137802, 528.6667237771838, 1145.7521774348236]\n"
          ]
        }
      ]
    },
    {
      "cell_type": "code",
      "metadata": {
        "colab": {
          "base_uri": "https://localhost:8080/",
          "height": 312
        },
        "id": "irbFVP5OvhJA",
        "outputId": "8b359493-dfe8-40fd-ae81-07b15910d9fa"
      },
      "source": [
        "# Question A4: Plot mse vs tunning parameters.\n",
        "plt.scatter(tunning_para_list, lasso_avg_mse_list)\n",
        "plt.xlabel(\"Tunning Parameters\")\n",
        "plt.ylabel(\"Mean Squarred Error\")\n",
        "plt.title(\"MSE for Different TP\")\n",
        "plt.show"
      ],
      "execution_count": null,
      "outputs": [
        {
          "output_type": "execute_result",
          "data": {
            "text/plain": [
              "<function matplotlib.pyplot.show>"
            ]
          },
          "metadata": {},
          "execution_count": 102
        },
        {
          "output_type": "display_data",
          "data": {
            "image/png": "[encoded data removed]",
            "text/plain": [
              "<Figure size 432x288 with 1 Axes>"
            ]
          },
          "metadata": {
            "needs_background": "light"
          }
        }
      ]
    },
    {
      "cell_type": "markdown",
      "metadata": {
        "id": "qYqyFAj_tyH6"
      },
      "source": [
        "## Question A4: The choice of tunning parameter.\n",
        "\n",
        "By looking at the computed MSE, assuming the best model is based on the one with the lowest MSE, the best tunning parameter among the list would be 500. The MSE was decreasing gradually as the tunning parameter neared 500 but for tunning parameters greated than 500, being 2500 and 10000; the MSE was in fact increasing. Variable selection did start at 500, where the second coefficient was eliminated for all 5 cross-validation versions but only 3 of those folds also had the first coefficient eliminated. However, for the tunning parameters of 2500 and 10000, the first and second coefficients were elimnated for all 5 folds respectively. "
      ]
    },
    {
      "cell_type": "markdown",
      "metadata": {
        "id": "lKnyVWq21kZ9"
      },
      "source": [
        "## **Part B** <font color=\"blue\">(3 points)</font>\n",
        "For this part upload `Wage.csv`.\n",
        "\n",
        "1. **<font color=\"blue\">(2 points)</font>** Perform polynomial regression to predict `wage` using `age`. Use cross-validation to select the optimal degree $d$ for the polynomial. What degree was chosen? Make a plot of\n",
        "the resulting polynomial fit to the data. \n",
        "2. **<font color=\"blue\">(1 point)</font>** Fit a step function to predict `wage` using `age` , and perform cross-validation to choose the optimal number of cuts. Make a plot of the fit obtained.\n"
      ]
    },
    {
      "cell_type": "markdown",
      "metadata": {
        "id": "7GLQakVZ41gL"
      },
      "source": [
        "\n",
        "## **Part C** <font color=\"blue\">(4 points)</font>\n",
        "Apply SVM and random forests to a data set of your choice. Be sure to fit the models on a training set and to evaluate their performance on a test set. How accurate are the results compared to each other? Which of them yields the best performance?\n"
      ]
    },
    {
      "cell_type": "markdown",
      "metadata": {
        "id": "JUCsQMN0UV5m"
      },
      "source": [
        "## **Part D** <font color=\"blue\">(3 points)</font>\n",
        "\n",
        "1. **<font color=\"blue\">(1 point)</font>** Generate $2$-dimentional data with $500$ observations from $3$ Gaussian clusters. \n",
        "2. **<font color=\"blue\">(0.5 points)</font>** Use a scatterplot to visualize the produced data. \n",
        "3. **<font color=\"blue\">(1 point)</font>** Shuffle the data and use $K$-means, with $K=2,3,4$ to cluster the data.\n",
        "4. **<font color=\"blue\">(0.5 points)</font>** Visualize the results, separately.  \n"
      ]
    }
  ]
}