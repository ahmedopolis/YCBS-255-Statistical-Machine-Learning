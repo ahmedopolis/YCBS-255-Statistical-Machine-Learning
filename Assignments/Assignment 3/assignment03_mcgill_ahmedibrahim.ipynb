{
  "nbformat": 4,
  "nbformat_minor": 0,
  "metadata": {
    "colab": {
      "name": "assignment03_mcgill_ahmedibrahim.ipynb",
      "provenance": [],
      "collapsed_sections": [
        "sIs3veLP7hfx",
        "daS0gU437eOs",
        "MMBNRL0X7PSN",
        "aiqP3IFRbXFJ",
        "CWMAuGfg82W4"
      ],
      "toc_visible": true
    },
    "kernelspec": {
      "display_name": "Python 3",
      "language": "python",
      "name": "python3"
    },
    "language_info": {
      "codemirror_mode": {
        "name": "ipython",
        "version": 3
      },
      "file_extension": ".py",
      "mimetype": "text/x-python",
      "name": "python",
      "nbconvert_exporter": "python",
      "pygments_lexer": "ipython3",
      "version": "3.6.4"
    },
    "toc": {
      "base_numbering": 1,
      "nav_menu": {},
      "number_sections": true,
      "sideBar": true,
      "skip_h1_title": false,
      "title_cell": "Table of Contents",
      "title_sidebar": "Contents",
      "toc_cell": false,
      "toc_position": {},
      "toc_section_display": true,
      "toc_window_display": false
    }
  },
  "cells": [
    {
      "cell_type": "markdown",
      "metadata": {
        "id": "g2unLOmVzsBK"
      },
      "source": [
        "\n",
        "# Assignment 3  <font color=\"blue\"> (15 points) </font>\n",
        " \n",
        "------\n",
        "### Information\n",
        "**Name:** Ahmed Ibrahim\n",
        "\n",
        "**Student Number:** 261032796\n",
        "\n",
        "**Date:** 2021-11-15\n",
        "\n",
        "**Course Number:** YCBS 255 - Statistical Machine Learning\n",
        "\n",
        "------\n",
        "\n",
        "### Notes and Instructions\n",
        "  + You may need additional libraries besides the Python standard library to solve some questions. Import only necessary libraries. \n",
        "  + If more than one library exist for a same purpose, choose the one you wish as long as it does the task properly. \n",
        "  + If we want you to use a specific library, then we will state it clearly. \n",
        "  + Use the exact variable names asked in the questions. When no clear instructions given, feel free to do it the way you would like to.\n",
        "  + After each question, add the needed number of new cells and place your answers inside the cells. \n",
        "  + Use text cells for explanations. Use explanation and plain text as much as possible. \n",
        "  + Do not remove or modify the original cells provided by the instructor.\n",
        "  + In the following cell you will find some extra options to make your code more readable, including output colors RED, OKBLUE, or output text styles like BOLD or UNDERLINE that. Do not hesitate to use them. As an example, one may output text in red as follows: \n",
        "  ```python\n",
        "     print(bcolors.RED + \"your text\" + bcolors.ENDC)\n",
        "  ```\n",
        "  + Comment your code whenever needed using # sign at the beginning of the row.\n",
        "  + In some questions some of the details needed for solving the problem are **purposely** omitted to encourage additional self-directed research. This, especially, helps you develop some search skills for coding in Python (which is inevitable due to the inconsistent syntax of Python).\n",
        "  + Do not hesitate to communicate your questions to the TA's or instructors. \n",
        "    \n",
        "  Good luck! "
      ]
    },
    {
      "cell_type": "code",
      "metadata": {
        "id": "aOt20LC3zsBN"
      },
      "source": [
        "# The following piece of code gives the opportunity to show multiple outputs\n",
        "# in one cell:\n",
        "from IPython.core.interactiveshell import InteractiveShell\n",
        "InteractiveShell.ast_node_interactivity = \"all\"\n",
        "\n",
        "# Colorful outputs\n",
        "class bcolors:\n",
        "    RED       = '\\033[91m'\n",
        "    OKBLUE    = '\\033[94m'\n",
        "    BOLD      = '\\033[1m'\n",
        "    UNDERLINE = '\\033[4m'\n",
        "    ENDC      = '\\033[0m'"
      ],
      "execution_count": null,
      "outputs": []
    },
    {
      "cell_type": "markdown",
      "metadata": {
        "id": "JhunulGDzsBS"
      },
      "source": [
        ""
      ]
    },
    {
      "cell_type": "markdown",
      "metadata": {
        "id": "PI8k_3Wp2qVH"
      },
      "source": [
        "## **Part A** <font color=\"blue\">(5 points)</font>\n",
        "\n",
        "1. **<font color=\"blue\">(1 point)</font>** Generate 100 points equally distanced from $-20$ to $20$ and save them in a `numpy` array `x1`. Now, create $4$ more `numpy` arrays by raising `x1` to the power of $2,3,4,5$, and call them `x2`, `x3`, `x4` and `x5`, respectively. \n",
        "3. **<font color=\"blue\">(1 point)</font>** Create your response `y`, a new `numpy` array, defined as $y= 1.75 + 5 x_1 + 0.05 x_3 - 10.3 x_5 + \\varepsilon$, where $\\varepsilon \\sim \\mathcal{N}(0, 4)$.\n",
        "4. **<font color=\"blue\">(2 points)</font>** Using $5$-fold cross-validation, with a reasonable train-test proportion, train a **lasso** regression model including all $x_1, x_2, x_3 , x_4 , x_5$, and for $10$ different  pre-determined tuning parameters. \n",
        "5. **<font color=\"blue\">(1 point)</font>** Plot the **cross-validated mean squared errors** vs the tuning parameter's values\n",
        " and chose the best tuning parameter based on the plot. Does the best model chosen perform **variable selection**?"
      ]
    },
    {
      "cell_type": "markdown",
      "metadata": {
        "id": "sIs3veLP7hfx"
      },
      "source": [
        "## Part A"
      ]
    },
    {
      "cell_type": "code",
      "metadata": {
        "id": "5LkLf9m39Y_J"
      },
      "source": [
        "import numpy as np\n",
        "import math\n",
        "import pandas as pd\n",
        "import matplotlib.pyplot as plt\n",
        "plt.style.use('ggplot')\n",
        "%matplotlib inline"
      ],
      "execution_count": null,
      "outputs": []
    },
    {
      "cell_type": "code",
      "metadata": {
        "id": "w47-IiLZ9cBD"
      },
      "source": [
        "# Question A1: Generate x1 array.\n",
        "x1 = np.linspace(-20, 20, 100)"
      ],
      "execution_count": null,
      "outputs": []
    },
    {
      "cell_type": "code",
      "metadata": {
        "id": "rNV1ew_s-CTN"
      },
      "source": [
        "# Question A1: Generate x2, x3, x4, x5 array.\n",
        "x1 = np.linspace(-20, 20, 100)\n",
        "x_list = [x1]\n",
        "x_range = np.arange(2,6)\n",
        "\n",
        "for value in x_range:\n",
        "  x_value = np.power(x1, value)\n",
        "  x_list.append(x_value)\n",
        "\n",
        "x2 = x_list[1]\n",
        "x3 = x_list[2]\n",
        "x4 = x_list[3]\n",
        "x5 = x_list[4]\n",
        "\n",
        "X = pd.DataFrame(x_list, index = ['x1', 'x2', 'x3', 'x4', 'x5']).transpose().to_numpy()"
      ],
      "execution_count": null,
      "outputs": []
    },
    {
      "cell_type": "code",
      "metadata": {
        "id": "lAp2-VJ9BYNC"
      },
      "source": [
        "# Question A2: Generate 'y' function.\n",
        "np.random.seed(12)\n",
        "mu = 0\n",
        "sigma = math.sqrt(4)\n",
        "eps = np.random.normal(mu, sigma, 100)\n",
        "\n",
        "y = 1.75 + 5*x1 + 0.05*x3 -10.3*x5 + eps"
      ],
      "execution_count": null,
      "outputs": []
    },
    {
      "cell_type": "code",
      "metadata": {
        "colab": {
          "base_uri": "https://localhost:8080/",
          "height": 316
        },
        "id": "P5URpPNrmLQ9",
        "outputId": "245afba3-5cf6-4a5b-db4a-dc6c97dcc01c"
      },
      "source": [
        "# Question A2: Plot polynomial.\n",
        "plt.scatter(x1, y)\n",
        "plt.xlabel('X')\n",
        "plt.ylabel('Y')\n",
        "plt.title('5th Degree Polynomial')\n",
        "plt.show()"
      ],
      "execution_count": null,
      "outputs": [
        {
          "output_type": "execute_result",
          "data": {
            "text/plain": [
              "<matplotlib.collections.PathCollection at 0x7f25444815d0>"
            ]
          },
          "metadata": {},
          "execution_count": 6
        },
        {
          "output_type": "execute_result",
          "data": {
            "text/plain": [
              "Text(0.5, 0, 'X')"
            ]
          },
          "metadata": {},
          "execution_count": 6
        },
        {
          "output_type": "execute_result",
          "data": {
            "text/plain": [
              "Text(0, 0.5, 'Y')"
            ]
          },
          "metadata": {},
          "execution_count": 6
        },
        {
          "output_type": "execute_result",
          "data": {
            "text/plain": [
              "Text(0.5, 1.0, '5th Degree Polynomial')"
            ]
          },
          "metadata": {},
          "execution_count": 6
        },
        {
          "output_type": "display_data",
          "data": {
            "image/png": "[encoded data removed]",
            "text/plain": [
              "<Figure size 432x288 with 1 Axes>"
            ]
          },
          "metadata": {
            "needs_background": "light"
          }
        }
      ]
    },
    {
      "cell_type": "code",
      "metadata": {
        "id": "Y4f2Z4cqD-PO"
      },
      "source": [
        "# Question A3: Split the dataset into training (70%) and test sets (30%). 'A' is for 'Question A'. \n",
        "from sklearn.model_selection import train_test_split\n",
        "X_train_A, X_test_A, y_train_A, y_test_A = train_test_split(X, y, test_size = 0.3, random_state = 12)"
      ],
      "execution_count": null,
      "outputs": []
    },
    {
      "cell_type": "code",
      "metadata": {
        "colab": {
          "base_uri": "https://localhost:8080/"
        },
        "id": "hXhIaH8VLAhV",
        "outputId": "3d0263f2-d50f-401e-b998-f55a36b791f9"
      },
      "source": [
        "# Question A3: Using  5-fold cross-validation, train a lasso model with 10 different tunning parameters.\n",
        "from sklearn.model_selection import KFold\n",
        "from sklearn.metrics import mean_squared_error\n",
        "from sklearn.linear_model import Lasso\n",
        "\n",
        "k = 5\n",
        "kf_5 = KFold(n_splits = k, random_state = 12, shuffle = True)\n",
        "tunning_para_list = [0.05, 0.1, 1, 5, 50, 500, 2500, 10000]\n",
        "\n",
        "lasso_avg_mse_CV_list = []\n",
        "lasso_avg_mse_test_list = []\n",
        "\n",
        "X = X_train_A\n",
        "y = y_train_A\n",
        "\n",
        "for tunning_para in tunning_para_list:\n",
        "  print(f\"Tunning Parameter: {tunning_para}\")\n",
        "  lasso_regression = Lasso(alpha = tunning_para)\n",
        "\n",
        "  lasso_mse_CV_list = []\n",
        "  lasso_mse_test_list = []\n",
        "\n",
        "  for train_index, test_index in kf_5.split(X_train_A):\n",
        "    X_train_A_CV, X_test_A_CV = X[train_index], X[test_index]\n",
        "    y_train_A_CV, y_test_A_CV = y[train_index], y[test_index]\n",
        "\n",
        "    lasso_regression.fit(X_train_A_CV, y_train_A_CV)\n",
        "    print(f\"Lasso Coefficients: {lasso_regression.coef_}\")\n",
        "\n",
        "    y_pred_A_CV = lasso_regression.predict(X_test_A_CV)\n",
        "    lasso_mse_CV = mean_squared_error(y_test_A_CV, y_pred_A_CV)\n",
        "    lasso_mse_CV_list.append(lasso_mse_CV)\n",
        "\n",
        "    y_pred_A_test = lasso_regression.predict(X_test_A)\n",
        "    lasso_mse_test = mean_squared_error(y_test_A, y_pred_A_test)\n",
        "    lasso_mse_test_list.append(lasso_mse_test)\n",
        "  \n",
        "  lasso_avg_mse_CV = sum(lasso_mse_CV_list)/len(lasso_mse_CV_list)\n",
        "  lasso_avg_mse_CV_list.append(lasso_avg_mse_CV)\n",
        "\n",
        "  lasso_avg_mse_test = sum(lasso_mse_test_list)/len(lasso_mse_test_list)\n",
        "  lasso_avg_mse_test_list.append(lasso_avg_mse_test)"
      ],
      "execution_count": null,
      "outputs": [
        {
          "output_type": "stream",
          "name": "stdout",
          "text": [
            "Tunning Parameter: 0.05\n"
          ]
        },
        {
          "output_type": "execute_result",
          "data": {
            "text/plain": [
              "Lasso(alpha=0.05)"
            ]
          },
          "metadata": {},
          "execution_count": 59
        },
        {
          "output_type": "stream",
          "name": "stdout",
          "text": [
            "Lasso Coefficients: [ 8.30094531e+01 -1.20947700e-01 -7.58535727e-01  8.50753685e-04\n",
            " -1.02983320e+01]\n"
          ]
        },
        {
          "output_type": "execute_result",
          "data": {
            "text/plain": [
              "Lasso(alpha=0.05)"
            ]
          },
          "metadata": {},
          "execution_count": 59
        },
        {
          "output_type": "stream",
          "name": "stdout",
          "text": [
            "Lasso Coefficients: [ 3.45595698e+02  1.54877560e+00 -3.81324065e+00 -3.26451349e-03\n",
            " -1.02918622e+01]\n"
          ]
        },
        {
          "output_type": "execute_result",
          "data": {
            "text/plain": [
              "Lasso(alpha=0.05)"
            ]
          },
          "metadata": {},
          "execution_count": 59
        },
        {
          "output_type": "stream",
          "name": "stdout",
          "text": [
            "Lasso Coefficients: [ 3.85172741e+01  3.35718387e-01 -3.00908381e-01 -8.39437598e-04\n",
            " -1.02992820e+01]\n"
          ]
        },
        {
          "output_type": "execute_result",
          "data": {
            "text/plain": [
              "Lasso(alpha=0.05)"
            ]
          },
          "metadata": {},
          "execution_count": 59
        },
        {
          "output_type": "stream",
          "name": "stdout",
          "text": [
            "Lasso Coefficients: [ 4.58937744e+01  1.18656394e+00 -4.16040045e-01 -3.66768329e-03\n",
            " -1.02989861e+01]\n"
          ]
        },
        {
          "output_type": "execute_result",
          "data": {
            "text/plain": [
              "Lasso(alpha=0.05)"
            ]
          },
          "metadata": {},
          "execution_count": 59
        },
        {
          "output_type": "stream",
          "name": "stdout",
          "text": [
            "Lasso Coefficients: [ 2.07968735e+02 -7.75476872e-01 -2.11759386e+00  1.42122382e-03\n",
            " -1.02955615e+01]\n",
            "Tunning Parameter: 0.1\n"
          ]
        },
        {
          "output_type": "execute_result",
          "data": {
            "text/plain": [
              "Lasso(alpha=0.1)"
            ]
          },
          "metadata": {},
          "execution_count": 59
        },
        {
          "output_type": "stream",
          "name": "stdout",
          "text": [
            "Lasso Coefficients: [ 8.30017687e+01 -1.20879930e-01 -7.58466681e-01  8.50536819e-04\n",
            " -1.02983322e+01]\n"
          ]
        },
        {
          "output_type": "execute_result",
          "data": {
            "text/plain": [
              "Lasso(alpha=0.1)"
            ]
          },
          "metadata": {},
          "execution_count": 59
        },
        {
          "output_type": "stream",
          "name": "stdout",
          "text": [
            "Lasso Coefficients: [ 3.45588590e+02  1.54873571e+00 -3.81317225e+00 -3.26442400e-03\n",
            " -1.02918623e+01]\n"
          ]
        },
        {
          "output_type": "execute_result",
          "data": {
            "text/plain": [
              "Lasso(alpha=0.1)"
            ]
          },
          "metadata": {},
          "execution_count": 59
        },
        {
          "output_type": "stream",
          "name": "stdout",
          "text": [
            "Lasso Coefficients: [ 3.85107192e+01  3.35673786e-01 -3.00850684e-01 -8.39321612e-04\n",
            " -1.02992821e+01]\n"
          ]
        },
        {
          "output_type": "execute_result",
          "data": {
            "text/plain": [
              "Lasso(alpha=0.1)"
            ]
          },
          "metadata": {},
          "execution_count": 59
        },
        {
          "output_type": "stream",
          "name": "stdout",
          "text": [
            "Lasso Coefficients: [ 4.58869391e+01  1.18649918e+00 -4.15976526e-01 -3.66747989e-03\n",
            " -1.02989862e+01]\n"
          ]
        },
        {
          "output_type": "execute_result",
          "data": {
            "text/plain": [
              "Lasso(alpha=0.1)"
            ]
          },
          "metadata": {},
          "execution_count": 59
        },
        {
          "output_type": "stream",
          "name": "stdout",
          "text": [
            "Lasso Coefficients: [ 2.07961376e+02 -7.75394754e-01 -2.11752656e+00  1.42103334e-03\n",
            " -1.02955616e+01]\n",
            "Tunning Parameter: 1\n"
          ]
        },
        {
          "output_type": "execute_result",
          "data": {
            "text/plain": [
              "Lasso(alpha=1)"
            ]
          },
          "metadata": {},
          "execution_count": 59
        },
        {
          "output_type": "stream",
          "name": "stdout",
          "text": [
            "Lasso Coefficients: [ 8.28634492e+01 -1.19660076e-01 -7.57223845e-01  8.46633231e-04\n",
            " -1.02983346e+01]\n"
          ]
        },
        {
          "output_type": "execute_result",
          "data": {
            "text/plain": [
              "Lasso(alpha=1)"
            ]
          },
          "metadata": {},
          "execution_count": 59
        },
        {
          "output_type": "stream",
          "name": "stdout",
          "text": [
            "Lasso Coefficients: [ 3.45460643e+02  1.54801768e+00 -3.81194107e+00 -3.26281329e-03\n",
            " -1.02918648e+01]\n"
          ]
        },
        {
          "output_type": "execute_result",
          "data": {
            "text/plain": [
              "Lasso(alpha=1)"
            ]
          },
          "metadata": {},
          "execution_count": 59
        },
        {
          "output_type": "stream",
          "name": "stdout",
          "text": [
            "Lasso Coefficients: [ 3.83927316e+01  3.34870954e-01 -2.99812145e-01 -8.37233864e-04\n",
            " -1.02992840e+01]\n"
          ]
        },
        {
          "output_type": "execute_result",
          "data": {
            "text/plain": [
              "Lasso(alpha=1)"
            ]
          },
          "metadata": {},
          "execution_count": 59
        },
        {
          "output_type": "stream",
          "name": "stdout",
          "text": [
            "Lasso Coefficients: [ 4.57639022e+01  1.18533356e+00 -4.14833195e-01 -3.66381868e-03\n",
            " -1.02989885e+01]\n"
          ]
        },
        {
          "output_type": "execute_result",
          "data": {
            "text/plain": [
              "Lasso(alpha=1)"
            ]
          },
          "metadata": {},
          "execution_count": 59
        },
        {
          "output_type": "stream",
          "name": "stdout",
          "text": [
            "Lasso Coefficients: [ 2.07828919e+02 -7.73916632e-01 -2.11631507e+00  1.41760467e-03\n",
            " -1.02955639e+01]\n",
            "Tunning Parameter: 5\n"
          ]
        },
        {
          "output_type": "execute_result",
          "data": {
            "text/plain": [
              "Lasso(alpha=5)"
            ]
          },
          "metadata": {},
          "execution_count": 59
        },
        {
          "output_type": "stream",
          "name": "stdout",
          "text": [
            "Lasso Coefficients: [ 8.22486958e+01 -1.14238503e-01 -7.51700131e-01  8.29283949e-04\n",
            " -1.02983453e+01]\n"
          ]
        },
        {
          "output_type": "execute_result",
          "data": {
            "text/plain": [
              "Lasso(alpha=5)"
            ]
          },
          "metadata": {},
          "execution_count": 59
        },
        {
          "output_type": "stream",
          "name": "stdout",
          "text": [
            "Lasso Coefficients: [ 3.44891990e+02  1.54482642e+00 -3.80646918e+00 -3.25565455e-03\n",
            " -1.02918756e+01]\n"
          ]
        },
        {
          "output_type": "execute_result",
          "data": {
            "text/plain": [
              "Lasso(alpha=5)"
            ]
          },
          "metadata": {},
          "execution_count": 59
        },
        {
          "output_type": "stream",
          "name": "stdout",
          "text": [
            "Lasso Coefficients: [ 3.78683424e+01  3.31302811e-01 -2.95196417e-01 -8.27954983e-04\n",
            " -1.02992928e+01]\n"
          ]
        },
        {
          "output_type": "execute_result",
          "data": {
            "text/plain": [
              "Lasso(alpha=5)"
            ]
          },
          "metadata": {},
          "execution_count": 59
        },
        {
          "output_type": "stream",
          "name": "stdout",
          "text": [
            "Lasso Coefficients: [ 4.52170717e+01  1.18015300e+00 -4.09751720e-01 -3.64754664e-03\n",
            " -1.02989986e+01]\n"
          ]
        },
        {
          "output_type": "execute_result",
          "data": {
            "text/plain": [
              "Lasso(alpha=5)"
            ]
          },
          "metadata": {},
          "execution_count": 59
        },
        {
          "output_type": "stream",
          "name": "stdout",
          "text": [
            "Lasso Coefficients: [ 2.07240218e+02 -7.67347200e-01 -2.11093071e+00  1.40236612e-03\n",
            " -1.02955743e+01]\n",
            "Tunning Parameter: 50\n"
          ]
        },
        {
          "output_type": "execute_result",
          "data": {
            "text/plain": [
              "Lasso(alpha=50)"
            ]
          },
          "metadata": {},
          "execution_count": 59
        },
        {
          "output_type": "stream",
          "name": "stdout",
          "text": [
            "Lasso Coefficients: [ 7.53327206e+01 -5.32457981e-02 -6.89558353e-01  6.34104525e-04\n",
            " -1.02984654e+01]\n"
          ]
        },
        {
          "output_type": "execute_result",
          "data": {
            "text/plain": [
              "Lasso(alpha=50)"
            ]
          },
          "metadata": {},
          "execution_count": 59
        },
        {
          "output_type": "stream",
          "name": "stdout",
          "text": [
            "Lasso Coefficients: [ 3.38494641e+02  1.50892481e+00 -3.74491038e+00 -3.17511875e-03\n",
            " -1.02919971e+01]\n"
          ]
        },
        {
          "output_type": "execute_result",
          "data": {
            "text/plain": [
              "Lasso(alpha=50)"
            ]
          },
          "metadata": {},
          "execution_count": 59
        },
        {
          "output_type": "stream",
          "name": "stdout",
          "text": [
            "Lasso Coefficients: [ 3.19689639e+01  2.91161214e-01 -2.43269467e-01 -7.23567579e-04\n",
            " -1.02993910e+01]\n"
          ]
        },
        {
          "output_type": "execute_result",
          "data": {
            "text/plain": [
              "Lasso(alpha=50)"
            ]
          },
          "metadata": {},
          "execution_count": 59
        },
        {
          "output_type": "stream",
          "name": "stdout",
          "text": [
            "Lasso Coefficients: [ 3.90652290e+01  1.12187173e+00 -3.52585132e-01 -3.46448617e-03\n",
            " -1.02991120e+01]\n"
          ]
        },
        {
          "output_type": "execute_result",
          "data": {
            "text/plain": [
              "Lasso(alpha=50)"
            ]
          },
          "metadata": {},
          "execution_count": 59
        },
        {
          "output_type": "stream",
          "name": "stdout",
          "text": [
            "Lasso Coefficients: [ 2.00617335e+02 -6.93441085e-01 -2.05035661e+00  1.23093243e-03\n",
            " -1.02956904e+01]\n",
            "Tunning Parameter: 500\n"
          ]
        },
        {
          "output_type": "execute_result",
          "data": {
            "text/plain": [
              "Lasso(alpha=500)"
            ]
          },
          "metadata": {},
          "execution_count": 59
        },
        {
          "output_type": "stream",
          "name": "stdout",
          "text": [
            "Lasso Coefficients: [ 6.57716683e+00  0.00000000e+00 -6.82186911e-02  1.11091985e-04\n",
            " -1.02996683e+01]\n"
          ]
        },
        {
          "output_type": "execute_result",
          "data": {
            "text/plain": [
              "Lasso(alpha=500)"
            ]
          },
          "metadata": {},
          "execution_count": 59
        },
        {
          "output_type": "stream",
          "name": "stdout",
          "text": [
            "Lasso Coefficients: [ 2.74521150e+02  1.14990867e+00 -3.12932243e+00 -2.36976072e-03\n",
            " -1.02932123e+01]\n"
          ]
        },
        {
          "output_type": "execute_result",
          "data": {
            "text/plain": [
              "Lasso(alpha=500)"
            ]
          },
          "metadata": {},
          "execution_count": 59
        },
        {
          "output_type": "stream",
          "name": "stdout",
          "text": [
            "Lasso Coefficients: [ 0.00000000e+00  0.00000000e+00  6.82742882e-02  1.66062154e-05\n",
            " -1.03000096e+01]\n"
          ]
        },
        {
          "output_type": "execute_result",
          "data": {
            "text/plain": [
              "Lasso(alpha=500)"
            ]
          },
          "metadata": {},
          "execution_count": 59
        },
        {
          "output_type": "stream",
          "name": "stdout",
          "text": [
            "Lasso Coefficients: [ 0.00000000e+00  0.00000000e+00  7.40882508e-02 -7.48852700e-05\n",
            " -1.03000251e+01]\n"
          ]
        },
        {
          "output_type": "execute_result",
          "data": {
            "text/plain": [
              "Lasso(alpha=500)"
            ]
          },
          "metadata": {},
          "execution_count": 59
        },
        {
          "output_type": "stream",
          "name": "stdout",
          "text": [
            "Lasso Coefficients: [ 1.34424119e+02 -0.00000000e+00 -1.44482904e+00 -3.69854754e-04\n",
            " -1.02968519e+01]\n",
            "Tunning Parameter: 2500\n"
          ]
        },
        {
          "output_type": "execute_result",
          "data": {
            "text/plain": [
              "Lasso(alpha=2500)"
            ]
          },
          "metadata": {},
          "execution_count": 59
        },
        {
          "output_type": "stream",
          "name": "stdout",
          "text": [
            "Lasso Coefficients: [ 0.00000000e+00  0.00000000e+00  6.78454035e-02 -4.08724851e-06\n",
            " -1.03000074e+01]\n"
          ]
        },
        {
          "output_type": "execute_result",
          "data": {
            "text/plain": [
              "Lasso(alpha=2500)"
            ]
          },
          "metadata": {},
          "execution_count": 59
        },
        {
          "output_type": "stream",
          "name": "stdout",
          "text": [
            "Lasso Coefficients: [ 0.00000000e+00  0.00000000e+00 -4.28101519e-01  9.26226442e-05\n",
            " -1.02985975e+01]\n"
          ]
        },
        {
          "output_type": "execute_result",
          "data": {
            "text/plain": [
              "Lasso(alpha=2500)"
            ]
          },
          "metadata": {},
          "execution_count": 59
        },
        {
          "output_type": "stream",
          "name": "stdout",
          "text": [
            "Lasso Coefficients: [ 0.00000000e+00  0.00000000e+00  6.39758344e-02  1.79162185e-05\n",
            " -1.02999973e+01]\n"
          ]
        },
        {
          "output_type": "execute_result",
          "data": {
            "text/plain": [
              "Lasso(alpha=2500)"
            ]
          },
          "metadata": {},
          "execution_count": 59
        },
        {
          "output_type": "stream",
          "name": "stdout",
          "text": [
            "Lasso Coefficients: [ 0.00000000e+00  0.00000000e+00  6.47564637e-02 -1.07876916e-04\n",
            " -1.02999974e+01]\n"
          ]
        },
        {
          "output_type": "execute_result",
          "data": {
            "text/plain": [
              "Lasso(alpha=2500)"
            ]
          },
          "metadata": {},
          "execution_count": 59
        },
        {
          "output_type": "stream",
          "name": "stdout",
          "text": [
            "Lasso Coefficients: [ 0.00000000e+00  0.00000000e+00  6.36805706e-02 -7.65138234e-06\n",
            " -1.02999972e+01]\n",
            "Tunning Parameter: 10000\n"
          ]
        },
        {
          "output_type": "execute_result",
          "data": {
            "text/plain": [
              "Lasso(alpha=10000)"
            ]
          },
          "metadata": {},
          "execution_count": 59
        },
        {
          "output_type": "stream",
          "name": "stdout",
          "text": [
            "Lasso Coefficients: [ 0.00000000e+00  0.00000000e+00  5.08504189e-02  4.21794390e-06\n",
            " -1.02999577e+01]\n"
          ]
        },
        {
          "output_type": "execute_result",
          "data": {
            "text/plain": [
              "Lasso(alpha=10000)"
            ]
          },
          "metadata": {},
          "execution_count": 59
        },
        {
          "output_type": "stream",
          "name": "stdout",
          "text": [
            "Lasso Coefficients: [ 0.00000000e+00  0.00000000e+00  4.01359021e-02 -3.21147223e-07\n",
            " -1.02999300e+01]\n"
          ]
        },
        {
          "output_type": "execute_result",
          "data": {
            "text/plain": [
              "Lasso(alpha=10000)"
            ]
          },
          "metadata": {},
          "execution_count": 59
        },
        {
          "output_type": "stream",
          "name": "stdout",
          "text": [
            "Lasso Coefficients: [ 0.00000000e+00  0.00000000e+00  4.63564222e-02  2.34504795e-05\n",
            " -1.02999468e+01]\n"
          ]
        },
        {
          "output_type": "execute_result",
          "data": {
            "text/plain": [
              "Lasso(alpha=10000)"
            ]
          },
          "metadata": {},
          "execution_count": 59
        },
        {
          "output_type": "stream",
          "name": "stdout",
          "text": [
            "Lasso Coefficients: [ 0.00000000e+00  0.00000000e+00  4.52521429e-02 -1.68396401e-04\n",
            " -1.02999396e+01]\n"
          ]
        },
        {
          "output_type": "execute_result",
          "data": {
            "text/plain": [
              "Lasso(alpha=10000)"
            ]
          },
          "metadata": {},
          "execution_count": 59
        },
        {
          "output_type": "stream",
          "name": "stdout",
          "text": [
            "Lasso Coefficients: [ 0.00000000e+00  0.00000000e+00  4.67247842e-02 -1.58694760e-05\n",
            " -1.02999494e+01]\n"
          ]
        }
      ]
    },
    {
      "cell_type": "code",
      "metadata": {
        "colab": {
          "base_uri": "https://localhost:8080/",
          "height": 296
        },
        "id": "tkIxDFOXeecE",
        "outputId": "65869b10-cea1-4d10-fca0-2dcb5be97364"
      },
      "source": [
        "# Question A4: Plot mse vs tunning parameters.\n",
        "width = 0.35\n",
        "\n",
        "labels = tunning_para_list\n",
        "x = np.arange(len(labels))\n",
        "fig, ax = plt.subplots()\n",
        "rects1 = ax.bar(x - width/2, lasso_avg_mse_CV_list, width, label = 'CV-MSE')\n",
        "rects2 = ax.bar(x + width/2, lasso_avg_mse_test_list, width, label = 'test-MSE')\n",
        "\n",
        "ax.set_ylabel('Mean Squarred Error')\n",
        "ax.set_xlabel('Tunning Parameters')\n",
        "ax.set_title('MSE for Different TP')\n",
        "ax.set_xticks(x)\n",
        "ax.set_xticklabels(labels)\n",
        "ax.legend()\n",
        "\n",
        "fig.tight_layout()\n",
        "\n",
        "plt.show();"
      ],
      "execution_count": null,
      "outputs": [
        {
          "output_type": "display_data",
          "data": {
            "image/png": "[encoded data removed]",
            "text/plain": [
              "<Figure size 432x288 with 1 Axes>"
            ]
          },
          "metadata": {
            "needs_background": "light"
          }
        }
      ]
    },
    {
      "cell_type": "markdown",
      "metadata": {
        "id": "qYqyFAj_tyH6"
      },
      "source": [
        "### Question A4: The choice of tunning parameter.\n",
        "To train the lasso regression model, the data was split using 70 % for training and 30 % for testing. On the training portion, 5-fold cross-validation was applied. For the cross-validation, the 'KFold' function had the 'shuffle' set to 'True' to enable each split to be trained on a random batch of 'X' and 'y' values across the full range of values. The 'random_state' was set to a certain integer, in this case being 12 to ensure the same indices were used for each tunning parameter for consistency purposes. \n",
        "\n",
        "For 10 tunning parameters, 5 splits were generated and the coefficients of the resulting models were printed. The scoring used for every split is the mean squared error (MSE). For each split of the fitted model, two MSEs were calculated, where one was using the y-values from the validation portion ('CV-MSE') as the 'True' values and the other was using the y-values from the testing porting from the initial split ('test-MSE'). For every tunning parameter, the average MSE for the validation and testing portions were computed and plotted. Based on the plot, the MSE for the testing portions is lower than its validation counterpart for most of the tuning parameters. Among the tunning parameters, the highest tunning parameter yielded both the lowest validation and test MSE making it the best tunning parameter among the batch trained. \n",
        "\n",
        "Variable selection did occur for three tunning parameters being: '500', '2500' and '10000'. For the '500' tunning parameter, only 2 of its 5 splits had\n",
        "the first and second coefficients being eliminated while 2 others only had the second coefficients eliminated. As for the other tuning parameters, both the first and second coefficients were eliminated for all of their splits. "
      ]
    },
    {
      "cell_type": "markdown",
      "metadata": {
        "id": "lKnyVWq21kZ9"
      },
      "source": [
        "## **Part B** <font color=\"blue\">(3 points)</font>\n",
        "For this part upload `Wage.csv`.\n",
        "\n",
        "1. **<font color=\"blue\">(2 points)</font>** Perform polynomial regression to predict `wage` using `age`. Use cross-validation to select the optimal degree $d$ for the polynomial. What degree was chosen? Make a plot of\n",
        "the resulting polynomial fit to the data. \n",
        "2. **<font color=\"blue\">(1 point)</font>** Fit a step function to predict `wage` using `age` , and perform cross-validation to choose the optimal number of cuts. Make a plot of the fit obtained.\n"
      ]
    },
    {
      "cell_type": "markdown",
      "metadata": {
        "id": "daS0gU437eOs"
      },
      "source": [
        "## Part B"
      ]
    },
    {
      "cell_type": "code",
      "metadata": {
        "id": "VsXKZDzs6zrW"
      },
      "source": [
        "import numpy as np\n",
        "import matplotlib.pyplot as plt\n",
        "plt.style.use('ggplot')\n",
        "%matplotlib inline\n",
        "import pandas as pd"
      ],
      "execution_count": 181,
      "outputs": []
    },
    {
      "cell_type": "code",
      "metadata": {
        "colab": {
          "resources": {
            "http://localhost:8080/nbextensions/google.colab/files.js": {
              "data": "Ly8gQ29weXJpZ2h0IDIwMTcgR29vZ2xlIExMQwovLwovLyBMaWNlbnNlZCB1bmRlciB0aGUgQXBhY2hlIExpY2Vuc2UsIFZlcnNpb24gMi4wICh0aGUgIkxpY2Vuc2UiKTsKLy8geW91IG1heSBub3QgdXNlIHRoaXMgZmlsZSBleGNlcHQgaW4gY29tcGxpYW5jZSB3aXRoIHRoZSBMaWNlbnNlLgovLyBZb3UgbWF5IG9idGFpbiBhIGNvcHkgb2YgdGhlIExpY2Vuc2UgYXQKLy8KLy8gICAgICBodHRwOi8vd3d3LmFwYWNoZS5vcmcvbGljZW5zZXMvTElDRU5TRS0yLjAKLy8KLy8gVW5sZXNzIHJlcXVpcmVkIGJ5IGFwcGxpY2FibGUgbGF3IG9yIGFncmVlZCB0byBpbiB3cml0aW5nLCBzb2Z0d2FyZQovLyBkaXN0cmlidXRlZCB1bmRlciB0aGUgTGljZW5zZSBpcyBkaXN0cmlidXRlZCBvbiBhbiAiQVMgSVMiIEJBU0lTLAovLyBXSVRIT1VUIFdBUlJBTlRJRVMgT1IgQ09ORElUSU9OUyBPRiBBTlkgS0lORCwgZWl0aGVyIGV4cHJlc3Mgb3IgaW1wbGllZC4KLy8gU2VlIHRoZSBMaWNlbnNlIGZvciB0aGUgc3BlY2lmaWMgbGFuZ3VhZ2UgZ292ZXJuaW5nIHBlcm1pc3Npb25zIGFuZAovLyBsaW1pdGF0aW9ucyB1bmRlciB0aGUgTGljZW5zZS4KCi8qKgogKiBAZmlsZW92ZXJ2aWV3IEhlbHBlcnMgZm9yIGdvb2dsZS5jb2xhYiBQeXRob24gbW9kdWxlLgogKi8KKGZ1bmN0aW9uKHNjb3BlKSB7CmZ1bmN0aW9uIHNwYW4odGV4dCwgc3R5bGVBdHRyaWJ1dGVzID0ge30pIHsKICBjb25zdCBlbGVtZW50ID0gZG9jdW1lbnQuY3JlYXRlRWxlbWVudCgnc3BhbicpOwogIGVsZW1lbnQudGV4dENvbnRlbnQgPSB0ZXh0OwogIGZvciAoY29uc3Qga2V5IG9mIE9iamVjdC5rZXlzKHN0eWxlQXR0cmlidXRlcykpIHsKICAgIGVsZW1lbnQuc3R5bGVba2V5XSA9IHN0eWxlQXR0cmlidXRlc1trZXldOwogIH0KICByZXR1cm4gZWxlbWVudDsKfQoKLy8gTWF4IG51bWJlciBvZiBieXRlcyB3aGljaCB3aWxsIGJlIHVwbG9hZGVkIGF0IGEgdGltZS4KY29uc3QgTUFYX1BBWUxPQURfU0laRSA9IDEwMCAqIDEwMjQ7CgpmdW5jdGlvbiBfdXBsb2FkRmlsZXMoaW5wdXRJZCwgb3V0cHV0SWQpIHsKICBjb25zdCBzdGVwcyA9IHVwbG9hZEZpbGVzU3RlcChpbnB1dElkLCBvdXRwdXRJZCk7CiAgY29uc3Qgb3V0cHV0RWxlbWVudCA9IGRvY3VtZW50LmdldEVsZW1lbnRCeUlkKG91dHB1dElkKTsKICAvLyBDYWNoZSBzdGVwcyBvbiB0aGUgb3V0cHV0RWxlbWVudCB0byBtYWtlIGl0IGF2YWlsYWJsZSBmb3IgdGhlIG5leHQgY2FsbAogIC8vIHRvIHVwbG9hZEZpbGVzQ29udGludWUgZnJvbSBQeXRob24uCiAgb3V0cHV0RWxlbWVudC5zdGVwcyA9IHN0ZXBzOwoKICByZXR1cm4gX3VwbG9hZEZpbGVzQ29udGludWUob3V0cHV0SWQpOwp9CgovLyBUaGlzIGlzIHJvdWdobHkgYW4gYXN5bmMgZ2VuZXJhdG9yIChub3Qgc3VwcG9ydGVkIGluIHRoZSBicm93c2VyIHlldCksCi8vIHdoZXJlIHRoZXJlIGFyZSBtdWx0aXBsZSBhc3luY2hyb25vdXMgc3RlcHMgYW5kIHRoZSBQeXRob24gc2lkZSBpcyBnb2luZwovLyB0byBwb2xsIGZvciBjb21wbGV0aW9uIG9mIGVhY2ggc3RlcC4KLy8gVGhpcyB1c2VzIGEgUHJvbWlzZSB0byBibG9jayB0aGUgcHl0aG9uIHNpZGUgb24gY29tcGxldGlvbiBvZiBlYWNoIHN0ZXAsCi8vIHRoZW4gcGFzc2VzIHRoZSByZXN1bHQgb2YgdGhlIHByZXZpb3VzIHN0ZXAgYXMgdGhlIGlucHV0IHRvIHRoZSBuZXh0IHN0ZXAuCmZ1bmN0aW9uIF91cGxvYWRGaWxlc0NvbnRpbnVlKG91dHB1dElkKSB7CiAgY29uc3Qgb3V0cHV0RWxlbWVudCA9IGRvY3VtZW50LmdldEVsZW1lbnRCeUlkKG91dHB1dElkKTsKICBjb25zdCBzdGVwcyA9IG91dHB1dEVsZW1lbnQuc3RlcHM7CgogIGNvbnN0IG5leHQgPSBzdGVwcy5uZXh0KG91dHB1dEVsZW1lbnQubGFzdFByb21pc2VWYWx1ZSk7CiAgcmV0dXJuIFByb21pc2UucmVzb2x2ZShuZXh0LnZhbHVlLnByb21pc2UpLnRoZW4oKHZhbHVlKSA9PiB7CiAgICAvLyBDYWNoZSB0aGUgbGFzdCBwcm9taXNlIHZhbHVlIHRvIG1ha2UgaXQgYXZhaWxhYmxlIHRvIHRoZSBuZXh0CiAgICAvLyBzdGVwIG9mIHRoZSBnZW5lcmF0b3IuCiAgICBvdXRwdXRFbGVtZW50Lmxhc3RQcm9taXNlVmFsdWUgPSB2YWx1ZTsKICAgIHJldHVybiBuZXh0LnZhbHVlLnJlc3BvbnNlOwogIH0pOwp9CgovKioKICogR2VuZXJhdG9yIGZ1bmN0aW9uIHdoaWNoIGlzIGNhbGxlZCBiZXR3ZWVuIGVhY2ggYXN5bmMgc3RlcCBvZiB0aGUgdXBsb2FkCiAqIHByb2Nlc3MuCiAqIEBwYXJhbSB7c3RyaW5nfSBpbnB1dElkIEVsZW1lbnQgSUQgb2YgdGhlIGlucHV0IGZpbGUgcGlja2VyIGVsZW1lbnQuCiAqIEBwYXJhbSB7c3RyaW5nfSBvdXRwdXRJZCBFbGVtZW50IElEIG9mIHRoZSBvdXRwdXQgZGlzcGxheS4KICogQHJldHVybiB7IUl0ZXJhYmxlPCFPYmplY3Q+fSBJdGVyYWJsZSBvZiBuZXh0IHN0ZXBzLgogKi8KZnVuY3Rpb24qIHVwbG9hZEZpbGVzU3RlcChpbnB1dElkLCBvdXRwdXRJZCkgewogIGNvbnN0IGlucHV0RWxlbWVudCA9IGRvY3VtZW50LmdldEVsZW1lbnRCeUlkKGlucHV0SWQpOwogIGlucHV0RWxlbWVudC5kaXNhYmxlZCA9IGZhbHNlOwoKICBjb25zdCBvdXRwdXRFbGVtZW50ID0gZG9jdW1lbnQuZ2V0RWxlbWVudEJ5SWQob3V0cHV0SWQpOwogIG91dHB1dEVsZW1lbnQuaW5uZXJIVE1MID0gJyc7CgogIGNvbnN0IHBpY2tlZFByb21pc2UgPSBuZXcgUHJvbWlzZSgocmVzb2x2ZSkgPT4gewogICAgaW5wdXRFbGVtZW50LmFkZEV2ZW50TGlzdGVuZXIoJ2NoYW5nZScsIChlKSA9PiB7CiAgICAgIHJlc29sdmUoZS50YXJnZXQuZmlsZXMpOwogICAgfSk7CiAgfSk7CgogIGNvbnN0IGNhbmNlbCA9IGRvY3VtZW50LmNyZWF0ZUVsZW1lbnQoJ2J1dHRvbicpOwogIGlucHV0RWxlbWVudC5wYXJlbnRFbGVtZW50LmFwcGVuZENoaWxkKGNhbmNlbCk7CiAgY2FuY2VsLnRleHRDb250ZW50ID0gJ0NhbmNlbCB1cGxvYWQnOwogIGNvbnN0IGNhbmNlbFByb21pc2UgPSBuZXcgUHJvbWlzZSgocmVzb2x2ZSkgPT4gewogICAgY2FuY2VsLm9uY2xpY2sgPSAoKSA9PiB7CiAgICAgIHJlc29sdmUobnVsbCk7CiAgICB9OwogIH0pOwoKICAvLyBXYWl0IGZvciB0aGUgdXNlciB0byBwaWNrIHRoZSBmaWxlcy4KICBjb25zdCBmaWxlcyA9IHlpZWxkIHsKICAgIHByb21pc2U6IFByb21pc2UucmFjZShbcGlja2VkUHJvbWlzZSwgY2FuY2VsUHJvbWlzZV0pLAogICAgcmVzcG9uc2U6IHsKICAgICAgYWN0aW9uOiAnc3RhcnRpbmcnLAogICAgfQogIH07CgogIGNhbmNlbC5yZW1vdmUoKTsKCiAgLy8gRGlzYWJsZSB0aGUgaW5wdXQgZWxlbWVudCBzaW5jZSBmdXJ0aGVyIHBpY2tzIGFyZSBub3QgYWxsb3dlZC4KICBpbnB1dEVsZW1lbnQuZGlzYWJsZWQgPSB0cnVlOwoKICBpZiAoIWZpbGVzKSB7CiAgICByZXR1cm4gewogICAgICByZXNwb25zZTogewogICAgICAgIGFjdGlvbjogJ2NvbXBsZXRlJywKICAgICAgfQogICAgfTsKICB9CgogIGZvciAoY29uc3QgZmlsZSBvZiBmaWxlcykgewogICAgY29uc3QgbGkgPSBkb2N1bWVudC5jcmVhdGVFbGVtZW50KCdsaScpOwogICAgbGkuYXBwZW5kKHNwYW4oZmlsZS5uYW1lLCB7Zm9udFdlaWdodDogJ2JvbGQnfSkpOwogICAgbGkuYXBwZW5kKHNwYW4oCiAgICAgICAgYCgke2ZpbGUudHlwZSB8fCAnbi9hJ30pIC0gJHtmaWxlLnNpemV9IGJ5dGVzLCBgICsKICAgICAgICBgbGFzdCBtb2RpZmllZDogJHsKICAgICAgICAgICAgZmlsZS5sYXN0TW9kaWZpZWREYXRlID8gZmlsZS5sYXN0TW9kaWZpZWREYXRlLnRvTG9jYWxlRGF0ZVN0cmluZygpIDoKICAgICAgICAgICAgICAgICAgICAgICAgICAgICAgICAgICAgJ24vYSd9IC0gYCkpOwogICAgY29uc3QgcGVyY2VudCA9IHNwYW4oJzAlIGRvbmUnKTsKICAgIGxpLmFwcGVuZENoaWxkKHBlcmNlbnQpOwoKICAgIG91dHB1dEVsZW1lbnQuYXBwZW5kQ2hpbGQobGkpOwoKICAgIGNvbnN0IGZpbGVEYXRhUHJvbWlzZSA9IG5ldyBQcm9taXNlKChyZXNvbHZlKSA9PiB7CiAgICAgIGNvbnN0IHJlYWRlciA9IG5ldyBGaWxlUmVhZGVyKCk7CiAgICAgIHJlYWRlci5vbmxvYWQgPSAoZSkgPT4gewogICAgICAgIHJlc29sdmUoZS50YXJnZXQucmVzdWx0KTsKICAgICAgfTsKICAgICAgcmVhZGVyLnJlYWRBc0FycmF5QnVmZmVyKGZpbGUpOwogICAgfSk7CiAgICAvLyBXYWl0IGZvciB0aGUgZGF0YSB0byBiZSByZWFkeS4KICAgIGxldCBmaWxlRGF0YSA9IHlpZWxkIHsKICAgICAgcHJvbWlzZTogZmlsZURhdGFQcm9taXNlLAogICAgICByZXNwb25zZTogewogICAgICAgIGFjdGlvbjogJ2NvbnRpbnVlJywKICAgICAgfQogICAgfTsKCiAgICAvLyBVc2UgYSBjaHVua2VkIHNlbmRpbmcgdG8gYXZvaWQgbWVzc2FnZSBzaXplIGxpbWl0cy4gU2VlIGIvNjIxMTU2NjAuCiAgICBsZXQgcG9zaXRpb24gPSAwOwogICAgZG8gewogICAgICBjb25zdCBsZW5ndGggPSBNYXRoLm1pbihmaWxlRGF0YS5ieXRlTGVuZ3RoIC0gcG9zaXRpb24sIE1BWF9QQVlMT0FEX1NJWkUpOwogICAgICBjb25zdCBjaHVuayA9IG5ldyBVaW50OEFycmF5KGZpbGVEYXRhLCBwb3NpdGlvbiwgbGVuZ3RoKTsKICAgICAgcG9zaXRpb24gKz0gbGVuZ3RoOwoKICAgICAgY29uc3QgYmFzZTY0ID0gYnRvYShTdHJpbmcuZnJvbUNoYXJDb2RlLmFwcGx5KG51bGwsIGNodW5rKSk7CiAgICAgIHlpZWxkIHsKICAgICAgICByZXNwb25zZTogewogICAgICAgICAgYWN0aW9uOiAnYXBwZW5kJywKICAgICAgICAgIGZpbGU6IGZpbGUubmFtZSwKICAgICAgICAgIGRhdGE6IGJhc2U2NCwKICAgICAgICB9LAogICAgICB9OwoKICAgICAgbGV0IHBlcmNlbnREb25lID0gZmlsZURhdGEuYnl0ZUxlbmd0aCA9PT0gMCA/CiAgICAgICAgICAxMDAgOgogICAgICAgICAgTWF0aC5yb3VuZCgocG9zaXRpb24gLyBmaWxlRGF0YS5ieXRlTGVuZ3RoKSAqIDEwMCk7CiAgICAgIHBlcmNlbnQudGV4dENvbnRlbnQgPSBgJHtwZXJjZW50RG9uZX0lIGRvbmVgOwoKICAgIH0gd2hpbGUgKHBvc2l0aW9uIDwgZmlsZURhdGEuYnl0ZUxlbmd0aCk7CiAgfQoKICAvLyBBbGwgZG9uZS4KICB5aWVsZCB7CiAgICByZXNwb25zZTogewogICAgICBhY3Rpb246ICdjb21wbGV0ZScsCiAgICB9CiAgfTsKfQoKc2NvcGUuZ29vZ2xlID0gc2NvcGUuZ29vZ2xlIHx8IHt9OwpzY29wZS5nb29nbGUuY29sYWIgPSBzY29wZS5nb29nbGUuY29sYWIgfHwge307CnNjb3BlLmdvb2dsZS5jb2xhYi5fZmlsZXMgPSB7CiAgX3VwbG9hZEZpbGVzLAogIF91cGxvYWRGaWxlc0NvbnRpbnVlLAp9Owp9KShzZWxmKTsK",
              "ok": true,
              "headers": [
                [
                  "content-type",
                  "application/javascript"
                ]
              ],
              "status": 200,
              "status_text": ""
            }
          },
          "base_uri": "https://localhost:8080/",
          "height": 73
        },
        "id": "GCTLb1Jn2q1b",
        "outputId": "e93cb092-ab84-4d36-9c36-35bc7b1cae6a"
      },
      "source": [
        "# Question B1: Download Wage.csv.\n",
        "from google.colab import files\n",
        "uploaded = files.upload()\n",
        "wage_data = pd.read_csv('Wage.csv')"
      ],
      "execution_count": 182,
      "outputs": [
        {
          "output_type": "display_data",
          "data": {
            "text/html": [
              "\n",
              "     <input type=\"file\" id=\"files-cab5e023-26f7-4a48-9ff4-68d27bf8df41\" name=\"files[]\" multiple disabled\n",
              "        style=\"border:none\" />\n",
              "     <output id=\"result-cab5e023-26f7-4a48-9ff4-68d27bf8df41\">\n",
              "      Upload widget is only available when the cell has been executed in the\n",
              "      current browser session. Please rerun this cell to enable.\n",
              "      </output>\n",
              "      <script src=\"/nbextensions/google.colab/files.js\"></script> "
            ],
            "text/plain": [
              "<IPython.core.display.HTML object>"
            ]
          },
          "metadata": {}
        },
        {
          "output_type": "stream",
          "name": "stdout",
          "text": [
            "Saving Wage.csv to Wage (1).csv\n"
          ]
        }
      ]
    },
    {
      "cell_type": "code",
      "metadata": {
        "colab": {
          "base_uri": "https://localhost:8080/",
          "height": 202
        },
        "id": "Ah--0EoF6TWx",
        "outputId": "684512a5-31c5-4edb-96e4-20f8f5708f74"
      },
      "source": [
        "# Question B1: Do some data exploration on 'Wage.csv'.\n",
        "wage_data.head()"
      ],
      "execution_count": 183,
      "outputs": [
        {
          "output_type": "execute_result",
          "data": {
            "text/html": [
              "<div>\n",
              "<style scoped>\n",
              "    .dataframe tbody tr th:only-of-type {\n",
              "        vertical-align: middle;\n",
              "    }\n",
              "\n",
              "    .dataframe tbody tr th {\n",
              "        vertical-align: top;\n",
              "    }\n",
              "\n",
              "    .dataframe thead th {\n",
              "        text-align: right;\n",
              "    }\n",
              "</style>\n",
              "<table border=\"1\" class=\"dataframe\">\n",
              "  <thead>\n",
              "    <tr style=\"text-align: right;\">\n",
              "      <th></th>\n",
              "      <th>Unnamed: 0</th>\n",
              "      <th>year</th>\n",
              "      <th>age</th>\n",
              "      <th>sex</th>\n",
              "      <th>maritl</th>\n",
              "      <th>race</th>\n",
              "      <th>education</th>\n",
              "      <th>region</th>\n",
              "      <th>jobclass</th>\n",
              "      <th>health</th>\n",
              "      <th>health_ins</th>\n",
              "      <th>logwage</th>\n",
              "      <th>wage</th>\n",
              "    </tr>\n",
              "  </thead>\n",
              "  <tbody>\n",
              "    <tr>\n",
              "      <th>0</th>\n",
              "      <td>231655</td>\n",
              "      <td>2006</td>\n",
              "      <td>18</td>\n",
              "      <td>1. Male</td>\n",
              "      <td>1. Never Married</td>\n",
              "      <td>1. White</td>\n",
              "      <td>1. &lt; HS Grad</td>\n",
              "      <td>2. Middle Atlantic</td>\n",
              "      <td>1. Industrial</td>\n",
              "      <td>1. &lt;=Good</td>\n",
              "      <td>2. No</td>\n",
              "      <td>4.318063</td>\n",
              "      <td>75.043154</td>\n",
              "    </tr>\n",
              "    <tr>\n",
              "      <th>1</th>\n",
              "      <td>86582</td>\n",
              "      <td>2004</td>\n",
              "      <td>24</td>\n",
              "      <td>1. Male</td>\n",
              "      <td>1. Never Married</td>\n",
              "      <td>1. White</td>\n",
              "      <td>4. College Grad</td>\n",
              "      <td>2. Middle Atlantic</td>\n",
              "      <td>2. Information</td>\n",
              "      <td>2. &gt;=Very Good</td>\n",
              "      <td>2. No</td>\n",
              "      <td>4.255273</td>\n",
              "      <td>70.476020</td>\n",
              "    </tr>\n",
              "    <tr>\n",
              "      <th>2</th>\n",
              "      <td>161300</td>\n",
              "      <td>2003</td>\n",
              "      <td>45</td>\n",
              "      <td>1. Male</td>\n",
              "      <td>2. Married</td>\n",
              "      <td>1. White</td>\n",
              "      <td>3. Some College</td>\n",
              "      <td>2. Middle Atlantic</td>\n",
              "      <td>1. Industrial</td>\n",
              "      <td>1. &lt;=Good</td>\n",
              "      <td>1. Yes</td>\n",
              "      <td>4.875061</td>\n",
              "      <td>130.982177</td>\n",
              "    </tr>\n",
              "    <tr>\n",
              "      <th>3</th>\n",
              "      <td>155159</td>\n",
              "      <td>2003</td>\n",
              "      <td>43</td>\n",
              "      <td>1. Male</td>\n",
              "      <td>2. Married</td>\n",
              "      <td>3. Asian</td>\n",
              "      <td>4. College Grad</td>\n",
              "      <td>2. Middle Atlantic</td>\n",
              "      <td>2. Information</td>\n",
              "      <td>2. &gt;=Very Good</td>\n",
              "      <td>1. Yes</td>\n",
              "      <td>5.041393</td>\n",
              "      <td>154.685293</td>\n",
              "    </tr>\n",
              "    <tr>\n",
              "      <th>4</th>\n",
              "      <td>11443</td>\n",
              "      <td>2005</td>\n",
              "      <td>50</td>\n",
              "      <td>1. Male</td>\n",
              "      <td>4. Divorced</td>\n",
              "      <td>1. White</td>\n",
              "      <td>2. HS Grad</td>\n",
              "      <td>2. Middle Atlantic</td>\n",
              "      <td>2. Information</td>\n",
              "      <td>1. &lt;=Good</td>\n",
              "      <td>1. Yes</td>\n",
              "      <td>4.318063</td>\n",
              "      <td>75.043154</td>\n",
              "    </tr>\n",
              "  </tbody>\n",
              "</table>\n",
              "</div>"
            ],
            "text/plain": [
              "   Unnamed: 0  year  age  ... health_ins   logwage        wage\n",
              "0      231655  2006   18  ...      2. No  4.318063   75.043154\n",
              "1       86582  2004   24  ...      2. No  4.255273   70.476020\n",
              "2      161300  2003   45  ...     1. Yes  4.875061  130.982177\n",
              "3      155159  2003   43  ...     1. Yes  5.041393  154.685293\n",
              "4       11443  2005   50  ...     1. Yes  4.318063   75.043154\n",
              "\n",
              "[5 rows x 13 columns]"
            ]
          },
          "metadata": {},
          "execution_count": 183
        }
      ]
    },
    {
      "cell_type": "code",
      "metadata": {
        "colab": {
          "base_uri": "https://localhost:8080/"
        },
        "id": "Fk8Ny9V_868i",
        "outputId": "fd49afe3-c6cb-4fcd-86a0-494c98f56837"
      },
      "source": [
        "wage_data.shape"
      ],
      "execution_count": 185,
      "outputs": [
        {
          "output_type": "execute_result",
          "data": {
            "text/plain": [
              "(3000, 13)"
            ]
          },
          "metadata": {},
          "execution_count": 185
        }
      ]
    },
    {
      "cell_type": "code",
      "metadata": {
        "colab": {
          "base_uri": "https://localhost:8080/"
        },
        "id": "MSHQ6RgL8_VQ",
        "outputId": "36f957a7-4e24-4980-e969-b7a1b32c7b3b"
      },
      "source": [
        "wage_data.dtypes"
      ],
      "execution_count": 186,
      "outputs": [
        {
          "output_type": "execute_result",
          "data": {
            "text/plain": [
              "Unnamed: 0      int64\n",
              "year            int64\n",
              "age             int64\n",
              "sex            object\n",
              "maritl         object\n",
              "race           object\n",
              "education      object\n",
              "region         object\n",
              "jobclass       object\n",
              "health         object\n",
              "health_ins     object\n",
              "logwage       float64\n",
              "wage          float64\n",
              "dtype: object"
            ]
          },
          "metadata": {},
          "execution_count": 186
        }
      ]
    },
    {
      "cell_type": "code",
      "metadata": {
        "id": "oeELH0j4-YQe",
        "colab": {
          "base_uri": "https://localhost:8080/",
          "height": 385
        },
        "outputId": "af83a60e-7d18-49f7-8df3-a66cdedd833c"
      },
      "source": [
        "wage_data.describe(include = 'all')"
      ],
      "execution_count": 187,
      "outputs": [
        {
          "output_type": "execute_result",
          "data": {
            "text/html": [
              "<div>\n",
              "<style scoped>\n",
              "    .dataframe tbody tr th:only-of-type {\n",
              "        vertical-align: middle;\n",
              "    }\n",
              "\n",
              "    .dataframe tbody tr th {\n",
              "        vertical-align: top;\n",
              "    }\n",
              "\n",
              "    .dataframe thead th {\n",
              "        text-align: right;\n",
              "    }\n",
              "</style>\n",
              "<table border=\"1\" class=\"dataframe\">\n",
              "  <thead>\n",
              "    <tr style=\"text-align: right;\">\n",
              "      <th></th>\n",
              "      <th>Unnamed: 0</th>\n",
              "      <th>year</th>\n",
              "      <th>age</th>\n",
              "      <th>sex</th>\n",
              "      <th>maritl</th>\n",
              "      <th>race</th>\n",
              "      <th>education</th>\n",
              "      <th>region</th>\n",
              "      <th>jobclass</th>\n",
              "      <th>health</th>\n",
              "      <th>health_ins</th>\n",
              "      <th>logwage</th>\n",
              "      <th>wage</th>\n",
              "    </tr>\n",
              "  </thead>\n",
              "  <tbody>\n",
              "    <tr>\n",
              "      <th>count</th>\n",
              "      <td>3000.000000</td>\n",
              "      <td>3000.000000</td>\n",
              "      <td>3000.000000</td>\n",
              "      <td>3000</td>\n",
              "      <td>3000</td>\n",
              "      <td>3000</td>\n",
              "      <td>3000</td>\n",
              "      <td>3000</td>\n",
              "      <td>3000</td>\n",
              "      <td>3000</td>\n",
              "      <td>3000</td>\n",
              "      <td>3000.000000</td>\n",
              "      <td>3000.000000</td>\n",
              "    </tr>\n",
              "    <tr>\n",
              "      <th>unique</th>\n",
              "      <td>NaN</td>\n",
              "      <td>NaN</td>\n",
              "      <td>NaN</td>\n",
              "      <td>1</td>\n",
              "      <td>5</td>\n",
              "      <td>4</td>\n",
              "      <td>5</td>\n",
              "      <td>1</td>\n",
              "      <td>2</td>\n",
              "      <td>2</td>\n",
              "      <td>2</td>\n",
              "      <td>NaN</td>\n",
              "      <td>NaN</td>\n",
              "    </tr>\n",
              "    <tr>\n",
              "      <th>top</th>\n",
              "      <td>NaN</td>\n",
              "      <td>NaN</td>\n",
              "      <td>NaN</td>\n",
              "      <td>1. Male</td>\n",
              "      <td>2. Married</td>\n",
              "      <td>1. White</td>\n",
              "      <td>2. HS Grad</td>\n",
              "      <td>2. Middle Atlantic</td>\n",
              "      <td>1. Industrial</td>\n",
              "      <td>2. &gt;=Very Good</td>\n",
              "      <td>1. Yes</td>\n",
              "      <td>NaN</td>\n",
              "      <td>NaN</td>\n",
              "    </tr>\n",
              "    <tr>\n",
              "      <th>freq</th>\n",
              "      <td>NaN</td>\n",
              "      <td>NaN</td>\n",
              "      <td>NaN</td>\n",
              "      <td>3000</td>\n",
              "      <td>2074</td>\n",
              "      <td>2480</td>\n",
              "      <td>971</td>\n",
              "      <td>3000</td>\n",
              "      <td>1544</td>\n",
              "      <td>2142</td>\n",
              "      <td>2083</td>\n",
              "      <td>NaN</td>\n",
              "      <td>NaN</td>\n",
              "    </tr>\n",
              "    <tr>\n",
              "      <th>mean</th>\n",
              "      <td>218883.373000</td>\n",
              "      <td>2005.791000</td>\n",
              "      <td>42.414667</td>\n",
              "      <td>NaN</td>\n",
              "      <td>NaN</td>\n",
              "      <td>NaN</td>\n",
              "      <td>NaN</td>\n",
              "      <td>NaN</td>\n",
              "      <td>NaN</td>\n",
              "      <td>NaN</td>\n",
              "      <td>NaN</td>\n",
              "      <td>4.653905</td>\n",
              "      <td>111.703608</td>\n",
              "    </tr>\n",
              "    <tr>\n",
              "      <th>std</th>\n",
              "      <td>145654.072587</td>\n",
              "      <td>2.026167</td>\n",
              "      <td>11.542406</td>\n",
              "      <td>NaN</td>\n",
              "      <td>NaN</td>\n",
              "      <td>NaN</td>\n",
              "      <td>NaN</td>\n",
              "      <td>NaN</td>\n",
              "      <td>NaN</td>\n",
              "      <td>NaN</td>\n",
              "      <td>NaN</td>\n",
              "      <td>0.351753</td>\n",
              "      <td>41.728595</td>\n",
              "    </tr>\n",
              "    <tr>\n",
              "      <th>min</th>\n",
              "      <td>7373.000000</td>\n",
              "      <td>2003.000000</td>\n",
              "      <td>18.000000</td>\n",
              "      <td>NaN</td>\n",
              "      <td>NaN</td>\n",
              "      <td>NaN</td>\n",
              "      <td>NaN</td>\n",
              "      <td>NaN</td>\n",
              "      <td>NaN</td>\n",
              "      <td>NaN</td>\n",
              "      <td>NaN</td>\n",
              "      <td>3.000000</td>\n",
              "      <td>20.085537</td>\n",
              "    </tr>\n",
              "    <tr>\n",
              "      <th>25%</th>\n",
              "      <td>85622.250000</td>\n",
              "      <td>2004.000000</td>\n",
              "      <td>33.750000</td>\n",
              "      <td>NaN</td>\n",
              "      <td>NaN</td>\n",
              "      <td>NaN</td>\n",
              "      <td>NaN</td>\n",
              "      <td>NaN</td>\n",
              "      <td>NaN</td>\n",
              "      <td>NaN</td>\n",
              "      <td>NaN</td>\n",
              "      <td>4.447158</td>\n",
              "      <td>85.383940</td>\n",
              "    </tr>\n",
              "    <tr>\n",
              "      <th>50%</th>\n",
              "      <td>228799.500000</td>\n",
              "      <td>2006.000000</td>\n",
              "      <td>42.000000</td>\n",
              "      <td>NaN</td>\n",
              "      <td>NaN</td>\n",
              "      <td>NaN</td>\n",
              "      <td>NaN</td>\n",
              "      <td>NaN</td>\n",
              "      <td>NaN</td>\n",
              "      <td>NaN</td>\n",
              "      <td>NaN</td>\n",
              "      <td>4.653213</td>\n",
              "      <td>104.921507</td>\n",
              "    </tr>\n",
              "    <tr>\n",
              "      <th>75%</th>\n",
              "      <td>374759.500000</td>\n",
              "      <td>2008.000000</td>\n",
              "      <td>51.000000</td>\n",
              "      <td>NaN</td>\n",
              "      <td>NaN</td>\n",
              "      <td>NaN</td>\n",
              "      <td>NaN</td>\n",
              "      <td>NaN</td>\n",
              "      <td>NaN</td>\n",
              "      <td>NaN</td>\n",
              "      <td>NaN</td>\n",
              "      <td>4.857332</td>\n",
              "      <td>128.680488</td>\n",
              "    </tr>\n",
              "    <tr>\n",
              "      <th>max</th>\n",
              "      <td>453870.000000</td>\n",
              "      <td>2009.000000</td>\n",
              "      <td>80.000000</td>\n",
              "      <td>NaN</td>\n",
              "      <td>NaN</td>\n",
              "      <td>NaN</td>\n",
              "      <td>NaN</td>\n",
              "      <td>NaN</td>\n",
              "      <td>NaN</td>\n",
              "      <td>NaN</td>\n",
              "      <td>NaN</td>\n",
              "      <td>5.763128</td>\n",
              "      <td>318.342430</td>\n",
              "    </tr>\n",
              "  </tbody>\n",
              "</table>\n",
              "</div>"
            ],
            "text/plain": [
              "           Unnamed: 0         year  ...      logwage         wage\n",
              "count     3000.000000  3000.000000  ...  3000.000000  3000.000000\n",
              "unique            NaN          NaN  ...          NaN          NaN\n",
              "top               NaN          NaN  ...          NaN          NaN\n",
              "freq              NaN          NaN  ...          NaN          NaN\n",
              "mean    218883.373000  2005.791000  ...     4.653905   111.703608\n",
              "std     145654.072587     2.026167  ...     0.351753    41.728595\n",
              "min       7373.000000  2003.000000  ...     3.000000    20.085537\n",
              "25%      85622.250000  2004.000000  ...     4.447158    85.383940\n",
              "50%     228799.500000  2006.000000  ...     4.653213   104.921507\n",
              "75%     374759.500000  2008.000000  ...     4.857332   128.680488\n",
              "max     453870.000000  2009.000000  ...     5.763128   318.342430\n",
              "\n",
              "[11 rows x 13 columns]"
            ]
          },
          "metadata": {},
          "execution_count": 187
        }
      ]
    },
    {
      "cell_type": "code",
      "metadata": {
        "id": "duzOBrW59CSR"
      },
      "source": [
        "# Question B1: Extract necessary columns.\n",
        "data_x = wage_data['age']\n",
        "data_y = wage_data['wage']"
      ],
      "execution_count": 209,
      "outputs": []
    },
    {
      "cell_type": "code",
      "metadata": {
        "colab": {
          "base_uri": "https://localhost:8080/"
        },
        "id": "uOrTzGz8x0uF",
        "outputId": "b51bb7b1-cceb-4c63-ee07-d01816eb397d"
      },
      "source": [
        "data_x.index"
      ],
      "execution_count": 256,
      "outputs": [
        {
          "output_type": "execute_result",
          "data": {
            "text/plain": [
              "RangeIndex(start=0, stop=3000, step=1)"
            ]
          },
          "metadata": {},
          "execution_count": 256
        }
      ]
    },
    {
      "cell_type": "code",
      "metadata": {
        "colab": {
          "base_uri": "https://localhost:8080/",
          "height": 284
        },
        "id": "yrM6qP_EJVam",
        "outputId": "4c64b810-8ea6-48d1-b3c1-52b9131c9be7"
      },
      "source": [
        "# Querstion B1: Plot data.\n",
        "plt.scatter(data_x, data_y)\n",
        "plt.xlabel('Age')\n",
        "plt.ylabel('Wage')\n",
        "plt.show();"
      ],
      "execution_count": 210,
      "outputs": [
        {
          "output_type": "display_data",
          "data": {
            "image/png": "[encoded data removed]",
            "text/plain": [
              "<Figure size 432x288 with 1 Axes>"
            ]
          },
          "metadata": {
            "needs_background": "light"
          }
        }
      ]
    },
    {
      "cell_type": "code",
      "metadata": {
        "id": "ogbVD9VUxX6D"
      },
      "source": [
        "# Question B1: Split the dataset into training (70%) and test sets (30%). 'B1' is for 'Question B1'. \n",
        "from sklearn.model_selection import train_test_split\n",
        "X_train_B1, X_test_B1, y_train_B1, y_test_B1 = train_test_split(data_x, data_y, test_size = 0.3, random_state = 12)"
      ],
      "execution_count": 190,
      "outputs": []
    },
    {
      "cell_type": "code",
      "metadata": {
        "id": "t5M-XaczzWEC",
        "colab": {
          "base_uri": "https://localhost:8080/"
        },
        "outputId": "4d66fcef-25ed-42e6-8a3b-00a4fe13cf5f"
      },
      "source": [
        "# Question B1: Perform polynomial regression using 5-fold cross validation to find optimal degree.\n",
        "from sklearn.preprocessing import PolynomialFeatures\n",
        "from sklearn.model_selection import KFold\n",
        "from sklearn.metrics import mean_squared_error\n",
        "import statsmodels.api as sm\n",
        "\n",
        "k = 5\n",
        "kf_5 = KFold(n_splits = k, random_state = 12, shuffle = True)\n",
        "degree_nth_list = np.arange(2, 19)\n",
        "\n",
        "X_B1 = np.array(X_train_B1).reshape(-1, 1)\n",
        "y_B1 = np.array(y_train_B1)\n",
        "\n",
        "X_test = np.array(X_test_B1).reshape(-1, 1)\n",
        "y_test = np.array(y_test_B1) \n",
        "\n",
        "poly_avg_mse_CV_list = []\n",
        "poly_avg_mse_test_list = []\n",
        "\n",
        "for degree_nth in degree_nth_list:\n",
        "  print(f\"Degree of Polynomial: {degree_nth}\")\n",
        "  polynomial_model = PolynomialFeatures(degree = degree_nth)\n",
        "\n",
        "  poly_mse_CV_list = []\n",
        "  poly_mse_test_list = []\n",
        "\n",
        "  for train_index, test_index in kf_5.split(X):\n",
        "    X_train_B1_CV, X_test_B1_CV = X_B1[train_index], X_B1[test_index]\n",
        "    y_train_B1_CV, y_test_B1_CV = y_B1[train_index], y_B1[test_index]\n",
        "\n",
        "    X_poly = polynomial_model.fit_transform(X_train_B1_CV)\n",
        "    model_poly = sm.OLS(y_train_B1_CV, X_poly).fit()\n",
        "    print(f\"Polynomial Coefficients: {model_poly.params}\")\n",
        "\n",
        "    X_poly_pred_B1_CV = polynomial_model.fit_transform(X_test_B1_CV)\n",
        "    y_pred_B1_CV = model_poly.predict(X_poly_pred_B1_CV)\n",
        "    poly_mse_CV = mean_squared_error(y_test_B1_CV, y_pred_B1_CV)\n",
        "    poly_mse_CV_list.append(poly_mse_CV)\n",
        "\n",
        "    X_poly_pred_B1_test = polynomial_model.fit_transform(X_test)\n",
        "    y_pred_B1_test = model_poly.predict(X_poly_pred_B1_test)\n",
        "    poly_mse_test = mean_squared_error(y_test, y_pred_B1_test)\n",
        "    poly_mse_test_list.append(poly_mse_test)\n",
        "\n",
        "  poly_avg_mse_CV = sum(poly_mse_CV_list)/len(poly_mse_CV_list)\n",
        "  poly_avg_mse_CV_list.append(poly_avg_mse_CV)\n",
        "\n",
        "  poly_avg_mse_test = sum(poly_mse_test_list)/len(poly_mse_test_list)\n",
        "  poly_avg_mse_test_list.append(poly_avg_mse_test)\n",
        "\n",
        "print(f\"CV-mse: {poly_avg_mse_CV_list}\")\n",
        "print(f\"test-mse: {poly_avg_mse_test_list}\")"
      ],
      "execution_count": 216,
      "outputs": [
        {
          "output_type": "stream",
          "name": "stdout",
          "text": [
            "Degree of Polynomial: 2\n",
            "Polynomial Coefficients: [-8.81372466  5.22420533 -0.05271101]\n",
            "Polynomial Coefficients: [-3.55485265  4.98894032 -0.05026195]\n",
            "Polynomial Coefficients: [-6.79383993  5.15447183 -0.05195235]\n",
            "Polynomial Coefficients: [-8.53306885  5.09949259 -0.05045453]\n",
            "Polynomial Coefficients: [-11.54102471   5.40830384  -0.054734  ]\n",
            "Degree of Polynomial: 3\n",
            "Polynomial Coefficients: [-8.56270167e+01  1.11126992e+01 -1.93241241e-01  1.05521882e-03]\n",
            "Polynomial Coefficients: [-7.13001964e+01  1.01244606e+01 -1.71324110e-01  8.96995328e-04]\n",
            "Polynomial Coefficients: [-8.16007631e+01  1.08499095e+01 -1.86869217e-01  1.00513003e-03]\n",
            "Polynomial Coefficients: [-7.08985898e+01  9.80754575e+00 -1.61053494e-01  8.16654867e-04]\n",
            "Polynomial Coefficients: [-9.54862873e+01  1.17470368e+01 -2.03728759e-01  1.10151138e-03]\n",
            "Degree of Polynomial: 4\n",
            "Polynomial Coefficients: [-2.25472831e+02  2.54992405e+01 -7.15642889e-01  9.04224555e-03\n",
            " -4.36376872e-05]\n",
            "Polynomial Coefficients: [-2.26109287e+02  2.58503578e+01 -7.34129842e-01  9.36272358e-03\n",
            " -4.54259331e-05]\n",
            "Polynomial Coefficients: [-2.42340888e+02  2.72427917e+01 -7.76514761e-01  9.92639180e-03\n",
            " -4.81705783e-05]\n",
            "Polynomial Coefficients: [-1.91991445e+02  2.20798042e+01 -5.99468706e-01  7.40082745e-03\n",
            " -3.52723139e-05]\n",
            "Polynomial Coefficients: [-2.18153264e+02  2.41243038e+01 -6.44465702e-01  7.70513821e-03\n",
            " -3.53193710e-05]\n",
            "Degree of Polynomial: 5\n",
            "Polynomial Coefficients: [-1.01906145e+02  9.49406308e+00  7.12626710e-02 -9.38723941e-03\n",
            "  1.62802712e-04 -8.88164780e-07]\n",
            "Polynomial Coefficients: [-1.53079107e+02  1.64939092e+01 -2.79730597e-01 -1.13610726e-03\n",
            "  7.04459285e-05 -4.90501272e-07]\n",
            "Polynomial Coefficients: [-2.08918364e+01 -1.33643743e+00  6.22209382e-01 -2.26449905e-02\n",
            "  3.14116392e-04 -1.54536693e-06]\n",
            "Polynomial Coefficients: [-3.69003614e+01  2.25088732e+00  3.61784489e-01 -1.47727199e-02\n",
            "  2.09083499e-04 -1.03294221e-06]\n",
            "Polynomial Coefficients: [-5.32898518e+01  3.14852578e+00  3.68554777e-01 -1.55902346e-02\n",
            "  2.20709719e-04 -1.07962214e-06]\n",
            "Degree of Polynomial: 6\n",
            "Polynomial Coefficients: [ 1.86577683e+02 -3.54633330e+01  2.85939726e+00 -9.76975487e-02\n",
            "  1.67397114e-03 -1.41744107e-05  4.70231778e-08]\n",
            "Polynomial Coefficients: [ 3.62210544e+02 -6.32124734e+01  4.62267519e+00 -1.55006605e-01\n",
            "  2.67748825e-03 -2.31664517e-05  7.93280844e-08]\n",
            "Polynomial Coefficients: [ 4.92461670e+02 -8.13056990e+01  5.57602432e+00 -1.79253994e-01\n",
            "  2.98698050e-03 -2.49658340e-05  8.25430788e-08]\n",
            "Polynomial Coefficients: [ 4.24584423e+02 -6.90435862e+01  4.74205513e+00 -1.52125868e-01\n",
            "  2.53431208e-03 -2.12418165e-05  7.06444134e-08]\n",
            "Polynomial Coefficients: [ 6.40586612e+02 -1.03567449e+02  6.90373695e+00 -2.20040199e-01\n",
            "  3.67626613e-03 -3.10799857e-05  1.04795772e-07]\n",
            "Degree of Polynomial: 7\n",
            "Polynomial Coefficients: [ 3.53996164e-01  1.97029071e+00 -2.01663108e-01  3.46514822e-02\n",
            " -1.60436049e-03  3.25105262e-05 -3.08077379e-07  1.11652721e-09]\n",
            "Polynomial Coefficients: [ 1.29556460e+00  7.21413822e+00 -9.86898843e-01  8.18762240e-02\n",
            " -3.06544605e-03  5.70060827e-05 -5.19213792e-07  1.84881627e-09]\n",
            "Polynomial Coefficients: [ 2.93551187e+00  1.62898311e+01 -2.34279359e+00  1.60597223e-01\n",
            " -5.37118749e-03  9.32269027e-05 -8.10243622e-07  2.78766156e-09]\n",
            "Polynomial Coefficients: [ 1.97355725e+00  1.10031415e+01 -1.47364959e+00  1.04760293e-01\n",
            " -3.58140964e-03  6.28350445e-05 -5.48949064e-07  1.89285766e-09]\n",
            "Polynomial Coefficients: [ 2.49793115e+00  1.39779370e+01 -2.00240159e+00  1.40224170e-01\n",
            " -4.74225934e-03  8.28040524e-05 -7.22850174e-07  2.49821204e-09]\n",
            "Degree of Polynomial: 8\n",
            "Polynomial Coefficients: [ 5.19688232e-03  5.13269171e-02  3.01898997e-01 -1.26322869e-02\n",
            "  6.07105590e-04 -2.48081944e-05  5.29115346e-07 -5.33346021e-09\n",
            "  2.03767081e-11]\n",
            "Polynomial Coefficients: [ 7.62872765e-03  7.63725610e-02  4.44346883e-01 -3.22913840e-02\n",
            "  1.71126290e-03 -5.70867973e-05  1.04534572e-06 -9.60928373e-09\n",
            "  3.47064143e-11]\n",
            "Polynomial Coefficients: [ 1.31091395e-02  1.29789405e-01  7.58601131e-01 -7.86923332e-02\n",
            "  4.38582052e-03 -1.35173498e-04  2.27253993e-06 -1.95080389e-08\n",
            "  6.68681193e-11]\n",
            "Polynomial Coefficients: [ 1.02930110e-02  1.03519866e-01  6.00879726e-01 -5.42297804e-02\n",
            "  2.86509578e-03 -8.73457305e-05  1.46953487e-06 -1.26501003e-08\n",
            "  4.34639338e-11]\n",
            "Polynomial Coefficients: [ 7.29660611e-03  7.33008589e-02  4.29430788e-01 -3.30627930e-02\n",
            "  1.85450629e-03 -6.26973345e-05  1.14199966e-06 -1.03934226e-08\n",
            "  3.71626449e-11]\n",
            "Degree of Polynomial: 9\n",
            "Polynomial Coefficients: [ 4.88025226e-05  6.18333395e-04  6.80673997e-03  4.17259735e-02\n",
            " -3.42246796e-03  1.33316452e-04 -3.04146083e-06  4.12795696e-08\n",
            " -3.06607527e-10  9.53843550e-13]\n",
            "Polynomial Coefficients: [ 5.28458802e-05  8.49160124e-04  7.40202748e-03  4.54548596e-02\n",
            " -3.89119751e-03  1.57601520e-04 -3.70487545e-06  5.13109343e-08\n",
            " -3.85924493e-10  1.20951425e-12]\n",
            "Polynomial Coefficients: [ 6.07668486e-05  8.38288547e-04  8.49524800e-03  5.21323620e-02\n",
            " -4.88501936e-03  2.15068568e-04 -5.38314654e-06  7.76506784e-08\n",
            " -5.97936091e-10  1.89674234e-12]\n",
            "Polynomial Coefficients: [ 5.72474338e-05  7.34044720e-04  8.06171750e-03  4.96138336e-02\n",
            " -4.52063817e-03  1.92570064e-04 -4.66628432e-06  6.54177999e-08\n",
            " -4.91936191e-10  1.53069596e-12]\n",
            "Polynomial Coefficients: [ 3.99226925e-05  4.09341765e-04  5.65610942e-03  3.49128270e-02\n",
            " -2.61024750e-03  9.47003267e-05 -2.08842491e-06  2.83208195e-08\n",
            " -2.14285095e-10  6.84183726e-13]\n",
            "Degree of Polynomial: 10\n",
            "Polynomial Coefficients: [ 1.92819931e-07  4.21593167e-05  4.46303491e-05  4.89343817e-04\n",
            "  3.15116087e-03 -2.96595813e-04  1.20697879e-05 -2.68301122e-07\n",
            "  3.40035191e-09 -2.31223895e-11  6.55567771e-14]\n",
            "Polynomial Coefficients: [ 2.00121275e-07 -1.91259956e-05  4.63570044e-05  5.08070713e-04\n",
            "  3.26960315e-03 -3.10408532e-04  1.27341035e-05 -2.85218939e-07\n",
            "  3.64040790e-09 -2.49167178e-11  7.10629488e-14]\n",
            "Polynomial Coefficients: [ 2.00565731e-07  1.79472826e-06  4.66126061e-05  5.10729453e-04\n",
            "  3.29149078e-03 -3.16528851e-04  1.31987973e-05 -3.01014631e-07\n",
            "  3.91293069e-09 -2.72530123e-11  7.89756239e-14]\n",
            "Polynomial Coefficients: [ 1.98551574e-07 -1.29009611e-05  4.63372674e-05  5.09428133e-04\n",
            "  3.28960297e-03 -3.17099300e-04  1.32092208e-05 -2.99982824e-07\n",
            "  3.87352585e-09 -2.67565150e-11  7.68376666e-14]\n",
            "Polynomial Coefficients: [ 1.59235304e-07  3.11263100e-05  3.73653960e-05  4.11061636e-04\n",
            "  2.65771390e-03 -2.36269477e-04  9.11587407e-06 -1.93278312e-07\n",
            "  2.35313519e-09 -1.54843293e-11  4.27722117e-14]\n",
            "Degree of Polynomial: 11\n",
            "Polynomial Coefficients: [ 4.29161778e-10 -1.23259631e-06  1.42689601e-07  2.12266709e-06\n",
            "  2.45332172e-05  1.66097321e-04 -1.62195431e-05  6.66632869e-07\n",
            " -1.47010185e-08  1.82668169e-10 -1.20882496e-12  3.32127423e-15]\n",
            "Polynomial Coefficients: [ 4.51860406e-10  5.03811513e-06  1.43535435e-07  2.21575491e-06\n",
            "  2.55157256e-05  1.72056189e-04 -1.69062605e-05  6.98949173e-07\n",
            " -1.55004412e-08  1.93639270e-10 -1.28800437e-12  3.55595566e-15]\n",
            "Polynomial Coefficients: [ 4.27502922e-10 -4.49745409e-07  1.45517132e-07  2.11708281e-06\n",
            "  2.44655768e-05  1.65582027e-04 -1.62037870e-05  6.68471226e-07\n",
            " -1.48167351e-08  1.85237406e-10 -1.23421254e-12  3.41545613e-15]\n",
            "Polynomial Coefficients: [ 4.26300743e-10  2.79854908e-06  1.38130539e-07  2.12144245e-06\n",
            "  2.45504726e-05  1.66372931e-04 -1.63713125e-05  6.78320494e-07\n",
            " -1.50803065e-08  1.88856192e-10 -1.25905923e-12  3.48302950e-15]\n",
            "Polynomial Coefficients: [ 3.79340676e-10  1.24156316e-06  1.29964685e-07  1.89457023e-06\n",
            "  2.19325331e-05  1.48669551e-04 -1.41299339e-05  5.66024401e-07\n",
            " -1.21854779e-08  1.48071079e-10 -9.60005060e-13  2.58880959e-15]\n",
            "Degree of Polynomial: 12\n",
            "Polynomial Coefficients: [ 9.44633373e-17  2.75505614e-11  5.72657017e-14  1.61311761e-12\n",
            "  3.61311020e-11  7.00028486e-10  1.05659095e-08  9.47617052e-08\n",
            " -7.45224072e-09  2.33462716e-10 -3.64323130e-12  2.82952924e-14\n",
            " -8.74376196e-17]\n",
            "Polynomial Coefficients: [ 9.75600290e-17  8.11846809e-12 -3.06710126e-14  1.65950234e-12\n",
            "  3.71016840e-11  7.17133003e-10  1.07942728e-08  9.65059995e-08\n",
            " -7.60691100e-09  2.38807046e-10 -3.73366145e-12  2.90460444e-14\n",
            " -8.98867766e-17]\n",
            "Polynomial Coefficients: [ 9.67827043e-17  1.53596305e-11  6.33915987e-14  1.64442512e-12\n",
            "  3.67619505e-11  7.10899844e-10  1.07100403e-08  9.58812614e-08\n",
            " -7.52834443e-09  2.35371017e-10 -3.66419289e-12  2.83801972e-14\n",
            " -8.74345157e-17]\n",
            "Polynomial Coefficients: [ 8.90357385e-17 -1.23757653e-11  5.30235780e-14  1.53421773e-12\n",
            "  3.44365704e-11  6.68251750e-10  1.00985092e-08  9.06518770e-08\n",
            " -7.10122278e-09  2.21637676e-10 -3.44625233e-12  2.66717044e-14\n",
            " -8.21380711e-17]\n",
            "Polynomial Coefficients: [ 9.70871137e-17  3.16253322e-11  1.19347949e-13  1.65879483e-12\n",
            "  3.71453509e-11  7.19509787e-10  1.08569666e-08  9.73427812e-08\n",
            " -7.66667101e-09  2.40526756e-10 -3.75864725e-12  2.92294812e-14\n",
            " -9.04312540e-17]\n",
            "Degree of Polynomial: 13\n",
            "Polynomial Coefficients: [ 6.08307253e-20 -1.05329620e-12 -5.22866897e-16  1.39066525e-15\n",
            "  3.59623668e-14  8.44064659e-13  1.70643776e-11  2.67763005e-10\n",
            "  2.48851254e-09 -1.93781649e-10  6.00342631e-12 -9.25912837e-14\n",
            "  7.10640193e-16 -2.17051214e-18]\n",
            "Polynomial Coefficients: [ 6.52671737e-20  1.59546209e-13  1.54699103e-15  1.48289370e-15\n",
            "  3.80504932e-14  8.88946448e-13  1.78815794e-11  2.79077546e-10\n",
            "  2.57884595e-09 -2.01698487e-10  6.27505893e-12 -9.71729127e-14\n",
            "  7.48690074e-16 -2.29510648e-18]\n",
            "Polynomial Coefficients: [ 6.39803056e-20 -1.91098191e-14  2.21833515e-15  1.45357542e-15\n",
            "  3.73721270e-14  8.74819628e-13  1.76421375e-11  2.76185803e-10\n",
            "  2.56121602e-09 -1.99619997e-10  6.18736912e-12 -9.54417422e-14\n",
            "  7.32381743e-16 -2.23583523e-18]\n",
            "Polynomial Coefficients: [ 5.88952053e-20  2.66254062e-13  1.18708947e-15  1.35064637e-15\n",
            "  3.49831789e-14  8.21137997e-13  1.65973922e-11  2.60325838e-10\n",
            "  2.41800109e-09 -1.87918301e-10  5.81069323e-12 -8.94527366e-14\n",
            "  6.85305587e-16 -2.08938799e-18]\n",
            "Polynomial Coefficients: [ 6.33200678e-20  6.27667287e-13 -1.77869221e-15  1.45107340e-15\n",
            "  3.73287842e-14  8.75432776e-13  1.76846855e-11  2.77287442e-10\n",
            "  2.57517190e-09 -2.00900189e-10  6.23498857e-12 -9.63265901e-14\n",
            "  7.40512986e-16 -2.26523217e-18]\n",
            "Degree of Polynomial: 14\n",
            "Polynomial Coefficients: [ 3.29122880e-23  1.15310989e-14  1.03246064e-17  1.02552968e-18\n",
            "  2.77457776e-17  7.47532383e-16  1.82441788e-14  3.82211370e-13\n",
            "  6.19586016e-12  5.93307100e-11 -4.56758043e-12  1.39825789e-13\n",
            " -2.13068724e-15  1.61594909e-17 -4.87877232e-20]\n",
            "Polynomial Coefficients: [ 3.69345375e-23  1.66878214e-15 -1.49760178e-17  1.02863020e-18\n",
            "  3.04403862e-17  8.14678807e-16  1.97445685e-14  4.10657115e-13\n",
            "  6.60738500e-12  6.27860397e-11 -4.86426145e-12  1.49828545e-13\n",
            " -2.29688300e-15  1.75220960e-17 -5.32015571e-20]\n",
            "Polynomial Coefficients: [ 3.48637121e-23  1.21124956e-14  4.45807049e-18  1.15252895e-18\n",
            "  2.90368972e-17  7.80473624e-16  1.90075114e-14  3.97431290e-13\n",
            "  6.43117460e-12  6.14835014e-11 -4.74295438e-12  1.45444954e-13\n",
            " -2.21949680e-15  1.68526154e-17 -5.09264164e-20]\n",
            "Polynomial Coefficients: [ 3.26571469e-23 -5.93076101e-15 -4.54912030e-17  1.00421028e-18\n",
            "  2.75086039e-17  7.40461735e-16  1.80529451e-14  3.77790997e-13\n",
            "  6.11736240e-12  5.85138861e-11 -4.50215318e-12  1.37747538e-13\n",
            " -2.09789220e-15  1.59022833e-17 -4.79854235e-20]\n",
            "Polynomial Coefficients: [ 3.44740343e-23  4.31651624e-14  8.85887926e-17  1.13318892e-18\n",
            "  2.89113574e-17  7.78056994e-16  1.89694675e-14  3.97032326e-13\n",
            "  6.43066070e-12  6.15320482e-11 -4.74567109e-12  1.45531322e-13\n",
            " -2.22137012e-15  1.68746586e-17 -5.10264063e-20]\n",
            "Degree of Polynomial: 15\n",
            "Polynomial Coefficients: [ 1.56955986e-26 -1.10540244e-15 -1.18075028e-18 -1.26017816e-21\n",
            "  1.77432303e-20  5.31412089e-19  1.48306369e-17  3.73766416e-16\n",
            "  8.06376339e-15  1.34291045e-13  1.31834931e-12 -1.00356157e-13\n",
            "  3.03730696e-15 -4.57609540e-17  3.43227120e-19 -1.02516910e-21]\n",
            "Polynomial Coefficients: [ 1.83554045e-26  1.11733155e-15  6.57678227e-19  3.64625891e-21\n",
            "  2.01709318e-20  5.98574829e-19  1.65673174e-17  4.14026118e-16\n",
            "  8.85604197e-15  1.46207046e-13  1.42269049e-12 -1.09152171e-13\n",
            "  3.32907948e-15 -5.05385931e-17  3.81890689e-19 -1.14896555e-21]\n",
            "Polynomial Coefficients: [ 1.64928968e-26 -2.09255560e-16 -1.22370169e-18  1.67204185e-21\n",
            "  1.85020602e-20  5.52800810e-19  1.54076483e-17  3.87863187e-16\n",
            "  8.35925211e-15  1.39080955e-13  1.36418271e-12 -1.04085063e-13\n",
            "  3.15672899e-15 -4.76491934e-17  3.57985075e-19 -1.07081903e-21]\n",
            "Polynomial Coefficients: [ 1.57649987e-26  3.15118900e-15  1.03185799e-19 -2.07745283e-21\n",
            "  1.77763978e-20  5.31329818e-19  1.48124392e-17  3.72930179e-16\n",
            "  8.03821664e-15  1.33752456e-13  1.31206975e-12 -9.98938906e-14\n",
            "  3.02381990e-15 -4.55656085e-17  3.41821390e-19 -1.02114431e-21]\n",
            "Polynomial Coefficients: [ 1.63893841e-26 -2.25002446e-15  5.61199687e-19 -3.51797532e-21\n",
            "  1.84476986e-20  5.51047261e-19  1.53645800e-17  3.86923383e-16\n",
            "  8.34218374e-15  1.38852210e-13  1.36250739e-12 -1.03878133e-13\n",
            "  3.14859382e-15 -4.75064420e-17  3.56821536e-19 -1.06723030e-21]\n",
            "Degree of Polynomial: 16\n",
            "Polynomial Coefficients: [ 6.80637196e-30 -1.60918867e-17 -4.94903540e-20 -7.77852064e-23\n",
            "  9.65078190e-24  3.20524989e-22  9.89938922e-21  2.84368818e-19\n",
            "  7.35918791e-18  1.62688337e-16  2.77102810e-15  2.77774294e-14\n",
            " -2.09261062e-15  6.26796735e-17 -9.34741049e-19  6.94141849e-21\n",
            " -2.05341230e-23]\n",
            "Polynomial Coefficients: [ 8.22776056e-30  5.27240235e-17  7.17329144e-20 -7.16733022e-23\n",
            "  1.17227697e-23  3.71368252e-22  1.13675540e-20  3.23602707e-19\n",
            "  8.29835133e-18  1.81765754e-16  3.06726744e-15  3.04584923e-14\n",
            " -2.31507294e-15  6.99544258e-17 -1.05232776e-18  7.88186390e-21\n",
            " -2.35133644e-23]\n",
            "Polynomial Coefficients: [ 7.05104489e-30 -1.41774661e-17  1.85525234e-20 -6.85120406e-23\n",
            "  1.01386733e-23  3.30553596e-22  1.02045555e-20  2.93020434e-19\n",
            "  7.58041567e-18  1.67524605e-16  2.85253639e-15  2.85862444e-14\n",
            " -2.15811569e-15  6.47686752e-17 -9.67644581e-19  7.19772644e-21\n",
            " -2.13247622e-23]\n",
            "Polynomial Coefficients: [ 6.82312067e-30 -4.18358164e-17 -5.75901537e-20  2.08546980e-23\n",
            "  9.76369333e-24  3.20109245e-22  9.88130886e-21  2.83734066e-19\n",
            "  7.34068364e-18  1.62252570e-16  2.76345701e-15  2.77028589e-14\n",
            " -2.08753125e-15  6.25452960e-17 -9.33023566e-19  6.93092583e-21\n",
            " -2.05100720e-23]\n",
            "Polynomial Coefficients: [ 7.02335215e-30 -2.18902882e-17 -2.33040138e-20  2.15028729e-23\n",
            "  1.02101361e-23  3.28972080e-22  1.01553712e-20  2.91621107e-19\n",
            "  7.54511566e-18  1.66775316e-16  2.84045579e-15  2.84731915e-14\n",
            " -2.14742678e-15  6.43918642e-17 -9.61306016e-19  7.14622817e-21\n",
            " -2.11618846e-23]\n",
            "Degree of Polynomial: 17\n",
            "Polynomial Coefficients: [ 2.73235410e-33 -1.35725403e-18 -5.43077886e-23 -1.08764017e-24\n",
            "  1.01324456e-26  1.69825725e-25  5.68119978e-24  1.80116959e-22\n",
            "  5.30021564e-21  1.40250368e-19  3.16501321e-18  5.49493929e-17\n",
            "  5.60730284e-16 -4.18484514e-17  1.24192599e-18 -1.83534517e-20\n",
            "  1.35096014e-22 -3.96250305e-25]\n",
            "Polynomial Coefficients: [ 3.39136192e-33 -3.41777211e-18 -4.41457061e-22  1.85872267e-24\n",
            "  4.89996715e-27  2.01588455e-25  6.68173531e-24  2.09875983e-22\n",
            "  6.11820894e-21  1.60369031e-19  3.58459471e-18  6.16361923e-17\n",
            "  6.22850819e-16 -4.69302254e-17  1.40597635e-18 -2.09740093e-20\n",
            "  1.55829794e-22 -4.61287515e-25]\n",
            "Polynomial Coefficients: [ 2.79209462e-33  3.84362982e-19 -1.12516165e-21  9.66975701e-25\n",
            "  4.41443178e-27  1.73564934e-25  5.80728179e-24  1.84139717e-22\n",
            "  5.41923173e-21  1.43414004e-19  3.23668786e-18  5.61983274e-17\n",
            "  5.73521605e-16 -4.28782504e-17  1.27457286e-18 -1.88646998e-20\n",
            "  1.39056597e-22 -4.08405144e-25]\n",
            "Polynomial Coefficients: [ 2.70677087e-33  2.41465594e-18  3.71083530e-22  1.88332628e-24\n",
            "  5.19153542e-27  1.68100897e-25  5.62547548e-24  1.78420166e-22\n",
            "  5.25299287e-21  1.39088005e-19  3.14106338e-18  5.45780089e-17\n",
            "  5.57437901e-16 -4.16007940e-17  1.23457858e-18 -1.82457072e-20\n",
            "  1.34314555e-22 -3.94006701e-25]\n",
            "Polynomial Coefficients: [ 2.77193051e-33 -1.89804936e-18  1.81248107e-21  9.39602816e-25\n",
            " -1.18062802e-27  1.71884270e-25  5.75075957e-24  1.82354472e-22\n",
            "  5.36740711e-21  1.42071821e-19  3.20722372e-18  5.57029209e-17\n",
            "  5.68640689e-16 -4.24652177e-17  1.26101950e-18 -1.86474132e-20\n",
            "  1.37347327e-22 -4.03111217e-25]\n",
            "Degree of Polynomial: 18\n",
            "Polynomial Coefficients: [ 1.02611658e-36 -1.72976515e-20  8.85318174e-24  1.77751043e-26\n",
            "  1.30426855e-29  8.07445100e-29  2.88681204e-27  9.89163129e-26\n",
            "  3.20629652e-24  9.63064667e-23  2.59741300e-21  5.96638723e-20\n",
            "  1.05311836e-18  1.09140803e-17 -8.07718799e-19  2.37735591e-20\n",
            " -3.48513899e-22  2.54539490e-24 -7.40990629e-27]\n",
            "Polynomial Coefficients: [ 1.30388519e-36 -3.12189345e-20 -1.32683520e-23 -2.81146201e-26\n",
            "  1.75475948e-29  9.84629959e-29  3.47279302e-27  1.17877440e-25\n",
            "  3.78466137e-24  1.12589136e-22  3.00716075e-21  6.84004159e-20\n",
            "  1.19539785e-18  1.22646813e-17 -9.16744372e-19  2.72506612e-20\n",
            " -4.03441169e-22  2.97554004e-24 -8.74650370e-27]\n",
            "Polynomial Coefficients: [ 1.03719819e-36 -1.70479858e-21  5.45187837e-24 -2.39325317e-26\n",
            "  5.67969967e-29  8.21268281e-29  2.92885200e-27  1.00401107e-25\n",
            "  3.25570728e-24  9.78255998e-23  2.63926943e-21  6.06451260e-20\n",
            "  1.07079139e-18  1.11010425e-17 -8.22655038e-19  2.42433980e-20\n",
            " -3.55814624e-22  2.60152426e-24 -7.58090721e-27]\n",
            "Polynomial Coefficients: [ 1.00047067e-36  3.79164988e-20 -1.16372476e-23 -5.14522482e-26\n",
            " -2.73908864e-29  7.92522655e-29  2.82590765e-27  9.69388728e-26\n",
            "  3.14607611e-24  9.46224869e-23  2.55555735e-21  5.87880749e-20\n",
            "  1.03922964e-18  1.07869555e-17 -7.97890198e-19  2.34734023e-20\n",
            " -3.43974477e-22  2.51136517e-24 -7.30868141e-27]\n",
            "Polynomial Coefficients: [ 1.02262017e-36 -1.27597377e-21  3.25895256e-23  9.68824690e-27\n",
            " -5.50140566e-30  8.02932572e-29  2.88229335e-27  9.88258635e-26\n",
            "  3.20553229e-24  9.63495661e-23  2.60035589e-21  5.97719482e-20\n",
            "  1.05572889e-18  1.09482861e-17 -8.10350853e-19  2.38547726e-20\n",
            " -3.49769479e-22  2.55510442e-24 -7.43989863e-27]\n",
            "CV-mse: [1570.0767899174216, 1564.215563109235, 1561.4536778719807, 1561.8643556977504, 1561.193834191925, 1560.7812935736429, 1560.5293138357604, 1560.6159864504446, 1561.8364307263955, 1570.1022065613759, 1866.6651317650424, 2156.2707144937576, 2552.24467361208, 3039.7901852138575, 3599.9783881998105, 4215.079626501107, 4870.277377606956]\n",
            "test-mse: [1676.9189159921648, 1675.4519193700496, 1677.1699715804293, 1677.0016923886978, 1674.7766261917993, 1674.007116189622, 1674.3581202995294, 1676.784497621023, 1685.5352082111997, 1707.2810331092837, 1905.3011204672353, 2183.125134507477, 2586.826215536168, 3088.5781366003525, 3654.161474636534, 4255.244736601628, 4871.349108847395]\n"
          ]
        }
      ]
    },
    {
      "cell_type": "code",
      "metadata": {
        "colab": {
          "base_uri": "https://localhost:8080/",
          "height": 296
        },
        "id": "3ZzSmUf0gz-X",
        "outputId": "a7b28d1b-3973-466f-f96e-6821cae7b996"
      },
      "source": [
        "# Question B1: Plot mse vs polynomial degrees.\n",
        "width = 0.35\n",
        "\n",
        "labels = degree_nth_list\n",
        "x = np.arange(len(labels))\n",
        "fig, ax = plt.subplots()\n",
        "rects1 = ax.bar(x - width/2, poly_avg_mse_CV_list, width, label = 'CV-MSE')\n",
        "rects2 = ax.bar(x + width/2, poly_avg_mse_test_list, width, label = 'test-MSE')\n",
        "\n",
        "ax.set_ylabel('Mean Squarred Error')\n",
        "ax.set_xlabel('Polynomial Degrees')\n",
        "ax.set_title('MSE for Different Polynomial Degrees')\n",
        "ax.set_xticks(x)\n",
        "ax.set_xticklabels(labels)\n",
        "ax.legend()\n",
        "\n",
        "fig.tight_layout()\n",
        "\n",
        "plt.show();"
      ],
      "execution_count": 192,
      "outputs": [
        {
          "output_type": "display_data",
          "data": {
            "image/png": "[encoded data removed]",
            "text/plain": [
              "<Figure size 432x288 with 1 Axes>"
            ]
          },
          "metadata": {
            "needs_background": "light"
          }
        }
      ]
    },
    {
      "cell_type": "markdown",
      "metadata": {
        "id": "tPMaWZzAn55X"
      },
      "source": [
        "\n",
        "### Question B1: Choose a polynomial degree.\n",
        "Using 5-fold cross-validation, polynomial models of degrees 2 to 18 were trained. The mean squared error was computed for the validation and test portion for every split. The lowest MSE for the validation portion was obtained for the polynomial of degree 8 and the test portion it was the polynomial of degree 7.  However, the deviation in MSE for the polynomial degrees of 2 to 11 is minimal. Thus, it is possible to select a model with fewer degrees as that would computational advantageous. The optimal degree is 2. \n"
      ]
    },
    {
      "cell_type": "code",
      "metadata": {
        "colab": {
          "base_uri": "https://localhost:8080/",
          "height": 302
        },
        "id": "C-EeMtUJoHid",
        "outputId": "e1e63b8c-73c4-4f15-efd5-76e707f5087a"
      },
      "source": [
        "# Question B1: Make a plot of the resulting polynomial fit to the data.\n",
        "from sklearn.preprocessing import PolynomialFeatures\n",
        "import statsmodels.api as sm\n",
        "\n",
        "X = np.array(X_train_B1).reshape(-1, 1)\n",
        "y = np.array(y_train_B1)\n",
        "\n",
        "polynomial_model = PolynomialFeatures(degree = 2)\n",
        "X_poly = polynomial_model.fit_transform(X)\n",
        "model_poly = sm.OLS(y, X_poly).fit()\n",
        "\n",
        "x_val = np.linspace(X_test_B1.min(), X_test_B1.max(), 100)\n",
        "x_val = np.array(x_val).reshape(-1,1) \n",
        "x_vals = polynomial_model.fit_transform(x_val)\n",
        "\n",
        "y_pred = model_poly.predict(x_vals)\n",
        "plt.plot(x_val, y_pred,  color = \"red\", label = \"2nd Degree Polynomial Fit\")\n",
        "\n",
        "\n",
        "plt.scatter(data_x, data_y, color = \"green\", alpha = 0.6)\n",
        "plt.xlabel('Age')\n",
        "plt.ylabel('Wage')\n",
        "plt.title('Predicting Wage Based On Age Using Polynomial Regression')\n",
        "\n",
        "plt.legend()\n",
        "plt.show();"
      ],
      "execution_count": 466,
      "outputs": [
        {
          "output_type": "display_data",
          "data": {
            "image/png": "[encoded data removed]",
            "text/plain": [
              "<Figure size 432x288 with 1 Axes>"
            ]
          },
          "metadata": {
            "needs_background": "light"
          }
        }
      ]
    },
    {
      "cell_type": "code",
      "metadata": {
        "id": "RTnKJkQptdr0"
      },
      "source": [
        "# Question B2: Split the dataset into training (70%) and test sets (30%). 'B2' is for 'Question B2'. \n",
        "from sklearn.model_selection import train_test_split\n",
        "X_train_B2, X_test_B2, y_train_B2, y_test_B2 = train_test_split(data_x, data_y, test_size = 0.3, random_state = 9)"
      ],
      "execution_count": 467,
      "outputs": []
    },
    {
      "cell_type": "code",
      "metadata": {
        "colab": {
          "base_uri": "https://localhost:8080/"
        },
        "id": "U-G4dS1MsZCo",
        "outputId": "e08ffabb-5ea4-4640-882e-2d1fb38bd976"
      },
      "source": [
        "X_train_B2.index"
      ],
      "execution_count": 468,
      "outputs": [
        {
          "output_type": "execute_result",
          "data": {
            "text/plain": [
              "Int64Index([2459, 2110, 1572, 1934, 1428, 1968, 1980,  217, 1857, 1446,\n",
              "            ...\n",
              "            1558,  577, 1149,  918, 1787, 2104,  501, 2686,  348,  382],\n",
              "           dtype='int64', length=2100)"
            ]
          },
          "metadata": {},
          "execution_count": 468
        }
      ]
    },
    {
      "cell_type": "code",
      "metadata": {
        "colab": {
          "base_uri": "https://localhost:8080/"
        },
        "id": "nVgb0HY1BmG_",
        "outputId": "f58d1538-8200-4d5e-c825-33e412fb2d05"
      },
      "source": [
        "# Question B2: Fit a step function to predict wage using age with cv to find the optimal number of cuts , and perform cross-validation to choose the optimal number of cuts. Make a plot of the fit obtained.\n",
        "from sklearn.model_selection import KFold\n",
        "from sklearn.metrics import mean_squared_error\n",
        "import statsmodels.api as sm\n",
        "\n",
        "k = 5\n",
        "kf_5 = KFold(n_splits = k, random_state = 12, shuffle = True)\n",
        "cut_list = np.arange(1,11)\n",
        "\n",
        "X_B2 = X_train_B2\n",
        "y_B2 = y_train_B2\n",
        "\n",
        "step_avg_mse_test_list = []\n",
        "\n",
        "for cut_value in cut_list:\n",
        "  \n",
        "  step_mse_test_list = []\n",
        "\n",
        "  for train_index, test_index in kf_5.split(X_B2):\n",
        "    X_train_B2_CV, X_test_B2_CV = X_B2.iloc[train_index], X_B2.iloc[test_index]\n",
        "    y_train_B2_CV, y_test_B2_CV = y_B2.iloc[train_index], y_B2.iloc[test_index]\n",
        "\n",
        "    df_cut, bins = pd.cut(X_train_B2_CV, cut_value, retbins = True, right = True)\n",
        "\n",
        "    df_steps = pd.concat([X_train_B2_CV, df_cut, y_train_B2_CV], keys = ['age', 'age_cuts', 'wage'], axis = 1)\n",
        "    df_steps_dummies = pd.get_dummies(df_cut)\n",
        "\n",
        "    fit_step = sm.GLM(df_steps.wage, df_steps_dummies).fit()\n",
        "\n",
        "    bin_mapping = np.digitize(X_test_B2, bins) \n",
        "    X_valid = pd.get_dummies(bin_mapping)\n",
        "    X_valid = pd.get_dummies(bin_mapping).drop([cut_value], axis = 1)\n",
        "    y_pred_B2 = fit_step.predict(X_valid)\n",
        "\n",
        "    step_mse_test = mean_squared_error(y_test_B2, y_pred_B2)\n",
        "    step_mse_test_list.append(step_mse_test)\n",
        "\n",
        "  step_avg_mse_test = sum(step_mse_test_list)/len(step_mse_test_list)\n",
        "  step_avg_mse_test_list.append(step_avg_mse_test)\n",
        "\n",
        "print(f\"test-mse: {step_avg_mse_test_list}\")"
      ],
      "execution_count": 469,
      "outputs": [
        {
          "output_type": "stream",
          "name": "stdout",
          "text": [
            "test-mse: [13603.68042382141, 5686.990477111166, 2353.347485233969, 1648.8333907529282, 1548.9382367689345, 1521.4466977273523, 1462.5885159652364, 1458.1674184439855, 1457.2313811510096, 1452.2095868955978]\n"
          ]
        }
      ]
    },
    {
      "cell_type": "code",
      "metadata": {
        "colab": {
          "base_uri": "https://localhost:8080/",
          "height": 284
        },
        "id": "xF5S123NansN",
        "outputId": "14b29ca7-13fa-4bcc-e3dc-2342afdf3ed7"
      },
      "source": [
        "# Question B2: Plot mse vs number of cuts.\n",
        "plt.bar(cut_list, step_avg_mse_test_list)\n",
        "plt.xlabel('Number of Cuts')\n",
        "plt.ylabel('Mean Squarred Error')\n",
        "plt.show();"
      ],
      "execution_count": 470,
      "outputs": [
        {
          "output_type": "display_data",
          "data": {
            "image/png": "[encoded data removed]",
            "text/plain": [
              "<Figure size 432x288 with 1 Axes>"
            ]
          },
          "metadata": {
            "needs_background": "light"
          }
        }
      ]
    },
    {
      "cell_type": "markdown",
      "metadata": {
        "id": "hBa2bB6LbphG"
      },
      "source": [
        "### Question B1: Choose the number of cuts.\n",
        "Using 5-fold cross-validation, step-function models of 1 to 10 cuts were trained. The mean squared error was computed for the test portion for every split. The lowest MSE was obtained for a model with 10 cuts.  However, the deviation in MSE for 7 to 10 cuts is minimal. Thus, it is possible to select a model with fewer cuts as that would computational advantageous. The optimal degree is 7."
      ]
    },
    {
      "cell_type": "code",
      "metadata": {
        "colab": {
          "base_uri": "https://localhost:8080/",
          "height": 374
        },
        "id": "bPMJfXBFcUc-",
        "outputId": "cf2dde07-cf88-4686-e0f8-3bedd533dcf8"
      },
      "source": [
        "# Question B2: Plot the step function with 7 cuts.\n",
        "\n",
        "df_cut, bins = pd.cut(X_train_B2_CV, 7, retbins = True, right = True)\n",
        "\n",
        "df_steps = pd.concat([X_train_B2_CV, df_cut, y_train_B2_CV], keys = ['age', 'age_cuts', 'wage'], axis = 1)\n",
        "df_steps_dummies = pd.get_dummies(df_cut)\n",
        "\n",
        "fit_step = sm.GLM(df_steps.wage, df_steps_dummies).fit()\n",
        "\n",
        "xp = np.linspace(X_test_B2.min(), X_test_B2.max() - 1, 100) \n",
        "bin_mapping = np.digitize(xp, bins) \n",
        "X_valid_2 = pd.get_dummies(bin_mapping) \n",
        "pred2 = fit_step.predict(X_valid_2)\n",
        "\n",
        "fig, (ax1) = plt.subplots(1,1, figsize=(12,5))\n",
        "_= fig.suptitle('Piecewise Constant Function ', fontsize=18)\n",
        "\n",
        "_= ax1.scatter(X_train_B2, y_train_B2, alpha = 0.3)\n",
        "_= ax1.plot(xp, pred2, color = 'black', label =  'Piecewise Fit')\n",
        "\n",
        "_= ax1.set_xlabel('Age')\n",
        "_= ax1.set_ylabel('Wage')\n",
        "\n",
        "plt.legend()\n",
        "\n",
        "plt.show();"
      ],
      "execution_count": 471,
      "outputs": [
        {
          "output_type": "display_data",
          "data": {
            "image/png": "[encoded data removed]",
            "text/plain": [
              "<Figure size 864x360 with 1 Axes>"
            ]
          },
          "metadata": {
            "needs_background": "light"
          }
        }
      ]
    },
    {
      "cell_type": "markdown",
      "metadata": {
        "id": "7GLQakVZ41gL"
      },
      "source": [
        "\n",
        "## **Part C** <font color=\"blue\">(4 points)</font>\n",
        "Apply SVM and random forests to a data set of your choice. Be sure to fit the models on a training set and to evaluate their performance on a test set. How accurate are the results compared to each other? Which of them yields the best performance?\n"
      ]
    },
    {
      "cell_type": "markdown",
      "metadata": {
        "id": "MMBNRL0X7PSN"
      },
      "source": [
        "## Part C"
      ]
    },
    {
      "cell_type": "markdown",
      "metadata": {
        "id": "aiqP3IFRbXFJ"
      },
      "source": [
        "### Question C: The dataset selection\n",
        "The dataset selected is from a Kaggle repository. The dataset contains data about MBA students from Jain University in Bangalore and was curated to investigate the frequency of MBA students getting work placements relative to various features. The dataset will be used to create a predictive model using random forest and support vector machines to predict whether a student will get a work placement or not. The features for the herein dataset are the following:    \n",
        "\n",
        "*   Gender,\n",
        "*   Secondary Education percentage - 10th Grade (%),\n",
        "*   Board of Education - 10th Grade - Central/ Others,\n",
        "*   Higher Secondary Education percentage- 12th Grade (%),\n",
        "*   Board of Education - 12th Grade - Central/ Others,\n",
        "*   Specialization in Higher Secondary Education,\n",
        "*   Degree Percentage (%),\n",
        "*   Under Graduation (Degree type) - Field of degree education,\n",
        "*   Work Experience - Yes/No,\n",
        "*   Entrance Test Percentage (%),\n",
        "*   MBA Specialization,\n",
        "*   Work Placement - Placed/Not Placed,\n",
        "*   Salary.\n",
        "\n",
        "For more information on the sources or details of the dataset, please visit the following link: https://www.kaggle.com/benroshan/factors-affecting-campus-placement?select=Placement_Data_Full_Class.csv.\n"
      ]
    },
    {
      "cell_type": "code",
      "metadata": {
        "id": "vnkNnx9hzy0U"
      },
      "source": [
        "import pandas as pd\n",
        "import matplotlib.pyplot as plt\n",
        "plt.style.use('ggplot')\n",
        "%matplotlib inline\n",
        "import seaborn as sns; sns.set_theme()"
      ],
      "execution_count": 472,
      "outputs": []
    },
    {
      "cell_type": "code",
      "metadata": {
        "id": "lbKK1KSxJnb8",
        "colab": {
          "resources": {
            "http://localhost:8080/nbextensions/google.colab/files.js": {
              "data": "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",
              "ok": true,
              "headers": [
                [
                  "content-type",
                  "application/javascript"
                ]
              ],
              "status": 200,
              "status_text": ""
            }
          },
          "base_uri": "https://localhost:8080/",
          "height": 73
        },
        "outputId": "627bf9eb-a659-42c9-8b49-eb390c1b57b9"
      },
      "source": [
        "# Question C: Dowload Dataset.\n",
        "from google.colab import files\n",
        "uploaded = files.upload()\n",
        "placement_data = pd.read_csv('Placement_Data_Full_Class.csv')"
      ],
      "execution_count": 473,
      "outputs": [
        {
          "output_type": "display_data",
          "data": {
            "text/html": [
              "\n",
              "     <input type=\"file\" id=\"files-37e69ff8-fa43-4030-bb54-d4be59ffd285\" name=\"files[]\" multiple disabled\n",
              "        style=\"border:none\" />\n",
              "     <output id=\"result-37e69ff8-fa43-4030-bb54-d4be59ffd285\">\n",
              "      Upload widget is only available when the cell has been executed in the\n",
              "      current browser session. Please rerun this cell to enable.\n",
              "      </output>\n",
              "      <script src=\"/nbextensions/google.colab/files.js\"></script> "
            ],
            "text/plain": [
              "<IPython.core.display.HTML object>"
            ]
          },
          "metadata": {}
        },
        {
          "output_type": "stream",
          "name": "stdout",
          "text": [
            "Saving Placement_Data_Full_Class.csv to Placement_Data_Full_Class (3).csv\n"
          ]
        }
      ]
    },
    {
      "cell_type": "code",
      "metadata": {
        "id": "Fpx1XeLkz7C2",
        "colab": {
          "base_uri": "https://localhost:8080/",
          "height": 202
        },
        "outputId": "12743499-ab7e-49d6-92f2-2502652a0337"
      },
      "source": [
        "# Question C: Conduct some data exploration on dataset.\n",
        "placement_data.head()"
      ],
      "execution_count": 474,
      "outputs": [
        {
          "output_type": "execute_result",
          "data": {
            "text/html": [
              "<div>\n",
              "<style scoped>\n",
              "    .dataframe tbody tr th:only-of-type {\n",
              "        vertical-align: middle;\n",
              "    }\n",
              "\n",
              "    .dataframe tbody tr th {\n",
              "        vertical-align: top;\n",
              "    }\n",
              "\n",
              "    .dataframe thead th {\n",
              "        text-align: right;\n",
              "    }\n",
              "</style>\n",
              "<table border=\"1\" class=\"dataframe\">\n",
              "  <thead>\n",
              "    <tr style=\"text-align: right;\">\n",
              "      <th></th>\n",
              "      <th>sl_no</th>\n",
              "      <th>gender</th>\n",
              "      <th>ssc_p</th>\n",
              "      <th>ssc_b</th>\n",
              "      <th>hsc_p</th>\n",
              "      <th>hsc_b</th>\n",
              "      <th>hsc_s</th>\n",
              "      <th>degree_p</th>\n",
              "      <th>degree_t</th>\n",
              "      <th>workex</th>\n",
              "      <th>etest_p</th>\n",
              "      <th>specialisation</th>\n",
              "      <th>mba_p</th>\n",
              "      <th>status</th>\n",
              "      <th>salary</th>\n",
              "    </tr>\n",
              "  </thead>\n",
              "  <tbody>\n",
              "    <tr>\n",
              "      <th>0</th>\n",
              "      <td>1</td>\n",
              "      <td>M</td>\n",
              "      <td>67.00</td>\n",
              "      <td>Others</td>\n",
              "      <td>91.00</td>\n",
              "      <td>Others</td>\n",
              "      <td>Commerce</td>\n",
              "      <td>58.00</td>\n",
              "      <td>Sci&amp;Tech</td>\n",
              "      <td>No</td>\n",
              "      <td>55.0</td>\n",
              "      <td>Mkt&amp;HR</td>\n",
              "      <td>58.80</td>\n",
              "      <td>Placed</td>\n",
              "      <td>270000.0</td>\n",
              "    </tr>\n",
              "    <tr>\n",
              "      <th>1</th>\n",
              "      <td>2</td>\n",
              "      <td>M</td>\n",
              "      <td>79.33</td>\n",
              "      <td>Central</td>\n",
              "      <td>78.33</td>\n",
              "      <td>Others</td>\n",
              "      <td>Science</td>\n",
              "      <td>77.48</td>\n",
              "      <td>Sci&amp;Tech</td>\n",
              "      <td>Yes</td>\n",
              "      <td>86.5</td>\n",
              "      <td>Mkt&amp;Fin</td>\n",
              "      <td>66.28</td>\n",
              "      <td>Placed</td>\n",
              "      <td>200000.0</td>\n",
              "    </tr>\n",
              "    <tr>\n",
              "      <th>2</th>\n",
              "      <td>3</td>\n",
              "      <td>M</td>\n",
              "      <td>65.00</td>\n",
              "      <td>Central</td>\n",
              "      <td>68.00</td>\n",
              "      <td>Central</td>\n",
              "      <td>Arts</td>\n",
              "      <td>64.00</td>\n",
              "      <td>Comm&amp;Mgmt</td>\n",
              "      <td>No</td>\n",
              "      <td>75.0</td>\n",
              "      <td>Mkt&amp;Fin</td>\n",
              "      <td>57.80</td>\n",
              "      <td>Placed</td>\n",
              "      <td>250000.0</td>\n",
              "    </tr>\n",
              "    <tr>\n",
              "      <th>3</th>\n",
              "      <td>4</td>\n",
              "      <td>M</td>\n",
              "      <td>56.00</td>\n",
              "      <td>Central</td>\n",
              "      <td>52.00</td>\n",
              "      <td>Central</td>\n",
              "      <td>Science</td>\n",
              "      <td>52.00</td>\n",
              "      <td>Sci&amp;Tech</td>\n",
              "      <td>No</td>\n",
              "      <td>66.0</td>\n",
              "      <td>Mkt&amp;HR</td>\n",
              "      <td>59.43</td>\n",
              "      <td>Not Placed</td>\n",
              "      <td>NaN</td>\n",
              "    </tr>\n",
              "    <tr>\n",
              "      <th>4</th>\n",
              "      <td>5</td>\n",
              "      <td>M</td>\n",
              "      <td>85.80</td>\n",
              "      <td>Central</td>\n",
              "      <td>73.60</td>\n",
              "      <td>Central</td>\n",
              "      <td>Commerce</td>\n",
              "      <td>73.30</td>\n",
              "      <td>Comm&amp;Mgmt</td>\n",
              "      <td>No</td>\n",
              "      <td>96.8</td>\n",
              "      <td>Mkt&amp;Fin</td>\n",
              "      <td>55.50</td>\n",
              "      <td>Placed</td>\n",
              "      <td>425000.0</td>\n",
              "    </tr>\n",
              "  </tbody>\n",
              "</table>\n",
              "</div>"
            ],
            "text/plain": [
              "   sl_no gender  ssc_p    ssc_b  ...  specialisation  mba_p      status    salary\n",
              "0      1      M  67.00   Others  ...          Mkt&HR  58.80      Placed  270000.0\n",
              "1      2      M  79.33  Central  ...         Mkt&Fin  66.28      Placed  200000.0\n",
              "2      3      M  65.00  Central  ...         Mkt&Fin  57.80      Placed  250000.0\n",
              "3      4      M  56.00  Central  ...          Mkt&HR  59.43  Not Placed       NaN\n",
              "4      5      M  85.80  Central  ...         Mkt&Fin  55.50      Placed  425000.0\n",
              "\n",
              "[5 rows x 15 columns]"
            ]
          },
          "metadata": {},
          "execution_count": 474
        }
      ]
    },
    {
      "cell_type": "code",
      "metadata": {
        "id": "9Nnhwlr70DAE",
        "colab": {
          "base_uri": "https://localhost:8080/"
        },
        "outputId": "43656cde-995b-4d24-e014-687d38434ab3"
      },
      "source": [
        "placement_data.dtypes"
      ],
      "execution_count": 475,
      "outputs": [
        {
          "output_type": "execute_result",
          "data": {
            "text/plain": [
              "sl_no               int64\n",
              "gender             object\n",
              "ssc_p             float64\n",
              "ssc_b              object\n",
              "hsc_p             float64\n",
              "hsc_b              object\n",
              "hsc_s              object\n",
              "degree_p          float64\n",
              "degree_t           object\n",
              "workex             object\n",
              "etest_p           float64\n",
              "specialisation     object\n",
              "mba_p             float64\n",
              "status             object\n",
              "salary            float64\n",
              "dtype: object"
            ]
          },
          "metadata": {},
          "execution_count": 475
        }
      ]
    },
    {
      "cell_type": "code",
      "metadata": {
        "id": "2ee80ZSy0FwJ",
        "colab": {
          "base_uri": "https://localhost:8080/"
        },
        "outputId": "40ae0f38-bb77-4168-f435-738a083b3197"
      },
      "source": [
        "placement_data.columns"
      ],
      "execution_count": 476,
      "outputs": [
        {
          "output_type": "execute_result",
          "data": {
            "text/plain": [
              "Index(['sl_no', 'gender', 'ssc_p', 'ssc_b', 'hsc_p', 'hsc_b', 'hsc_s',\n",
              "       'degree_p', 'degree_t', 'workex', 'etest_p', 'specialisation', 'mba_p',\n",
              "       'status', 'salary'],\n",
              "      dtype='object')"
            ]
          },
          "metadata": {},
          "execution_count": 476
        }
      ]
    },
    {
      "cell_type": "code",
      "metadata": {
        "colab": {
          "base_uri": "https://localhost:8080/"
        },
        "id": "5tQ6sIb70GKN",
        "outputId": "488cfb7d-10f6-4c49-f138-4c5e5a8c93f5"
      },
      "source": [
        "placement_data.shape"
      ],
      "execution_count": 477,
      "outputs": [
        {
          "output_type": "execute_result",
          "data": {
            "text/plain": [
              "(215, 15)"
            ]
          },
          "metadata": {},
          "execution_count": 477
        }
      ]
    },
    {
      "cell_type": "code",
      "metadata": {
        "id": "Zvx3tgtQ0LnA",
        "colab": {
          "base_uri": "https://localhost:8080/",
          "height": 385
        },
        "outputId": "f0d13ceb-d26f-4c07-cdbb-0438c8a7af71"
      },
      "source": [
        "placement_data.describe(include = 'all')"
      ],
      "execution_count": 478,
      "outputs": [
        {
          "output_type": "execute_result",
          "data": {
            "text/html": [
              "<div>\n",
              "<style scoped>\n",
              "    .dataframe tbody tr th:only-of-type {\n",
              "        vertical-align: middle;\n",
              "    }\n",
              "\n",
              "    .dataframe tbody tr th {\n",
              "        vertical-align: top;\n",
              "    }\n",
              "\n",
              "    .dataframe thead th {\n",
              "        text-align: right;\n",
              "    }\n",
              "</style>\n",
              "<table border=\"1\" class=\"dataframe\">\n",
              "  <thead>\n",
              "    <tr style=\"text-align: right;\">\n",
              "      <th></th>\n",
              "      <th>sl_no</th>\n",
              "      <th>gender</th>\n",
              "      <th>ssc_p</th>\n",
              "      <th>ssc_b</th>\n",
              "      <th>hsc_p</th>\n",
              "      <th>hsc_b</th>\n",
              "      <th>hsc_s</th>\n",
              "      <th>degree_p</th>\n",
              "      <th>degree_t</th>\n",
              "      <th>workex</th>\n",
              "      <th>etest_p</th>\n",
              "      <th>specialisation</th>\n",
              "      <th>mba_p</th>\n",
              "      <th>status</th>\n",
              "      <th>salary</th>\n",
              "    </tr>\n",
              "  </thead>\n",
              "  <tbody>\n",
              "    <tr>\n",
              "      <th>count</th>\n",
              "      <td>215.000000</td>\n",
              "      <td>215</td>\n",
              "      <td>215.000000</td>\n",
              "      <td>215</td>\n",
              "      <td>215.000000</td>\n",
              "      <td>215</td>\n",
              "      <td>215</td>\n",
              "      <td>215.000000</td>\n",
              "      <td>215</td>\n",
              "      <td>215</td>\n",
              "      <td>215.000000</td>\n",
              "      <td>215</td>\n",
              "      <td>215.000000</td>\n",
              "      <td>215</td>\n",
              "      <td>148.000000</td>\n",
              "    </tr>\n",
              "    <tr>\n",
              "      <th>unique</th>\n",
              "      <td>NaN</td>\n",
              "      <td>2</td>\n",
              "      <td>NaN</td>\n",
              "      <td>2</td>\n",
              "      <td>NaN</td>\n",
              "      <td>2</td>\n",
              "      <td>3</td>\n",
              "      <td>NaN</td>\n",
              "      <td>3</td>\n",
              "      <td>2</td>\n",
              "      <td>NaN</td>\n",
              "      <td>2</td>\n",
              "      <td>NaN</td>\n",
              "      <td>2</td>\n",
              "      <td>NaN</td>\n",
              "    </tr>\n",
              "    <tr>\n",
              "      <th>top</th>\n",
              "      <td>NaN</td>\n",
              "      <td>M</td>\n",
              "      <td>NaN</td>\n",
              "      <td>Central</td>\n",
              "      <td>NaN</td>\n",
              "      <td>Others</td>\n",
              "      <td>Commerce</td>\n",
              "      <td>NaN</td>\n",
              "      <td>Comm&amp;Mgmt</td>\n",
              "      <td>No</td>\n",
              "      <td>NaN</td>\n",
              "      <td>Mkt&amp;Fin</td>\n",
              "      <td>NaN</td>\n",
              "      <td>Placed</td>\n",
              "      <td>NaN</td>\n",
              "    </tr>\n",
              "    <tr>\n",
              "      <th>freq</th>\n",
              "      <td>NaN</td>\n",
              "      <td>139</td>\n",
              "      <td>NaN</td>\n",
              "      <td>116</td>\n",
              "      <td>NaN</td>\n",
              "      <td>131</td>\n",
              "      <td>113</td>\n",
              "      <td>NaN</td>\n",
              "      <td>145</td>\n",
              "      <td>141</td>\n",
              "      <td>NaN</td>\n",
              "      <td>120</td>\n",
              "      <td>NaN</td>\n",
              "      <td>148</td>\n",
              "      <td>NaN</td>\n",
              "    </tr>\n",
              "    <tr>\n",
              "      <th>mean</th>\n",
              "      <td>108.000000</td>\n",
              "      <td>NaN</td>\n",
              "      <td>67.303395</td>\n",
              "      <td>NaN</td>\n",
              "      <td>66.333163</td>\n",
              "      <td>NaN</td>\n",
              "      <td>NaN</td>\n",
              "      <td>66.370186</td>\n",
              "      <td>NaN</td>\n",
              "      <td>NaN</td>\n",
              "      <td>72.100558</td>\n",
              "      <td>NaN</td>\n",
              "      <td>62.278186</td>\n",
              "      <td>NaN</td>\n",
              "      <td>288655.405405</td>\n",
              "    </tr>\n",
              "    <tr>\n",
              "      <th>std</th>\n",
              "      <td>62.209324</td>\n",
              "      <td>NaN</td>\n",
              "      <td>10.827205</td>\n",
              "      <td>NaN</td>\n",
              "      <td>10.897509</td>\n",
              "      <td>NaN</td>\n",
              "      <td>NaN</td>\n",
              "      <td>7.358743</td>\n",
              "      <td>NaN</td>\n",
              "      <td>NaN</td>\n",
              "      <td>13.275956</td>\n",
              "      <td>NaN</td>\n",
              "      <td>5.833385</td>\n",
              "      <td>NaN</td>\n",
              "      <td>93457.452420</td>\n",
              "    </tr>\n",
              "    <tr>\n",
              "      <th>min</th>\n",
              "      <td>1.000000</td>\n",
              "      <td>NaN</td>\n",
              "      <td>40.890000</td>\n",
              "      <td>NaN</td>\n",
              "      <td>37.000000</td>\n",
              "      <td>NaN</td>\n",
              "      <td>NaN</td>\n",
              "      <td>50.000000</td>\n",
              "      <td>NaN</td>\n",
              "      <td>NaN</td>\n",
              "      <td>50.000000</td>\n",
              "      <td>NaN</td>\n",
              "      <td>51.210000</td>\n",
              "      <td>NaN</td>\n",
              "      <td>200000.000000</td>\n",
              "    </tr>\n",
              "    <tr>\n",
              "      <th>25%</th>\n",
              "      <td>54.500000</td>\n",
              "      <td>NaN</td>\n",
              "      <td>60.600000</td>\n",
              "      <td>NaN</td>\n",
              "      <td>60.900000</td>\n",
              "      <td>NaN</td>\n",
              "      <td>NaN</td>\n",
              "      <td>61.000000</td>\n",
              "      <td>NaN</td>\n",
              "      <td>NaN</td>\n",
              "      <td>60.000000</td>\n",
              "      <td>NaN</td>\n",
              "      <td>57.945000</td>\n",
              "      <td>NaN</td>\n",
              "      <td>240000.000000</td>\n",
              "    </tr>\n",
              "    <tr>\n",
              "      <th>50%</th>\n",
              "      <td>108.000000</td>\n",
              "      <td>NaN</td>\n",
              "      <td>67.000000</td>\n",
              "      <td>NaN</td>\n",
              "      <td>65.000000</td>\n",
              "      <td>NaN</td>\n",
              "      <td>NaN</td>\n",
              "      <td>66.000000</td>\n",
              "      <td>NaN</td>\n",
              "      <td>NaN</td>\n",
              "      <td>71.000000</td>\n",
              "      <td>NaN</td>\n",
              "      <td>62.000000</td>\n",
              "      <td>NaN</td>\n",
              "      <td>265000.000000</td>\n",
              "    </tr>\n",
              "    <tr>\n",
              "      <th>75%</th>\n",
              "      <td>161.500000</td>\n",
              "      <td>NaN</td>\n",
              "      <td>75.700000</td>\n",
              "      <td>NaN</td>\n",
              "      <td>73.000000</td>\n",
              "      <td>NaN</td>\n",
              "      <td>NaN</td>\n",
              "      <td>72.000000</td>\n",
              "      <td>NaN</td>\n",
              "      <td>NaN</td>\n",
              "      <td>83.500000</td>\n",
              "      <td>NaN</td>\n",
              "      <td>66.255000</td>\n",
              "      <td>NaN</td>\n",
              "      <td>300000.000000</td>\n",
              "    </tr>\n",
              "    <tr>\n",
              "      <th>max</th>\n",
              "      <td>215.000000</td>\n",
              "      <td>NaN</td>\n",
              "      <td>89.400000</td>\n",
              "      <td>NaN</td>\n",
              "      <td>97.700000</td>\n",
              "      <td>NaN</td>\n",
              "      <td>NaN</td>\n",
              "      <td>91.000000</td>\n",
              "      <td>NaN</td>\n",
              "      <td>NaN</td>\n",
              "      <td>98.000000</td>\n",
              "      <td>NaN</td>\n",
              "      <td>77.890000</td>\n",
              "      <td>NaN</td>\n",
              "      <td>940000.000000</td>\n",
              "    </tr>\n",
              "  </tbody>\n",
              "</table>\n",
              "</div>"
            ],
            "text/plain": [
              "             sl_no gender       ssc_p  ...       mba_p  status         salary\n",
              "count   215.000000    215  215.000000  ...  215.000000     215     148.000000\n",
              "unique         NaN      2         NaN  ...         NaN       2            NaN\n",
              "top            NaN      M         NaN  ...         NaN  Placed            NaN\n",
              "freq           NaN    139         NaN  ...         NaN     148            NaN\n",
              "mean    108.000000    NaN   67.303395  ...   62.278186     NaN  288655.405405\n",
              "std      62.209324    NaN   10.827205  ...    5.833385     NaN   93457.452420\n",
              "min       1.000000    NaN   40.890000  ...   51.210000     NaN  200000.000000\n",
              "25%      54.500000    NaN   60.600000  ...   57.945000     NaN  240000.000000\n",
              "50%     108.000000    NaN   67.000000  ...   62.000000     NaN  265000.000000\n",
              "75%     161.500000    NaN   75.700000  ...   66.255000     NaN  300000.000000\n",
              "max     215.000000    NaN   89.400000  ...   77.890000     NaN  940000.000000\n",
              "\n",
              "[11 rows x 15 columns]"
            ]
          },
          "metadata": {},
          "execution_count": 478
        }
      ]
    },
    {
      "cell_type": "code",
      "metadata": {
        "colab": {
          "base_uri": "https://localhost:8080/",
          "height": 284
        },
        "id": "_WUgghl2k0ny",
        "outputId": "1de9f224-0408-4d5f-fe74-8e273d3990a5"
      },
      "source": [
        "placement_data['gender'].value_counts().plot(kind = 'bar', xlabel = 'Gender', ylabel = 'Count');"
      ],
      "execution_count": 479,
      "outputs": [
        {
          "output_type": "display_data",
          "data": {
            "image/png": "[encoded data removed]",
            "text/plain": [
              "<Figure size 432x288 with 1 Axes>"
            ]
          },
          "metadata": {}
        }
      ]
    },
    {
      "cell_type": "code",
      "metadata": {
        "colab": {
          "base_uri": "https://localhost:8080/",
          "height": 284
        },
        "id": "GqZO-fOrm2sx",
        "outputId": "9199eb21-ce30-48bf-8f66-ffeb039d29b5"
      },
      "source": [
        "plt.hist(placement_data['ssc_p'])\n",
        "plt.xlabel('10th Grade Percantage (%)')\n",
        "plt.ylabel('Count')\n",
        "plt.show();"
      ],
      "execution_count": 64,
      "outputs": [
        {
          "output_type": "display_data",
          "data": {
            "image/png": "[encoded data removed]",
            "text/plain": [
              "<Figure size 432x288 with 1 Axes>"
            ]
          },
          "metadata": {}
        }
      ]
    },
    {
      "cell_type": "code",
      "metadata": {
        "colab": {
          "base_uri": "https://localhost:8080/",
          "height": 315
        },
        "id": "WpzcsF2npOIf",
        "outputId": "672d1e54-b181-456a-d8e5-ff67ab084a1f"
      },
      "source": [
        "placement_data['ssc_b'].value_counts().plot(kind = 'bar', xlabel = '10th Grade - Board of Education', ylabel = 'Count');"
      ],
      "execution_count": 65,
      "outputs": [
        {
          "output_type": "display_data",
          "data": {
            "image/png": "[encoded data removed]",
            "text/plain": [
              "<Figure size 432x288 with 1 Axes>"
            ]
          },
          "metadata": {}
        }
      ]
    },
    {
      "cell_type": "code",
      "metadata": {
        "colab": {
          "base_uri": "https://localhost:8080/",
          "height": 284
        },
        "id": "P0oDrFd0rifI",
        "outputId": "b1c77426-e5a4-4275-9670-ceea5a90daef"
      },
      "source": [
        "plt.hist(placement_data['hsc_p'])\n",
        "plt.xlabel('12th Grade Percantage (%)')\n",
        "plt.ylabel('Count')\n",
        "plt.show();"
      ],
      "execution_count": 481,
      "outputs": [
        {
          "output_type": "display_data",
          "data": {
            "image/png": "[encoded data removed]",
            "text/plain": [
              "<Figure size 432x288 with 1 Axes>"
            ]
          },
          "metadata": {}
        }
      ]
    },
    {
      "cell_type": "code",
      "metadata": {
        "colab": {
          "base_uri": "https://localhost:8080/",
          "height": 314
        },
        "id": "Cvo2KXBJr4K8",
        "outputId": "1d5786a0-78e7-49bd-e241-de523af14f9b"
      },
      "source": [
        "placement_data['hsc_b'].value_counts().plot(kind = 'bar', xlabel = '12th Grade - Board of Education', ylabel = 'Count');"
      ],
      "execution_count": 482,
      "outputs": [
        {
          "output_type": "display_data",
          "data": {
            "image/png": "[encoded data removed]",
            "text/plain": [
              "<Figure size 432x288 with 1 Axes>"
            ]
          },
          "metadata": {}
        }
      ]
    },
    {
      "cell_type": "code",
      "metadata": {
        "colab": {
          "base_uri": "https://localhost:8080/",
          "height": 285
        },
        "id": "hBPPFiyOr9Ke",
        "outputId": "161d0db1-e4d0-4153-a460-fbeae7edccce"
      },
      "source": [
        "plt.hist(placement_data['degree_p'])\n",
        "plt.xlabel('Degree Grade Percantage (%)')\n",
        "plt.ylabel('Count')\n",
        "plt.show();"
      ],
      "execution_count": 483,
      "outputs": [
        {
          "output_type": "display_data",
          "data": {
            "image/png": "[encoded data removed]",
            "text/plain": [
              "<Figure size 432x288 with 1 Axes>"
            ]
          },
          "metadata": {}
        }
      ]
    },
    {
      "cell_type": "code",
      "metadata": {
        "colab": {
          "base_uri": "https://localhost:8080/",
          "height": 351
        },
        "id": "_UL1eqABsLtK",
        "outputId": "f0d5423a-5f5b-4e93-9236-69f5b1dd8a10"
      },
      "source": [
        "placement_data['degree_t'].value_counts().plot(kind = 'bar', xlabel = 'Degree Type', ylabel = 'Count');"
      ],
      "execution_count": 484,
      "outputs": [
        {
          "output_type": "display_data",
          "data": {
            "image/png": "[encoded data removed]",
            "text/plain": [
              "<Figure size 432x288 with 1 Axes>"
            ]
          },
          "metadata": {}
        }
      ]
    },
    {
      "cell_type": "code",
      "metadata": {
        "colab": {
          "base_uri": "https://localhost:8080/",
          "height": 293
        },
        "id": "fy2u_7U9sSXG",
        "outputId": "e8653ae3-0d15-41c7-cb9e-7c302d721268"
      },
      "source": [
        "placement_data['workex'].value_counts().plot(kind = 'bar', xlabel = 'Work Experience', ylabel = 'Count');"
      ],
      "execution_count": 485,
      "outputs": [
        {
          "output_type": "display_data",
          "data": {
            "image/png": "[encoded data removed]",
            "text/plain": [
              "<Figure size 432x288 with 1 Axes>"
            ]
          },
          "metadata": {}
        }
      ]
    },
    {
      "cell_type": "code",
      "metadata": {
        "colab": {
          "base_uri": "https://localhost:8080/",
          "height": 284
        },
        "id": "4zDY7SPGsltX",
        "outputId": "1d71e4d9-2d88-469c-f2d8-f17f42114d82"
      },
      "source": [
        "plt.hist(placement_data['etest_p'])\n",
        "plt.xlabel('Entrance Test Percantage (%)')\n",
        "plt.ylabel('Count')\n",
        "plt.show();"
      ],
      "execution_count": 486,
      "outputs": [
        {
          "output_type": "display_data",
          "data": {
            "image/png": "[encoded data removed]",
            "text/plain": [
              "<Figure size 432x288 with 1 Axes>"
            ]
          },
          "metadata": {}
        }
      ]
    },
    {
      "cell_type": "code",
      "metadata": {
        "colab": {
          "base_uri": "https://localhost:8080/",
          "height": 320
        },
        "id": "pdWELmGnvMzL",
        "outputId": "f5022c52-6d79-4f7b-b8f2-0c8724c2e84f"
      },
      "source": [
        "placement_data['specialisation'].value_counts().plot(kind = 'bar', xlabel = 'Specialisation', ylabel = 'Count');"
      ],
      "execution_count": 487,
      "outputs": [
        {
          "output_type": "display_data",
          "data": {
            "image/png": "[encoded data removed]",
            "text/plain": [
              "<Figure size 432x288 with 1 Axes>"
            ]
          },
          "metadata": {}
        }
      ]
    },
    {
      "cell_type": "code",
      "metadata": {
        "colab": {
          "base_uri": "https://localhost:8080/",
          "height": 284
        },
        "id": "L2NwdTRHvWXK",
        "outputId": "13cf7b2e-518d-47bb-d2ea-3201be625e58"
      },
      "source": [
        "plt.hist(placement_data['mba_p'])\n",
        "plt.xlabel('MBA Grade Percantage (%)')\n",
        "plt.ylabel('Count')\n",
        "plt.show();"
      ],
      "execution_count": 488,
      "outputs": [
        {
          "output_type": "display_data",
          "data": {
            "image/png": "[encoded data removed]",
            "text/plain": [
              "<Figure size 432x288 with 1 Axes>"
            ]
          },
          "metadata": {}
        }
      ]
    },
    {
      "cell_type": "code",
      "metadata": {
        "id": "DE9nhXA2xHxw",
        "colab": {
          "base_uri": "https://localhost:8080/",
          "height": 334
        },
        "outputId": "565e8a23-4b72-479a-c0fa-a9f465f6bbaf"
      },
      "source": [
        "placement_data['status'].value_counts().plot(kind = 'bar', xlabel = 'Placement Status', ylabel = 'Count');"
      ],
      "execution_count": 489,
      "outputs": [
        {
          "output_type": "display_data",
          "data": {
            "image/png": "[encoded data removed]",
            "text/plain": [
              "<Figure size 432x288 with 1 Axes>"
            ]
          },
          "metadata": {}
        }
      ]
    },
    {
      "cell_type": "code",
      "metadata": {
        "colab": {
          "base_uri": "https://localhost:8080/",
          "height": 284
        },
        "id": "c2V441r0xjtl",
        "outputId": "3039737d-c545-42d3-d43d-018d7c1d600a"
      },
      "source": [
        "plt.hist(placement_data['salary'])\n",
        "plt.xlabel('salary (INR)')\n",
        "plt.ylabel('Count')\n",
        "current_values = plt.gca().get_xticks()\n",
        "plt.gca().set_xticklabels(['{:1.0f}K'.format(x) for x in current_values * 0.001])\n",
        "plt.show();"
      ],
      "execution_count": 490,
      "outputs": [
        {
          "output_type": "display_data",
          "data": {
            "image/png": "[encoded data removed]",
            "text/plain": [
              "<Figure size 432x288 with 1 Axes>"
            ]
          },
          "metadata": {}
        }
      ]
    },
    {
      "cell_type": "code",
      "metadata": {
        "id": "0_6pve_mhatl",
        "colab": {
          "base_uri": "https://localhost:8080/",
          "height": 616
        },
        "outputId": "389b5c5a-4e3e-4e02-b53c-5c5530102d46"
      },
      "source": [
        "placement_data_corr = placement_data.drop(['sl_no'], axis = 1)\n",
        "pd_corr = placement_data_corr.corr()\n",
        "sns.set(rc = {'figure.figsize':(18,10)})\n",
        "sns.heatmap(pd_corr, \n",
        "            xticklabels = pd_corr.columns, \n",
        "            yticklabels = pd_corr.columns, \n",
        "            annot = True, \n",
        "            cmap = sns.diverging_palette(220, 20, as_cmap = True))"
      ],
      "execution_count": 491,
      "outputs": [
        {
          "output_type": "execute_result",
          "data": {
            "text/plain": [
              "<matplotlib.axes._subplots.AxesSubplot at 0x7fede13fa7d0>"
            ]
          },
          "metadata": {},
          "execution_count": 491
        },
        {
          "output_type": "display_data",
          "data": {
            "image/png": "[encoded data removed]",
            "text/plain": [
              "<Figure size 1296x720 with 2 Axes>"
            ]
          },
          "metadata": {}
        }
      ]
    },
    {
      "cell_type": "code",
      "metadata": {
        "id": "LEf1scC8ieb-",
        "colab": {
          "base_uri": "https://localhost:8080/"
        },
        "outputId": "d5631fb4-9f6c-4da6-8b7c-cf39c99827dc"
      },
      "source": [
        "placement_data.isnull().sum()"
      ],
      "execution_count": 492,
      "outputs": [
        {
          "output_type": "execute_result",
          "data": {
            "text/plain": [
              "sl_no              0\n",
              "gender             0\n",
              "ssc_p              0\n",
              "ssc_b              0\n",
              "hsc_p              0\n",
              "hsc_b              0\n",
              "hsc_s              0\n",
              "degree_p           0\n",
              "degree_t           0\n",
              "workex             0\n",
              "etest_p            0\n",
              "specialisation     0\n",
              "mba_p              0\n",
              "status             0\n",
              "salary            67\n",
              "dtype: int64"
            ]
          },
          "metadata": {},
          "execution_count": 492
        }
      ]
    },
    {
      "cell_type": "code",
      "metadata": {
        "id": "OFZF2denkRHn",
        "colab": {
          "base_uri": "https://localhost:8080/"
        },
        "outputId": "690266db-0f75-465d-df9f-679b9d27c28b"
      },
      "source": [
        "duplicateRowsDF = body_fat_data[placement_data.duplicated()]\n",
        "print(\"Duplicate Rows except first occurrence based on all columns are :\", duplicateRowsDF)"
      ],
      "execution_count": 493,
      "outputs": [
        {
          "output_type": "stream",
          "name": "stdout",
          "text": [
            "Duplicate Rows except first occurrence based on all columns are : Empty DataFrame\n",
            "Columns: [sl_no, gender, ssc_p, ssc_b, hsc_p, hsc_b, hsc_s, degree_p, degree_t, workex, etest_p, specialisation, mba_p, status, salary]\n",
            "Index: []\n"
          ]
        }
      ]
    },
    {
      "cell_type": "markdown",
      "metadata": {
        "id": "FoIfx23LaRtK"
      },
      "source": [
        "### Question C: Obsrvations based on data exploration.\n",
        "*   The dataset has 15 features, whom 1 is a serial integer, 6 are numerical features and 8 are categorical features. \n",
        "*   The dataset contains 215 observations.\n",
        "*   All columns have the same number of values except the 'salary' column. Only 148 observations have a value for the 'salary' column and the rest don't as they didn't get a placement.\n",
        "*   The observations consist of 139 males and 76 females.\n",
        "*   The mean of the 10th grade, 12th grade, and degree percentage scores hover around 66 %.\n",
        "*   The student placement salaries are mostly between 200K to 400K INR.\n",
        "*   There are only null values in the 'salary' column.\n",
        "*   There no duplicate observations. "
      ]
    },
    {
      "cell_type": "markdown",
      "metadata": {
        "id": "7j63REnb3Ovf"
      },
      "source": [
        "### Question C: Features to be used\n",
        "For the sake of this study, the serial integer, the categorical features and the salary of students will be omitted. The target variable will be the 'Work Placement' categorical features and the remaining features will be predictors."
      ]
    },
    {
      "cell_type": "code",
      "metadata": {
        "id": "UdCbj8ftkpmr"
      },
      "source": [
        "# Question C: Segregate the predictors and target variable.\n",
        "X_C = placement_data[['ssc_p', 'hsc_p', 'degree_p', 'etest_p', 'mba_p']]\n",
        "y_C = placement_data['status']"
      ],
      "execution_count": 494,
      "outputs": []
    },
    {
      "cell_type": "code",
      "metadata": {
        "id": "PltsDQeslocx",
        "colab": {
          "base_uri": "https://localhost:8080/",
          "height": 202
        },
        "outputId": "57206e5b-396c-4d9e-b2bb-dea9c0fe4041"
      },
      "source": [
        "X_C.head()"
      ],
      "execution_count": 495,
      "outputs": [
        {
          "output_type": "execute_result",
          "data": {
            "text/html": [
              "<div>\n",
              "<style scoped>\n",
              "    .dataframe tbody tr th:only-of-type {\n",
              "        vertical-align: middle;\n",
              "    }\n",
              "\n",
              "    .dataframe tbody tr th {\n",
              "        vertical-align: top;\n",
              "    }\n",
              "\n",
              "    .dataframe thead th {\n",
              "        text-align: right;\n",
              "    }\n",
              "</style>\n",
              "<table border=\"1\" class=\"dataframe\">\n",
              "  <thead>\n",
              "    <tr style=\"text-align: right;\">\n",
              "      <th></th>\n",
              "      <th>ssc_p</th>\n",
              "      <th>hsc_p</th>\n",
              "      <th>degree_p</th>\n",
              "      <th>etest_p</th>\n",
              "      <th>mba_p</th>\n",
              "    </tr>\n",
              "  </thead>\n",
              "  <tbody>\n",
              "    <tr>\n",
              "      <th>0</th>\n",
              "      <td>67.00</td>\n",
              "      <td>91.00</td>\n",
              "      <td>58.00</td>\n",
              "      <td>55.0</td>\n",
              "      <td>58.80</td>\n",
              "    </tr>\n",
              "    <tr>\n",
              "      <th>1</th>\n",
              "      <td>79.33</td>\n",
              "      <td>78.33</td>\n",
              "      <td>77.48</td>\n",
              "      <td>86.5</td>\n",
              "      <td>66.28</td>\n",
              "    </tr>\n",
              "    <tr>\n",
              "      <th>2</th>\n",
              "      <td>65.00</td>\n",
              "      <td>68.00</td>\n",
              "      <td>64.00</td>\n",
              "      <td>75.0</td>\n",
              "      <td>57.80</td>\n",
              "    </tr>\n",
              "    <tr>\n",
              "      <th>3</th>\n",
              "      <td>56.00</td>\n",
              "      <td>52.00</td>\n",
              "      <td>52.00</td>\n",
              "      <td>66.0</td>\n",
              "      <td>59.43</td>\n",
              "    </tr>\n",
              "    <tr>\n",
              "      <th>4</th>\n",
              "      <td>85.80</td>\n",
              "      <td>73.60</td>\n",
              "      <td>73.30</td>\n",
              "      <td>96.8</td>\n",
              "      <td>55.50</td>\n",
              "    </tr>\n",
              "  </tbody>\n",
              "</table>\n",
              "</div>"
            ],
            "text/plain": [
              "   ssc_p  hsc_p  degree_p  etest_p  mba_p\n",
              "0  67.00  91.00     58.00     55.0  58.80\n",
              "1  79.33  78.33     77.48     86.5  66.28\n",
              "2  65.00  68.00     64.00     75.0  57.80\n",
              "3  56.00  52.00     52.00     66.0  59.43\n",
              "4  85.80  73.60     73.30     96.8  55.50"
            ]
          },
          "metadata": {},
          "execution_count": 495
        }
      ]
    },
    {
      "cell_type": "code",
      "metadata": {
        "id": "TS-P0znGlq7E",
        "colab": {
          "base_uri": "https://localhost:8080/"
        },
        "outputId": "8fe28c11-408b-4492-ac3a-bb4d3fee360c"
      },
      "source": [
        "y_C.head()"
      ],
      "execution_count": 496,
      "outputs": [
        {
          "output_type": "execute_result",
          "data": {
            "text/plain": [
              "0        Placed\n",
              "1        Placed\n",
              "2        Placed\n",
              "3    Not Placed\n",
              "4        Placed\n",
              "Name: status, dtype: object"
            ]
          },
          "metadata": {},
          "execution_count": 496
        }
      ]
    },
    {
      "cell_type": "code",
      "metadata": {
        "id": "_Z9UOIaXo_WJ"
      },
      "source": [
        "# Question C: Split the dataset into training (70%) and test sets (30%). 'C' is for 'Question C'.\n",
        "from sklearn.model_selection import train_test_split\n",
        "X_train_C, X_test_C, y_train_C, y_test_C = train_test_split(X_C, y_C, test_size = 0.3, random_state = 10)"
      ],
      "execution_count": 497,
      "outputs": []
    },
    {
      "cell_type": "code",
      "metadata": {
        "id": "nR5ghw_NWMHA"
      },
      "source": [
        "# Question C: Scale data for testing and training.\n",
        "scaler = StandardScaler().fit(X_train_C)\n",
        "X_train_scaled = scaler.transform(X_train_C)\n",
        "X_test_scaled = scaler.transform(X_test_C)"
      ],
      "execution_count": 498,
      "outputs": []
    },
    {
      "cell_type": "code",
      "metadata": {
        "id": "2EuNaRBktq8h",
        "colab": {
          "base_uri": "https://localhost:8080/"
        },
        "outputId": "13cf0d19-f07e-4fd6-e43a-e5344597a9b6"
      },
      "source": [
        "# Question C: Build random forest classifier.\n",
        "from sklearn.model_selection import GridSearchCV\n",
        "from sklearn.ensemble import RandomForestClassifier\n",
        "from sklearn.model_selection import KFold\n",
        "kf_5 = KFold(n_splits = 5)\n",
        "rfc_ = RandomForestClassifier()\n",
        "dict_para = {'n_estimators': [20, 40, 80, 100], 'min_samples_split': [4, 8, 12], 'criterion': ('gini', 'entropy'), 'max_leaf_nodes': [4, 8, 12]}\n",
        "gscv_rfc_ = GridSearchCV(rfc_ ,dict_para, cv = kf_5)\n",
        "gscv_rfc_.fit(X_train_scaled, y_train_C)"
      ],
      "execution_count": 499,
      "outputs": [
        {
          "output_type": "execute_result",
          "data": {
            "text/plain": [
              "GridSearchCV(cv=KFold(n_splits=5, random_state=None, shuffle=False),\n",
              "             estimator=RandomForestClassifier(),\n",
              "             param_grid={'criterion': ('gini', 'entropy'),\n",
              "                         'max_leaf_nodes': [4, 8, 12],\n",
              "                         'min_samples_split': [4, 8, 12],\n",
              "                         'n_estimators': [20, 40, 80, 100]})"
            ]
          },
          "metadata": {},
          "execution_count": 499
        }
      ]
    },
    {
      "cell_type": "code",
      "metadata": {
        "id": "ZLo5KjgVzw0Q",
        "colab": {
          "base_uri": "https://localhost:8080/"
        },
        "outputId": "a2497442-453a-4e16-9f60-66b217f40f61"
      },
      "source": [
        "gscv_rfc_.best_params_"
      ],
      "execution_count": 500,
      "outputs": [
        {
          "output_type": "execute_result",
          "data": {
            "text/plain": [
              "{'criterion': 'gini',\n",
              " 'max_leaf_nodes': 12,\n",
              " 'min_samples_split': 8,\n",
              " 'n_estimators': 20}"
            ]
          },
          "metadata": {},
          "execution_count": 500
        }
      ]
    },
    {
      "cell_type": "code",
      "metadata": {
        "id": "2GKwKO8qzylq",
        "colab": {
          "base_uri": "https://localhost:8080/",
          "height": 388
        },
        "outputId": "544d2d1c-696a-4ae1-f62e-bc6d4f3dc9ba"
      },
      "source": [
        "results_rfc_ = pd.DataFrame(gscv.cv_results_)\n",
        "results_rfc_.head()"
      ],
      "execution_count": 501,
      "outputs": [
        {
          "output_type": "execute_result",
          "data": {
            "text/html": [
              "<div>\n",
              "<style scoped>\n",
              "    .dataframe tbody tr th:only-of-type {\n",
              "        vertical-align: middle;\n",
              "    }\n",
              "\n",
              "    .dataframe tbody tr th {\n",
              "        vertical-align: top;\n",
              "    }\n",
              "\n",
              "    .dataframe thead th {\n",
              "        text-align: right;\n",
              "    }\n",
              "</style>\n",
              "<table border=\"1\" class=\"dataframe\">\n",
              "  <thead>\n",
              "    <tr style=\"text-align: right;\">\n",
              "      <th></th>\n",
              "      <th>mean_fit_time</th>\n",
              "      <th>std_fit_time</th>\n",
              "      <th>mean_score_time</th>\n",
              "      <th>std_score_time</th>\n",
              "      <th>param_C</th>\n",
              "      <th>param_kernel</th>\n",
              "      <th>params</th>\n",
              "      <th>split0_test_score</th>\n",
              "      <th>split1_test_score</th>\n",
              "      <th>split2_test_score</th>\n",
              "      <th>split3_test_score</th>\n",
              "      <th>split4_test_score</th>\n",
              "      <th>mean_test_score</th>\n",
              "      <th>std_test_score</th>\n",
              "      <th>rank_test_score</th>\n",
              "    </tr>\n",
              "  </thead>\n",
              "  <tbody>\n",
              "    <tr>\n",
              "      <th>0</th>\n",
              "      <td>0.002746</td>\n",
              "      <td>0.001915</td>\n",
              "      <td>0.000577</td>\n",
              "      <td>0.000079</td>\n",
              "      <td>4</td>\n",
              "      <td>linear</td>\n",
              "      <td>{'C': 4, 'kernel': 'linear'}</td>\n",
              "      <td>0.833333</td>\n",
              "      <td>0.8</td>\n",
              "      <td>0.900000</td>\n",
              "      <td>0.800000</td>\n",
              "      <td>0.900000</td>\n",
              "      <td>0.846667</td>\n",
              "      <td>0.045216</td>\n",
              "      <td>6</td>\n",
              "    </tr>\n",
              "    <tr>\n",
              "      <th>1</th>\n",
              "      <td>0.001230</td>\n",
              "      <td>0.000062</td>\n",
              "      <td>0.000510</td>\n",
              "      <td>0.000005</td>\n",
              "      <td>4</td>\n",
              "      <td>poly</td>\n",
              "      <td>{'C': 4, 'kernel': 'poly'}</td>\n",
              "      <td>0.833333</td>\n",
              "      <td>0.7</td>\n",
              "      <td>0.866667</td>\n",
              "      <td>0.800000</td>\n",
              "      <td>0.900000</td>\n",
              "      <td>0.820000</td>\n",
              "      <td>0.068638</td>\n",
              "      <td>20</td>\n",
              "    </tr>\n",
              "    <tr>\n",
              "      <th>2</th>\n",
              "      <td>0.001497</td>\n",
              "      <td>0.000207</td>\n",
              "      <td>0.000638</td>\n",
              "      <td>0.000059</td>\n",
              "      <td>4</td>\n",
              "      <td>rbf</td>\n",
              "      <td>{'C': 4, 'kernel': 'rbf'}</td>\n",
              "      <td>0.833333</td>\n",
              "      <td>0.8</td>\n",
              "      <td>0.933333</td>\n",
              "      <td>0.800000</td>\n",
              "      <td>0.933333</td>\n",
              "      <td>0.860000</td>\n",
              "      <td>0.061101</td>\n",
              "      <td>3</td>\n",
              "    </tr>\n",
              "    <tr>\n",
              "      <th>3</th>\n",
              "      <td>0.001262</td>\n",
              "      <td>0.000046</td>\n",
              "      <td>0.000548</td>\n",
              "      <td>0.000009</td>\n",
              "      <td>4</td>\n",
              "      <td>sigmoid</td>\n",
              "      <td>{'C': 4, 'kernel': 'sigmoid'}</td>\n",
              "      <td>0.833333</td>\n",
              "      <td>0.7</td>\n",
              "      <td>0.833333</td>\n",
              "      <td>0.866667</td>\n",
              "      <td>0.833333</td>\n",
              "      <td>0.813333</td>\n",
              "      <td>0.058119</td>\n",
              "      <td>23</td>\n",
              "    </tr>\n",
              "    <tr>\n",
              "      <th>4</th>\n",
              "      <td>0.002909</td>\n",
              "      <td>0.000981</td>\n",
              "      <td>0.000601</td>\n",
              "      <td>0.000048</td>\n",
              "      <td>8</td>\n",
              "      <td>linear</td>\n",
              "      <td>{'C': 8, 'kernel': 'linear'}</td>\n",
              "      <td>0.800000</td>\n",
              "      <td>0.8</td>\n",
              "      <td>0.900000</td>\n",
              "      <td>0.800000</td>\n",
              "      <td>0.900000</td>\n",
              "      <td>0.840000</td>\n",
              "      <td>0.048990</td>\n",
              "      <td>10</td>\n",
              "    </tr>\n",
              "  </tbody>\n",
              "</table>\n",
              "</div>"
            ],
            "text/plain": [
              "   mean_fit_time  std_fit_time  ...  std_test_score  rank_test_score\n",
              "0       0.002746      0.001915  ...        0.045216                6\n",
              "1       0.001230      0.000062  ...        0.068638               20\n",
              "2       0.001497      0.000207  ...        0.061101                3\n",
              "3       0.001262      0.000046  ...        0.058119               23\n",
              "4       0.002909      0.000981  ...        0.048990               10\n",
              "\n",
              "[5 rows x 15 columns]"
            ]
          },
          "metadata": {},
          "execution_count": 501
        }
      ]
    },
    {
      "cell_type": "code",
      "metadata": {
        "id": "_xA-6lJDz53i",
        "colab": {
          "base_uri": "https://localhost:8080/"
        },
        "outputId": "ef0878d2-ff0f-4a36-8098-92ae50eab575"
      },
      "source": [
        "best_gs_est_rfc_ = gscv.best_estimator_\n",
        "best_gs_est_rfc_"
      ],
      "execution_count": 502,
      "outputs": [
        {
          "output_type": "execute_result",
          "data": {
            "text/plain": [
              "SVC(C=36, kernel='poly')"
            ]
          },
          "metadata": {},
          "execution_count": 502
        }
      ]
    },
    {
      "cell_type": "code",
      "metadata": {
        "id": "p6JAdhHi0QKF"
      },
      "source": [
        "y_pred_rfc_ = best_gs_est_rfc_.predict(X_test_scaled)"
      ],
      "execution_count": 503,
      "outputs": []
    },
    {
      "cell_type": "code",
      "metadata": {
        "colab": {
          "base_uri": "https://localhost:8080/"
        },
        "id": "5xmEvjPOZnKq",
        "outputId": "12617296-795b-40c4-9dfa-2eab37134d2a"
      },
      "source": [
        "from sklearn.metrics import confusion_matrix\n",
        "confusing_matric_rfc_ = confusion_matrix(y_test_C, y_pred_rfc_)\n",
        "print(confusing_matric_rfc_)"
      ],
      "execution_count": 504,
      "outputs": [
        {
          "output_type": "stream",
          "name": "stdout",
          "text": [
            "[[16  7]\n",
            " [ 5 37]]\n"
          ]
        }
      ]
    },
    {
      "cell_type": "code",
      "metadata": {
        "colab": {
          "base_uri": "https://localhost:8080/"
        },
        "id": "IGNeYHSeaCxD",
        "outputId": "e8ce925f-4065-402f-cd29-d7edb61312d4"
      },
      "source": [
        "from sklearn.metrics import classification_report\n",
        "print(classification_report(y_test_C, y_pred_rfc_))"
      ],
      "execution_count": 505,
      "outputs": [
        {
          "output_type": "stream",
          "name": "stdout",
          "text": [
            "              precision    recall  f1-score   support\n",
            "\n",
            "  Not Placed       0.76      0.70      0.73        23\n",
            "      Placed       0.84      0.88      0.86        42\n",
            "\n",
            "    accuracy                           0.82        65\n",
            "   macro avg       0.80      0.79      0.79        65\n",
            "weighted avg       0.81      0.82      0.81        65\n",
            "\n"
          ]
        }
      ]
    },
    {
      "cell_type": "code",
      "metadata": {
        "id": "smRuoXgk1V82",
        "colab": {
          "base_uri": "https://localhost:8080/"
        },
        "outputId": "9edf2721-4030-4341-b13e-952f19cd0753"
      },
      "source": [
        "# Question C: Build support vector classifier.\n",
        "from sklearn.model_selection import GridSearchCV\n",
        "from sklearn.svm import SVC\n",
        "from sklearn.model_selection import KFold\n",
        "kf_5 = KFold(n_splits = 5)\n",
        "svc_ = SVC()\n",
        "dict_para = {'kernel' : ['linear', 'poly', 'rbf', 'sigmoid'], 'C' : [4, 8, 12, 16, 20, 24, 28, 32, 36, 40, 44, 48]}\n",
        "gscv_svc_ = GridSearchCV(svc_ , dict_para, cv = kf_5)\n",
        "gscv_svc_.fit(X_train_scaled, y_train_C)"
      ],
      "execution_count": 506,
      "outputs": [
        {
          "output_type": "execute_result",
          "data": {
            "text/plain": [
              "GridSearchCV(cv=KFold(n_splits=5, random_state=None, shuffle=False),\n",
              "             estimator=SVC(),\n",
              "             param_grid={'C': [4, 8, 12, 16, 20, 24, 28, 32, 36, 40, 44, 48],\n",
              "                         'kernel': ['linear', 'poly', 'rbf', 'sigmoid']})"
            ]
          },
          "metadata": {},
          "execution_count": 506
        }
      ]
    },
    {
      "cell_type": "code",
      "metadata": {
        "id": "ICDilYZM5db0",
        "colab": {
          "base_uri": "https://localhost:8080/"
        },
        "outputId": "fc25393f-af57-4fc5-aed9-a5db68f72a1a"
      },
      "source": [
        "gscv_svc_.best_params_"
      ],
      "execution_count": 507,
      "outputs": [
        {
          "output_type": "execute_result",
          "data": {
            "text/plain": [
              "{'C': 36, 'kernel': 'poly'}"
            ]
          },
          "metadata": {},
          "execution_count": 507
        }
      ]
    },
    {
      "cell_type": "code",
      "metadata": {
        "id": "ZOLkLCF95joy",
        "colab": {
          "base_uri": "https://localhost:8080/",
          "height": 388
        },
        "outputId": "340cfb14-2b1f-42b2-b801-7f1ffa00fb58"
      },
      "source": [
        "results_svc_ = pd.DataFrame(gscv.cv_results_)\n",
        "results_svc_.head()"
      ],
      "execution_count": 508,
      "outputs": [
        {
          "output_type": "execute_result",
          "data": {
            "text/html": [
              "<div>\n",
              "<style scoped>\n",
              "    .dataframe tbody tr th:only-of-type {\n",
              "        vertical-align: middle;\n",
              "    }\n",
              "\n",
              "    .dataframe tbody tr th {\n",
              "        vertical-align: top;\n",
              "    }\n",
              "\n",
              "    .dataframe thead th {\n",
              "        text-align: right;\n",
              "    }\n",
              "</style>\n",
              "<table border=\"1\" class=\"dataframe\">\n",
              "  <thead>\n",
              "    <tr style=\"text-align: right;\">\n",
              "      <th></th>\n",
              "      <th>mean_fit_time</th>\n",
              "      <th>std_fit_time</th>\n",
              "      <th>mean_score_time</th>\n",
              "      <th>std_score_time</th>\n",
              "      <th>param_C</th>\n",
              "      <th>param_kernel</th>\n",
              "      <th>params</th>\n",
              "      <th>split0_test_score</th>\n",
              "      <th>split1_test_score</th>\n",
              "      <th>split2_test_score</th>\n",
              "      <th>split3_test_score</th>\n",
              "      <th>split4_test_score</th>\n",
              "      <th>mean_test_score</th>\n",
              "      <th>std_test_score</th>\n",
              "      <th>rank_test_score</th>\n",
              "    </tr>\n",
              "  </thead>\n",
              "  <tbody>\n",
              "    <tr>\n",
              "      <th>0</th>\n",
              "      <td>0.002746</td>\n",
              "      <td>0.001915</td>\n",
              "      <td>0.000577</td>\n",
              "      <td>0.000079</td>\n",
              "      <td>4</td>\n",
              "      <td>linear</td>\n",
              "      <td>{'C': 4, 'kernel': 'linear'}</td>\n",
              "      <td>0.833333</td>\n",
              "      <td>0.8</td>\n",
              "      <td>0.900000</td>\n",
              "      <td>0.800000</td>\n",
              "      <td>0.900000</td>\n",
              "      <td>0.846667</td>\n",
              "      <td>0.045216</td>\n",
              "      <td>6</td>\n",
              "    </tr>\n",
              "    <tr>\n",
              "      <th>1</th>\n",
              "      <td>0.001230</td>\n",
              "      <td>0.000062</td>\n",
              "      <td>0.000510</td>\n",
              "      <td>0.000005</td>\n",
              "      <td>4</td>\n",
              "      <td>poly</td>\n",
              "      <td>{'C': 4, 'kernel': 'poly'}</td>\n",
              "      <td>0.833333</td>\n",
              "      <td>0.7</td>\n",
              "      <td>0.866667</td>\n",
              "      <td>0.800000</td>\n",
              "      <td>0.900000</td>\n",
              "      <td>0.820000</td>\n",
              "      <td>0.068638</td>\n",
              "      <td>20</td>\n",
              "    </tr>\n",
              "    <tr>\n",
              "      <th>2</th>\n",
              "      <td>0.001497</td>\n",
              "      <td>0.000207</td>\n",
              "      <td>0.000638</td>\n",
              "      <td>0.000059</td>\n",
              "      <td>4</td>\n",
              "      <td>rbf</td>\n",
              "      <td>{'C': 4, 'kernel': 'rbf'}</td>\n",
              "      <td>0.833333</td>\n",
              "      <td>0.8</td>\n",
              "      <td>0.933333</td>\n",
              "      <td>0.800000</td>\n",
              "      <td>0.933333</td>\n",
              "      <td>0.860000</td>\n",
              "      <td>0.061101</td>\n",
              "      <td>3</td>\n",
              "    </tr>\n",
              "    <tr>\n",
              "      <th>3</th>\n",
              "      <td>0.001262</td>\n",
              "      <td>0.000046</td>\n",
              "      <td>0.000548</td>\n",
              "      <td>0.000009</td>\n",
              "      <td>4</td>\n",
              "      <td>sigmoid</td>\n",
              "      <td>{'C': 4, 'kernel': 'sigmoid'}</td>\n",
              "      <td>0.833333</td>\n",
              "      <td>0.7</td>\n",
              "      <td>0.833333</td>\n",
              "      <td>0.866667</td>\n",
              "      <td>0.833333</td>\n",
              "      <td>0.813333</td>\n",
              "      <td>0.058119</td>\n",
              "      <td>23</td>\n",
              "    </tr>\n",
              "    <tr>\n",
              "      <th>4</th>\n",
              "      <td>0.002909</td>\n",
              "      <td>0.000981</td>\n",
              "      <td>0.000601</td>\n",
              "      <td>0.000048</td>\n",
              "      <td>8</td>\n",
              "      <td>linear</td>\n",
              "      <td>{'C': 8, 'kernel': 'linear'}</td>\n",
              "      <td>0.800000</td>\n",
              "      <td>0.8</td>\n",
              "      <td>0.900000</td>\n",
              "      <td>0.800000</td>\n",
              "      <td>0.900000</td>\n",
              "      <td>0.840000</td>\n",
              "      <td>0.048990</td>\n",
              "      <td>10</td>\n",
              "    </tr>\n",
              "  </tbody>\n",
              "</table>\n",
              "</div>"
            ],
            "text/plain": [
              "   mean_fit_time  std_fit_time  ...  std_test_score  rank_test_score\n",
              "0       0.002746      0.001915  ...        0.045216                6\n",
              "1       0.001230      0.000062  ...        0.068638               20\n",
              "2       0.001497      0.000207  ...        0.061101                3\n",
              "3       0.001262      0.000046  ...        0.058119               23\n",
              "4       0.002909      0.000981  ...        0.048990               10\n",
              "\n",
              "[5 rows x 15 columns]"
            ]
          },
          "metadata": {},
          "execution_count": 508
        }
      ]
    },
    {
      "cell_type": "code",
      "metadata": {
        "id": "Xp460Q1D6Fjv",
        "colab": {
          "base_uri": "https://localhost:8080/"
        },
        "outputId": "9524ed86-c65f-4d58-9278-18601cd358df"
      },
      "source": [
        "best_gs_est_svc_ = gscv.best_estimator_\n",
        "best_gs_est_svc_"
      ],
      "execution_count": 509,
      "outputs": [
        {
          "output_type": "execute_result",
          "data": {
            "text/plain": [
              "SVC(C=36, kernel='poly')"
            ]
          },
          "metadata": {},
          "execution_count": 509
        }
      ]
    },
    {
      "cell_type": "code",
      "metadata": {
        "id": "VO30O_ht6Ks7"
      },
      "source": [
        "y_pred_svc_ = best_gs_est_svc_.predict(X_test_scaled)"
      ],
      "execution_count": 510,
      "outputs": []
    },
    {
      "cell_type": "code",
      "metadata": {
        "colab": {
          "base_uri": "https://localhost:8080/"
        },
        "id": "0RZWs64FbbTs",
        "outputId": "ecaba536-c2e3-4e59-846d-a99bbe48a110"
      },
      "source": [
        "from sklearn.metrics import confusion_matrix\n",
        "confusing_matric_svc_ = confusion_matrix(y_test_C, y_pred_svc_)\n",
        "print(confusing_matric_svc_)"
      ],
      "execution_count": 511,
      "outputs": [
        {
          "output_type": "stream",
          "name": "stdout",
          "text": [
            "[[16  7]\n",
            " [ 5 37]]\n"
          ]
        }
      ]
    },
    {
      "cell_type": "code",
      "metadata": {
        "id": "quD8NW3s6NNN",
        "colab": {
          "base_uri": "https://localhost:8080/"
        },
        "outputId": "adda8b10-ceb2-4e68-94e0-117efa65ea66"
      },
      "source": [
        "from sklearn.metrics import classification_report\n",
        "print(classification_report(y_test_C, y_pred_svc_))"
      ],
      "execution_count": 512,
      "outputs": [
        {
          "output_type": "stream",
          "name": "stdout",
          "text": [
            "              precision    recall  f1-score   support\n",
            "\n",
            "  Not Placed       0.76      0.70      0.73        23\n",
            "      Placed       0.84      0.88      0.86        42\n",
            "\n",
            "    accuracy                           0.82        65\n",
            "   macro avg       0.80      0.79      0.79        65\n",
            "weighted avg       0.81      0.82      0.81        65\n",
            "\n"
          ]
        }
      ]
    },
    {
      "cell_type": "markdown",
      "metadata": {
        "id": "-a4RH3Fr7sin"
      },
      "source": [
        "### Question C: Evaluate Performance and choose the best model.\n",
        "Both models used a training and test split of respectfully 70 % and 30 %. Only the numerical features based on the 'salary' column were used as predictors to train the random forest (RFC) and support vector classifiers (SVC). The 'GridSearchCV' function was used to search for an optimal combination of parameters for each model type. The best parameters among the respective batches were used to generate a confusion matrix and classification report for both. When comparing their confusing matrices, they both yielded the same number of true positives (16) and false positives (7). However, the RFC had 2 false negatives and 27 true negatives but the SVC had a higher number of false negatives being 5 with 37 true negatives. As a result, when comparing their classification reports, the RFC had higher precision, recall, f1-score, and accuracy scores. Thus, RFC is the more performing model based on the features selected and model parameters tested."
      ]
    },
    {
      "cell_type": "markdown",
      "metadata": {
        "id": "JUCsQMN0UV5m"
      },
      "source": [
        "## **Part D** <font color=\"blue\">(3 points)</font>\n",
        "\n",
        "1. **<font color=\"blue\">(1 point)</font>** Generate $2$-dimentional data with $500$ observations from $3$ Gaussian clusters. \n",
        "2. **<font color=\"blue\">(0.5 points)</font>** Use a scatterplot to visualize the produced data. \n",
        "3. **<font color=\"blue\">(1 point)</font>** Shuffle the data and use $K$-means, with $K=2,3,4$ to cluster the data.\n",
        "4. **<font color=\"blue\">(0.5 points)</font>** Visualize the results, separately.  \n"
      ]
    },
    {
      "cell_type": "markdown",
      "metadata": {
        "id": "CWMAuGfg82W4"
      },
      "source": [
        "## Part D"
      ]
    },
    {
      "cell_type": "code",
      "metadata": {
        "id": "lz5VkDfM84LE",
        "colab": {
          "base_uri": "https://localhost:8080/",
          "height": 294
        },
        "outputId": "e1cfd2b2-95e1-4b08-f519-8ccd799b463f"
      },
      "source": [
        "# Question D1: Generate 2D data with 500 observations with 3 Gaussian clusters.\n",
        "import matplotlib.pyplot as plt\n",
        "plt.style.use('ggplot')\n",
        "import numpy as np\n",
        "import math\n",
        "import pandas as pd\n",
        "\n",
        "mean_d1 = [1, 2]\n",
        "mean_d2 = [3, 5]\n",
        "mean_d3 = [4, 0]\n",
        "cov = [[2, 1], [1, 2]] \n",
        "x1, y1 = np.random.multivariate_normal(mean_d1, cov, 167).T\n",
        "x2, y2 = np.random.multivariate_normal(mean_d2, cov, 167).T\n",
        "x3, y3 = np.random.multivariate_normal(mean_d3, cov, 166).T\n",
        "x = np.concatenate((x1, x2, x3), axis = 0)\n",
        "y = np.concatenate((y1, y2, y3), axis = 0)\n",
        "data = pd.DataFrame(data = np.hstack((x.reshape(-1, 1), y.reshape(-1, 1))),columns = ['x', 'y'])\n",
        "data.describe(include = 'all')"
      ],
      "execution_count": 519,
      "outputs": [
        {
          "output_type": "execute_result",
          "data": {
            "text/html": [
              "<div>\n",
              "<style scoped>\n",
              "    .dataframe tbody tr th:only-of-type {\n",
              "        vertical-align: middle;\n",
              "    }\n",
              "\n",
              "    .dataframe tbody tr th {\n",
              "        vertical-align: top;\n",
              "    }\n",
              "\n",
              "    .dataframe thead th {\n",
              "        text-align: right;\n",
              "    }\n",
              "</style>\n",
              "<table border=\"1\" class=\"dataframe\">\n",
              "  <thead>\n",
              "    <tr style=\"text-align: right;\">\n",
              "      <th></th>\n",
              "      <th>x</th>\n",
              "      <th>y</th>\n",
              "    </tr>\n",
              "  </thead>\n",
              "  <tbody>\n",
              "    <tr>\n",
              "      <th>count</th>\n",
              "      <td>500.000000</td>\n",
              "      <td>500.000000</td>\n",
              "    </tr>\n",
              "    <tr>\n",
              "      <th>mean</th>\n",
              "      <td>2.666043</td>\n",
              "      <td>2.369693</td>\n",
              "    </tr>\n",
              "    <tr>\n",
              "      <th>std</th>\n",
              "      <td>1.918688</td>\n",
              "      <td>2.486525</td>\n",
              "    </tr>\n",
              "    <tr>\n",
              "      <th>min</th>\n",
              "      <td>-2.561578</td>\n",
              "      <td>-3.515931</td>\n",
              "    </tr>\n",
              "    <tr>\n",
              "      <th>25%</th>\n",
              "      <td>1.256094</td>\n",
              "      <td>0.520385</td>\n",
              "    </tr>\n",
              "    <tr>\n",
              "      <th>50%</th>\n",
              "      <td>2.604932</td>\n",
              "      <td>2.177822</td>\n",
              "    </tr>\n",
              "    <tr>\n",
              "      <th>75%</th>\n",
              "      <td>4.151095</td>\n",
              "      <td>4.319486</td>\n",
              "    </tr>\n",
              "    <tr>\n",
              "      <th>max</th>\n",
              "      <td>8.441895</td>\n",
              "      <td>10.690813</td>\n",
              "    </tr>\n",
              "  </tbody>\n",
              "</table>\n",
              "</div>"
            ],
            "text/plain": [
              "                x           y\n",
              "count  500.000000  500.000000\n",
              "mean     2.666043    2.369693\n",
              "std      1.918688    2.486525\n",
              "min     -2.561578   -3.515931\n",
              "25%      1.256094    0.520385\n",
              "50%      2.604932    2.177822\n",
              "75%      4.151095    4.319486\n",
              "max      8.441895   10.690813"
            ]
          },
          "metadata": {},
          "execution_count": 519
        }
      ]
    },
    {
      "cell_type": "code",
      "metadata": {
        "colab": {
          "base_uri": "https://localhost:8080/",
          "height": 338
        },
        "id": "O9Pq6ISxktOI",
        "outputId": "addbe5da-8075-44e9-cbac-ebb5dec3243a"
      },
      "source": [
        "# Question D2: Plot scatter plot with clusters.\n",
        "plt.rcParams['figure.figsize'] = (10, 5)\n",
        "plt.style.use('ggplot')\n",
        "plt.scatter(x1, y1, color = 'red', marker = 'o')\n",
        "plt.scatter(x2, y2, color = 'blue', marker = 'X')\n",
        "plt.scatter(x3, y3, color = 'green', marker = '*')\n",
        "plt.xlabel('x')\n",
        "plt.ylabel('y')\n",
        "plt.show();"
      ],
      "execution_count": 530,
      "outputs": [
        {
          "output_type": "display_data",
          "data": {
            "image/png": "[encoded data removed]",
            "text/plain": [
              "<Figure size 720x360 with 1 Axes>"
            ]
          },
          "metadata": {}
        }
      ]
    },
    {
      "cell_type": "code",
      "metadata": {
        "id": "mggl3Y5gr-r6"
      },
      "source": [
        "# Question D3: Shuffle the data and cluster data with different K-means.\n",
        "from sklearn.utils import shuffle\n",
        "from sklearn.cluster import KMeans\n",
        "data_s = shuffle(data)\n",
        "centroids_list = []\n",
        "labels_list = []\n",
        "for clusters in range(2,5):\n",
        "  kmeans = KMeans(n_clusters = clusters)\n",
        "  kmeans = kmeans.fit(data_s)\n",
        "  labels = kmeans.predict(data_s)\n",
        "  centroids = kmeans.cluster_centers_\n",
        "  centroids_list.append(centroids)\n",
        "  labels_list.append(labels)"
      ],
      "execution_count": 521,
      "outputs": []
    },
    {
      "cell_type": "code",
      "metadata": {
        "colab": {
          "base_uri": "https://localhost:8080/",
          "height": 484
        },
        "id": "Jnl7XKxEzwye",
        "outputId": "8b077c67-c0cd-4de8-b14b-82639077544d"
      },
      "source": [
        "# Plot scatter plot for K = 2\n",
        "centroids = centroids_list[0]\n",
        "figsize = plt.figure(figsize = (12,8))\n",
        "plt.scatter(data_s['x'], data_s['y'], c = labels_list[0], s = 200, marker = \"+\") \n",
        "plt.scatter(centroids[:,0], centroids[:,1], c = 'blue', s = 1000, marker = \".\")\n",
        "plt.show();"
      ],
      "execution_count": 529,
      "outputs": [
        {
          "output_type": "display_data",
          "data": {
            "image/png": "[encoded data removed]",
            "text/plain": [
              "<Figure size 864x576 with 1 Axes>"
            ]
          },
          "metadata": {}
        }
      ]
    },
    {
      "cell_type": "code",
      "metadata": {
        "colab": {
          "base_uri": "https://localhost:8080/",
          "height": 484
        },
        "id": "t-Ild4Zd0a7k",
        "outputId": "5044f1d7-58a2-4d7f-f7ef-5a2df617c840"
      },
      "source": [
        "# Plot scatter plot for K = 3\n",
        "centroids = centroids_list[1]\n",
        "figsize = plt.figure(figsize = (12,8))\n",
        "plt.scatter(data_s['x'], data_s['y'], c = labels_list[1], s = 200, marker = \"+\") \n",
        "plt.scatter(centroids[:,0], centroids[:,1], c = 'red', s = 1000, marker = \".\")\n",
        "plt.show();"
      ],
      "execution_count": 528,
      "outputs": [
        {
          "output_type": "display_data",
          "data": {
            "image/png": "[encoded data removed]",
            "text/plain": [
              "<Figure size 864x576 with 1 Axes>"
            ]
          },
          "metadata": {}
        }
      ]
    },
    {
      "cell_type": "code",
      "metadata": {
        "colab": {
          "base_uri": "https://localhost:8080/",
          "height": 484
        },
        "id": "dz-dVbxA0bNu",
        "outputId": "b855d615-82a5-446f-fe58-b58ad9b14808"
      },
      "source": [
        "# Plot scatter plot for K = 4\n",
        "centroids = centroids_list[2]\n",
        "figsize = plt.figure(figsize = (12,8))\n",
        "plt.scatter(data_s['x'], data_s['y'], c = labels_list[2], s = 200, marker = \"+\") \n",
        "plt.scatter(centroids[:,0], centroids[:,1], c = 'green', s = 1000, marker = \".\")\n",
        "plt.show();"
      ],
      "execution_count": 527,
      "outputs": [
        {
          "output_type": "display_data",
          "data": {
            "image/png": "[encoded data removed]",
            "text/plain": [
              "<Figure size 864x576 with 1 Axes>"
            ]
          },
          "metadata": {}
        }
      ]
    }
  ]
}