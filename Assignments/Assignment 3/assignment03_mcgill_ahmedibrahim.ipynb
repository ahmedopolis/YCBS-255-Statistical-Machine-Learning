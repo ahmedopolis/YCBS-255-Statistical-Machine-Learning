{
  "nbformat": 4,
  "nbformat_minor": 0,
  "metadata": {
    "colab": {
      "name": "assignment03_mcgill_ahmedibrahim.ipynb",
      "provenance": [],
      "collapsed_sections": [
        "PI8k_3Wp2qVH"
      ]
    },
    "kernelspec": {
      "display_name": "Python 3",
      "language": "python",
      "name": "python3"
    },
    "language_info": {
      "codemirror_mode": {
        "name": "ipython",
        "version": 3
      },
      "file_extension": ".py",
      "mimetype": "text/x-python",
      "name": "python",
      "nbconvert_exporter": "python",
      "pygments_lexer": "ipython3",
      "version": "3.6.4"
    },
    "toc": {
      "base_numbering": 1,
      "nav_menu": {},
      "number_sections": true,
      "sideBar": true,
      "skip_h1_title": false,
      "title_cell": "Table of Contents",
      "title_sidebar": "Contents",
      "toc_cell": false,
      "toc_position": {},
      "toc_section_display": true,
      "toc_window_display": false
    }
  },
  "cells": [
    {
      "cell_type": "markdown",
      "metadata": {
        "id": "g2unLOmVzsBK"
      },
      "source": [
        "\n",
        "# Assignment 3  <font color=\"blue\"> (15 points) </font>\n",
        " \n",
        "------\n",
        "### Information\n",
        "**Name:** Ahmed Ibrahim\n",
        "\n",
        "**Student Number:** 261032796\n",
        "\n",
        "**Date:** 2021-11-07\n",
        "\n",
        "**Course Number:** YCBS 255 - Statistical Machine Learning\n",
        "\n",
        "------\n",
        "\n",
        "### Notes and Instructions\n",
        "  + You may need additional libraries besides the Python standard library to solve some questions. Import only necessary libraries. \n",
        "  + If more than one library exist for a same purpose, choose the one you wish as long as it does the task properly. \n",
        "  + If we want you to use a specific library, then we will state it clearly. \n",
        "  + Use the exact variable names asked in the questions. When no clear instructions given, feel free to do it the way you would like to.\n",
        "  + After each question, add the needed number of new cells and place your answers inside the cells. \n",
        "  + Use text cells for explanations. Use explanation and plain text as much as possible. \n",
        "  + Do not remove or modify the original cells provided by the instructor.\n",
        "  + In the following cell you will find some extra options to make your code more readable, including output colors RED, OKBLUE, or output text styles like BOLD or UNDERLINE that. Do not hesitate to use them. As an example, one may output text in red as follows: \n",
        "  ```python\n",
        "     print(bcolors.RED + \"your text\" + bcolors.ENDC)\n",
        "  ```\n",
        "  + Comment your code whenever needed using # sign at the beginning of the row.\n",
        "  + In some questions some of the details needed for solving the problem are **purposely** omitted to encourage additional self-directed research. This, especially, helps you develop some search skills for coding in Python (which is inevitable due to the inconsistent syntax of Python).\n",
        "  + Do not hesitate to communicate your questions to the TA's or instructors. \n",
        "    \n",
        "  Good luck! "
      ]
    },
    {
      "cell_type": "code",
      "metadata": {
        "id": "aOt20LC3zsBN"
      },
      "source": [
        "# The following piece of code gives the opportunity to show multiple outputs\n",
        "# in one cell:\n",
        "from IPython.core.interactiveshell import InteractiveShell\n",
        "InteractiveShell.ast_node_interactivity = \"all\"\n",
        "\n",
        "\n",
        "# Colorful outputs\n",
        "class bcolors:\n",
        "    RED       = '\\033[91m'\n",
        "    OKBLUE    = '\\033[94m'\n",
        "    BOLD      = '\\033[1m'\n",
        "    UNDERLINE = '\\033[4m'\n",
        "    ENDC      = '\\033[0m'"
      ],
      "execution_count": null,
      "outputs": []
    },
    {
      "cell_type": "markdown",
      "metadata": {
        "id": "JhunulGDzsBS"
      },
      "source": [
        ""
      ]
    },
    {
      "cell_type": "markdown",
      "metadata": {
        "id": "PI8k_3Wp2qVH"
      },
      "source": [
        "## **Part A** <font color=\"blue\">(5 points)</font>\n",
        "\n",
        "1. **<font color=\"blue\">(1 point)</font>** Generate 100 points equally distanced from $-20$ to $20$ and save them in a `numpy` array `x1`. Now, create $4$ more `numpy` arrays by raising `x1` to the power of $2,3,4,5$, and call them `x2`, `x3`, `x4` and `x5`, respectively. \n",
        "3. **<font color=\"blue\">(1 point)</font>** Create your response `y`, a new `numpy` array, defined as $y= 1.75 + 5 x_1 + 0.05 x_3 - 10.3 x_5 + \\varepsilon$, where $\\varepsilon \\sim \\mathcal{N}(0, 4)$.\n",
        "4. **<font color=\"blue\">(2 points)</font>** Using $5$-fold cross-validation, with a reasonable train-test proportion, train a **lasso** regression model including all $x_1, x_2, x_3 , x_4 , x_5$, and for $10$ different  pre-determined tuning parameters. \n",
        "5. **<font color=\"blue\">(1 point)</font>** Plot the **cross-validated mean squared errors** vs the tuning parameter's values\n",
        " and chose the best tuning parameter based on the plot. Does the best model chosen perform **variable selection**?"
      ]
    },
    {
      "cell_type": "code",
      "metadata": {
        "id": "5LkLf9m39Y_J"
      },
      "source": [
        "import numpy as np\n",
        "import math\n",
        "import pandas as pd\n",
        "import matplotlib.pyplot as plt"
      ],
      "execution_count": 1,
      "outputs": []
    },
    {
      "cell_type": "code",
      "metadata": {
        "id": "w47-IiLZ9cBD"
      },
      "source": [
        "# Question A1: Generate x1 array.\n",
        "x1 = np.linspace(-20, 20, 100)"
      ],
      "execution_count": 2,
      "outputs": []
    },
    {
      "cell_type": "code",
      "metadata": {
        "id": "rNV1ew_s-CTN"
      },
      "source": [
        "# Question A1: Generate x2, x3, x4, x5 array.\n",
        "x1 = np.linspace(-20, 20, 100)\n",
        "x_list = [x1]\n",
        "x_range = np.arange(2,6)\n",
        "for value in x_range:\n",
        "  x_value = np.power(x1, value)\n",
        "  x_list.append(x_value)\n",
        "x2 = x_list[1]\n",
        "x3 = x_list[2]\n",
        "x4 = x_list[3]\n",
        "x5 = x_list[4]\n",
        "X = pd.DataFrame(x_list, index = ['x1', 'x2', 'x3', 'x4', 'x5']).transpose().to_numpy()"
      ],
      "execution_count": 3,
      "outputs": []
    },
    {
      "cell_type": "code",
      "metadata": {
        "id": "lAp2-VJ9BYNC"
      },
      "source": [
        "# Question A2: Generate 'y' function.\n",
        "np.random.seed(12)\n",
        "mu = 0\n",
        "sigma = math.sqrt(4)\n",
        "eps = np.random.normal(mu, sigma, 100)\n",
        "y = 1.75 + 5*x1 + 0.05*x3 -10.3*x5 + eps"
      ],
      "execution_count": 4,
      "outputs": []
    },
    {
      "cell_type": "code",
      "metadata": {
        "colab": {
          "base_uri": "https://localhost:8080/",
          "height": 294
        },
        "id": "P5URpPNrmLQ9",
        "outputId": "f4c40da5-8adc-49ed-df5e-3509ea0190ef"
      },
      "source": [
        "# Question A2: Plot polynomial.\n",
        "plt.scatter(x1, y)\n",
        "plt.xlabel('X')\n",
        "plt.ylabel('Y')\n",
        "plt.title('5th Degree Polynomial')\n",
        "plt.show()"
      ],
      "execution_count": 5,
      "outputs": [
        {
          "output_type": "display_data",
          "data": {
            "image/png": "[encoded data removed]",
            "text/plain": [
              "<Figure size 432x288 with 1 Axes>"
            ]
          },
          "metadata": {
            "needs_background": "light"
          }
        }
      ]
    },
    {
      "cell_type": "code",
      "metadata": {
        "id": "s1VeHDEaGXdw",
        "colab": {
          "base_uri": "https://localhost:8080/"
        },
        "outputId": "b82f6a46-1ec7-4ea7-b7e9-b6ce468ce34a"
      },
      "source": [
        "# Question A3: Using  5-fold cross-validation, train a lasso model including with 10 different tunning parameters. \n",
        "from sklearn.model_selection import KFold\n",
        "from sklearn.metrics import mean_squared_error\n",
        "from sklearn.linear_model import Lasso\n",
        "k = 5\n",
        "kf_5 = KFold(n_splits = k, random_state = 12, shuffle = True)\n",
        "tunning_para_list = [0.05, 0.1, 1, 5, 50, 500, 2500, 10000]\n",
        "lasso_avg_mse_list = []\n",
        "for tunning_para in tunning_para_list:\n",
        "  lasso_regression = Lasso(alpha = tunning_para)\n",
        "  lasso_mse_list = []\n",
        "  for train_index, test_index in kf_5.split(X):\n",
        "    X_train, X_test = X[train_index], X[test_index]\n",
        "    y_train, y_test = y[train_index], y[test_index]\n",
        "    lasso_regression.fit(X_train, y_train)\n",
        "    y_pred = lasso_regression.predict(X_test)\n",
        "    mse_lasso = mean_squared_error(y_test, y_pred)\n",
        "    lasso_mse_list.append(mse_lasso)\n",
        "    print(lasso_regression.coef_)\n",
        "  lasso_avg_mse = sum(lasso_mse_list)/len(lasso_mse_list)\n",
        "  lasso_avg_mse_list.append(lasso_avg_mse)\n",
        "print(lasso_avg_mse_list)"
      ],
      "execution_count": 17,
      "outputs": [
        {
          "output_type": "stream",
          "name": "stdout",
          "text": [
            "[ 5.52965206e+01  4.98208024e-01 -4.88538558e-01 -1.22317619e-03\n",
            " -1.02988817e+01]\n",
            "[ 5.15683208e+01 -4.82412550e-01 -4.28439513e-01  1.21663709e-03\n",
            " -1.02990146e+01]\n",
            "[ 2.96203885e+01  8.37638578e-02 -1.92599005e-01 -2.17064447e-04\n",
            " -1.02995073e+01]\n",
            "[ 1.10147462e+01 -5.95538097e-02 -1.09897617e-02  1.66767381e-04\n",
            " -1.02998722e+01]\n",
            "[ 7.64616272e+00  2.50521491e-02  2.19426404e-02 -8.53688934e-05\n",
            " -1.02999395e+01]\n",
            "[ 5.52893154e+01  4.98144179e-01 -4.88472167e-01 -1.22301861e-03\n",
            " -1.02988819e+01]\n",
            "[ 5.15612336e+01 -4.82342046e-01 -4.28376807e-01  1.21645399e-03\n",
            " -1.02990148e+01]\n",
            "[ 2.96130535e+01  8.36931506e-02 -1.92535472e-01 -2.16872064e-04\n",
            " -1.02995074e+01]\n",
            "[ 1.10074677e+01 -5.94768225e-02 -1.09252920e-02  1.66557579e-04\n",
            " -1.02998724e+01]\n",
            "[ 7.63902198e+00  2.49810632e-02  2.20077769e-02 -8.51572211e-05\n",
            " -1.02999397e+01]\n",
            "[ 5.51596229e+01  4.96994974e-01 -4.87277125e-01 -1.22018204e-03\n",
            " -1.02988842e+01]\n",
            "[ 5.14336629e+01 -4.81072967e-01 -4.27248090e-01  1.21315815e-03\n",
            " -1.02990169e+01]\n",
            "[ 2.94810233e+01  8.24204193e-02 -1.91391885e-01 -2.13409168e-04\n",
            " -1.02995096e+01]\n",
            "[ 1.08764536e+01 -5.80910520e-02 -9.76483633e-03  1.62781136e-04\n",
            " -1.02998746e+01]\n",
            "[ 7.51052235e+00  2.37019271e-02  2.31798798e-02 -8.13484618e-05\n",
            " -1.02999420e+01]\n",
            "[ 5.45832116e+01  4.91887395e-01 -4.81965828e-01 -1.20757509e-03\n",
            " -1.02988945e+01]\n",
            "[ 5.08666823e+01 -4.75432618e-01 -4.22231572e-01  1.19850997e-03\n",
            " -1.02990265e+01]\n",
            "[ 2.88942223e+01  7.67638363e-02 -1.86309274e-01 -1.98018518e-04\n",
            " -1.02995192e+01]\n",
            "[ 1.02941686e+01 -5.19320721e-02 -4.60725571e-03  1.45996946e-04\n",
            " -1.02998847e+01]\n",
            "[ 6.94010923e+00  1.80256502e-02  2.83818779e-02 -6.44491494e-05\n",
            " -1.02999524e+01]\n",
            "[ 4.80985847e+01  4.34427133e-01 -4.22213734e-01 -1.06574683e-03\n",
            " -1.02990107e+01]\n",
            "[ 4.44881499e+01 -4.11978694e-01 -3.65795740e-01  1.03371800e-03\n",
            " -1.02991348e+01]\n",
            "[ 2.22927111e+01  1.31272779e-02 -1.29129897e-01 -2.48737077e-05\n",
            " -1.02996278e+01]\n",
            "[ 3.80400984e+00 -0.00000000e+00  5.27268589e-02  4.12963853e-06\n",
            " -1.02999964e+01]\n",
            "[ 5.82960076e-01 -0.00000000e+00  8.62036248e-02 -3.03226333e-06\n",
            " -1.03000680e+01]\n",
            "[ 0.00000000e+00  0.00000000e+00  7.12796055e-02 -2.13227240e-06\n",
            " -1.03000178e+01]\n",
            "[ 0.00000000e+00 -0.00000000e+00  6.98944916e-02 -1.49453110e-05\n",
            " -1.03000134e+01]\n",
            "[ 0.00000000e+00 -0.00000000e+00  7.34076146e-02  2.83522168e-05\n",
            " -1.03000231e+01]\n",
            "[ 0.00000000e+00 -0.00000000e+00  7.56009404e-02  1.00393144e-05\n",
            " -1.03000286e+01]\n",
            "[ 0.00000000e+00  0.00000000e+00  7.66908938e-02 -4.12341791e-05\n",
            " -1.03000315e+01]\n",
            "[ 0.00000000e+00  0.00000000e+00  6.74424506e-02 -2.23057623e-07\n",
            " -1.03000067e+01]\n",
            "[ 0.00000000e+00 -0.00000000e+00  6.50516960e-02 -1.69092178e-05\n",
            " -1.02999992e+01]\n",
            "[ 0.00000000e+00 -0.00000000e+00  6.94412978e-02  3.06184879e-05\n",
            " -1.03000112e+01]\n",
            "[ 0.00000000e+00 -0.00000000e+00  7.15750336e-02  1.03091208e-05\n",
            " -1.03000162e+01]\n",
            "[ 0.00000000e+00  0.00000000e+00  7.22432276e-02 -4.72364492e-05\n",
            " -1.03000174e+01]\n",
            "[  0.           0.           0.04980114   0.         -10.2999556 ]\n",
            "[ 0.00000000e+00 -0.00000000e+00  4.92929766e-02 -2.30369853e-05\n",
            " -1.02999529e+01]\n",
            "[ 0.00000000e+00 -0.00000000e+00  5.46757303e-02  3.89978135e-05\n",
            " -1.02999672e+01]\n",
            "[ 0.00000000e+00 -0.00000000e+00  5.57813711e-02  1.17950179e-05\n",
            " -1.02999674e+01]\n",
            "[ 0.00000000e+00  0.00000000e+00  5.49104707e-02 -7.15353989e-05\n",
            " -1.02999624e+01]\n",
            "[11741.103089756949, 11737.829722527178, 11679.058585324547, 11421.276878262433, 8901.542547099929, 422.1602563137802, 528.6667237771838, 1145.7521774348236]\n"
          ]
        }
      ]
    },
    {
      "cell_type": "code",
      "metadata": {
        "colab": {
          "base_uri": "https://localhost:8080/",
          "height": 312
        },
        "id": "irbFVP5OvhJA",
        "outputId": "8b359493-dfe8-40fd-ae81-07b15910d9fa"
      },
      "source": [
        "# Question A4: Plot mse vs tunning parameters.\n",
        "plt.scatter(tunning_para_list, lasso_avg_mse_list)\n",
        "plt.xlabel(\"Tunning Parameters\")\n",
        "plt.ylabel(\"Mean Squarred Error\")\n",
        "plt.title(\"MSE for Different TP\")\n",
        "plt.show"
      ],
      "execution_count": null,
      "outputs": [
        {
          "output_type": "execute_result",
          "data": {
            "text/plain": [
              "<function matplotlib.pyplot.show>"
            ]
          },
          "metadata": {},
          "execution_count": 102
        },
        {
          "output_type": "display_data",
          "data": {
            "image/png": "[encoded data removed]",
            "text/plain": [
              "<Figure size 432x288 with 1 Axes>"
            ]
          },
          "metadata": {
            "needs_background": "light"
          }
        }
      ]
    },
    {
      "cell_type": "markdown",
      "metadata": {
        "id": "qYqyFAj_tyH6"
      },
      "source": [
        "### Question A4: The choice of tunning parameter.\n",
        "\n",
        "By looking at the computed MSE, assuming the best model is based on the one with the lowest MSE, the best tunning parameter among the list would be 500. The MSE was decreasing gradually as the tunning parameter neared 500 but for tunning parameters greated than 500, being 2500 and 10000; the MSE was in fact increasing. Variable selection did start at 500, where the second coefficient was eliminated for all 5 cross-validation versions but only 3 of those folds also had the first coefficient eliminated. However, for the tunning parameters of 2500 and 10000, the first and second coefficients were elimnated for all 5 folds respectively. "
      ]
    },
    {
      "cell_type": "markdown",
      "metadata": {
        "id": "lKnyVWq21kZ9"
      },
      "source": [
        "## **Part B** <font color=\"blue\">(3 points)</font>\n",
        "For this part upload `Wage.csv`.\n",
        "\n",
        "1. **<font color=\"blue\">(2 points)</font>** Perform polynomial regression to predict `wage` using `age`. Use cross-validation to select the optimal degree $d$ for the polynomial. What degree was chosen? Make a plot of\n",
        "the resulting polynomial fit to the data. \n",
        "2. **<font color=\"blue\">(1 point)</font>** Fit a step function to predict `wage` using `age` , and perform cross-validation to choose the optimal number of cuts. Make a plot of the fit obtained.\n"
      ]
    },
    {
      "cell_type": "code",
      "metadata": {
        "id": "VsXKZDzs6zrW"
      },
      "source": [
        "import numpy as np\n",
        "import matplotlib.pyplot as plt"
      ],
      "execution_count": 9,
      "outputs": []
    },
    {
      "cell_type": "code",
      "metadata": {
        "colab": {
          "resources": {
            "http://localhost:8080/nbextensions/google.colab/files.js": {
              "data": "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",
              "ok": true,
              "headers": [
                [
                  "content-type",
                  "application/javascript"
                ]
              ],
              "status": 200,
              "status_text": ""
            }
          },
          "base_uri": "https://localhost:8080/",
          "height": 73
        },
        "id": "GCTLb1Jn2q1b",
        "outputId": "5ef862f8-c9d0-4c6c-ea85-7078d8aa687a"
      },
      "source": [
        "# Question B1: Download Wage.csv.\n",
        "from google.colab import files\n",
        "uploaded = files.upload()\n",
        "wage_data = pd.read_csv('Wage.csv')"
      ],
      "execution_count": 8,
      "outputs": [
        {
          "output_type": "display_data",
          "data": {
            "text/html": [
              "\n",
              "     <input type=\"file\" id=\"files-869acb5c-5a95-4ff1-b118-89a8fca17703\" name=\"files[]\" multiple disabled\n",
              "        style=\"border:none\" />\n",
              "     <output id=\"result-869acb5c-5a95-4ff1-b118-89a8fca17703\">\n",
              "      Upload widget is only available when the cell has been executed in the\n",
              "      current browser session. Please rerun this cell to enable.\n",
              "      </output>\n",
              "      <script src=\"/nbextensions/google.colab/files.js\"></script> "
            ],
            "text/plain": [
              "<IPython.core.display.HTML object>"
            ]
          },
          "metadata": {}
        },
        {
          "output_type": "stream",
          "name": "stdout",
          "text": [
            "Saving Wage.csv to Wage.csv\n"
          ]
        }
      ]
    },
    {
      "cell_type": "code",
      "metadata": {
        "colab": {
          "base_uri": "https://localhost:8080/",
          "height": 202
        },
        "id": "Ah--0EoF6TWx",
        "outputId": "25ec616f-1cb7-4f3c-e9b7-b38b578be851"
      },
      "source": [
        "# Question B1: Do some data exploration on 'Wage.csv'.\n",
        "wage_data.head()"
      ],
      "execution_count": 10,
      "outputs": [
        {
          "output_type": "execute_result",
          "data": {
            "text/html": [
              "<div>\n",
              "<style scoped>\n",
              "    .dataframe tbody tr th:only-of-type {\n",
              "        vertical-align: middle;\n",
              "    }\n",
              "\n",
              "    .dataframe tbody tr th {\n",
              "        vertical-align: top;\n",
              "    }\n",
              "\n",
              "    .dataframe thead th {\n",
              "        text-align: right;\n",
              "    }\n",
              "</style>\n",
              "<table border=\"1\" class=\"dataframe\">\n",
              "  <thead>\n",
              "    <tr style=\"text-align: right;\">\n",
              "      <th></th>\n",
              "      <th>Unnamed: 0</th>\n",
              "      <th>year</th>\n",
              "      <th>age</th>\n",
              "      <th>sex</th>\n",
              "      <th>maritl</th>\n",
              "      <th>race</th>\n",
              "      <th>education</th>\n",
              "      <th>region</th>\n",
              "      <th>jobclass</th>\n",
              "      <th>health</th>\n",
              "      <th>health_ins</th>\n",
              "      <th>logwage</th>\n",
              "      <th>wage</th>\n",
              "    </tr>\n",
              "  </thead>\n",
              "  <tbody>\n",
              "    <tr>\n",
              "      <th>0</th>\n",
              "      <td>231655</td>\n",
              "      <td>2006</td>\n",
              "      <td>18</td>\n",
              "      <td>1. Male</td>\n",
              "      <td>1. Never Married</td>\n",
              "      <td>1. White</td>\n",
              "      <td>1. &lt; HS Grad</td>\n",
              "      <td>2. Middle Atlantic</td>\n",
              "      <td>1. Industrial</td>\n",
              "      <td>1. &lt;=Good</td>\n",
              "      <td>2. No</td>\n",
              "      <td>4.318063</td>\n",
              "      <td>75.043154</td>\n",
              "    </tr>\n",
              "    <tr>\n",
              "      <th>1</th>\n",
              "      <td>86582</td>\n",
              "      <td>2004</td>\n",
              "      <td>24</td>\n",
              "      <td>1. Male</td>\n",
              "      <td>1. Never Married</td>\n",
              "      <td>1. White</td>\n",
              "      <td>4. College Grad</td>\n",
              "      <td>2. Middle Atlantic</td>\n",
              "      <td>2. Information</td>\n",
              "      <td>2. &gt;=Very Good</td>\n",
              "      <td>2. No</td>\n",
              "      <td>4.255273</td>\n",
              "      <td>70.476020</td>\n",
              "    </tr>\n",
              "    <tr>\n",
              "      <th>2</th>\n",
              "      <td>161300</td>\n",
              "      <td>2003</td>\n",
              "      <td>45</td>\n",
              "      <td>1. Male</td>\n",
              "      <td>2. Married</td>\n",
              "      <td>1. White</td>\n",
              "      <td>3. Some College</td>\n",
              "      <td>2. Middle Atlantic</td>\n",
              "      <td>1. Industrial</td>\n",
              "      <td>1. &lt;=Good</td>\n",
              "      <td>1. Yes</td>\n",
              "      <td>4.875061</td>\n",
              "      <td>130.982177</td>\n",
              "    </tr>\n",
              "    <tr>\n",
              "      <th>3</th>\n",
              "      <td>155159</td>\n",
              "      <td>2003</td>\n",
              "      <td>43</td>\n",
              "      <td>1. Male</td>\n",
              "      <td>2. Married</td>\n",
              "      <td>3. Asian</td>\n",
              "      <td>4. College Grad</td>\n",
              "      <td>2. Middle Atlantic</td>\n",
              "      <td>2. Information</td>\n",
              "      <td>2. &gt;=Very Good</td>\n",
              "      <td>1. Yes</td>\n",
              "      <td>5.041393</td>\n",
              "      <td>154.685293</td>\n",
              "    </tr>\n",
              "    <tr>\n",
              "      <th>4</th>\n",
              "      <td>11443</td>\n",
              "      <td>2005</td>\n",
              "      <td>50</td>\n",
              "      <td>1. Male</td>\n",
              "      <td>4. Divorced</td>\n",
              "      <td>1. White</td>\n",
              "      <td>2. HS Grad</td>\n",
              "      <td>2. Middle Atlantic</td>\n",
              "      <td>2. Information</td>\n",
              "      <td>1. &lt;=Good</td>\n",
              "      <td>1. Yes</td>\n",
              "      <td>4.318063</td>\n",
              "      <td>75.043154</td>\n",
              "    </tr>\n",
              "  </tbody>\n",
              "</table>\n",
              "</div>"
            ],
            "text/plain": [
              "   Unnamed: 0  year  age  ... health_ins   logwage        wage\n",
              "0      231655  2006   18  ...      2. No  4.318063   75.043154\n",
              "1       86582  2004   24  ...      2. No  4.255273   70.476020\n",
              "2      161300  2003   45  ...     1. Yes  4.875061  130.982177\n",
              "3      155159  2003   43  ...     1. Yes  5.041393  154.685293\n",
              "4       11443  2005   50  ...     1. Yes  4.318063   75.043154\n",
              "\n",
              "[5 rows x 13 columns]"
            ]
          },
          "metadata": {},
          "execution_count": 10
        }
      ]
    },
    {
      "cell_type": "code",
      "metadata": {
        "colab": {
          "base_uri": "https://localhost:8080/"
        },
        "id": "Fk8Ny9V_868i",
        "outputId": "8d245674-7ba5-4204-c147-01e1ea6746ea"
      },
      "source": [
        "wage_data.shape"
      ],
      "execution_count": 11,
      "outputs": [
        {
          "output_type": "execute_result",
          "data": {
            "text/plain": [
              "(3000, 13)"
            ]
          },
          "metadata": {},
          "execution_count": 11
        }
      ]
    },
    {
      "cell_type": "code",
      "metadata": {
        "colab": {
          "base_uri": "https://localhost:8080/"
        },
        "id": "MSHQ6RgL8_VQ",
        "outputId": "c4aa37f5-72ff-47b5-c067-00e58efae63c"
      },
      "source": [
        "wage_data.dtypes"
      ],
      "execution_count": 12,
      "outputs": [
        {
          "output_type": "execute_result",
          "data": {
            "text/plain": [
              "Unnamed: 0      int64\n",
              "year            int64\n",
              "age             int64\n",
              "sex            object\n",
              "maritl         object\n",
              "race           object\n",
              "education      object\n",
              "region         object\n",
              "jobclass       object\n",
              "health         object\n",
              "health_ins     object\n",
              "logwage       float64\n",
              "wage          float64\n",
              "dtype: object"
            ]
          },
          "metadata": {},
          "execution_count": 12
        }
      ]
    },
    {
      "cell_type": "code",
      "metadata": {
        "id": "duzOBrW59CSR"
      },
      "source": [
        "# Question B1: Extract necessary columns.\n",
        "data_x = wage_data['age']\n",
        "data_y = wage_data['wage']"
      ],
      "execution_count": 13,
      "outputs": []
    },
    {
      "cell_type": "code",
      "metadata": {
        "id": "oeELH0j4-YQe"
      },
      "source": [
        "# Question B1: Do some data exploration on 'Wage.csv'.\n",
        "wage_data.head()"
      ],
      "execution_count": null,
      "outputs": []
    },
    {
      "cell_type": "code",
      "metadata": {
        "colab": {
          "base_uri": "https://localhost:8080/"
        },
        "id": "ewvtrJ3d_WOh",
        "outputId": "83cd3ce2-6520-4a6d-b5b2-142e9c6faf9c"
      },
      "source": [
        "# Question B1: Perform polynomial regression using 5-fold cross validation to find optimal degree.\n",
        "from sklearn.preprocessing import PolynomialFeatures\n",
        "from sklearn.model_selection import cross_val_score\n",
        "from sklearn.linear_model import LinearRegression\n",
        "degree_nth_list = np.arange(2, 19)\n",
        "X = np.array(data_x).reshape(-1, 1)\n",
        "y = np.array(data_y)\n",
        "k = 5\n",
        "kf_5 = KFold(n_splits = k, random_state = 5, shuffle = True)\n",
        "score_list = []\n",
        "for degree_nth in degree_nth_list:\n",
        "  polynomial_model = PolynomialFeatures(degree = degree_nth)\n",
        "  X_poly = polynomial_model.fit_transform(X)\n",
        "  linear_model = LinearRegression()\n",
        "  lr_model = linear_model.fit(X_poly, y)\n",
        "  y_pred = lr_model.predict(X_poly)\n",
        "  y_pred_array = np.array(y_pred).reshape(-1, 1)\n",
        "  score = cross_val_score(linear_model, y_pred_array, y, cv = kf_5, scoring = 'neg_mean_squared_error').mean()\n",
        "  score_list.append(abs(score))\n",
        "print(score_list)"
      ],
      "execution_count": 83,
      "outputs": [
        {
          "output_type": "stream",
          "name": "stdout",
          "text": [
            "[1600.9284224082257, 1595.1496171774884, 1593.4731769525113, 1593.0080914486664, 1592.017475023536, 1591.2234256309891, 1591.2860932173166, 1591.3736372905585, 1591.3293440128434, 1591.3252011036634, 1591.7006803330821, 1598.921228391237, 1607.6767303405102, 1619.6644986222013, 1633.765569165246, 1648.5978741314757, 1662.8936676172405]\n"
          ]
        }
      ]
    },
    {
      "cell_type": "code",
      "metadata": {
        "colab": {
          "base_uri": "https://localhost:8080/",
          "height": 312
        },
        "id": "IWCqNfVPMiiY",
        "outputId": "6c02a7d8-6ee4-4fcf-8d16-d28e35e48bee"
      },
      "source": [
        "# Question B1: Plot MSE in function of polynomial degree.\n",
        "plt.scatter(degree_nth_list, score_list)\n",
        "plt.xlabel('Number of Polynomial Degrees')\n",
        "plt.ylabel('Mean Squarred Error')\n",
        "plt.title('MSE for Different Polynomial Degrees')"
      ],
      "execution_count": 84,
      "outputs": [
        {
          "output_type": "execute_result",
          "data": {
            "text/plain": [
              "Text(0.5, 1.0, 'MSE for Different Polynomial Degrees')"
            ]
          },
          "metadata": {},
          "execution_count": 84
        },
        {
          "output_type": "display_data",
          "data": {
            "image/png": "[encoded data removed]",
            "text/plain": [
              "<Figure size 432x288 with 1 Axes>"
            ]
          },
          "metadata": {
            "needs_background": "light"
          }
        }
      ]
    },
    {
      "cell_type": "code",
      "metadata": {
        "colab": {
          "base_uri": "https://localhost:8080/"
        },
        "id": "KXU_ylibP2HT",
        "outputId": "47030681-6d9e-4fd1-ef43-bb5934faaa36"
      },
      "source": [
        "# Question B1: Compare the MSE of degree 7 with the rest.\n",
        "def percentage_difference(value1, value2):\n",
        "  Percentage = abs((value1 - value2)*100/value1)\n",
        "  return str(Percentage) + \" %\"\n",
        "MSE_7 = score_list[5]\n",
        "percentage_difference_list = []\n",
        "for MSE in score_list:\n",
        "  percentage_difference_MSE = percentage_difference(MSE_7, MSE)\n",
        "  percentage_difference_list.append(percentage_difference_MSE)\n",
        "print(percentage_difference_list)"
      ],
      "execution_count": 85,
      "outputs": [
        {
          "output_type": "stream",
          "name": "stdout",
          "text": [
            "['0.6099078621462696 %', '0.24674043149800504 %', '0.1413850051025991 %', '0.11215683410200886 %', '0.049901816410979 %', '0.0 %', '0.003938327284407366 %', '0.009440010569839175 %', '0.006656411673444247 %', '0.006396051681674052 %', '0.02999294092868986 %', '0.4837663043576287 %', '1.034003424314633 %', '1.7873714359084474 %', '2.673549348821776 %', '3.605681488615283 %', '4.504096711486695 %']\n"
          ]
        }
      ]
    },
    {
      "cell_type": "markdown",
      "metadata": {
        "id": "X_LFRm2jMcmL"
      },
      "source": [
        "### Question B1: Choose polynomial degree.\n",
        "Using 5-fold cross-validation, polynomial models of degrees 2 to 18 were tested for predicting wage based on age. The polynomial of degree 7 had the lowest mean squarred error (MSE) of 1591.22. However, the highest MSE was 1662.89 being the polynomial of degree 18. The MSE was relative static from degree 6 to 12 and onwards started to increase with the increase of polynomial degree. It is worthnoting that all the models have MSE that deviate by less than 5 % relative to the lowest value of MSE. Thus, it is possible to select a model with fewer degrees as that would computational advantageous. The polynomial of degree 2 is only 0.61 % higher in MSE and degree 3 of 0.25 %. Among these two, since the difference in MSE is very small between these two model, the model with the lowest degree will be selected being of degree 2. "
      ]
    },
    {
      "cell_type": "code",
      "metadata": {
        "id": "zCYOHLyhSfyD"
      },
      "source": [
        "# Question B1: Generate selected polynomial model.\n",
        "polynomial_model = PolynomialFeatures(degree = 2)\n",
        "X_poly_2 = polynomial_model.fit_transform(X)\n",
        "linear_model = LinearRegression()\n",
        "lr_model = linear_model.fit(X_poly_2, y)\n",
        "y_pred = lr_model.predict(X_poly_2)"
      ],
      "execution_count": 87,
      "outputs": []
    },
    {
      "cell_type": "code",
      "metadata": {
        "colab": {
          "base_uri": "https://localhost:8080/",
          "height": 294
        },
        "id": "6ppXFQAjWmEq",
        "outputId": "4bfe0866-74a9-45a1-f8a0-915bdc7a1b05"
      },
      "source": [
        "# Question B1: Make a plot of the resulting polynomial fit to the data.\n",
        "plt.scatter(data_x, data_y, color = \"green\")\n",
        "plt.xlabel('Age')\n",
        "plt.ylabel('Wage')\n",
        "plt.title('Predicting Wage Based On Age Using Polynomial Regression')\n",
        "plt.plot(X, y_pred,  color = \"red\")\n",
        "plt.legend\n",
        "plt.show()"
      ],
      "execution_count": 88,
      "outputs": [
        {
          "output_type": "display_data",
          "data": {
            "image/png": "[encoded data removed]",
            "text/plain": [
              "<Figure size 432x288 with 1 Axes>"
            ]
          },
          "metadata": {
            "needs_background": "light"
          }
        }
      ]
    },
    {
      "cell_type": "markdown",
      "metadata": {
        "id": "7GLQakVZ41gL"
      },
      "source": [
        "\n",
        "## **Part C** <font color=\"blue\">(4 points)</font>\n",
        "Apply SVM and random forests to a data set of your choice. Be sure to fit the models on a training set and to evaluate their performance on a test set. How accurate are the results compared to each other? Which of them yields the best performance?\n"
      ]
    },
    {
      "cell_type": "markdown",
      "metadata": {
        "id": "JUCsQMN0UV5m"
      },
      "source": [
        "## **Part D** <font color=\"blue\">(3 points)</font>\n",
        "\n",
        "1. **<font color=\"blue\">(1 point)</font>** Generate $2$-dimentional data with $500$ observations from $3$ Gaussian clusters. \n",
        "2. **<font color=\"blue\">(0.5 points)</font>** Use a scatterplot to visualize the produced data. \n",
        "3. **<font color=\"blue\">(1 point)</font>** Shuffle the data and use $K$-means, with $K=2,3,4$ to cluster the data.\n",
        "4. **<font color=\"blue\">(0.5 points)</font>** Visualize the results, separately.  \n"
      ]
    }
  ]
}