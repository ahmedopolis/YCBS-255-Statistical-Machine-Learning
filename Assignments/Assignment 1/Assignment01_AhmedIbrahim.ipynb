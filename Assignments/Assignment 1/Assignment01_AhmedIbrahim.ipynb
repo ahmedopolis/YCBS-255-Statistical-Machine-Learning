{
  "nbformat": 4,
  "nbformat_minor": 0,
  "metadata": {
    "colab": {
      "name": "Assignment01.ipynb",
      "provenance": [],
      "collapsed_sections": []
    },
    "kernelspec": {
      "display_name": "Python 3",
      "language": "python",
      "name": "python3"
    },
    "language_info": {
      "codemirror_mode": {
        "name": "ipython",
        "version": 3
      },
      "file_extension": ".py",
      "mimetype": "text/x-python",
      "name": "python",
      "nbconvert_exporter": "python",
      "pygments_lexer": "ipython3",
      "version": "3.6.4"
    }
  },
  "cells": [
    {
      "cell_type": "markdown",
      "metadata": {
        "id": "wHIJXuml3JLf"
      },
      "source": [
        "# Assignment 1 **<font color=\"blue\"> (15 points )<font>**\n",
        "\n",
        "------\n",
        "### Information\n",
        "**Name:** Ahmed Ibrahim\n",
        "\n",
        "**Student Number:** 261032796\n",
        "\n",
        "**Date:** 2021-10-06\n",
        "\n",
        "**Course Number:** YCBS 255 - Statistical Machine Learning\n",
        "\n",
        "------\n",
        "\n",
        "### Notes and Instructions\n",
        "  + You may need additional libraries besides the Python standard library to solve some questions. Import only necessary libraries. \n",
        "  + If more than one library exist for a same purpose, choose the one you wish as long as it does the task properly. \n",
        "  + If we want you to use a specific library, then we will state it clearly. \n",
        "  + Use the exact variable names asked in the questions. When no clear instructions given, feel free to do it the way you would like to.\n",
        "  + After each question, add the needed number of new cells and place your answers inside the cells. \n",
        "  + Use text cells for explanations. Use explanation and plain text as much as possible. \n",
        "  + Do not remove or modify the original cells provided by the instructor.\n",
        "  + In the following cell you will find some extra options to make your code more readable, including output colors RED, OKBLUE, or output text styles like BOLD or UNDERLINE that. Do not hesitate to use them. As an example, one may output text in red as follows: \n",
        "  ```python\n",
        "     print(bcolors.RED + \"your text\" + bcolors.ENDC)\n",
        "  ```\n",
        "  + Comment your code whenever needed using # sign at the beginning of the row.\n",
        "  + In some questions some of the details needed for solving the problem are **purposely** omitted to encourage additional self-directed research. This, especially, helps you develop some search skills for coding in Python (which is inevitable due to the inconsistent syntax of Python).\n",
        "  + Do not hesitate to communicate your questions to the TA's or instructors. Good luck!  \n",
        "  "
      ]
    },
    {
      "cell_type": "code",
      "metadata": {
        "id": "tJS1lJsC3JLm"
      },
      "source": [
        "# The following piece of code gives the opportunity to show multiple outputs\n",
        "# in one cell:\n",
        "from IPython.core.interactiveshell import InteractiveShell\n",
        "InteractiveShell.ast_node_interactivity = \"all\"\n",
        "\n",
        "# Colorful outputs\n",
        "class bcolors:\n",
        "    RED       = '\\033[91m'\n",
        "    OKBLUE    = '\\033[94m'\n",
        "    BOLD      = '\\033[1m'\n",
        "    UNDERLINE = '\\033[4m'\n",
        "    ENDC      = '\\033[0m'"
      ],
      "execution_count": null,
      "outputs": []
    },
    {
      "cell_type": "markdown",
      "metadata": {
        "id": "ctNRZFL03JLv"
      },
      "source": [
        "## Question 1 <font color=\"blue\">(1 point)</font>\n",
        "\n",
        "  1. **<font color=\"blue\">(0.5 points)</font>** Write a Python **function** that takes two **positive integers** and returns their **greatest common divisor**. In case you pass a negative integer to the function it must return the following string **in red**: <br> <font color=\"red\"> \"This function takes only positive integers!\" </font>\n",
        "  2. **<font color=\"blue\">(0.5 points)</font>** Write a function that prints all the prime numbers less than or equal to $n$, where $n$ is a parameter to be passed to the function. If $n \\leq 1$ the function returns <br>\n",
        "<font color=\"red\">\"No prime number was found!\"</span>."
      ]
    },
    {
      "cell_type": "code",
      "metadata": {
        "id": "vy0ZcDVHSDfX"
      },
      "source": [
        "# Question 1.1: Python function to output the greatest common divisor between two positive integers.\n",
        "\n",
        "def check_for_postive_integers(value1, value2):\n",
        "  list_values = [value1, value2]\n",
        "  list_positive_integers = []\n",
        "  for value in list_values:\n",
        "    if not isinstance(value, int) or value < 0:\n",
        "      print(bcolors.RED + f\"This value is not a positive integer: {value}.\\n\")\n",
        "    else:\n",
        "      print(bcolors.OKBLUE + f\"This value is a positive integer: {value}.\\n\")\n",
        "      list_positive_integers.append(value)\n",
        "  if len(list_positive_integers) == 2:\n",
        "    print(bcolors.OKBLUE + \"All values are positive integers.\\n\")\n",
        "    return list_positive_integers\n",
        "  else:\n",
        "    print(bcolors.RED + \"This function takes only positive integers!\\n\")\n",
        "    return \"Positive integers must be inputted.\"\n",
        "\n",
        "def find_greatest_common_divisor(value1, value2):\n",
        "  list_of_integers = check_for_postive_integers(value1, value2)\n",
        "  if isinstance(list_of_integers, str):\n",
        "    return list_of_integers\n",
        "  common_divisor_list = []\n",
        "  for positive_integer in list_of_integers:\n",
        "    range_positive_integers = [value for value in range(1, positive_integer + 1)]\n",
        "    for value in range_positive_integers:\n",
        "      if value not in common_divisor_list and list_of_integers[0] % value == 0 and list_of_integers[1] % value == 0:\n",
        "        common_divisor_list.append(value)\n",
        "  print(f\"The greatest common divisor between {list_of_integers[0]} and {list_of_integers[1]} is {common_divisor_list[-1]}.\\n\")\n",
        "\n",
        "if __name__ == \"__main__\": \n",
        "  find_greatest_common_divisor(3624,432)"
      ],
      "execution_count": null,
      "outputs": []
    },
    {
      "cell_type": "code",
      "metadata": {
        "id": "kyT_0Q3x_xla"
      },
      "source": [
        "# Question 1.2: Python function to print all prime numbers for a given number.\n",
        "\n",
        "def check_for_postive_integer(value):\n",
        "  if not isinstance(value, int) or value <= 1:\n",
        "    print(bcolors.RED + f\"This value is not a positive integer greater than 1: {value}.\\n\")\n",
        "    return \"Positive integer must be inputted.\"\n",
        "  else:\n",
        "    print(bcolors.OKBLUE + f\"This value is a positive integer greater than 1: {value}.\\n\")\n",
        "    return value\n",
        "\n",
        "def find_list_of_prime_numbers(n):\n",
        "  positive_integer = check_for_postive_integer(n)\n",
        "  if isinstance(positive_integer, str):\n",
        "    return positive_integer\n",
        "  list_of_prime_numbers = []\n",
        "  range_positive_integers = [positive_integer for positive_integer in range(2, positive_integer + 1)]\n",
        "  for value in range_positive_integers:\n",
        "    prime_penalty = 0\n",
        "    range_values = [value for value in range(2, value + 1)]\n",
        "    for range_value in range_values:\n",
        "      if value % range_value == 0 and value != range_value:\n",
        "        prime_penalty += 1\n",
        "    if prime_penalty == 0:\n",
        "      list_of_prime_numbers.append(value)\n",
        "  print(bcolors.OKBLUE + f\"The list of prime numbers being less than or equal to {positive_integer} is the following: {list_of_prime_numbers}.\\n\")\n",
        "\n",
        "if __name__ == \"__main__\": \n",
        "  find_list_of_prime_numbers(73)"
      ],
      "execution_count": null,
      "outputs": []
    },
    {
      "cell_type": "markdown",
      "metadata": {
        "id": "udPL4T8f3JLx"
      },
      "source": [
        "## Question 2 <font color=\"blue\">(6 points)</font>\n",
        "Let $\\mathbf X\\sim \\mbox{Exp}(\\lambda)$, with parameter $\\lambda = 1.2$.\n",
        "  1. **<font color=\"blue\">(0.5 points)</font>** What is the population mean?\n",
        "  2. **<font color=\"blue\">(1 point)</font>**  Generate $100$ different samples of $\\mathbf X$, namely, $S_{100}, S_{200}, S_{300}, \\dots, S_{10000}$, where indeces denote the number of observations (sample size) in each sample. \n",
        "  3. **<font color=\"blue\">(1.5 points)</font> Estimate** the population mean using each sample and explain the rationale behind your estimation. \n",
        "  4. **<font color=\"blue\">(1 point)</font>** Applying **appropriate** methods visualize and describe the values obtained in the previous step. \n",
        "  5. **<font color=\"blue\">(2 points)</font>** Finally, draw an inference about the population mean and its relation with sample means, based on visualized results in step 4."
      ]
    },
    {
      "cell_type": "code",
      "metadata": {
        "id": "1E-8CxJLbjt_"
      },
      "source": [
        "# List of libraries needed for Question 2:\n",
        "\n",
        "import numpy as np\n",
        "import matplotlib.pyplot as plt"
      ],
      "execution_count": 113,
      "outputs": []
    },
    {
      "cell_type": "markdown",
      "metadata": {
        "id": "u8zXFv6sBVv2"
      },
      "source": [
        "## Question 2.1: Find the population mean.\n",
        "The population mean of an exponential distribution for its continuous random variable with a rate parameter of $\\lambda$ is given by the following equation:\n",
        "\n",
        "$\\mu$ = 1/$\\lambda$.\n",
        "\n",
        "if $\\lambda$ = 1.2,\n",
        "\n",
        "$\\mu$ = 1/$\\lambda$ = 1/(1.2) = 10/12 = 5/6\n",
        "\n",
        "As a result, the population mean for an exponentially distrubuted random variable with $\\lambda$ = 1.2 is 5/6.\n"
      ]
    },
    {
      "cell_type": "code",
      "metadata": {
        "id": "3NhyV1b4FcMj"
      },
      "source": [
        "# Question 2.2: Generate an array with the exponentrial distribution for a sample sizes from 100 to 10000 with a step-size of 100.\n",
        "\n",
        "sample_size_list = [*range(100, 10100, 100)]\n",
        "sample_size_array = np.array(sample_size_list)\n",
        "lambda_param_rate = 1.2\n",
        "scale_param = 1/lambda_param_rate\n",
        "sample_exp_dist_list = []\n",
        "for sample_size in sample_size_array:\n",
        "  exp_dist = np.random.exponential(scale_param, sample_size)\n",
        "  sample_exp_dist_list.append(exp_dist)\n",
        "sample_exp_dist_array = np.array(sample_exp_dist_list, dtype=object)\n"
      ],
      "execution_count": 114,
      "outputs": []
    },
    {
      "cell_type": "code",
      "metadata": {
        "id": "lO61OhvbWmMc"
      },
      "source": [
        "# Question 2.3: Generate array with estimated population mean for each sample.\n",
        "\n",
        "sample_est_pop_mean_list = []\n",
        "for sample_exp_dist in sample_exp_dist_array :\n",
        "  sample_est_pop_mean = np.mean(sample_exp_dist)\n",
        "  sample_est_pop_mean_list.append(sample_est_pop_mean)\n",
        "sample_est_pop_mean_array = np.array(sample_est_pop_mean_list)"
      ],
      "execution_count": 115,
      "outputs": []
    },
    {
      "cell_type": "markdown",
      "metadata": {
        "id": "jqvDSBJlfsHE"
      },
      "source": [
        "## Question 2.3: Explanation for the population mean estimation\n",
        "In order to estimate the population mean, the mean of a random sample of the population can be computted. Thus, the mean for every sample has been computted and stored within a Numpy array. By computing the mean for each sample at increasing sample sizes, in theory, the resulting sample means should gradually converge towards the population mean of 5/6. "
      ]
    },
    {
      "cell_type": "code",
      "metadata": {
        "id": "vKeQypfK_1IP",
        "colab": {
          "base_uri": "https://localhost:8080/",
          "height": 296
        },
        "outputId": "1b4ed47c-5f76-4e40-e4b9-f37b89e3bef8"
      },
      "source": [
        "# Question 2.4: Plot the sample mean vs sample size.\n",
        "\n",
        "X = sample_size_array\n",
        "Y = sample_est_pop_mean_array\n",
        "plt.scatter(X, Y, color = 'blue', alpha = 0.4)\n",
        "plt.axhline(y = 5/6, color = 'orange', linestyle = '--')\n",
        "plt.ylabel('Sample mean')\n",
        "plt.xlabel('Sample size')\n",
        "plt.show()"
      ],
      "execution_count": 128,
      "outputs": [
        {
          "output_type": "execute_result",
          "data": {
            "text/plain": [
              "<matplotlib.collections.PathCollection at 0x7ff8d563b410>"
            ]
          },
          "metadata": {},
          "execution_count": 128
        },
        {
          "output_type": "execute_result",
          "data": {
            "text/plain": [
              "<matplotlib.lines.Line2D at 0x7ff8d56361d0>"
            ]
          },
          "metadata": {},
          "execution_count": 128
        },
        {
          "output_type": "execute_result",
          "data": {
            "text/plain": [
              "Text(0, 0.5, 'Sample mean')"
            ]
          },
          "metadata": {},
          "execution_count": 128
        },
        {
          "output_type": "execute_result",
          "data": {
            "text/plain": [
              "Text(0.5, 0, 'Sample size')"
            ]
          },
          "metadata": {},
          "execution_count": 128
        },
        {
          "output_type": "display_data",
          "data": {
            "image/png": "[encoded data removed]",
            "text/plain": [
              "<Figure size 432x288 with 1 Axes>"
            ]
          },
          "metadata": {
            "needs_background": "light"
          }
        }
      ]
    },
    {
      "cell_type": "markdown",
      "metadata": {
        "id": "ZHPVAVmWDRn2"
      },
      "source": [
        "## Question 2.4: Explanation for the scatter plot\n",
        "A scatter plot was used to visualize the relationship between the sample size for an exponential distribution and its resulting sample mean. The red horizontal dotted line is set at 5/6, being the population mean. By looking at the plot, the sample means for the sample sizes between 100 to 2000 have the highest variance and that variance seems to decrease as the sample size increases."
      ]
    },
    {
      "cell_type": "markdown",
      "metadata": {
        "id": "2WrswIOKE5pV"
      },
      "source": [
        "## Question 2.5: Inference about the population mean and its relation with sample means.\n",
        "As the sample size of the exponential distribution increases, the resulting sample mean converges towards the expected mean being the inverse of the rate parameter known as the scale parameter (β = 1/λ) which is a trend that showcases the law of large numbers (LLN) theorem."
      ]
    },
    {
      "cell_type": "markdown",
      "metadata": {
        "id": "x7-bW60Eb151"
      },
      "source": [
        "## Question 3 <font color=\"blue\">(8 points)</font>\n",
        "In this exercise you will create some simulated data and will fit simple\n",
        "linear regression models to it. Make sure to fix the seed to $111$ prior to\n",
        "starting.\n",
        "  \n",
        "  1. **<font color=\"blue\">(0.25 points)</font>** Create a vector `x` containing $100$ observations drawn from a $\\mathcal{N}(0, 1)$ distribution as your feature. \n",
        "  2. **<font color=\"blue\">(0.25 points)</font>** Create a vector, `eps` (for $\\epsilon$), containing $100$ observations drawn from a $\\mathcal{N}(0, 0.25)$. \n",
        "  3. **<font color=\"blue\">(0.5 points)</font>** Using `x` and `eps` generate a vector `y` according to the model $y = −1 + 0.5x + \\epsilon$.\n",
        "  4. **<font color=\"blue\">(0.5 points)</font>** Create a scatterplot displaying the relationship between `x` and `y`. Comment on what you observe.\n",
        "  5. **<font color=\"blue\">(2 points)</font>** Fit a least squares linear model to predict `y` using `x` . Comment on the model obtained. How do $\\hat{\\beta}_0$ and $\\hat{\\beta}_1$ compare to $\\beta_0$ and $\\beta_1$?\n",
        "  6. **<font color=\"blue\">(2 point)</font>** Display the least squares line on the scatterplot obtained in part 4. Draw the population regression line on the plot, in a different color. Create an appropriate legend.\n",
        "  7. **<font color=\"blue\">(2.5 points)</font>** Explain how the result would change if you generate the data with less noise and repeat all steps 1 to 6? What about more noise? "
      ]
    },
    {
      "cell_type": "code",
      "metadata": {
        "id": "Khi-I2FAaDh2"
      },
      "source": [
        "# List of libraries needed for Question 3:\n",
        "\n",
        "import pandas as pd\n",
        "import numpy as np\n",
        "import matplotlib.pyplot as plt"
      ],
      "execution_count": 100,
      "outputs": []
    },
    {
      "cell_type": "code",
      "metadata": {
        "id": "G2Aj6OM9Juo4"
      },
      "source": [
        "# Question 3.1: Generate a vector containing 100 observations drawn from a N(0,1).\n",
        "\n",
        "np.random.seed(111)\n",
        "mu, sigma = 0, 1\n",
        "x = np.random.normal(mu, sigma, 100)"
      ],
      "execution_count": 101,
      "outputs": []
    },
    {
      "cell_type": "code",
      "metadata": {
        "id": "Fl5WlHjxLNgX"
      },
      "source": [
        "# Question 3.2: Generate a vector containing 100 observations drawn from N(0,0.25).\n",
        "\n",
        "np.random.seed(111)\n",
        "# mu, sigma = 0, 0.25\n",
        "mu, sigma = 0, 0.25\n",
        "eps = np.random.normal(mu, sigma, 100)"
      ],
      "execution_count": 102,
      "outputs": []
    },
    {
      "cell_type": "code",
      "metadata": {
        "id": "Aw3YnlETL3wy"
      },
      "source": [
        "# Question 3.3: Using x and eps, a vector y is generated according to the model y=−1+0.5x+ϵ.\n",
        "\n",
        "y = -1 + 0.5*x + eps"
      ],
      "execution_count": 103,
      "outputs": []
    },
    {
      "cell_type": "code",
      "metadata": {
        "colab": {
          "base_uri": "https://localhost:8080/",
          "height": 296
        },
        "id": "tyF10k_jMZb0",
        "outputId": "2e5511e7-958b-4df4-a977-5a9c7c8d7167"
      },
      "source": [
        "# Question 3.4: Scatter plot of X vs Y.\n",
        "\n",
        "plt.scatter(x, y, color = 'green', marker = 's', alpha = 0.5)\n",
        "plt.ylabel('Y')\n",
        "plt.xlabel('X')\n",
        "plt.show()"
      ],
      "execution_count": 122,
      "outputs": [
        {
          "output_type": "execute_result",
          "data": {
            "text/plain": [
              "<matplotlib.collections.PathCollection at 0x7ff8d5943490>"
            ]
          },
          "metadata": {},
          "execution_count": 122
        },
        {
          "output_type": "execute_result",
          "data": {
            "text/plain": [
              "Text(0, 0.5, 'Y')"
            ]
          },
          "metadata": {},
          "execution_count": 122
        },
        {
          "output_type": "execute_result",
          "data": {
            "text/plain": [
              "Text(0.5, 0, 'X')"
            ]
          },
          "metadata": {},
          "execution_count": 122
        },
        {
          "output_type": "display_data",
          "data": {
            "image/png": "[encoded data removed]",
            "text/plain": [
              "<Figure size 432x288 with 1 Axes>"
            ]
          },
          "metadata": {
            "needs_background": "light"
          }
        }
      ]
    },
    {
      "cell_type": "markdown",
      "metadata": {
        "id": "WKkyRZwlNyw4"
      },
      "source": [
        "## Question 3.4: Observation for the scatter plot\n",
        "The 'X' variable containing the observations derived from a normal distribution has a linear relationship with the variable 'Y'. "
      ]
    },
    {
      "cell_type": "code",
      "metadata": {
        "id": "0CODixWuWLa8",
        "colab": {
          "base_uri": "https://localhost:8080/"
        },
        "outputId": "6c6cc890-93a5-4b75-9c43-164e59c8da7d"
      },
      "source": [
        "# Question 3.5: Fit a least squares linear model to predict y using x. \n",
        "from sklearn.linear_model import LinearRegression\n",
        "dataset = {'X': x, 'Y': y}\n",
        "xy_df = pd.DataFrame(data = dataset)\n",
        "lr = LinearRegression()\n",
        "lr.fit(X = xy_df[['X']], y = xy_df[['Y']])\n",
        "est_coef = lr.coef_\n",
        "est_intercept = lr.intercept_\n",
        "print(f\"\\nThe values for β^0 and β^1 are respectively {est_intercept} and {est_coef}.\")\n",
        "\n",
        "x_new = xy_df[['X']].values\n",
        "y_predictions = np.array([item for sublist in lr.predict(x_new) for item in sublist])"
      ],
      "execution_count": 126,
      "outputs": [
        {
          "output_type": "execute_result",
          "data": {
            "text/plain": [
              "LinearRegression(copy_X=True, fit_intercept=True, n_jobs=None, normalize=False)"
            ]
          },
          "metadata": {},
          "execution_count": 126
        },
        {
          "output_type": "stream",
          "name": "stdout",
          "text": [
            "\n",
            "The values for β^0 and β^1 are respectively [-1.] and [[0.75]].\n"
          ]
        }
      ]
    },
    {
      "cell_type": "markdown",
      "metadata": {
        "id": "BG6jnR8_Wdy0"
      },
      "source": [
        "## Question 3.5: Comments on model and comparing β^0 and β^1 with β0 and β1.\n",
        "By fitting the least square model, the coefficient and intercept was estimated by minimizing the sum of squares of the residuals. The method estimated the true value of the intercept (β0) being 1. However, the true coefficient (β1) being 0.5 was estimated to be 0.75 which is significant deviation. "
      ]
    },
    {
      "cell_type": "code",
      "metadata": {
        "id": "SP14zXZtqxxM"
      },
      "source": [
        "# Question 3.6: Generate Y values for the population regression line.\n",
        "\n",
        "X_pop = x\n",
        "Y_pop = -1 + 0.5*X_pop "
      ],
      "execution_count": 127,
      "outputs": []
    },
    {
      "cell_type": "code",
      "metadata": {
        "id": "-rdJpNqPtcvT",
        "colab": {
          "base_uri": "https://localhost:8080/",
          "height": 296
        },
        "outputId": "db2790e1-bfba-4464-8ad2-e905d901f2a8"
      },
      "source": [
        "# Question 3.6: Display the least square line and the population regression line on the scatter plot.\n",
        "\n",
        "plt.scatter(x, y, color = 'green', marker = 's', alpha = 0.5)\n",
        "plt.plot(x_new, lr.intercept_ + lr.coef_*x_new, color = 'red', label = 'Least square line')\n",
        "plt.plot(X_pop, Y_pop, color = 'blue', linestyle = ':', label = 'Population regression line')\n",
        "plt.ylabel('Y')\n",
        "plt.xlabel('X')\n",
        "plt.legend()\n",
        "plt.show()"
      ],
      "execution_count": 130,
      "outputs": [
        {
          "output_type": "execute_result",
          "data": {
            "text/plain": [
              "<matplotlib.collections.PathCollection at 0x7ff8d5538450>"
            ]
          },
          "metadata": {},
          "execution_count": 130
        },
        {
          "output_type": "execute_result",
          "data": {
            "text/plain": [
              "[<matplotlib.lines.Line2D at 0x7ff8d5538c90>]"
            ]
          },
          "metadata": {},
          "execution_count": 130
        },
        {
          "output_type": "execute_result",
          "data": {
            "text/plain": [
              "[<matplotlib.lines.Line2D at 0x7ff8d55492d0>]"
            ]
          },
          "metadata": {},
          "execution_count": 130
        },
        {
          "output_type": "execute_result",
          "data": {
            "text/plain": [
              "Text(0, 0.5, 'Y')"
            ]
          },
          "metadata": {},
          "execution_count": 130
        },
        {
          "output_type": "execute_result",
          "data": {
            "text/plain": [
              "Text(0.5, 0, 'X')"
            ]
          },
          "metadata": {},
          "execution_count": 130
        },
        {
          "output_type": "execute_result",
          "data": {
            "text/plain": [
              "<matplotlib.legend.Legend at 0x7ff8d5538910>"
            ]
          },
          "metadata": {},
          "execution_count": 130
        },
        {
          "output_type": "display_data",
          "data": {
            "image/png": "[encoded data removed]",
            "text/plain": [
              "<Figure size 432x288 with 1 Axes>"
            ]
          },
          "metadata": {
            "needs_background": "light"
          }
        }
      ]
    },
    {
      "cell_type": "markdown",
      "metadata": {
        "id": "NPcCwTKuwuya"
      },
      "source": [
        "## Question 3.7: Noise effect on the model. \n",
        "The noise for the data is encapsulated by 'eps', which is computed via a normal distribution with a given mean and variance. As a result, to study the noise effect on the data, it comes down to manipulating the population mean and/or variance. The default values for the mean and variance for 'eps' are respectively 0 and 0.25. \n",
        "\n",
        "A \"One Factor at a Time\" approach will be used to the study the effects of increasing or decreasing the noise on the estimated coefficient (β^1) and intercept (β^0). \n",
        "\n",
        "<table style=\"width:100%\">\n",
        "  <caption><strong>Table 1.</strong> Summary of data for increasing and decreasing the 'eps' mean.  For each test, the 'eps' variance is kept constant. </caption>\n",
        "  <tr>\n",
        "    <th>Action</th>\n",
        "    <th>'eps' mean</th>\n",
        "    <th>'eps' variance</th>\n",
        "    <th>Estimated coefficient</th>\n",
        "    <th>Estimated intercept</th>\n",
        "  </tr>\n",
        "  <tr>\n",
        "    <th>Decrease 'eps' mean</th>\n",
        "    <th>-0.5</th>\n",
        "    <th>0.25</th>\n",
        "    <th>0.75</th>\n",
        "    <th>-1.5</th>\n",
        "  </tr>\n",
        "  <tr>\n",
        "    <th>Decrease 'eps' mean</th>\n",
        "    <th>-0.25</th>\n",
        "    <th>0.25</th>\n",
        "    <th>0.75</th>\n",
        "    <th>-1.25</th>\n",
        "  </tr>\n",
        "  <tr>\n",
        "    <th>Default 'eps' mean</th>\n",
        "    <th>0</th>\n",
        "    <th>0.25</th>\n",
        "    <th>0.75</th>\n",
        "    <th>-1</th>\n",
        "  </tr>\n",
        "  <tr>\n",
        "    <th>Increase 'eps' mean</th>\n",
        "    <th>0.25</th>\n",
        "    <th>0.25</th>\n",
        "    <th>0.75</th>\n",
        "    <th>-0.75</th>\n",
        "  </tr>\n",
        "  <tr>\n",
        "    <th>Increase 'eps' mean</th>\n",
        "    <th>0.5</th>\n",
        "    <th>0.25</th>\n",
        "    <th>0.75</th>\n",
        "    <th>-0.5</th>\n",
        "  </tr>\n",
        "</table>\n",
        "\n",
        "To test the noise effects via varying the 'eps' mean, a step-size of 0.25 was used to increase and decrease its value. For all test runs, the estimated coefficient (β^1) remained constant at 0.75. When decreasing the 'eps' mean, the estimated intercept (β^0) decreased proportionally. Similarly, an increase in the 'eps' mean lead to a proportionate increase in the estimated intercept (β^0). \n",
        "\n",
        "<table style=\"width:100%\">\n",
        "  <caption><strong>Table 2.</strong> Summary of data for increasing and decreasing the 'eps' variance.  For each test, the 'eps' mean is kept constant. </caption>\n",
        "  <tr>\n",
        "    <th>Action</th>\n",
        "    <th>'eps' mean</th>\n",
        "    <th>'eps' variance</th>\n",
        "    <th>Estimated coefficient</th>\n",
        "    <th>Estimated intercept</th>\n",
        "  </tr>\n",
        "  <tr>\n",
        "    <th>Decrease 'eps' variance</th>\n",
        "    <th>0</th>\n",
        "    <th>0</th>\n",
        "    <th>0.5</th>\n",
        "    <th>-1</th>\n",
        "  </tr>\n",
        "  <tr>\n",
        "    <th>Decrease 'eps' variance</th>\n",
        "    <th>0</th>\n",
        "    <th>0.125</th>\n",
        "    <th>0.625</th>\n",
        "    <th>-1</th>\n",
        "  </tr>\n",
        "  <tr>\n",
        "    <th>Default 'eps' variance</th>\n",
        "    <th>0</th>\n",
        "    <th>0.25</th>\n",
        "    <th>0.75</th>\n",
        "    <th>-1</th>\n",
        "  </tr>\n",
        "  <tr>\n",
        "    <th>Increase 'eps' variance</th>\n",
        "    <th>0</th>\n",
        "    <th>0.375</th>\n",
        "    <th>0.875</th>\n",
        "    <th>-1</th>\n",
        "  </tr>\n",
        "  <tr>\n",
        "    <th>Increase 'eps' variance</th>\n",
        "    <th>0</th>\n",
        "    <th>0.5</th>\n",
        "    <th>1</th>\n",
        "    <th>-1</th>\n",
        "  </tr>\n",
        "</table>\n",
        "\n",
        "As for testing with the 'eps' variance, a step-size of 0.125 was used to increase and decrease its value. For all test runs, the estimated intercept remained unchanged (β^0). When decreasing the 'eps' variance, the estimated coefficient (β^1) decreased proportionally. Similarly, an increase in the 'eps' variance led to a proportionate increase in the estimated coefficient (β^1). \n",
        "\n",
        "When the 'eps' mean, and variance were both set to zero; the resulting estimated coefficient and intercept were equal to the true values. This scenario occurs since the contribution of 'eps' is null in the 'y' function which leads to perfectly linear relationship between 'x' and 'y'. \n",
        "\n",
        "In conclusion, increasing the magnitude of either 'eps' mean, or variance leads to a greater noise which in return leads to a more significant deviation between the least square model line and the population regression line. On the other hand, reducing the noise leads to the data and least square model converging towards the population regression line. The absence of noise leads to the data and both lines overlapping. \n"
      ]
    }
  ]
}